{
 "cells": [
  {
   "cell_type": "code",
   "execution_count": 30,
   "metadata": {},
   "outputs": [],
   "source": [
    "import matplotlib.pyplot as plt\n",
    "import numpy as np\n",
    "\n",
    "\"\"\"In order to provide a better presentation of the graphs we use the rcParams options shown below.\"\"\"\n",
    "\n",
    "import matplotlib\n",
    "matplotlib.rcParams['text.usetex'] = False\n",
    "matplotlib.rcParams['mathtext.fontset'] = 'stix'\n",
    "matplotlib.rcParams['font.family'] = 'STIXGeneral'\n",
    "matplotlib.rcParams['font.size'] = 15\n",
    "matplotlib.rcParams['figure.figsize'] = (8.0, 6.0)\n",
    "\n",
    "\n",
    "\"\"\"Our system of differential equations belongs to the complex space, that is why we implemented the code suggested in\"\"\"\n",
    "\"\"\"https://stackoverflow.com/questions/19910189/scipy-odeint-with-complex-initial-values.\"\"\"\n",
    "\n",
    "import time\n",
    "import numpy as np\n",
    "from scipy.integrate import odeint\n",
    "from scipy.special import zeta\n",
    "from random import choices\n",
    "\n",
    "def odeintz(func, z0, t, **kwargs):\n",
    "   \n",
    "    \n",
    "    \"\"\"An odeint-like function for complex valued differential equations.\n",
    "\n",
    "    Inputs:\n",
    "    ----------\n",
    "      -func: function associated to dr/dt=f(x;t), where x is the set of parameters and variables to be determined\n",
    "      -z0: 1d array with length N*(5N-1)/2\n",
    "      -t: 1d array from t=0 to t=tf (parameter set by the user)\n",
    "      - **kwargs: keyword arguments related with external functions to be used in odeint\n",
    "    \n",
    "    Return:\n",
    "      -z: multivariable array with the solution of the differential equation associated with each variable\"\"\"\n",
    "\n",
    "    # Disallow Jacobian-related arguments.\n",
    "    _unsupported_odeint_args = ['Dfun', 'col_deriv', 'ml', 'mu']\n",
    "    bad_args = [arg for arg in kwargs if arg in _unsupported_odeint_args]\n",
    "    if len(bad_args) > 0:\n",
    "        raise ValueError(\"The odeint argument %r is not supported by \"\n",
    "                         \"odeintz.\" % (bad_args[0],))\n",
    "\n",
    "    # Make sure z0 is a numpy array of type np.complex128.\n",
    "    z0 = np.array(z0, dtype=np.complex128, ndmin=1)\n",
    "\n",
    "    def realfunc(x, t, *args):\n",
    "        z = x.view(np.complex128)\n",
    "        dzdt = func(z, t, *args)\n",
    "        # func might return a python list, so convert its return\n",
    "        # value to an array with type np.complex128, and then return\n",
    "        # a np.float64 view of that array.\n",
    "        return np.asarray(dzdt, dtype=np.complex128).view(np.float64)\n",
    "\n",
    "    result = odeint(realfunc, z0.view(np.float64), t, **kwargs)\n",
    "\n",
    "    if kwargs.get('full_output', False):\n",
    "        z = result[0].view(np.complex128)\n",
    "        infodict = result[1]\n",
    "        return z, infodict\n",
    "    else:\n",
    "        z = result.view(np.complex128)\n",
    "        return z"
   ]
  },
  {
   "cell_type": "code",
   "execution_count": null,
   "metadata": {},
   "outputs": [],
   "source": []
  },
  {
   "cell_type": "code",
   "execution_count": 31,
   "metadata": {},
   "outputs": [],
   "source": [
    "def Jij(J,j,w,epsilon,N,Vect):\n",
    "    \n",
    "    norm=np.linalg.norm(np.array(Vect[j])-np.array(Vect[w]))\n",
    "    \n",
    "    return (J/N)*(1/norm**epsilon)*(1/dist_ar**epsilon)\n",
    "    \n",
    "    "
   ]
  },
  {
   "cell_type": "code",
   "execution_count": 33,
   "metadata": {},
   "outputs": [],
   "source": [
    "#DTWA\n",
    "\n",
    "\n",
    "#length_side=2\n",
    "#N=length_side**3\n",
    "\n",
    "N=4\n",
    "J=4\n",
    "epsilon=0\n",
    "\n",
    "refgamma=0.2  #Fixed\n",
    "refomega=0\n",
    "refdecay=0\n",
    "\n",
    "Gamma_du=0\n",
    "Gamma_phi=refgamma*J\n",
    "\n",
    "Gamma_decay=refdecay*J\n",
    "\n",
    "Omega=refomega*J\n",
    "dist_ar=1\n",
    "\n",
    "\n",
    "#for -z\n",
    "\n",
    "def init_vect(N=N):\n",
    "    rx=[]\n",
    "    ry=[]\n",
    "    rz=[]\n",
    "    for j in range(N):\n",
    "        \n",
    "        a=(choices([-1,1]))[0]\n",
    "        b=(choices([-1,1]))[0]\n",
    "        \n",
    "        rx.append(1)\n",
    "        ry.append(a)\n",
    "        rz.append(b)\n",
    "\n",
    "\n",
    "    return rx+ry+rz\n",
    "\n",
    "\n",
    "\n",
    "def Vectors(length_side):\n",
    "    vect=[]\n",
    "    for j in range(length_side**3):\n",
    "        b=j//length_side**2\n",
    "        c=(j-b*length_side**2)//length_side\n",
    "        d=j-b*length_side**2-c*length_side\n",
    "        vect.append([b,c,d])\n",
    "    return vect\n",
    "\n",
    "\n",
    "#Vect=Vectors(length_side)\n",
    "\n",
    "\n",
    "def Jij(J,j,w,epsilon,N,Vect):\n",
    "    \n",
    "    norm=np.linalg.norm(np.array(Vect[j])-np.array(Vect[w]))\n",
    "    \n",
    "    return (J/N)*(1/norm**epsilon)*(1/dist_ar**epsilon)\n",
    "\n",
    "Vect=[]\n",
    "\n",
    "def vectorsR(r, t,N=N,J=J,epsilon=epsilon,Gamma_phi=Gamma_phi,Omega=Omega,Vect=Vect):   \n",
    "    \n",
    "    #matrix_zero=np.zeros((int(3*N),int(3*N)),dtype = 'complex_')\n",
    "    matrix_zero=np.zeros((int(3*N),int(3*N)))\n",
    "    \n",
    "    \n",
    "    drdt =  np.matmul(matrix_zero, r)  #matrix_zero @ r   #sum of the linear and the constant part\n",
    "    #drdt = matrix_zero @ r\n",
    "    \n",
    "    \n",
    "    ###Define Vect which is an array of coordinates of size N\n",
    "    \n",
    "    \n",
    "    for j in range(N):\n",
    "        \n",
    "        \n",
    "        drdt[j]=drdt[j]-Gamma_phi*r[j]-(Gamma_decay/2)*r[j]   #s_i^x\n",
    "        drdt[j+N]=drdt[j+N]-Omega*r[j+2*N]-Gamma_phi*r[j+N]-(Gamma_decay/2)*r[j+N]    #s_i^y\n",
    "        drdt[j+2*N]=drdt[j+2*N]+Omega*r[j+N]-(Gamma_decay)*(r[j+2*N]+1)    #s_i^z\n",
    "    \n",
    "    \n",
    "       \n",
    "        for w in range(N):\n",
    "            \n",
    "            if w!=j:\n",
    "                #norm=np.linalg.norm(np.array(Vect[j])-np.array(Vect[w]))\n",
    "                \n",
    "                \n",
    "                #drdt[j]=drdt[j]-2* r[j+N]*r[w+2*N]*(J/N)*(1/norm**epsilon)*(1/dist_ar**epsilon)  #s_i^x\n",
    "                #drdt[j+N]=drdt[j+N]+2* r[j]*r[w+2*N]*(J/N)*(1/norm**epsilon)*(1/dist_ar**epsilon)  #s_i^y  \n",
    "                \n",
    "                drdt[j]=drdt[j]-2* r[j+N]*r[w+2*N]*(J/N)  #s_i^x  all to all\n",
    "                drdt[j+N]=drdt[j+N]+2* r[j]*r[w+2*N]*(J/N)  #s_i^y             \n",
    "        \n",
    "               \n",
    "    return drdt\n",
    "\n",
    "\n",
    "\n"
   ]
  },
  {
   "cell_type": "code",
   "execution_count": null,
   "metadata": {},
   "outputs": [],
   "source": []
  },
  {
   "cell_type": "code",
   "execution_count": 34,
   "metadata": {},
   "outputs": [],
   "source": [
    "def S_array(z):\n",
    "    Sx=z[:,0]\n",
    "    Sy=z[:,N]\n",
    "    Sz=z[:,2*N]\n",
    "    \n",
    "    FullSx=[Sx/2]\n",
    "    FullSy=[Sy/2]\n",
    "    FullSz=[Sz/2]\n",
    "    \n",
    "    \n",
    "    \n",
    "    for j in range(1,N):\n",
    "        Sx=np.add(Sx,z[:,j])\n",
    "        Sy=np.add(Sy,z[:,N+j])\n",
    "        Sz=np.add(Sz,z[:,2*N+j])\n",
    "        \n",
    "        FullSx.append(z[:,j]/2)\n",
    "        FullSy.append(z[:,N+j]/2)\n",
    "        FullSz.append(z[:,2*N+j]/2)\n",
    "        \n",
    "        \n",
    "        \n",
    "    \n",
    "    Sx=Sx/2\n",
    "    Sy=Sy/2\n",
    "    Sz=Sz/2\n",
    "    \n",
    "    \n",
    "    return Sx, Sy, Sz, FullSx, FullSy, FullSz\n",
    "\n",
    "\n",
    "def history(n):\n",
    "    \n",
    "    count=1\n",
    "\n",
    "    z0=init_vect(N)\n",
    "    z = odeint(vectorsR, z0, t)\n",
    "    \n",
    "    Sx=S_array(z)[0]\n",
    "    Sy=S_array(z)[1]\n",
    "    Sz=S_array(z)[2]\n",
    "    \n",
    "    FullSx=[list(Sx)]\n",
    "    FullSy=[list(Sy)]\n",
    "    FullSz=[list(Sz)]\n",
    "    \n",
    "    \n",
    "    \n",
    "    Sxx= (Sx)**2\n",
    "    Syy=(Sy)**2\n",
    "    Szz=(Sz)**2\n",
    "    \n",
    "\n",
    "    for j in range(2,n+1):\n",
    "        \n",
    "        count=count+1\n",
    "        \n",
    "        z0=init_vect(N)\n",
    "        z = odeint(vectorsR, z0, t)\n",
    "        \n",
    "        Sx = Sx+S_array(z)[0]\n",
    "        Sy = Sy+S_array(z)[1]\n",
    "        Sz = Sz+S_array(z)[2]\n",
    "        \n",
    "        FullSx.append(list(S_array(z)[0]))\n",
    "        FullSy.append(list(S_array(z)[1]))\n",
    "        FullSz.append(list(S_array(z)[2]))\n",
    "        \n",
    "        \n",
    "        Sxx = Sxx+(S_array(z)[0])**2\n",
    "        Syy = Syy+(S_array(z)[1])**2\n",
    "        Szz = Szz+(S_array(z)[2])**2\n",
    "        \n",
    "        \n",
    "    return Sx/(count),Sy/(count),Sz/(count),Sxx/(count),Syy/(count),Szz/(count),FullSx,FullSy,FullSz"
   ]
  },
  {
   "cell_type": "code",
   "execution_count": null,
   "metadata": {},
   "outputs": [],
   "source": []
  },
  {
   "cell_type": "code",
   "execution_count": null,
   "metadata": {},
   "outputs": [],
   "source": []
  },
  {
   "cell_type": "code",
   "execution_count": 35,
   "metadata": {},
   "outputs": [
    {
     "name": "stdout",
     "output_type": "stream",
     "text": [
      "83.88431882858276\n"
     ]
    }
   ],
   "source": [
    "t=np.linspace(0,15,100)\n",
    "\n",
    "t0=time.time()\n",
    "a=history(1000)\n",
    "t1=time.time()\n",
    "\n",
    "print(t1-t0)\n",
    "\n"
   ]
  },
  {
   "cell_type": "code",
   "execution_count": 36,
   "metadata": {},
   "outputs": [],
   "source": [
    "smz = np.matrix(a[-1])\n",
    "smy=np.matrix(a[-2])\n",
    "smx=np.matrix(a[-3])"
   ]
  },
  {
   "cell_type": "code",
   "execution_count": 37,
   "metadata": {},
   "outputs": [],
   "source": [
    "import pandas as pd\n",
    "\n",
    "Resultsz=pd.DataFrame(smz)\n",
    "Resultsy=pd.DataFrame(smy)\n",
    "Resultsx=pd.DataFrame(smx)"
   ]
  },
  {
   "cell_type": "code",
   "execution_count": 38,
   "metadata": {},
   "outputs": [
    {
     "data": {
      "text/plain": [
       "<matplotlib.legend.Legend at 0x2a59bb3b820>"
      ]
     },
     "execution_count": 38,
     "metadata": {},
     "output_type": "execute_result"
    },
    {
     "data": {
      "image/png": "[encoded data removed]",
      "text/plain": [
       "<Figure size 576x432 with 1 Axes>"
      ]
     },
     "metadata": {
      "needs_background": "light"
     },
     "output_type": "display_data"
    }
   ],
   "source": [
    "plt.plot(t,Resultsx.mean(),label=\"DTWA X\")\n",
    "plt.plot(t,Resultsy.mean(),label=\"DTWA Y\")\n",
    "plt.plot(t,Resultsz.mean(),label=\"DTWA Z\")\n",
    "\n",
    "plt.legend()"
   ]
  },
  {
   "cell_type": "code",
   "execution_count": null,
   "metadata": {},
   "outputs": [],
   "source": []
  },
  {
   "cell_type": "markdown",
   "metadata": {},
   "source": [
    "I have to include further terms in cumulant"
   ]
  },
  {
   "cell_type": "code",
   "execution_count": 39,
   "metadata": {},
   "outputs": [],
   "source": [
    "gammaplus=Gamma_du/2\n",
    "gammaminus=Gamma_decay/2\n",
    "gammaz=Gamma_phi/4\n",
    "\n",
    "\n",
    "Gamma=np.array([gammaplus,gammaminus,gammaz])  #[gamma+,gamma-,gammaz]\n",
    "\n",
    "\n",
    "### Initial State\n",
    "\n",
    "\"\"\"We consider by defect that the system starts in |0> for all the spins. The user can set the initial state as well.\"\"\"\n",
    "\"\"\"Recall that |0><0|=[[1,0],[0,0]]  \"\"\"\n",
    "\n",
    "\"\"\"The benchmark suggests that our initial state should be |psi(0)>=|+>\"\"\"\n",
    "\n",
    "\n",
    "#t0=time.time()\n",
    "\n",
    "\n",
    "\n",
    "def trace(A):\n",
    "    return np.trace(A)\n",
    "\n",
    "def matmu(A,B):\n",
    "    return np.matmul(A,B)\n",
    "\n",
    "\n",
    "rho_init0=np.array([[1/2,1/2],[1/2,1/2]])    #density matrix |+><+|\n",
    "rho_init1=np.array([[1/2,1/2],[1/2,1/2]])    #density matrix |+><+|\n",
    "\n",
    "\n",
    "\n",
    "#rho_init1=np.array([[1,0],[0,0]])    #By default\n",
    "#rho_init2=np.array([[1,0],[0,0]])    #By default\n",
    "\n",
    "\n",
    "sigma_p= np.array([[0,1],[0,0]])\n",
    "sigma_m= np.array([[0,0],[1,0]])\n",
    "sigma_z= np.array([[1,0],[0,-1]])\n",
    "\n",
    "\n",
    "##Initial values one operator\n",
    "\n",
    "sp_init0=trace(matmu(rho_init0,sigma_p))\n",
    "sz_init0=trace(matmu(rho_init0,sigma_z))\n",
    "sp_init1=trace(matmu(rho_init1,sigma_p))\n",
    "sz_init1=trace(matmu(rho_init1,sigma_z))\n",
    "sm_init1=trace(matmu(rho_init1,sigma_m))\n",
    "\n",
    "\n",
    "##Initial values two-operators\n",
    "## We assume initial separability of the state\n",
    "#p0, z0, p1, z1 , p0p1, p0m1, z0p1, p0z1, z0z1 = z\n",
    "\n",
    "\n",
    "sp_initp0p1=sp_init0*sp_init1\n",
    "sz_initp0m1=sp_init0*sm_init1\n",
    "sp_initz0p1=sz_init0*sp_init1\n",
    "sz_initp0z1=sp_init0*sz_init1\n",
    "sz_initz0z1=sz_init0*sz_init1\n",
    "\n",
    "\n",
    "\n",
    "\n",
    "z0=np.array([sp_init0,sz_init0,sp_initp0p1,sz_initp0m1,sp_initz0p1,sz_initz0z1])\n",
    "\n",
    "\n",
    "\n",
    "#t1=time.time()\n",
    "\n",
    "#print(t1-t0)\n",
    "\n",
    "#t0=time.time()\n",
    "\n",
    "def cj(z): \n",
    "    return z.conjugate()\n",
    "\n",
    "def real(z): \n",
    "    return z.real\n",
    "\n",
    "def imag(z): \n",
    "    return z.imag\n",
    "\n",
    "\n",
    "def dot_p(v1,v2):\n",
    "    return np.dot(v1,v2)\n",
    "\n",
    "\n",
    "\n",
    "    # Define the right-hand-side of the differential equation.\n",
    "def zfunc(z, t):\n",
    "    p0, z0, p0p1, p0m1,   z0p1, z0z1 = z        \n",
    "     \n",
    "    \n",
    "        \n",
    "    dp0dt=2*1j*(J/N)*(N-1)*z0p1    -(Gamma[0]+Gamma[1]+4*Gamma[2])*p0\n",
    "        \n",
    "    dz0dt= 2*(Gamma[0]-Gamma[1])-2*(Gamma[0]+Gamma[1])*z0  \n",
    "        \n",
    "    dp0p1dt=4*1j*(J/N)*(N-2)*(p0p1*z0+2*(z0p1-p0*z0)*p0)    -2*(Gamma[0]+Gamma[1]+4*Gamma[2])*p0p1\n",
    "\n",
    "    dp0m1dt=-2*(Gamma[0]+Gamma[1]+4*Gamma[2])*p0m1\n",
    "\n",
    "    dz0p1dt=2*1j*(J/N)*( p0 + (N-2)*(z0z1*p0+2*(z0p1-z0*p0)*z0) )+2*(Gamma[0]-Gamma[1])*p0   \n",
    "    dz0p1dt=dz0p1dt -(3*(Gamma[0]+Gamma[1])+4*Gamma[2])*z0p1\n",
    "            \n",
    "    dz0z1dt=      - 4*(Gamma[1]-Gamma[0])*z0-4*(Gamma[0]+Gamma[1])*z0z1\n",
    "        \n",
    "        \n",
    "        \n",
    "        \n",
    "    return [dp0dt, dz0dt, dp0p1dt, dp0m1dt, dz0p1dt, dz0z1dt] \n",
    "\n",
    "    # Set up the inputs and call odeintz to solve the system.\n",
    "\n",
    "z, infodict = odeintz(zfunc, z0, t, full_output=1)\n",
    "    \n",
    "#t1=time.time()\n",
    "#print(t1-t0)"
   ]
  },
  {
   "cell_type": "code",
   "execution_count": null,
   "metadata": {},
   "outputs": [],
   "source": []
  },
  {
   "cell_type": "code",
   "execution_count": null,
   "metadata": {},
   "outputs": [],
   "source": []
  },
  {
   "cell_type": "code",
   "execution_count": null,
   "metadata": {},
   "outputs": [],
   "source": []
  },
  {
   "cell_type": "code",
   "execution_count": null,
   "metadata": {},
   "outputs": [],
   "source": []
  },
  {
   "cell_type": "code",
   "execution_count": null,
   "metadata": {},
   "outputs": [],
   "source": []
  },
  {
   "cell_type": "code",
   "execution_count": null,
   "metadata": {},
   "outputs": [],
   "source": []
  },
  {
   "cell_type": "code",
   "execution_count": 40,
   "metadata": {},
   "outputs": [
    {
     "name": "stderr",
     "output_type": "stream",
     "text": [
      "C:\\Users\\camil\\anaconda3\\lib\\site-packages\\numpy\\core\\_asarray.py:102: ComplexWarning: Casting complex values to real discards the imaginary part\n",
      "  return array(a, dtype, copy=False, order=order)\n"
     ]
    },
    {
     "data": {
      "text/plain": [
       "<matplotlib.legend.Legend at 0x2a599eb2d30>"
      ]
     },
     "execution_count": 40,
     "metadata": {},
     "output_type": "execute_result"
    },
    {
     "data": {
      "image/png": "[encoded data removed]",
      "text/plain": [
       "<Figure size 576x432 with 1 Axes>"
      ]
     },
     "metadata": {
      "needs_background": "light"
     },
     "output_type": "display_data"
    }
   ],
   "source": [
    "plt.scatter(t,Resultsx.mean(),label=\"DTWA\")\n",
    "\n",
    "plt.plot(t,(N/2)*(z[:,0]+np.conjugate(z[:,0])),label=\"Cumulant\")\n",
    "\n",
    "#plt.plot(t, (N/2)*np.exp(-Gamma_phi*t)*(np.cos(2*J*t/N))**(N-1),label=\"Analytic\")\n",
    "\n",
    "plt.legend()"
   ]
  },
  {
   "cell_type": "code",
   "execution_count": null,
   "metadata": {},
   "outputs": [],
   "source": []
  },
  {
   "cell_type": "code",
   "execution_count": null,
   "metadata": {},
   "outputs": [],
   "source": []
  },
  {
   "cell_type": "code",
   "execution_count": null,
   "metadata": {},
   "outputs": [],
   "source": []
  },
  {
   "cell_type": "code",
   "execution_count": null,
   "metadata": {},
   "outputs": [],
   "source": []
  },
  {
   "cell_type": "code",
   "execution_count": 41,
   "metadata": {},
   "outputs": [],
   "source": [
    "Gamma_ud=2*gammaplus\n",
    "Gamma_du=2*gammaminus\n",
    "Gamma_el=8*gammaz"
   ]
  },
  {
   "cell_type": "code",
   "execution_count": 42,
   "metadata": {},
   "outputs": [
    {
     "data": {
      "image/png": "[encoded data removed]",
      "text/plain": [
       "<Figure size 576x432 with 1 Axes>"
      ]
     },
     "metadata": {
      "needs_background": "light"
     },
     "output_type": "display_data"
    }
   ],
   "source": [
    "Gamma_r=Gamma_ud+Gamma_du\n",
    "\n",
    "\n",
    "gamma=(Gamma_ud-Gamma_du)/4\n",
    "\n",
    "Tot=Gamma_r+Gamma_el\n",
    "\n",
    "lamda=Gamma_r/2\n",
    "\n",
    "J01=J\n",
    "\n",
    "\n",
    "s=2*1j*gamma+2*J01/N\n",
    "r=Gamma_ud*Gamma_du\n",
    "\n",
    "def p0_gen(t):\n",
    "    return  0.5*np.exp(-Tot*t/2)*( np.exp(-lamda*t)*( np.cos(t*(s**2-r)**0.5) +  lamda*np.sin(t*(s**2-r)**0.5)/((s**2-r)**0.5)) )**(N-1)\n",
    "\n",
    "import matplotlib.pyplot as plt\n",
    "\n",
    "plt.title('$<\\sigma_0^+>$')\n",
    "plt.plot(t,np.real(p0_gen(t)),label=\"Foss Re($<\\sigma_0^+>$)\")\n",
    "plt.scatter(t,np.real(z[:,0]),label=\"Generic Re($<\\sigma_0^+>$)\",color='r',marker='d',s=3)\n",
    "plt.plot(t,np.imag(p0_gen(t)),label=\"Foss Im($<\\sigma_0^+>$)\")\n",
    "plt.scatter(t,np.imag(z[:,0]),label=\"Generic Im($<\\sigma_0^+>$)\",color='b',marker='d',s=3)\n",
    "plt.legend()\n",
    "plt.show()"
   ]
  },
  {
   "cell_type": "code",
   "execution_count": 44,
   "metadata": {},
   "outputs": [
    {
     "name": "stderr",
     "output_type": "stream",
     "text": [
      "C:\\Users\\camil\\anaconda3\\lib\\site-packages\\numpy\\core\\_asarray.py:102: ComplexWarning: Casting complex values to real discards the imaginary part\n",
      "  return array(a, dtype, copy=False, order=order)\n",
      "C:\\Users\\camil\\anaconda3\\lib\\site-packages\\numpy\\core\\_asarray.py:102: ComplexWarning: Casting complex values to real discards the imaginary part\n",
      "  return array(a, dtype, copy=False, order=order)\n"
     ]
    },
    {
     "data": {
      "text/plain": [
       "<matplotlib.legend.Legend at 0x2a599f5b3a0>"
      ]
     },
     "execution_count": 44,
     "metadata": {},
     "output_type": "execute_result"
    },
    {
     "data": {
      "image/png": "[encoded data removed]",
      "text/plain": [
       "<Figure size 576x432 with 1 Axes>"
      ]
     },
     "metadata": {
      "needs_background": "light"
     },
     "output_type": "display_data"
    }
   ],
   "source": [
    "plt.scatter(t,Resultsx.mean(),label=\"DTWA\")\n",
    "\n",
    "plt.plot(t,(N/2)*(z[:,0]+np.conjugate(z[:,0])),label=\"Cumulant\")\n",
    "\n",
    "plt.plot(t,(N/2)*(p0_gen(t)+np.conjugate(p0_gen(t))),\"--\",label=\"Foss Re($<\\sigma_0^+>$)\")\n",
    "\n",
    "plt.legend()"
   ]
  },
  {
   "cell_type": "code",
   "execution_count": null,
   "metadata": {},
   "outputs": [],
   "source": []
  },
  {
   "cell_type": "code",
   "execution_count": null,
   "metadata": {},
   "outputs": [],
   "source": []
  }
 ],
 "metadata": {
  "kernelspec": {
   "display_name": "Python 3",
   "language": "python",
   "name": "python3"
  },
  "language_info": {
   "codemirror_mode": {
    "name": "ipython",
    "version": 3
   },
   "file_extension": ".py",
   "mimetype": "text/x-python",
   "name": "python",
   "nbconvert_exporter": "python",
   "pygments_lexer": "ipython3",
   "version": "3.8.3"
  }
 },
 "nbformat": 4,
 "nbformat_minor": 4
}
