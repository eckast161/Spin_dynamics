{
 "cells": [
  {
   "cell_type": "code",
   "execution_count": 320,
   "metadata": {},
   "outputs": [],
   "source": [
    "import matplotlib.pyplot as plt\n",
    "import numpy as np\n",
    "\n",
    "\"\"\"In order to provide a better presentation of the graphs we use the rcParams options shown below.\"\"\"\n",
    "\n",
    "import matplotlib\n",
    "matplotlib.rcParams['text.usetex'] = False\n",
    "matplotlib.rcParams['mathtext.fontset'] = 'stix'\n",
    "matplotlib.rcParams['font.family'] = 'STIXGeneral'\n",
    "matplotlib.rcParams['font.size'] = 15\n",
    "matplotlib.rcParams['figure.figsize'] = (8.0, 6.0)"
   ]
  },
  {
   "cell_type": "code",
   "execution_count": 321,
   "metadata": {},
   "outputs": [],
   "source": [
    "\"\"\"Our system of differential equations belongs to the complex space, that is why we implemented the code suggested in\"\"\"\n",
    "\"\"\"https://stackoverflow.com/questions/19910189/scipy-odeint-with-complex-initial-values.\"\"\"\n",
    "\n",
    "import time\n",
    "import numpy as np\n",
    "from scipy.integrate import odeint\n",
    "from scipy.special import zeta\n",
    "\n",
    "\n",
    "def odeintz(func, z0, t, **kwargs):\n",
    "   \n",
    "    \n",
    "    \"\"\"An odeint-like function for complex valued differential equations.\n",
    "\n",
    "    Inputs:\n",
    "    ----------\n",
    "      -func: function associated to dr/dt=f(x;t), where x is the set of parameters and variables to be determined\n",
    "      -z0: 1d array with length N*(5N-1)/2\n",
    "      -t: 1d array from t=0 to t=tf (parameter set by the user)\n",
    "      - **kwargs: keyword arguments related with external functions to be used in odeint\n",
    "    \n",
    "    Return:\n",
    "      -z: multivariable array with the solution of the differential equation associated with each variable\"\"\"\n",
    "\n",
    "    # Disallow Jacobian-related arguments.\n",
    "    _unsupported_odeint_args = ['Dfun', 'col_deriv', 'ml', 'mu']\n",
    "    bad_args = [arg for arg in kwargs if arg in _unsupported_odeint_args]\n",
    "    if len(bad_args) > 0:\n",
    "        raise ValueError(\"The odeint argument %r is not supported by \"\n",
    "                         \"odeintz.\" % (bad_args[0],))\n",
    "\n",
    "    # Make sure z0 is a numpy array of type np.complex128.\n",
    "    z0 = np.array(z0, dtype=np.complex128, ndmin=1)\n",
    "\n",
    "    def realfunc(x, t, *args):\n",
    "        z = x.view(np.complex128)\n",
    "        dzdt = func(z, t, *args)\n",
    "        # func might return a python list, so convert its return\n",
    "        # value to an array with type np.complex128, and then return\n",
    "        # a np.float64 view of that array.\n",
    "        return np.asarray(dzdt, dtype=np.complex128).view(np.float64)\n",
    "\n",
    "    result = odeint(realfunc, z0.view(np.float64), t, **kwargs)\n",
    "\n",
    "    if kwargs.get('full_output', False):\n",
    "        z = result[0].view(np.complex128)\n",
    "        infodict = result[1]\n",
    "        return z, infodict\n",
    "    else:\n",
    "        z = result.view(np.complex128)\n",
    "        return z"
   ]
  },
  {
   "cell_type": "code",
   "execution_count": null,
   "metadata": {},
   "outputs": [],
   "source": [
    "\n",
    "\n",
    "\n",
    "    "
   ]
  },
  {
   "cell_type": "code",
   "execution_count": 323,
   "metadata": {},
   "outputs": [],
   "source": []
  },
  {
   "cell_type": "code",
   "execution_count": 514,
   "metadata": {},
   "outputs": [],
   "source": [
    "#length_side=2\n",
    "#N=length_side**3\n",
    "\n",
    "N=2\n",
    "J=1\n",
    "j=N\n",
    "\n",
    "refgamma=1 # 0.2  #Fixed\n",
    "refgammadecay=1\n",
    "refomega=1\n",
    "\n",
    "\n",
    "def index_list(N=N):\n",
    "    Index_list=[]\n",
    "    for j in range(N+1):\n",
    "        for k in range(N+1):\n",
    "            Index_list.append([j,k])\n",
    "    return Index_list\n",
    "    \n",
    "\n",
    "\n",
    "def Aplus_j(n):\n",
    "    if 0<=n<=N:\n",
    "        return np.sqrt( (N-n)*  (n+1) )\n",
    "    else:\n",
    "        return 0\n",
    "\n",
    "    \n",
    "def Aminus_j(n):\n",
    "    if 0<=n<=N:\n",
    "        return np.sqrt( (n)*  (N-n+1) )\n",
    "    else:\n",
    "        return 0    \n",
    "    \n",
    "    \n",
    "def Az(n):\n",
    "    return -N/2+n\n",
    "\n",
    "\n",
    "\n",
    "Gamma_phi=refgamma*J\n",
    "Gamma_C=refgammadecay*J\n",
    "\n",
    "Omega=refomega*J\n",
    "\n",
    "from numba import jit\n",
    "\n",
    "#@jit\n",
    "\n",
    "\n",
    "\n",
    "def vectorsR(r, t,J=J,N=N,Omega=Omega,Gamma_C=Gamma_C,Gamma_phi=Gamma_phi):#,Vect=Vect):   \n",
    "            \n",
    "    #matrix_zero=np.zeros((int(3*N),int(3*N)),dtype = 'complex_')\n",
    "    matrix_zero=np.zeros((int( (N+1)**2  ),int((N+1)**2)),dtype = 'complex_')\n",
    "    \n",
    "    \n",
    "    drdt =  np.matmul(matrix_zero, r)  #matrix_zero @ r   #sum of the linear and the constant part\n",
    "    #drdt = matrix_zero @ r\n",
    "    \n",
    "    \n",
    "    Index_list=index_list(N)\n",
    "    \n",
    "    \n",
    "    ###Define Vect which is an array of coordinates of size N\n",
    "    \n",
    "    count=0\n",
    "       \n",
    "    \n",
    "    for vect in Index_list:\n",
    "        n1  =vect[0]\n",
    "        npr1=vect[1]\n",
    "        npr=npr1\n",
    "\n",
    "            \n",
    "        cfinnprm1=Index_list.count([n1,npr1-1])\n",
    "        indnnprm1=Index_list.index(list(cfinnprm1*np.array([n1,npr1-1])))\n",
    "            \n",
    "        cfinm1npr=Index_list.count([n1-1,npr1])\n",
    "        indnm1npr=Index_list.index(list(cfinm1npr*np.array([n1-1,npr1])))\n",
    "            \n",
    "        cfinnprp1=Index_list.count([n1,npr1+1])\n",
    "        indnnprp1=Index_list.index(list(cfinnprp1*np.array([n1,npr1+1])))\n",
    "            \n",
    "        cfinp1npr=Index_list.count([n1+1,npr1])\n",
    "        indnp1npr=Index_list.index(list(cfinp1npr*np.array([n1+1,npr1])))\n",
    "            \n",
    "        cfinp1nprp1=Index_list.count([n1+1,npr1+1])\n",
    "        indnp1nprp1=Index_list.index(list(cfinp1nprp1*np.array([n1+1,npr1+1])))\n",
    "            \n",
    "        cfinnpr=Index_list.count([n1,npr1])\n",
    "        indnnpr=Index_list.index(list(cfinnpr*np.array([n1,npr1])))\n",
    "        \n",
    "        \n",
    "            \n",
    "        drdt[indnnpr]+=1j*(Omega/2)* Aplus_j(npr1-1)*cfinnprm1*r[indnnprm1]+\\\n",
    "            -1j*(Omega/2)*Aplus_j(n1-1)*cfinm1npr*r[indnm1npr]+1j*(Omega/2)*Aminus_j(npr1+1)*cfinnprp1*r[indnnprp1]+\\\n",
    "            -1j*(Omega/2)*Aminus_j(n1+1)*cfinp1npr*r[indnp1npr]+Gamma_C*Aminus_j(n1+1)*Aminus_j(npr+1)*cfinp1nprp1*r[indnp1nprp1]+\\\n",
    "            2*1j*(J/N)*(Az(npr1)**2-Az(n1)**2)*cfinnpr*r[indnnpr]  -Gamma_phi*( (Az(n1)-Az(npr1))**2 )*cfinnpr*r[indnnpr]+\\\n",
    "            -(Gamma_C/2)*(Aminus_j(n1)*Aplus_j(n1-1) + Aminus_j(npr1)*Aplus_j(npr1-1) )*cfinnpr*r[indnnpr]\n",
    "\n",
    "               \n",
    "    return drdt\n",
    "\n",
    "\n",
    "r0=int((N+1)**2)*[0]\n",
    "\n",
    "r0[0]=1\n",
    "\n",
    "rinit=r0\n"
   ]
  },
  {
   "cell_type": "code",
   "execution_count": 515,
   "metadata": {},
   "outputs": [],
   "source": [
    "init_time=0\n",
    "final_time=8\n",
    "steps=300\n",
    "\n",
    "\n",
    "times = np.linspace(init_time, final_time, steps)\n",
    "\n"
   ]
  },
  {
   "cell_type": "code",
   "execution_count": 516,
   "metadata": {},
   "outputs": [],
   "source": [
    "t0=time.time()\n",
    "\n",
    "z=odeintz(vectorsR, r0, times)#, args=(N,L))\n",
    "t1=time.time()"
   ]
  },
  {
   "cell_type": "code",
   "execution_count": 517,
   "metadata": {},
   "outputs": [
    {
     "name": "stdout",
     "output_type": "stream",
     "text": [
      "0.09021377563476562 2\n"
     ]
    },
    {
     "data": {
      "image/png": "[encoded data removed]",
      "text/plain": [
       "<Figure size 576x432 with 1 Axes>"
      ]
     },
     "metadata": {
      "needs_background": "light"
     },
     "output_type": "display_data"
    }
   ],
   "source": [
    "for j in range((N+1)**2):\n",
    "    plt.plot(times,np.real(z[:,j]))\n",
    "    plt.plot(times,np.imag(z[:,j]))\n",
    "\n",
    "print(t1-t0,N)"
   ]
  },
  {
   "cell_type": "code",
   "execution_count": null,
   "metadata": {},
   "outputs": [],
   "source": []
  },
  {
   "cell_type": "code",
   "execution_count": 518,
   "metadata": {},
   "outputs": [],
   "source": [
    "#z[3,:]  We obtain the third elements of the density matrix\n",
    "\n",
    "\"We can determine the density matrix using the following function\"\n",
    "\n",
    "from numba import jit\n",
    "\n",
    "#@jit\n",
    "\n",
    "def rho_matr(time_index):\n",
    "    rho_matr=np.zeros((int( (N+1)  ),int((N+1))),dtype = 'complex_')\n",
    "    count=0\n",
    "    for i in range(N+1):\n",
    "        for j in range(N+1):\n",
    "            rho_matr[i][j]= z[time_index,:][count]\n",
    "            \n",
    "            count=count+1\n",
    "            \n",
    "    return rho_matr"
   ]
  },
  {
   "cell_type": "code",
   "execution_count": 519,
   "metadata": {},
   "outputs": [],
   "source": [
    "#%timeit rho_matr(60)"
   ]
  },
  {
   "cell_type": "code",
   "execution_count": 520,
   "metadata": {},
   "outputs": [],
   "source": [
    "def Sxyz_dicke(N=N):\n",
    "    S_x=np.zeros((int( (N+1)  ),int((N+1))),dtype = 'complex_')\n",
    "    S_y=np.zeros((int( (N+1)  ),int((N+1))),dtype = 'complex_')\n",
    "    S_z=np.zeros((int( (N+1)  ),int((N+1))),dtype = 'complex_')\n",
    "\n",
    "    for n in range(1,N+1):\n",
    "        S_x[n][n-1]= 0.5*Aplus_j(n-1)\n",
    "        S_y[n][n-1]=(-0.5*1j)*Aplus_j(n-1)\n",
    "    \n",
    "    for n in range(0,N):\n",
    "        S_x[n][n+1]= 0.5*Aminus_j(n+1)\n",
    "        S_y[n][n+1]=(0.5*1j)*Aminus_j(n+1)  \n",
    "        S_z[n][n]=-N/2+n\n",
    "    S_z[N][N]=N/2\n",
    "    return S_x, S_y, S_z"
   ]
  },
  {
   "cell_type": "code",
   "execution_count": 521,
   "metadata": {},
   "outputs": [],
   "source": [
    "Sx=Sxyz_dicke(N)[0]\n",
    "Sy=Sxyz_dicke(N)[1]\n",
    "Sz=Sxyz_dicke(N)[2]\n",
    "\n",
    "\n",
    "Sx_result=[]\n",
    "Sy_result=[]\n",
    "Sz_result=[]\n",
    "\n",
    "for j in range(len(t)):\n",
    "    Refmat=rho_matr(j)\n",
    "    Sx_result.append(np.trace(np.matmul(Sx, Refmat )))\n",
    "    Sy_result.append(np.trace(np.matmul(Sy, Refmat )))\n",
    "    Sz_result.append(np.trace(np.matmul(Sz, Refmat )))\n",
    "    "
   ]
  },
  {
   "cell_type": "code",
   "execution_count": 522,
   "metadata": {},
   "outputs": [
    {
     "data": {
      "text/plain": [
       "<matplotlib.legend.Legend at 0x1222ef16040>"
      ]
     },
     "execution_count": 522,
     "metadata": {},
     "output_type": "execute_result"
    },
    {
     "data": {
      "image/png": "[encoded data removed]",
      "text/plain": [
       "<Figure size 576x432 with 1 Axes>"
      ]
     },
     "metadata": {
      "needs_background": "light"
     },
     "output_type": "display_data"
    }
   ],
   "source": [
    "plt.plot(times,np.real(Sx_result),label=\"Sx\")\n",
    "plt.plot(times,np.real(Sy_result),label=\"Sy\")\n",
    "plt.plot(times,np.real(Sz_result),label=\"Sz\")\n",
    "\n",
    "plt.legend()"
   ]
  },
  {
   "cell_type": "code",
   "execution_count": null,
   "metadata": {},
   "outputs": [],
   "source": []
  },
  {
   "cell_type": "code",
   "execution_count": null,
   "metadata": {},
   "outputs": [],
   "source": []
  },
  {
   "cell_type": "code",
   "execution_count": null,
   "metadata": {},
   "outputs": [],
   "source": []
  },
  {
   "cell_type": "code",
   "execution_count": 523,
   "metadata": {},
   "outputs": [],
   "source": [
    "import qutip\n",
    "from qutip.piqs import *\n",
    "\n",
    "import numpy as np\n",
    "from qutip import sigmax, sigmay, sigmaz,tensor, qeye, Qobj\n",
    "from qutip import basis\n",
    "from qutip import sesolve\n",
    "\n",
    "import matplotlib.pyplot as plt\n",
    "\n",
    "#times1=times \n",
    "times1=times\n",
    "\n",
    "n=N\n",
    "\n",
    "def arraygen(n,A):\n",
    "    Arr=[]\n",
    "    for j in range(n):\n",
    "        Arr.append(A)\n",
    "    return Arr\n",
    "\n",
    "\n",
    "def S_k(k,n=n):\n",
    "    \n",
    "    h=0*qeye(2**n)\n",
    "    if k==0:\n",
    "            \n",
    "        for i in range(n):\n",
    "            Arr=arraygen(n,qeye(2))\n",
    "            Arr[i]=sigmax()\n",
    "            h=np.add(h,tensor(Arr))\n",
    "    elif k==1:\n",
    "        for i in range(n):\n",
    "            Arr=arraygen(n,qeye(2))\n",
    "            Arr[i]=sigmay()\n",
    "            h=np.add(h,tensor(Arr))\n",
    "    elif k==2:\n",
    "        for i in range(n):\n",
    "            Arr=arraygen(n,qeye(2))\n",
    "            Arr[i]=sigmaz()\n",
    "            h=np.add(h,tensor(Arr))\n",
    "    \n",
    "    elif k==\"-\":\n",
    "        for i in range(n):\n",
    "            Arr=arraygen(n,qeye(2))\n",
    "            sminus=(sigmax()-1j*sigmay())/2\n",
    "            Arr[i]=sminus\n",
    "            h=np.add(h,tensor(Arr))\n",
    "        \n",
    "        \n",
    "    \n",
    "    return h/2\n",
    "    \n",
    "\n",
    "    \n",
    "def matrix_dec(k,index,rate):\n",
    "    h=0*qeye(2**N)\n",
    "    sminus=(sigmax()-1j*sigmay())/2\n",
    "\n",
    "    if k==\"z\":\n",
    "        \n",
    "        Arr=arraygen(N,qeye(2))\n",
    "        Arr[index]=sigmaz()\n",
    "        \n",
    "        return Qobj(np.sqrt(rate)*np.add(h,tensor(Arr)))\n",
    "    \n",
    "    elif k==\"-\":\n",
    "            \n",
    "        Arr=arraygen(N,qeye(2))\n",
    "        Arr[index]=sminus\n",
    "        \n",
    "        return Qobj(np.sqrt(rate)*np.add(h,tensor(Arr)))\n",
    "    \n",
    "    \n",
    "    \n",
    "    \n",
    "def unc_list(k,rate):\n",
    "    unc_list=[]\n",
    "    for j in range(N):\n",
    "        unc_list.append(matrix_dec(k,j,rate))\n",
    "    \n",
    "    return unc_list \n",
    "    \n",
    "    \n",
    "    \n",
    "    \n",
    "import matplotlib.pyplot as plt\n",
    "import time\n",
    "\n",
    "t0=time.time()\n",
    "\n",
    "#psi_init=np.cos(np.pi/4)*(basis(2,0)+basis(2,1))\n",
    "psi_init=basis(2,1)\n",
    "psi0=Qobj(tensor(arraygen(n,psi_init)))\n",
    "\n",
    "H=Qobj( (2*(J/n)*S_k(2,n)*S_k(2,n)+Omega*S_k(0,n))  )\n",
    "\n",
    "\n",
    "#Use for unitary dynamics solely\n",
    "\n",
    "#result=result()"
   ]
  },
  {
   "cell_type": "code",
   "execution_count": 524,
   "metadata": {},
   "outputs": [],
   "source": [
    "from qutip import mesolve\n",
    "#result = mesolve(H, psi0, times, [np.sqrt(0.04) * Qobj(S_k(2,n))], [Qobj(S_k(0,n)),Qobj(S_k(1,n)),Qobj(S_k(2,n))])\n",
    "\n",
    "#Collapsing_Operators= unc_list(\"z\",Gamma_phi/2)+unc_list(\"-\",Gamma_decay) \n",
    "\n",
    "Xcuad=Qobj(S_k(0,N))**2\n",
    "Ycuad=Qobj(S_k(1,N))**2\n",
    "Zcuad=Qobj(S_k(2,N))**2\n",
    "\n",
    "Expected_Operators= [Qobj(S_k(0,n)),Qobj(S_k(1,n)),Qobj(S_k(2,n)),Xcuad,Ycuad,Zcuad]\n",
    "\n",
    "\n",
    "#Gamma_phi_C=Gamma_phi\n",
    "#Gamma_C=Gamma_decay\n",
    "\n",
    "Gamma_phi_C=2*refgamma*J\n",
    "Gamma_C=4*refgammadecay*J\n",
    "\n",
    "\n",
    "Collapsing_Operators= [np.sqrt(Gamma_phi_C)*Qobj(S_k(2,N)),np.sqrt(Gamma_C)*Qobj(S_k(\"-\",N))]  #Collective\n",
    "\n",
    "\n",
    "result1 = mesolve(H, psi0, times, Collapsing_Operators, Expected_Operators)\n"
   ]
  },
  {
   "cell_type": "code",
   "execution_count": 525,
   "metadata": {},
   "outputs": [
    {
     "data": {
      "text/plain": [
       "<matplotlib.legend.Legend at 0x1223147e9a0>"
      ]
     },
     "execution_count": 525,
     "metadata": {},
     "output_type": "execute_result"
    },
    {
     "data": {
      "image/png": "[encoded data removed]",
      "text/plain": [
       "<Figure size 576x432 with 1 Axes>"
      ]
     },
     "metadata": {
      "needs_background": "light"
     },
     "output_type": "display_data"
    }
   ],
   "source": [
    "plt.plot(times, result1.expect[0],label=\"Qutip $S_x$\")\n",
    "plt.plot(times, result1.expect[1],label=\"Qutip $S_y$\")\n",
    "plt.plot(times, result1.expect[2],label=\"Qutip $S_z$\")\n",
    "\n",
    "plt.plot(times,np.real(Sx_result),label=\"Sx\")\n",
    "plt.plot(times,np.real(Sy_result),label=\"Sy\")\n",
    "plt.plot(times,np.real(Sz_result),label=\"Sz\")\n",
    "\n",
    "plt.legend()"
   ]
  },
  {
   "cell_type": "code",
   "execution_count": 526,
   "metadata": {},
   "outputs": [
    {
     "data": {
      "text/plain": [
       "4"
      ]
     },
     "execution_count": 526,
     "metadata": {},
     "output_type": "execute_result"
    }
   ],
   "source": [
    "Gamma_C"
   ]
  },
  {
   "cell_type": "code",
   "execution_count": 493,
   "metadata": {},
   "outputs": [
    {
     "data": {
      "text/latex": [
       "Quantum object: dims = [[2], [2]], shape = (2, 2), type = oper, isherm = True\\begin{equation*}\\left(\\begin{array}{*{11}c}0.0 & 0.0\\\\0.0 & 0.0\\\\\\end{array}\\right)\\end{equation*}"
      ],
      "text/plain": [
       "Quantum object: dims = [[2], [2]], shape = (2, 2), type = oper, isherm = True\n",
       "Qobj data =\n",
       "[[0. 0.]\n",
       " [0. 0.]]"
      ]
     },
     "execution_count": 493,
     "metadata": {},
     "output_type": "execute_result"
    }
   ],
   "source": [
    "S_k(\"-\",1)"
   ]
  },
  {
   "cell_type": "code",
   "execution_count": null,
   "metadata": {},
   "outputs": [],
   "source": []
  }
 ],
 "metadata": {
  "kernelspec": {
   "display_name": "Python 3",
   "language": "python",
   "name": "python3"
  },
  "language_info": {
   "codemirror_mode": {
    "name": "ipython",
    "version": 3
   },
   "file_extension": ".py",
   "mimetype": "text/x-python",
   "name": "python",
   "nbconvert_exporter": "python",
   "pygments_lexer": "ipython3",
   "version": "3.8.3"
  }
 },
 "nbformat": 4,
 "nbformat_minor": 4
}
