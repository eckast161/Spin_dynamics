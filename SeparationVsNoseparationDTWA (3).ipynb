{
 "cells": [
  {
   "cell_type": "code",
   "execution_count": 526,
   "metadata": {},
   "outputs": [],
   "source": [
    "import matplotlib.pyplot as plt\n",
    "import numpy as np\n",
    "\n",
    "\"\"\"In order to provide a better presentation of the graphs we use the rcParams options shown below.\"\"\"\n",
    "\n",
    "import matplotlib\n",
    "matplotlib.rcParams['text.usetex'] = False\n",
    "matplotlib.rcParams['mathtext.fontset'] = 'stix'\n",
    "matplotlib.rcParams['font.family'] = 'STIXGeneral'\n",
    "matplotlib.rcParams['font.size'] = 15\n",
    "matplotlib.rcParams['figure.figsize'] = (10.0, 7.0)"
   ]
  },
  {
   "cell_type": "code",
   "execution_count": 527,
   "metadata": {},
   "outputs": [],
   "source": [
    "import numpy as np\n",
    "import matplotlib.pyplot as plt\n",
    "\n",
    "\n",
    "import time\n",
    "from scipy.integrate import odeint\n",
    "from scipy.special import zeta\n",
    "from random import choices"
   ]
  },
  {
   "cell_type": "code",
   "execution_count": null,
   "metadata": {},
   "outputs": [],
   "source": []
  },
  {
   "cell_type": "code",
   "execution_count": 528,
   "metadata": {},
   "outputs": [],
   "source": [
    "\"\"\"Our system of differential equations belongs to the complex space, that is why we implemented the code suggested in\"\"\"\n",
    "\"\"\"https://stackoverflow.com/questions/19910189/scipy-odeint-with-complex-initial-values.\"\"\"\n",
    "\n",
    "import time\n",
    "import numpy as np\n",
    "from scipy.integrate import odeint\n",
    "from scipy.special import zeta\n",
    "from random import choices\n",
    "\n",
    "def odeintz(func, z0, t, **kwargs):\n",
    "   \n",
    "    \n",
    "    \"\"\"An odeint-like function for complex valued differential equations.\n",
    "\n",
    "    Inputs:\n",
    "    ----------\n",
    "      -func: function associated to dr/dt=f(x;t), where x is the set of parameters and variables to be determined\n",
    "      -z0: 1d array with length N*(5N-1)/2\n",
    "      -t: 1d array from t=0 to t=tf (parameter set by the user)\n",
    "      - **kwargs: keyword arguments related with external functions to be used in odeint\n",
    "    \n",
    "    Return:\n",
    "      -z: multivariable array with the solution of the differential equation associated with each variable\"\"\"\n",
    "\n",
    "    # Disallow Jacobian-related arguments.\n",
    "    _unsupported_odeint_args = ['Dfun', 'col_deriv', 'ml', 'mu']\n",
    "    bad_args = [arg for arg in kwargs if arg in _unsupported_odeint_args]\n",
    "    if len(bad_args) > 0:\n",
    "        raise ValueError(\"The odeint argument %r is not supported by \"\n",
    "                         \"odeintz.\" % (bad_args[0],))\n",
    "\n",
    "    # Make sure z0 is a numpy array of type np.complex128.\n",
    "    z0 = np.array(z0, dtype=np.complex128, ndmin=1)\n",
    "\n",
    "    def realfunc(x, t, *args):\n",
    "        z = x.view(np.complex128)\n",
    "        dzdt = func(z, t, *args)\n",
    "        # func might return a python list, so convert its return\n",
    "        # value to an array with type np.complex128, and then return\n",
    "        # a np.float64 view of that array.\n",
    "        return np.asarray(dzdt, dtype=np.complex128).view(np.float64)\n",
    "\n",
    "    result = odeint(realfunc, z0.view(np.float64), t, **kwargs)\n",
    "\n",
    "    if kwargs.get('full_output', False):\n",
    "        z = result[0].view(np.complex128)\n",
    "        infodict = result[1]\n",
    "        return z, infodict\n",
    "    else:\n",
    "        z = result.view(np.complex128)\n",
    "        return z"
   ]
  },
  {
   "cell_type": "code",
   "execution_count": null,
   "metadata": {},
   "outputs": [],
   "source": []
  },
  {
   "cell_type": "code",
   "execution_count": 893,
   "metadata": {},
   "outputs": [],
   "source": [
    "import numpy as np\n",
    "import matplotlib.pyplot as plt\n",
    "%matplotlib inline\n",
    "from numpy import random, zeros\n",
    "\n",
    "from numba import jit\n",
    "\n",
    "dt = 0.05 # Time step.\n",
    "T = 10 # Total time.\n",
    "n = int(T / dt) # Number of time steps.\n",
    "\n",
    "times = np.linspace(0., T, n)\n",
    "\n",
    "J=1\n",
    "N=10\n",
    "    \n",
    "refgamma=0.0 #Gamma phi\n",
    "refdecay=0.0   #Gamma (solely)\n",
    "refomega=0.02\n",
    "    \n",
    "Gamma_du=0  #Fixed\n",
    "Gamma_phi=refgamma*J\n",
    "Gamma_decay=refdecay*J\n",
    "Omega=refomega*J\n",
    "sqrt_2phi=  (2*Gamma_phi)**0.5\n",
    "sqrt_decay= (Gamma_decay)**0.5\n",
    "Stochastic=1   #Is the process stochastic?\n",
    "sqrt_Gamma_phi = np.sqrt(Gamma_phi)\n",
    "\n",
    "gama_sq= (  ((2*Gamma_phi)**0.5+ (Gamma_decay)**0.5  )**2 )/2\n",
    "\n",
    "\n",
    "\n",
    "\n",
    "\n",
    "@jit\n",
    "\n",
    "def trayectorystra(N=N,Stochastic=Stochastic):\n",
    "    sqrtdt = np.sqrt(dt)*Stochastic\n",
    "    \n",
    "    Results = zeros((3*N, n))\n",
    "    Rbar    = zeros((3*N, n))\n",
    "    RandomNumbers= zeros((N, n))\n",
    "    \n",
    "\n",
    "    for j in range(N):\n",
    "        a=(choices([-1,1]))[0]\n",
    "        b=(choices([-1,1]))[0]\n",
    "        Results[j][0]=a  #state |+>\n",
    "        Results[j+N][0]=b\n",
    "        Results[j+2*N][0]=-1\n",
    "\n",
    "\n",
    "    for t in range(n-1):\n",
    "        \n",
    "        for i1 in range(N):\n",
    "            RandomNumbers[i1][t]=random.randn()\n",
    "            Normal_VA=RandomNumbers[i1][t]\n",
    "            \n",
    "            \n",
    "            Rbar[i1][t]     = Results[i1][t]    +dt*(-Gamma_phi-(Gamma_decay/2)+gama_sq )*Results[i1][t]-\\\n",
    "                (sqrt_2phi+sqrt_decay ) *Results[i1+N][t]* sqrtdt * Normal_VA\n",
    "            Rbar[i1+N][t]   = Results[i1+N][t]  +dt*(-Omega*Results[i1+2*N][t] +(-Gamma_phi- (Gamma_decay/2)+gama_sq)*Results[i1+N][t])+\\\n",
    "                (sqrt_2phi+sqrt_decay ) *Results[i1][t]* sqrtdt * Normal_VA\n",
    "            Rbar[i1+2*N][t] = Results[i1+2*N][t]+dt*( Omega*Results[i1+N][t] - 1.5*Gamma_decay*(Results[i1+2*N][t]+1) )+\\\n",
    "                sqrt_decay*(Results[i1+2*N][t]+1)*sqrtdt * Normal_VA\n",
    "            \n",
    "            for j1 in range(N):\n",
    "                if i1!=j1:\n",
    "                    \n",
    "                    Rbar[i1][t]  +=-2*Results[i1+N][t]*(J/N)*Results[j1+2*N][t]*dt\n",
    "                    Rbar[i1+N][t]+= 2*Results[i1][t]*(J/N)*Results[j1+2*N][t]*dt\n",
    "            \n",
    "#-------------------------------------------------------------------------------------------------------            \n",
    "        \n",
    "        for i in range(N): \n",
    "            \n",
    "            Normal_VA=RandomNumbers[i][t]\n",
    "                        \n",
    "            fxn   = (-Gamma_phi-(Gamma_decay/2)+gama_sq )*Results[i][t]\n",
    "            Gxn   = -(sqrt_2phi+sqrt_decay )     *Results[i+N][t]\n",
    "            fxbarn= (-Gamma_phi-(Gamma_decay/2)+gama_sq )*Rbar[i][t]\n",
    "            Gxbarn= -(sqrt_2phi+sqrt_decay )     *Rbar[i+N][t]     \n",
    "            \n",
    "            fyn   = (-Omega*Results[i+2*N][t] -(Gamma_phi+ (Gamma_decay/2)-gama_sq)*Results[i+N][t])\n",
    "            Gyn   = (sqrt_2phi+sqrt_decay ) *Results[i][t]\n",
    "            fybarn= (-Omega*Rbar[i+2*N][t] -(Gamma_phi+ (Gamma_decay/2)-gama_sq)*Rbar[i+N][t])\n",
    "            Gybarn= (sqrt_2phi+sqrt_decay ) *Rbar[i][t]\n",
    "            \n",
    "            fzn   = ( Omega*Results[i+N][t] - 1.5*Gamma_decay*(Results[i+2*N][t]+1) )\n",
    "            Gzn   = sqrt_decay*(Results[i+2*N][t]+1)\n",
    "            fzbarn= ( Omega*Rbar[i+N][t] - 1.5*Gamma_decay*(Rbar[i+2*N][t]+1) )\n",
    "            Gzbarn= sqrt_decay*(Rbar[i+2*N][t]+1)\n",
    "\n",
    "#-------------------------------------------------------------------------------------------------------            \n",
    "        \n",
    "            Results[i][t+1]       = Results[i][t]    +dt*0.5*(fxn+fxbarn)+0.5*(Gxn + Gxbarn)* sqrtdt * Normal_VA\n",
    "            Results[i+N][t+1]     = Results[i+N][t]  +dt*0.5*(fyn+fybarn)+0.5*(Gyn + Gybarn)* sqrtdt * Normal_VA\n",
    "            Results[i+2*N][t+1]   = Results[i+2*N][t]+dt*0.5*(fzn+fzbarn)+0.5*(Gzn + Gzbarn)* sqrtdt * Normal_VA\n",
    "            \n",
    "            for j in range(N):\n",
    "                if i!=j:\n",
    "                    Results[i][t+1]  +=  -(J/N)*(Results[i+N][t]*Results[j+2*N][t] + Rbar[i+N][t]*Rbar[j+2*N][t])*dt\n",
    "                    Results[i+N][t+1]+=   (J/N)*(Results[i][t]*Results[j+2*N][t]   + Rbar[i][t]*Rbar[j+2*N][t])*dt\n",
    "                    \n",
    "    return Results, Rbar\n"
   ]
  },
  {
   "cell_type": "code",
   "execution_count": null,
   "metadata": {},
   "outputs": [],
   "source": []
  },
  {
   "cell_type": "code",
   "execution_count": null,
   "metadata": {},
   "outputs": [],
   "source": []
  },
  {
   "cell_type": "code",
   "execution_count": 894,
   "metadata": {},
   "outputs": [],
   "source": [
    "from numpy import mean\n",
    "from numpy import linalg\n",
    "\n",
    "from numba import jit\n",
    "\n",
    "\n",
    "@jit\n",
    "\n",
    "\n",
    "\n",
    "def summary_stat(Res,N=N,n=n):\n",
    "    Results =zeros((9, n))\n",
    "    count=0\n",
    "    while count<n:\n",
    "        a,b,c=Res[0:N, count:count+1],Res[N:2*N, count:count+1],Res[2*N:3*N, count:count+1]\n",
    "        \n",
    "        Results[0][count],Results[1][count],Results[2][count]=N*mean(a)/2,N*mean(b)/2,N*mean(c)/2\n",
    "        Results[3][count]=0.25*(  (N*mean(a))**2- (linalg.norm(a,2))**2 )\n",
    "        Results[4][count]=0.25*(  (N*mean(b))**2- (linalg.norm(b,2))**2 )\n",
    "        Results[5][count]=0.25*(  (N*mean(c))**2- (linalg.norm(c,2))**2 )\n",
    "        Results[6][count]=(N*mean(a)/2)**2\n",
    "        Results[7][count]=(N*mean(b)/2)**2\n",
    "        Results[8][count]=(N*mean(c)/2)**2\n",
    "        \n",
    "        \n",
    "        count=count+1\n",
    "        \n",
    "    \n",
    "    return Results\n",
    "    \n",
    "    "
   ]
  },
  {
   "cell_type": "code",
   "execution_count": null,
   "metadata": {},
   "outputs": [],
   "source": []
  },
  {
   "cell_type": "code",
   "execution_count": null,
   "metadata": {},
   "outputs": [],
   "source": []
  },
  {
   "cell_type": "code",
   "execution_count": null,
   "metadata": {},
   "outputs": [],
   "source": []
  },
  {
   "cell_type": "code",
   "execution_count": null,
   "metadata": {},
   "outputs": [],
   "source": []
  },
  {
   "cell_type": "code",
   "execution_count": 895,
   "metadata": {},
   "outputs": [
    {
     "data": {
      "text/plain": [
       "28.0"
      ]
     },
     "execution_count": 895,
     "metadata": {},
     "output_type": "execute_result"
    }
   ],
   "source": [
    "Ni=3\n",
    "\n",
    "a=[1,2,4]\n",
    "\n",
    "(Ni*mean(a))**2- (linalg.norm(a,2))**2"
   ]
  },
  {
   "cell_type": "code",
   "execution_count": null,
   "metadata": {},
   "outputs": [],
   "source": []
  },
  {
   "cell_type": "code",
   "execution_count": 896,
   "metadata": {},
   "outputs": [],
   "source": [
    "#%timeit summary_stat(trayectory(N=N,Stochastic=Stochastic),N=N,n=n)"
   ]
  },
  {
   "cell_type": "code",
   "execution_count": 897,
   "metadata": {},
   "outputs": [],
   "source": [
    "from numpy import add\n",
    "from numba import jit\n",
    "\n",
    "\n",
    "\n",
    "itera=5000\n",
    "@jit\n",
    "\n",
    "def averages(itera=itera,N=N,n=n,Stochastic=Stochastic):\n",
    "    Results =zeros((9, n))\n",
    "    for j in range(itera):\n",
    "        Trayec=trayectorystra(N,Stochastic)[0]\n",
    "        Results=add(Results,summary_stat(Trayec,N,n))\n",
    "    \n",
    "    return Results/itera\n",
    "    \n",
    "    \n",
    "    \n",
    "    "
   ]
  },
  {
   "cell_type": "code",
   "execution_count": null,
   "metadata": {},
   "outputs": [],
   "source": []
  },
  {
   "cell_type": "code",
   "execution_count": null,
   "metadata": {},
   "outputs": [
    {
     "name": "stderr",
     "output_type": "stream",
     "text": [
      "<ipython-input-897-d2816b168b1c>:7: NumbaWarning: \u001b[1m\n",
      "Compilation is falling back to object mode WITH looplifting enabled because Function \"averages\" failed type inference due to: \u001b[1m\u001b[1m\u001b[1mInvalid use of type(CPUDispatcher(<function trayectorystra at 0x0000024BFCB059D0>)) with parameters (int64, int64)\n",
      "\u001b[0m\n",
      "\u001b[0m\u001b[1mDuring: resolving callee type: type(CPUDispatcher(<function trayectorystra at 0x0000024BFCB059D0>))\u001b[0m\n",
      "\u001b[0m\u001b[1mDuring: typing of call at <ipython-input-897-d2816b168b1c> (12)\n",
      "\u001b[0m\n",
      "\u001b[1m\n",
      "File \"<ipython-input-897-d2816b168b1c>\", line 12:\u001b[0m\n",
      "\u001b[1mdef averages(itera=itera,N=N,n=n,Stochastic=Stochastic):\n",
      "    <source elided>\n",
      "    for j in range(itera):\n",
      "\u001b[1m        Trayec=trayectorystra(N,Stochastic)[0]\n",
      "\u001b[0m        \u001b[1m^\u001b[0m\u001b[0m\n",
      "\u001b[0m\n",
      "  @jit\n",
      "<ipython-input-897-d2816b168b1c>:7: NumbaWarning: \u001b[1m\n",
      "Compilation is falling back to object mode WITHOUT looplifting enabled because Function \"averages\" failed type inference due to: \u001b[1m\u001b[1mcannot determine Numba type of <class 'numba.core.dispatcher.LiftedLoop'>\u001b[0m\n",
      "\u001b[1m\n",
      "File \"<ipython-input-897-d2816b168b1c>\", line 11:\u001b[0m\n",
      "\u001b[1mdef averages(itera=itera,N=N,n=n,Stochastic=Stochastic):\n",
      "    <source elided>\n",
      "    Results =zeros((9, n))\n",
      "\u001b[1m    for j in range(itera):\n",
      "\u001b[0m    \u001b[1m^\u001b[0m\u001b[0m\n",
      "\u001b[0m\u001b[0m\n",
      "  @jit\n",
      "C:\\Users\\camil\\anaconda3\\lib\\site-packages\\numba\\core\\object_mode_passes.py:177: NumbaWarning: \u001b[1mFunction \"averages\" was compiled in object mode without forceobj=True, but has lifted loops.\n",
      "\u001b[1m\n",
      "File \"<ipython-input-897-d2816b168b1c>\", line 10:\u001b[0m\n",
      "\u001b[1mdef averages(itera=itera,N=N,n=n,Stochastic=Stochastic):\n",
      "\u001b[1m    Results =zeros((9, n))\n",
      "\u001b[0m    \u001b[1m^\u001b[0m\u001b[0m\n",
      "\u001b[0m\n",
      "  warnings.warn(errors.NumbaWarning(warn_msg,\n",
      "C:\\Users\\camil\\anaconda3\\lib\\site-packages\\numba\\core\\object_mode_passes.py:187: NumbaDeprecationWarning: \u001b[1m\n",
      "Fall-back from the nopython compilation path to the object mode compilation path has been detected, this is deprecated behaviour.\n",
      "\n",
      "For more information visit http://numba.pydata.org/numba-doc/latest/reference/deprecation.html#deprecation-of-object-mode-fall-back-behaviour-when-using-jit\n",
      "\u001b[1m\n",
      "File \"<ipython-input-897-d2816b168b1c>\", line 10:\u001b[0m\n",
      "\u001b[1mdef averages(itera=itera,N=N,n=n,Stochastic=Stochastic):\n",
      "\u001b[1m    Results =zeros((9, n))\n",
      "\u001b[0m    \u001b[1m^\u001b[0m\u001b[0m\n",
      "\u001b[0m\n",
      "  warnings.warn(errors.NumbaDeprecationWarning(msg,\n",
      "<ipython-input-897-d2816b168b1c>:7: NumbaWarning: \u001b[1m\n",
      "Compilation is falling back to object mode WITHOUT looplifting enabled because Function \"averages\" failed type inference due to: \u001b[1m\u001b[1m\u001b[1mInvalid use of type(CPUDispatcher(<function trayectorystra at 0x0000024BFCB059D0>)) with parameters (int64, int64)\n",
      "\u001b[0m\n",
      "\u001b[0m\u001b[1mDuring: resolving callee type: type(CPUDispatcher(<function trayectorystra at 0x0000024BFCB059D0>))\u001b[0m\n",
      "\u001b[0m\u001b[1mDuring: typing of call at <ipython-input-897-d2816b168b1c> (12)\n",
      "\u001b[0m\n",
      "\u001b[1m\n",
      "File \"<ipython-input-897-d2816b168b1c>\", line 12:\u001b[0m\n",
      "\u001b[1mdef averages(itera=itera,N=N,n=n,Stochastic=Stochastic):\n",
      "    <source elided>\n",
      "    for j in range(itera):\n",
      "\u001b[1m        Trayec=trayectorystra(N,Stochastic)[0]\n",
      "\u001b[0m        \u001b[1m^\u001b[0m\u001b[0m\n",
      "\u001b[0m\n",
      "  @jit\n",
      "C:\\Users\\camil\\anaconda3\\lib\\site-packages\\numba\\core\\object_mode_passes.py:177: NumbaWarning: \u001b[1mFunction \"averages\" was compiled in object mode without forceobj=True.\n",
      "\u001b[1m\n",
      "File \"<ipython-input-897-d2816b168b1c>\", line 11:\u001b[0m\n",
      "\u001b[1mdef averages(itera=itera,N=N,n=n,Stochastic=Stochastic):\n",
      "    <source elided>\n",
      "    Results =zeros((9, n))\n",
      "\u001b[1m    for j in range(itera):\n",
      "\u001b[0m    \u001b[1m^\u001b[0m\u001b[0m\n",
      "\u001b[0m\n",
      "  warnings.warn(errors.NumbaWarning(warn_msg,\n",
      "C:\\Users\\camil\\anaconda3\\lib\\site-packages\\numba\\core\\object_mode_passes.py:187: NumbaDeprecationWarning: \u001b[1m\n",
      "Fall-back from the nopython compilation path to the object mode compilation path has been detected, this is deprecated behaviour.\n",
      "\n",
      "For more information visit http://numba.pydata.org/numba-doc/latest/reference/deprecation.html#deprecation-of-object-mode-fall-back-behaviour-when-using-jit\n",
      "\u001b[1m\n",
      "File \"<ipython-input-897-d2816b168b1c>\", line 11:\u001b[0m\n",
      "\u001b[1mdef averages(itera=itera,N=N,n=n,Stochastic=Stochastic):\n",
      "    <source elided>\n",
      "    Results =zeros((9, n))\n",
      "\u001b[1m    for j in range(itera):\n",
      "\u001b[0m    \u001b[1m^\u001b[0m\u001b[0m\n",
      "\u001b[0m\n",
      "  warnings.warn(errors.NumbaDeprecationWarning(msg,\n",
      "<ipython-input-893-4c9362bae6b1>:36: NumbaWarning: \u001b[1m\n",
      "Compilation is falling back to object mode WITHOUT looplifting enabled because Function \"trayectorystra\" failed type inference due to: \u001b[1mUntyped global name 'choices':\u001b[0m \u001b[1m\u001b[1mcannot determine Numba type of <class 'method'>\u001b[0m\n",
      "\u001b[1m\n",
      "File \"<ipython-input-893-4c9362bae6b1>\", line 47:\u001b[0m\n",
      "\u001b[1mdef trayectorystra(N=N,Stochastic=Stochastic):\n",
      "    <source elided>\n",
      "    for j in range(N):\n",
      "\u001b[1m        a=(choices([-1,1]))[0]\n",
      "\u001b[0m        \u001b[1m^\u001b[0m\u001b[0m\n",
      "\u001b[0m\u001b[0m\n",
      "  @jit\n",
      "C:\\Users\\camil\\anaconda3\\lib\\site-packages\\numba\\core\\object_mode_passes.py:177: NumbaWarning: \u001b[1mFunction \"trayectorystra\" was compiled in object mode without forceobj=True.\n",
      "\u001b[1m\n",
      "File \"<ipython-input-893-4c9362bae6b1>\", line 46:\u001b[0m\n",
      "\u001b[1mdef trayectorystra(N=N,Stochastic=Stochastic):\n",
      "    <source elided>\n",
      "\n",
      "\u001b[1m    for j in range(N):\n",
      "\u001b[0m    \u001b[1m^\u001b[0m\u001b[0m\n",
      "\u001b[0m\n",
      "  warnings.warn(errors.NumbaWarning(warn_msg,\n",
      "C:\\Users\\camil\\anaconda3\\lib\\site-packages\\numba\\core\\object_mode_passes.py:187: NumbaDeprecationWarning: \u001b[1m\n",
      "Fall-back from the nopython compilation path to the object mode compilation path has been detected, this is deprecated behaviour.\n",
      "\n",
      "For more information visit http://numba.pydata.org/numba-doc/latest/reference/deprecation.html#deprecation-of-object-mode-fall-back-behaviour-when-using-jit\n",
      "\u001b[1m\n",
      "File \"<ipython-input-893-4c9362bae6b1>\", line 46:\u001b[0m\n",
      "\u001b[1mdef trayectorystra(N=N,Stochastic=Stochastic):\n",
      "    <source elided>\n",
      "\n",
      "\u001b[1m    for j in range(N):\n",
      "\u001b[0m    \u001b[1m^\u001b[0m\u001b[0m\n",
      "\u001b[0m\n",
      "  warnings.warn(errors.NumbaDeprecationWarning(msg,\n"
     ]
    }
   ],
   "source": [
    "t0=time.time()\n",
    "\n",
    "itera=10000\n",
    "\n",
    "Result_varDDTWA=averages(itera=itera,N=N,n=n,Stochastic=1)\n",
    "#Result_varDTWA=averages(itera=itera,N=N,n=n,Stochastic=0)\n",
    "\n",
    "t1=time.time()\n",
    "\n",
    "print(t1-t0)\n",
    "\n"
   ]
  },
  {
   "cell_type": "code",
   "execution_count": null,
   "metadata": {},
   "outputs": [],
   "source": []
  },
  {
   "cell_type": "code",
   "execution_count": null,
   "metadata": {},
   "outputs": [],
   "source": [
    "gammaplus=Gamma_du/2\n",
    "gammaminus=Gamma_decay/2\n",
    "gammaz=Gamma_phi/4\n",
    "\n",
    "\n",
    "Gamma_ud=2*gammaplus\n",
    "Gamma_du=2*gammaminus\n",
    "Gamma_el=8*gammaz\n"
   ]
  },
  {
   "cell_type": "code",
   "execution_count": null,
   "metadata": {},
   "outputs": [],
   "source": [
    "Gamma_ud=2*gammaplus\n",
    "Gamma_du=2*gammaminus\n",
    "Gamma_el=8*gammaz\n",
    "\n",
    "Gamma_r=Gamma_ud+Gamma_du+1e-8\n",
    "\n",
    "\n",
    "gamma=(Gamma_ud-Gamma_du)/4\n",
    "\n",
    "Tot=Gamma_r+Gamma_el\n",
    "\n",
    "lamda=Gamma_r/2\n",
    "\n",
    "J01=J\n",
    "\n",
    "\n",
    "s=2*1j*gamma+2*J01/N\n",
    "r=0#Gamma_ud*Gamma_du\n",
    "\n",
    "spp=2*1j*gamma+2*2*J01/N\n",
    "spm=2*1j*gamma\n",
    "\n",
    "def p0_gen(t):\n",
    "    return  0.5*np.exp(-Tot*t/2)*( np.exp(-lamda*t)*( np.cos(t*(s**2-r)**0.5) +  lamda*np.sin(t*(s**2-r)**0.5)/((s**2-r)**0.5+1e-8)) )**(N-1)\n",
    "\n",
    "def pp_gen(t):\n",
    "    return  0.25*np.exp(-Tot*t)*( np.exp(-lamda*t)*( np.cos(t*(spp**2-r)**0.5) +  lamda*np.sin(t*(spp**2-r)**0.5)/((spp**2-r)**0.5+1e-8)) )**(N-2)\n",
    "\n",
    "def pm_gen(t):\n",
    "    return  0.25*np.exp(-Tot*t)*( np.exp(-lamda*t)*( np.cos(t*(spm**2-r)**0.5) +  lamda*np.sin(t*(spm**2-r)**0.5)/((spm**2-r+1e-8)**0.5)) )**(N-2)\n",
    "\n",
    "\n",
    "def z0_gen(t):\n",
    "    return 2*(Gamma_ud-Gamma_du)/(Gamma_ud+Gamma_du+1e-8)*np.exp(-Gamma_r*t/2)*np.sinh(Gamma_r*t/2) "
   ]
  },
  {
   "cell_type": "code",
   "execution_count": null,
   "metadata": {},
   "outputs": [],
   "source": []
  },
  {
   "cell_type": "code",
   "execution_count": null,
   "metadata": {},
   "outputs": [],
   "source": [
    "sixsjx=2*(np.real( pp_gen(times) )  + np.real( pm_gen(times) ) )\n",
    "\n",
    "\n",
    "\n",
    "plt.plot(times,sixsjx,\"--\")"
   ]
  },
  {
   "cell_type": "code",
   "execution_count": null,
   "metadata": {},
   "outputs": [],
   "source": []
  },
  {
   "cell_type": "code",
   "execution_count": null,
   "metadata": {},
   "outputs": [],
   "source": [
    "siysjy=2*(-np.real( pp_gen(times) )  + np.real( pm_gen(times) ) )\n",
    "\n",
    "varY=(N/4)+(N*(N-1)/2)*(-np.real(pp_gen(times)) + np.real(pm_gen(times)))-(N**2)*(np.real(p0_gen(times)))**2\n"
   ]
  },
  {
   "cell_type": "code",
   "execution_count": null,
   "metadata": {},
   "outputs": [],
   "source": [
    "ax=N/4+  Result_varDDTWA[3+0]-(Result_varDDTWA[0])**2\n",
    "ay=N/4+  Result_varDDTWA[3+1]-(Result_varDDTWA[1])**2\n",
    "az=N/4+  Result_varDDTWA[3+2]-(Result_varDDTWA[2])**2\n",
    "\n",
    "\n",
    "\n",
    "\n",
    "plt.plot(times,ax,label=\"DDTWA $(\\Delta S_x)^2$\")\n",
    "plt.plot(times,ay,label=\"DDTWA $(\\Delta S_y)^2$\")\n",
    "plt.plot(times,az,label=\"DDTWA $(\\Delta S_z)^2$\")\n",
    "\n",
    "\n",
    "plt.legend()"
   ]
  },
  {
   "cell_type": "code",
   "execution_count": null,
   "metadata": {},
   "outputs": [],
   "source": []
  },
  {
   "cell_type": "code",
   "execution_count": null,
   "metadata": {},
   "outputs": [],
   "source": []
  },
  {
   "cell_type": "code",
   "execution_count": null,
   "metadata": {},
   "outputs": [],
   "source": []
  },
  {
   "cell_type": "code",
   "execution_count": null,
   "metadata": {},
   "outputs": [],
   "source": [
    "varX=(N/4)+(N*(N-1)/2)*( np.real(pp_gen(times)) + np.real(pm_gen(times)))-(N**2)*(np.real(p0_gen(times)))**2\n",
    "\n",
    "ax=N/4+  Result_varDDTWA[3+0]-(Result_varDDTWA[0])**2\n",
    "\n",
    "\n",
    "plt.plot(times,ax,label=\"Full Estimation\")\n",
    "\n",
    "plt.plot(times,varX,\"-.\",label=\"$(\\Delta S_x)^2$ Analytic\")\n",
    "\n",
    "plt.legend()"
   ]
  },
  {
   "cell_type": "code",
   "execution_count": null,
   "metadata": {},
   "outputs": [],
   "source": []
  },
  {
   "cell_type": "code",
   "execution_count": null,
   "metadata": {},
   "outputs": [],
   "source": []
  },
  {
   "cell_type": "code",
   "execution_count": null,
   "metadata": {},
   "outputs": [],
   "source": [
    "\n",
    "\n",
    "\n",
    "plt.plot(times,ax,label=\"Full Estimation\")\n",
    "\n",
    "plt.plot(times,varX,\"-.\",label=\"$(\\Delta S_x)^2$ Analytic\")\n",
    "\n",
    "plt.legend()"
   ]
  },
  {
   "cell_type": "code",
   "execution_count": null,
   "metadata": {},
   "outputs": [],
   "source": []
  },
  {
   "cell_type": "code",
   "execution_count": null,
   "metadata": {},
   "outputs": [],
   "source": []
  },
  {
   "cell_type": "code",
   "execution_count": null,
   "metadata": {},
   "outputs": [],
   "source": []
  },
  {
   "cell_type": "code",
   "execution_count": null,
   "metadata": {},
   "outputs": [],
   "source": [
    "#### ONLY WORKS FOR |+>\n",
    "\n",
    "\n",
    "matplotlib.rcParams['figure.figsize'] = (10.0, 7.0)\n",
    "matplotlib.rcParams['font.size'] = 18\n",
    "\n",
    "\n",
    "\n",
    "plt.title(\"<$S_k$>\")\n",
    "\n",
    "#Leave uncommented the analytical solutions if you are using |+>\n",
    "\n",
    "\n",
    "plt.plot(times,(N/2)*(p0_gen(times) + np.conjugate(p0_gen(times)) ),label=\"Analytic \")\n",
    "plt.plot(times,(Result_varDDTWA[0]),\"-.\",label=\"DDTWA $S_x$\")\n",
    "\n",
    "\n",
    "plt.plot(times,-(N/2)*1j*(-p0_gen(times) + np.conjugate(p0_gen(times)) ),label=\"Analytic\")\n",
    "plt.plot(times,(Result_varDDTWA[1]),\"-.\",label=\"DDTWA $S_y$\")\n",
    "\n",
    "\n",
    "plt.plot(times,(N/2)*z0_gen(times),label=\"Analytic\",c=\"k\")\n",
    "plt.plot(times,(Result_varDDTWA[2]),\"-.\",label=\"DDTWA $S_z$\")\n",
    "\n",
    "plt.legend()"
   ]
  },
  {
   "cell_type": "code",
   "execution_count": null,
   "metadata": {},
   "outputs": [],
   "source": []
  },
  {
   "cell_type": "code",
   "execution_count": null,
   "metadata": {},
   "outputs": [],
   "source": []
  },
  {
   "cell_type": "code",
   "execution_count": null,
   "metadata": {},
   "outputs": [],
   "source": [
    "plt.title(\"$(\\Delta S_k)^2$ Evolution under full algebra description\")\n",
    "\n",
    "\n",
    "\n",
    "matplotlib.rcParams['figure.figsize'] = (11.0, 8.0)\n",
    "ax=N/4+  Result_varDDTWA[3+0]-(Result_varDDTWA[0])**2\n",
    "ay=N/4+  Result_varDDTWA[3+1]-(Result_varDDTWA[1])**2\n",
    "az=N/4+  Result_varDDTWA[3+2]-(Result_varDDTWA[2])**2\n",
    "\n",
    "\n",
    "\n",
    "\n",
    "plt.plot(times,ax,label=\"DDTWA $(\\Delta S_x)^2$\")\n",
    "plt.plot(times,ay,label=\"DDTWA $(\\Delta S_y)^2$\")\n",
    "plt.plot(times,az,label=\"DDTWA $(\\Delta S_z)^2$\")\n",
    "\n",
    "\n",
    "plt.legend()"
   ]
  },
  {
   "cell_type": "code",
   "execution_count": null,
   "metadata": {},
   "outputs": [],
   "source": [
    "plt.title(\"Comparisons between DDTWA (full algebra) and Foss et al. for the Variances\")\n",
    "\n",
    "plt.plot(times,ax,\"-.\",label=\"DDTWA $(\\Delta S_x)^2$\")\n",
    "plt.plot(times,ay,\"-.\",label=\"DDTWA $(\\Delta S_y)^2$\")\n",
    "plt.plot(times,az,\"-.\",label=\"DDTWA $(\\Delta S_z)^2$\")\n",
    "\n",
    "#Leave uncommented the analytical solutions if you are using |+>\n",
    "\n",
    "varX=(N/4)+(N*(N-1)/2)*( np.real(pp_gen(times)) + np.real(pm_gen(times)))-(N**2)*(np.real(p0_gen(times)))**2\n",
    "varY=(N/4)+(N*(N-1)/2)*( -np.real(pp_gen(times)) + np.real(pm_gen(times)))-(N**2)*(np.imag(p0_gen(times)))**2\n",
    "varZ=(N/4)*(1-(z0_gen(times))**2)\n",
    "\n",
    "\n",
    "\n",
    "plt.plot(times,varX,label=\"$(\\Delta S_x)^2$ Analytic\")\n",
    "plt.plot(times,varY,label=\"$(\\Delta S_y)^2$ Analytic\")\n",
    "plt.plot(times,varZ,label=\"$(\\Delta S_z)^2$ Analytic\")\n",
    "\n",
    "\n",
    "ax1=Result_varDDTWA[6+0]-(Result_varDDTWA[0])**2\n",
    "ay1=Result_varDDTWA[6+1]-(Result_varDDTWA[1])**2\n",
    "az1=Result_varDDTWA[6+2]-(Result_varDDTWA[2])**2\n",
    "\n",
    "\n",
    "plt.plot(times,ax1,label=\"DDTWA $(\\Delta S_x)^2 $ no-algebra\")\n",
    "plt.plot(times,ay1,label=\"DDTWA $(\\Delta S_y)^2 $ no-algebra\")\n",
    "plt.plot(times,az1,label=\"DDTWA $(\\Delta S_z)^2 $ no-algebra\")\n",
    "\n",
    "\n",
    "plt.legend()"
   ]
  },
  {
   "cell_type": "code",
   "execution_count": null,
   "metadata": {},
   "outputs": [],
   "source": []
  },
  {
   "cell_type": "code",
   "execution_count": null,
   "metadata": {},
   "outputs": [],
   "source": []
  },
  {
   "cell_type": "code",
   "execution_count": null,
   "metadata": {},
   "outputs": [],
   "source": []
  },
  {
   "cell_type": "code",
   "execution_count": null,
   "metadata": {},
   "outputs": [],
   "source": [
    "matplotlib.rcParams['figure.figsize'] = (11.0, 8.0)\n",
    "ax1=Result_varDDTWA[6+0]-(Result_varDDTWA[0])**2\n",
    "ay1=Result_varDDTWA[6+1]-(Result_varDDTWA[1])**2\n",
    "az1=Result_varDDTWA[6+2]-(Result_varDDTWA[2])**2\n",
    "\n",
    "\n",
    "plt.plot(times,ax1,label=\"DDTWA $(\\Delta S_x)^2 no-algebra$\")\n",
    "plt.plot(times,ay1,label=\"DDTWA $(\\Delta S_y)^2 no-algebra$\")\n",
    "plt.plot(times,az1,label=\"DDTWA $(\\Delta S_z)^2 no-algebra$\")\n",
    "\n",
    "\n",
    "plt.plot(times,varX,label=\"$(\\Delta S_x)^2$ Analytic\")\n",
    "plt.plot(times,varY,label=\"$(\\Delta S_y)^2$ Analytic\")\n",
    "plt.plot(times,varZ,label=\"$(\\Delta S_z)^2$ Analytic\")\n",
    "\n",
    "\n",
    "plt.plot(times,ax1,label=\"DDTWA $(\\Delta S_x)^2$\")\n",
    "plt.plot(times,ay1,label=\"DDTWA $(\\Delta S_y)^2$\")\n",
    "plt.plot(times,az1,label=\"DDTWA $(\\Delta S_z)^2$\")"
   ]
  },
  {
   "cell_type": "code",
   "execution_count": null,
   "metadata": {},
   "outputs": [],
   "source": []
  },
  {
   "cell_type": "code",
   "execution_count": null,
   "metadata": {},
   "outputs": [],
   "source": [
    "ax2=Result_varDDTWA[6+0]\n",
    "ay2=Result_varDDTWA[6+1]\n",
    "az2=Result_varDDTWA[6+2]\n",
    "\n",
    "\n",
    "plt.plot(times,ax2,label=\"DDTWA $( S_x)^2$\")\n",
    "plt.plot(times,ay2,label=\"DDTWA $( S_y)^2$\")\n",
    "plt.plot(times,az2,label=\"DDTWA $( S_z)^2$\")\n",
    "\n",
    "plt.legend()"
   ]
  },
  {
   "cell_type": "code",
   "execution_count": null,
   "metadata": {},
   "outputs": [],
   "source": []
  },
  {
   "cell_type": "code",
   "execution_count": null,
   "metadata": {},
   "outputs": [],
   "source": []
  },
  {
   "cell_type": "code",
   "execution_count": null,
   "metadata": {},
   "outputs": [],
   "source": []
  },
  {
   "cell_type": "code",
   "execution_count": null,
   "metadata": {},
   "outputs": [],
   "source": []
  },
  {
   "cell_type": "code",
   "execution_count": null,
   "metadata": {},
   "outputs": [],
   "source": []
  },
  {
   "cell_type": "code",
   "execution_count": null,
   "metadata": {},
   "outputs": [],
   "source": []
  },
  {
   "cell_type": "code",
   "execution_count": null,
   "metadata": {},
   "outputs": [],
   "source": []
  },
  {
   "cell_type": "code",
   "execution_count": null,
   "metadata": {},
   "outputs": [],
   "source": []
  },
  {
   "cell_type": "code",
   "execution_count": null,
   "metadata": {},
   "outputs": [],
   "source": []
  },
  {
   "cell_type": "code",
   "execution_count": null,
   "metadata": {},
   "outputs": [],
   "source": [
    "import qutip\n",
    "from qutip.piqs import *\n",
    "\n",
    "import numpy as np\n",
    "from qutip import sigmax, sigmay, sigmaz,tensor, qeye, Qobj\n",
    "from qutip import basis\n",
    "from qutip import sesolve\n",
    "\n",
    "import matplotlib.pyplot as plt\n",
    "\n",
    "#times1=times \n",
    "times1=times\n",
    "\n",
    "n=N\n",
    "\n",
    "def arraygen(n,A):\n",
    "    Arr=[]\n",
    "    for j in range(n):\n",
    "        Arr.append(A)\n",
    "    return Arr\n",
    "\n",
    "\n",
    "def S_k(k,n=n):\n",
    "    \n",
    "    h=0*qeye(2**n)\n",
    "    if k==0:\n",
    "            \n",
    "        for i in range(n):\n",
    "            Arr=arraygen(n,qeye(2))\n",
    "            Arr[i]=sigmax()\n",
    "            h=np.add(h,tensor(Arr))\n",
    "    if k==1:\n",
    "        for i in range(n):\n",
    "            Arr=arraygen(n,qeye(2))\n",
    "            Arr[i]=sigmay()\n",
    "            h=np.add(h,tensor(Arr))\n",
    "    if k==2:\n",
    "        for i in range(n):\n",
    "            Arr=arraygen(n,qeye(2))\n",
    "            Arr[i]=sigmaz()\n",
    "            h=np.add(h,tensor(Arr))\n",
    "        \n",
    "    \n",
    "    return h/2\n",
    "    \n",
    "\n",
    "    \n",
    "def matrix_dec(k,index,rate):\n",
    "    h=0*qeye(2**N)\n",
    "    sminus=(sigmax()-1j*sigmay())/2\n",
    "\n",
    "    if k==\"z\":\n",
    "        \n",
    "        Arr=arraygen(N,qeye(2))\n",
    "        Arr[index]=sigmaz()\n",
    "        \n",
    "        return Qobj(np.sqrt(rate)*np.add(h,tensor(Arr)))\n",
    "    \n",
    "    elif k==\"-\":\n",
    "            \n",
    "        Arr=arraygen(N,qeye(2))\n",
    "        Arr[index]=sminus\n",
    "        \n",
    "        return Qobj(np.sqrt(rate)*np.add(h,tensor(Arr)))\n",
    "    \n",
    "    \n",
    "    \n",
    "    \n",
    "def unc_list(k,rate):\n",
    "    unc_list=[]\n",
    "    for j in range(N):\n",
    "        unc_list.append(matrix_dec(k,j,rate))\n",
    "    \n",
    "    return unc_list \n",
    "    \n",
    "\n",
    "## Initial state fro QuTiP\n",
    "\n",
    "#psi_init=np.cos(np.pi/4)*(basis(2,0)+basis(2,1))\n",
    "psi_init=basis(2,1)\n",
    "psi0=Qobj(tensor(arraygen(n,psi_init)))    \n",
    "\n",
    "\n",
    "H=Qobj( (2*(J/n)*S_k(2,n)*S_k(2,n)+Omega*S_k(0,n))  )\n",
    "\n",
    "\n",
    "\n",
    "\n",
    "def result():\n",
    "    return sesolve(H, psi0, times1, [Qobj(S_k(0,n)),Qobj(S_k(1,n)),Qobj(S_k(2,n)),Qobj(S_k(0,n))**2,Qobj(S_k(1,n))**2,Qobj(S_k(2,n))**2])\n",
    "\n",
    "#Use for unitary dynamics solely\n",
    "\n",
    "#result=result()"
   ]
  },
  {
   "cell_type": "code",
   "execution_count": null,
   "metadata": {},
   "outputs": [],
   "source": [
    "Omega"
   ]
  },
  {
   "cell_type": "code",
   "execution_count": null,
   "metadata": {},
   "outputs": [],
   "source": [
    "from qutip import mesolve\n",
    "\n",
    "Collapsing_Operators= unc_list(\"z\",Gamma_phi/2)+unc_list(\"-\",Gamma_decay) #Uncorrelated decoherence\n",
    "\n",
    "Xcuad=Qobj(S_k(0,N))**2\n",
    "Ycuad=Qobj(S_k(1,N))**2\n",
    "Zcuad=Qobj(S_k(2,N))**2\n",
    "\n",
    "Expected_Operators= [Qobj(S_k(0,n)),Qobj(S_k(1,n)),Qobj(S_k(2,n)),Xcuad,Ycuad,Zcuad]\n",
    "\n",
    "\n",
    "#Gamma_phi_C=Gamma_phi\n",
    "#Gamma_C=Gamma_decay\n",
    "\n",
    "#  Collapsing_Operators= [np.sqrt(Gamma_phi_C)*Qobj(S_k(2,N)),np.sqrt(Gamma_C)*Qobj(S_k(\"-\",N))]  #Collective\n",
    "\n",
    "\n",
    "result1 = mesolve(H, psi0, times, Collapsing_Operators, Expected_Operators)\n"
   ]
  },
  {
   "cell_type": "code",
   "execution_count": null,
   "metadata": {},
   "outputs": [],
   "source": [
    "fig, ax = plt.subplots()\n",
    "\n",
    "plt.title(\"Comparisons between DDTWA (full algebra) and Foss et al. for <$S_k$>\")\n",
    "\n",
    "\n",
    "\n",
    "plt.plot(times,(Result_varDDTWA[0]),label=\"DDTWA $S_x$\")\n",
    "plt.plot(times,(Result_varDDTWA[1]),label=\"DDTWA $S_y$\")\n",
    "plt.plot(times,(Result_varDDTWA[2]),label=\"DDTWA $S_z$\")\n",
    "\n",
    "ax.plot(times, result1.expect[0],label=\"Qutip $S_x$\")\n",
    "ax.plot(times, result1.expect[1],label=\"Qutip $S_y$\")\n",
    "ax.plot(times, result1.expect[2],label=\"Qutip $S_z$\")\n",
    "\n",
    "#plt.plot(times,(N/2)*(p0_gen(times) + np.conjugate(p0_gen(times)) ),\"--\",label=\"Analytic $S_x$\")\n",
    "#plt.plot(times,-(N/2)*1j*(-p0_gen(times) + np.conjugate(p0_gen(times)) ),\"--\",label=\"Analytic $S_y$\")\n",
    "#plt.plot(times,(N/2)*z0_gen(times),\"--\",label=\"Analytic $S_z$\",c=\"k\")\n",
    "\n",
    "plt.legend(loc=\"upper right\")\n"
   ]
  },
  {
   "cell_type": "code",
   "execution_count": null,
   "metadata": {},
   "outputs": [],
   "source": []
  },
  {
   "cell_type": "code",
   "execution_count": null,
   "metadata": {},
   "outputs": [],
   "source": [
    "plt.title(\"Comparisons between DDTWA with full algebra and factorization for $(\\Delta S_k)^2$\")\n",
    "\n",
    "matplotlib.rcParams['font.size'] = 12\n",
    "varX=(N/4)+(N*(N-1)/2)*( np.real(pp_gen(times)) + np.real(pm_gen(times)))-(N**2)*(np.real(p0_gen(times)))**2\n",
    "varY=(N/4)+(N*(N-1)/2)*( -np.real(pp_gen(times)) + np.real(pm_gen(times)))-(N**2)*(np.imag(p0_gen(times)))**2\n",
    "varZ=(N/4)*(1-(z0_gen(times))**2)\n",
    "\n",
    "\n",
    "\n",
    "\n",
    "#plt.plot(times,varX,label=\"$(\\Delta S_x)^2$ Analytic\")\n",
    "#plt.plot(times,varY,label=\"$(\\Delta S_y)^2$ Analytic\")\n",
    "#plt.plot(times,varZ,label=\"$(\\Delta S_z)^2$ Analytic\")\n",
    "\n",
    "\n",
    "\n",
    "plt.plot(times, result1.expect[3]-(result1.expect[0])**2,label=\"$(\\Delta S_x)^2$ Qutip\")\n",
    "plt.plot(times, result1.expect[4]-(result1.expect[1])**2,label=\"$(\\Delta S_y)^2$ Qutip\")\n",
    "plt.plot(times, result1.expect[5]-(result1.expect[2])**2,label=\"$(\\Delta S_z)^2$ Qutip\")\n",
    "\n",
    "ax=N/4+  Result_varDDTWA[3+0]-(Result_varDDTWA[0])**2\n",
    "ay=N/4+  Result_varDDTWA[3+1]-(Result_varDDTWA[1])**2\n",
    "az=N/4+  Result_varDDTWA[3+2]-(Result_varDDTWA[2])**2\n",
    "\n",
    "plt.plot(times,ax1,\"-.\",label=\"DDTWA $(\\Delta S_x)^2 $ factorization\")\n",
    "plt.plot(times,ay1,\"-.\",label=\"DDTWA $(\\Delta S_y)^2 $ factorization\")\n",
    "plt.plot(times,az1,\"-.\",label=\"DDTWA $(\\Delta S_z)^2 $ factorization\")\n",
    "\n",
    "\n",
    "plt.plot(times,ax,\"--\",label=\"DDTWA $(\\Delta S_x)^2$ full-algebra\")\n",
    "plt.plot(times,ay,\"--\",label=\"DDTWA $(\\Delta S_y)^2$  full-algebra\")\n",
    "plt.plot(times,az,\"--\",label=\"DDTWA $(\\Delta S_z)^2$  full-algebra\")\n",
    "\n",
    "plt.xlabel(\"Jt\")\n",
    "plt.ylabel(\"$(\\Delta S_k)^2$\")\n",
    "\n",
    "plt.legend(loc=\"center right\")"
   ]
  },
  {
   "cell_type": "code",
   "execution_count": null,
   "metadata": {},
   "outputs": [],
   "source": []
  },
  {
   "cell_type": "code",
   "execution_count": null,
   "metadata": {},
   "outputs": [],
   "source": []
  },
  {
   "cell_type": "code",
   "execution_count": null,
   "metadata": {},
   "outputs": [],
   "source": [
    "plt.title(\"Delta\")\n",
    "\n",
    "matplotlib.rcParams['font.size'] = 15\n",
    "varX=(N/4)+(N*(N-1)/2)*( np.real(pp_gen(times)) + np.real(pm_gen(times)))-(N**2)*(np.real(p0_gen(times)))**2\n",
    "varY=(N/4)+(N*(N-1)/2)*( -np.real(pp_gen(times)) + np.real(pm_gen(times)))-(N**2)*(np.imag(p0_gen(times)))**2\n",
    "varZ=(N/4)*(1-(z0_gen(times))**2)\n",
    "\n",
    "Qutx=result1.expect[3]-(result1.expect[0])**2\n",
    "Quty=result1.expect[4]-(result1.expect[1])**2\n",
    "Qutz=result1.expect[5]-(result1.expect[2])**2\n",
    "\n",
    "\n",
    "ax=N/4+  Result_varDDTWA[3+0]-(Result_varDDTWA[0])**2\n",
    "ay=N/4+  Result_varDDTWA[3+1]-(Result_varDDTWA[1])**2\n",
    "az=N/4+  Result_varDDTWA[3+2]-(Result_varDDTWA[2])**2\n",
    "\n",
    "plt.plot(times,np.abs(ax1-Qutx),\"--\",label=\"DDTWA $(\\Delta S_x)^2 $ factorization\")\n",
    "plt.plot(times,np.abs(ax-Qutx),label=\"$(\\Delta S_x)^2$ DDTWA full-algebra\")\n",
    "\n",
    "#plt.plot(times,np.abs(ay1-Quty),\"--\",label=\"DDTWA $(\\Delta S_y)^2 $ factorization\")\n",
    "#plt.plot(times,np.abs(ay-Quty),label=\"$(\\Delta S_y)^2$ DDTWA full-algebra\")\n",
    "\n",
    "\n",
    "#plt.plot(times,np.abs(az1-Qutz),\"--\",label=\"DDTWA $(\\Delta S_z)^2 $ factorization\")\n",
    "#plt.plot(times,np.abs(az-Qutz),label=\"$(\\Delta S_z)^2$ DDTWA full-algebra\")\n",
    "\n",
    "plt.xlabel(\"Jt\")\n",
    "plt.ylabel(\"$(\\Delta S_k)^2$\")\n",
    "\n",
    "plt.legend(loc=\"upper right\")"
   ]
  },
  {
   "cell_type": "code",
   "execution_count": null,
   "metadata": {},
   "outputs": [],
   "source": [
    "plt.title(\"Comparison of $\\delta_{Est}=\\sum  |(\\Delta S_i)^2_{QuTiP}-(\\Delta S_i)^2_{Est}|$ for full algebra and factorization\")\n",
    "\n",
    "plt.plot(times,np.abs(ax1-Qutx)+np.abs(ay1-Quty)+np.abs(az1-Qutz),\"-.\",label=\"$\\delta_{Est}$ Factorization\")\n",
    "plt.plot(times,np.abs(ax-Qutx)+np.abs(ay-Quty)+np.abs(az-Qutz),label=\"$\\delta_{Est}$ Full-algebra\")\n",
    "\n",
    "\n",
    "plt.xlabel(\"Jt\")\n",
    "plt.ylabel(\"$\\delta_{Est}$\")\n",
    "\n",
    "plt.legend()"
   ]
  },
  {
   "cell_type": "code",
   "execution_count": null,
   "metadata": {},
   "outputs": [],
   "source": []
  },
  {
   "cell_type": "code",
   "execution_count": null,
   "metadata": {},
   "outputs": [],
   "source": []
  },
  {
   "cell_type": "code",
   "execution_count": null,
   "metadata": {},
   "outputs": [],
   "source": []
  },
  {
   "cell_type": "code",
   "execution_count": null,
   "metadata": {},
   "outputs": [],
   "source": []
  },
  {
   "cell_type": "code",
   "execution_count": 799,
   "metadata": {},
   "outputs": [],
   "source": [
    "varX=(N/4)+(N*(N-1)/2)*( np.real(pp_gen(times)) + np.real(pm_gen(times)))-(N**2)*(np.real(p0_gen(times)))**2\n",
    "varY=(N/4)+(N*(N-1)/2)*( -np.real(pp_gen(times)) + np.real(pm_gen(times)))-(N**2)*(np.imag(p0_gen(times)))**2\n",
    "varZ=(N/4)*(1-(z0_gen(times))**2)\n",
    "\n",
    "\n",
    "sixsjx=2*(np.real( pp_gen(times) )  + np.real( pm_gen(times) ) )"
   ]
  },
  {
   "cell_type": "code",
   "execution_count": 800,
   "metadata": {},
   "outputs": [
    {
     "data": {
      "text/plain": [
       "[<matplotlib.lines.Line2D at 0x24bcf6d3f70>]"
      ]
     },
     "execution_count": 800,
     "metadata": {},
     "output_type": "execute_result"
    },
    {
     "data": {
      "image/png": "[encoded data removed]",
      "text/plain": [
       "<Figure size 792x576 with 1 Axes>"
      ]
     },
     "metadata": {
      "needs_background": "light"
     },
     "output_type": "display_data"
    }
   ],
   "source": [
    "plt.plot(times,np.real(sixsjx))"
   ]
  },
  {
   "cell_type": "code",
   "execution_count": null,
   "metadata": {},
   "outputs": [],
   "source": []
  },
  {
   "cell_type": "code",
   "execution_count": null,
   "metadata": {},
   "outputs": [],
   "source": []
  },
  {
   "cell_type": "code",
   "execution_count": null,
   "metadata": {},
   "outputs": [],
   "source": []
  },
  {
   "cell_type": "code",
   "execution_count": null,
   "metadata": {},
   "outputs": [],
   "source": []
  },
  {
   "cell_type": "code",
   "execution_count": null,
   "metadata": {},
   "outputs": [],
   "source": []
  },
  {
   "cell_type": "code",
   "execution_count": null,
   "metadata": {},
   "outputs": [],
   "source": []
  },
  {
   "cell_type": "code",
   "execution_count": null,
   "metadata": {},
   "outputs": [],
   "source": []
  },
  {
   "cell_type": "code",
   "execution_count": null,
   "metadata": {},
   "outputs": [],
   "source": []
  },
  {
   "cell_type": "code",
   "execution_count": null,
   "metadata": {},
   "outputs": [],
   "source": []
  },
  {
   "cell_type": "code",
   "execution_count": null,
   "metadata": {},
   "outputs": [],
   "source": []
  },
  {
   "cell_type": "code",
   "execution_count": null,
   "metadata": {},
   "outputs": [],
   "source": []
  },
  {
   "cell_type": "code",
   "execution_count": null,
   "metadata": {},
   "outputs": [],
   "source": []
  },
  {
   "cell_type": "code",
   "execution_count": null,
   "metadata": {},
   "outputs": [],
   "source": []
  },
  {
   "cell_type": "code",
   "execution_count": null,
   "metadata": {},
   "outputs": [],
   "source": []
  },
  {
   "cell_type": "code",
   "execution_count": null,
   "metadata": {},
   "outputs": [],
   "source": []
  },
  {
   "cell_type": "code",
   "execution_count": null,
   "metadata": {},
   "outputs": [],
   "source": []
  },
  {
   "cell_type": "code",
   "execution_count": null,
   "metadata": {},
   "outputs": [],
   "source": []
  },
  {
   "cell_type": "code",
   "execution_count": null,
   "metadata": {},
   "outputs": [],
   "source": []
  },
  {
   "cell_type": "code",
   "execution_count": null,
   "metadata": {},
   "outputs": [],
   "source": []
  },
  {
   "cell_type": "code",
   "execution_count": null,
   "metadata": {},
   "outputs": [],
   "source": []
  },
  {
   "cell_type": "code",
   "execution_count": null,
   "metadata": {},
   "outputs": [],
   "source": []
  },
  {
   "cell_type": "code",
   "execution_count": null,
   "metadata": {},
   "outputs": [],
   "source": []
  },
  {
   "cell_type": "code",
   "execution_count": null,
   "metadata": {},
   "outputs": [],
   "source": []
  },
  {
   "cell_type": "code",
   "execution_count": null,
   "metadata": {},
   "outputs": [],
   "source": []
  },
  {
   "cell_type": "code",
   "execution_count": null,
   "metadata": {},
   "outputs": [],
   "source": []
  },
  {
   "cell_type": "code",
   "execution_count": null,
   "metadata": {},
   "outputs": [],
   "source": []
  },
  {
   "cell_type": "code",
   "execution_count": null,
   "metadata": {},
   "outputs": [],
   "source": []
  },
  {
   "cell_type": "code",
   "execution_count": null,
   "metadata": {},
   "outputs": [],
   "source": []
  },
  {
   "cell_type": "code",
   "execution_count": null,
   "metadata": {},
   "outputs": [],
   "source": []
  },
  {
   "cell_type": "code",
   "execution_count": null,
   "metadata": {},
   "outputs": [],
   "source": []
  },
  {
   "cell_type": "code",
   "execution_count": null,
   "metadata": {},
   "outputs": [],
   "source": []
  },
  {
   "cell_type": "code",
   "execution_count": null,
   "metadata": {},
   "outputs": [],
   "source": []
  },
  {
   "cell_type": "code",
   "execution_count": null,
   "metadata": {},
   "outputs": [],
   "source": []
  },
  {
   "cell_type": "code",
   "execution_count": null,
   "metadata": {},
   "outputs": [],
   "source": []
  },
  {
   "cell_type": "code",
   "execution_count": null,
   "metadata": {},
   "outputs": [],
   "source": []
  },
  {
   "cell_type": "code",
   "execution_count": null,
   "metadata": {},
   "outputs": [],
   "source": []
  },
  {
   "cell_type": "code",
   "execution_count": null,
   "metadata": {},
   "outputs": [],
   "source": []
  },
  {
   "cell_type": "code",
   "execution_count": null,
   "metadata": {},
   "outputs": [],
   "source": []
  },
  {
   "cell_type": "code",
   "execution_count": null,
   "metadata": {},
   "outputs": [],
   "source": []
  },
  {
   "cell_type": "code",
   "execution_count": null,
   "metadata": {},
   "outputs": [],
   "source": []
  },
  {
   "cell_type": "code",
   "execution_count": null,
   "metadata": {},
   "outputs": [],
   "source": []
  },
  {
   "cell_type": "code",
   "execution_count": null,
   "metadata": {},
   "outputs": [],
   "source": []
  },
  {
   "cell_type": "code",
   "execution_count": null,
   "metadata": {},
   "outputs": [],
   "source": []
  },
  {
   "cell_type": "code",
   "execution_count": null,
   "metadata": {},
   "outputs": [],
   "source": []
  },
  {
   "cell_type": "code",
   "execution_count": null,
   "metadata": {},
   "outputs": [],
   "source": []
  },
  {
   "cell_type": "code",
   "execution_count": null,
   "metadata": {},
   "outputs": [],
   "source": []
  },
  {
   "cell_type": "code",
   "execution_count": null,
   "metadata": {},
   "outputs": [],
   "source": []
  },
  {
   "cell_type": "code",
   "execution_count": null,
   "metadata": {},
   "outputs": [],
   "source": []
  },
  {
   "cell_type": "code",
   "execution_count": null,
   "metadata": {},
   "outputs": [],
   "source": []
  },
  {
   "cell_type": "code",
   "execution_count": null,
   "metadata": {},
   "outputs": [],
   "source": []
  },
  {
   "cell_type": "code",
   "execution_count": null,
   "metadata": {},
   "outputs": [],
   "source": []
  },
  {
   "cell_type": "code",
   "execution_count": null,
   "metadata": {},
   "outputs": [],
   "source": []
  },
  {
   "cell_type": "code",
   "execution_count": null,
   "metadata": {},
   "outputs": [],
   "source": []
  },
  {
   "cell_type": "code",
   "execution_count": 252,
   "metadata": {},
   "outputs": [
    {
     "ename": "AttributeError",
     "evalue": "'function' object has no attribute 'expect'",
     "output_type": "error",
     "traceback": [
      "\u001b[1;31m---------------------------------------------------------------------------\u001b[0m",
      "\u001b[1;31mAttributeError\u001b[0m                            Traceback (most recent call last)",
      "\u001b[1;32m<ipython-input-252-987ef9133de1>\u001b[0m in \u001b[0;36m<module>\u001b[1;34m\u001b[0m\n\u001b[0;32m      3\u001b[0m \u001b[1;31m#ax.plot(times, result.expect[1])\u001b[0m\u001b[1;33m\u001b[0m\u001b[1;33m\u001b[0m\u001b[1;33m\u001b[0m\u001b[0m\n\u001b[0;32m      4\u001b[0m \u001b[1;31m#ax.plot(times, result.expect[2])\u001b[0m\u001b[1;33m\u001b[0m\u001b[1;33m\u001b[0m\u001b[1;33m\u001b[0m\u001b[0m\n\u001b[1;32m----> 5\u001b[1;33m \u001b[0max\u001b[0m\u001b[1;33m.\u001b[0m\u001b[0mplot\u001b[0m\u001b[1;33m(\u001b[0m\u001b[0mtimes1\u001b[0m\u001b[1;33m,\u001b[0m \u001b[0mresult\u001b[0m\u001b[1;33m.\u001b[0m\u001b[0mexpect\u001b[0m\u001b[1;33m[\u001b[0m\u001b[1;36m3\u001b[0m\u001b[1;33m]\u001b[0m\u001b[1;33m-\u001b[0m\u001b[1;33m(\u001b[0m\u001b[0mresult\u001b[0m\u001b[1;33m.\u001b[0m\u001b[0mexpect\u001b[0m\u001b[1;33m[\u001b[0m\u001b[1;36m0\u001b[0m\u001b[1;33m]\u001b[0m\u001b[1;33m)\u001b[0m\u001b[1;33m**\u001b[0m\u001b[1;36m2\u001b[0m\u001b[1;33m)\u001b[0m\u001b[1;33m\u001b[0m\u001b[1;33m\u001b[0m\u001b[0m\n\u001b[0m\u001b[0;32m      6\u001b[0m \u001b[0max\u001b[0m\u001b[1;33m.\u001b[0m\u001b[0mplot\u001b[0m\u001b[1;33m(\u001b[0m\u001b[0mtimes1\u001b[0m\u001b[1;33m,\u001b[0m \u001b[0mresult\u001b[0m\u001b[1;33m.\u001b[0m\u001b[0mexpect\u001b[0m\u001b[1;33m[\u001b[0m\u001b[1;36m4\u001b[0m\u001b[1;33m]\u001b[0m\u001b[1;33m-\u001b[0m\u001b[1;33m(\u001b[0m\u001b[0mresult\u001b[0m\u001b[1;33m.\u001b[0m\u001b[0mexpect\u001b[0m\u001b[1;33m[\u001b[0m\u001b[1;36m1\u001b[0m\u001b[1;33m]\u001b[0m\u001b[1;33m)\u001b[0m\u001b[1;33m**\u001b[0m\u001b[1;36m2\u001b[0m\u001b[1;33m)\u001b[0m\u001b[1;33m\u001b[0m\u001b[1;33m\u001b[0m\u001b[0m\n\u001b[0;32m      7\u001b[0m \u001b[0max\u001b[0m\u001b[1;33m.\u001b[0m\u001b[0mplot\u001b[0m\u001b[1;33m(\u001b[0m\u001b[0mtimes1\u001b[0m\u001b[1;33m,\u001b[0m \u001b[0mresult\u001b[0m\u001b[1;33m.\u001b[0m\u001b[0mexpect\u001b[0m\u001b[1;33m[\u001b[0m\u001b[1;36m5\u001b[0m\u001b[1;33m]\u001b[0m\u001b[1;33m-\u001b[0m\u001b[1;33m(\u001b[0m\u001b[0mresult\u001b[0m\u001b[1;33m.\u001b[0m\u001b[0mexpect\u001b[0m\u001b[1;33m[\u001b[0m\u001b[1;36m2\u001b[0m\u001b[1;33m]\u001b[0m\u001b[1;33m)\u001b[0m\u001b[1;33m**\u001b[0m\u001b[1;36m2\u001b[0m\u001b[1;33m)\u001b[0m\u001b[1;33m\u001b[0m\u001b[1;33m\u001b[0m\u001b[0m\n",
      "\u001b[1;31mAttributeError\u001b[0m: 'function' object has no attribute 'expect'"
     ]
    },
    {
     "data": {
      "image/png": "[encoded data removed]",
      "text/plain": [
       "<Figure size 792x576 with 1 Axes>"
      ]
     },
     "metadata": {
      "needs_background": "light"
     },
     "output_type": "display_data"
    }
   ],
   "source": [
    "\n",
    "fig, ax = plt.subplots()\n",
    "#ax.plot(times, result.expect[0])\n",
    "#ax.plot(times, result.expect[1])\n",
    "#ax.plot(times, result.expect[2])\n",
    "ax.plot(times1, result.expect[3]-(result.expect[0])**2)\n",
    "ax.plot(times1, result.expect[4]-(result.expect[1])**2)\n",
    "ax.plot(times1, result.expect[5]-(result.expect[2])**2)\n",
    "\n",
    "\n",
    "\n",
    "ax.set_xlabel('Time')\n",
    "ax.set_ylabel('Expectation values')\n",
    "ax.legend((\"VarX\", \"VarY\",\"VarZ\",))\n",
    "\n",
    "#plt.plot(times,(N/2)*(p0_gen(times) + np.conjugate(p0_gen(times)) ),\"-.\",label=\"Analytic\")\n",
    "#varX=(N/4)+(N*(N-1)/2)*( np.real(pp_gen(times1)) + np.real(pm_gen(times1)))-(N**2)*(np.real(p0_gen(times1)))**2\n",
    "#varY=(N/4)+(N*(N-1)/2)*( -np.real(pp_gen(times1)) + np.real(pm_gen(times1)))-(N**2)*(np.imag(p0_gen(times1)))**2\n",
    "#varZ=(N/4)*(1-(z0_gen(times1))**2)\n",
    "\n",
    "\n",
    "\n",
    "\n",
    "#plt.plot(times1,varX,\"--\",label=\"$(\\Delta S_x)^2$ analytic\")\n",
    "#plt.plot(times1,varY,\"--\",label=\"$(\\Delta S_y)^2$ analytic\")\n",
    "#plt.plot(times1,varZ,\"--\",label=\"$(\\Delta S_z)^2$ analytic\")\n",
    "\n",
    "plt.show()\n",
    "\n"
   ]
  },
  {
   "cell_type": "code",
   "execution_count": null,
   "metadata": {},
   "outputs": [],
   "source": []
  },
  {
   "cell_type": "code",
   "execution_count": null,
   "metadata": {},
   "outputs": [],
   "source": []
  },
  {
   "cell_type": "code",
   "execution_count": null,
   "metadata": {},
   "outputs": [],
   "source": []
  },
  {
   "cell_type": "code",
   "execution_count": null,
   "metadata": {},
   "outputs": [],
   "source": [
    "fig, ax = plt.subplots()\n",
    "\n",
    "plt.plot(times,(Result_varDDTWA[0]),label=\"DDTWA $S_x$\")\n",
    "plt.plot(times,(Result_varDDTWA[1]),label=\"DDTWA $S_y$\")\n",
    "plt.plot(times,(Result_varDDTWA[2]),label=\"DDTWA $S_z$\")\n",
    "\n",
    "ax.plot(times, result.expect[0],label=\"Qutip $S_x$\")\n",
    "ax.plot(times, result.expect[1],label=\"Qutip $S_x$\")\n",
    "ax.plot(times, result.expect[2],label=\"Qutip $S_x$\")\n"
   ]
  },
  {
   "cell_type": "code",
   "execution_count": null,
   "metadata": {},
   "outputs": [],
   "source": []
  },
  {
   "cell_type": "code",
   "execution_count": null,
   "metadata": {},
   "outputs": [],
   "source": []
  },
  {
   "cell_type": "code",
   "execution_count": null,
   "metadata": {},
   "outputs": [],
   "source": []
  },
  {
   "cell_type": "code",
   "execution_count": null,
   "metadata": {},
   "outputs": [],
   "source": []
  },
  {
   "cell_type": "code",
   "execution_count": null,
   "metadata": {},
   "outputs": [],
   "source": []
  },
  {
   "cell_type": "code",
   "execution_count": null,
   "metadata": {},
   "outputs": [],
   "source": []
  },
  {
   "cell_type": "code",
   "execution_count": null,
   "metadata": {},
   "outputs": [],
   "source": []
  },
  {
   "cell_type": "code",
   "execution_count": null,
   "metadata": {},
   "outputs": [],
   "source": []
  },
  {
   "cell_type": "code",
   "execution_count": null,
   "metadata": {},
   "outputs": [],
   "source": []
  },
  {
   "cell_type": "code",
   "execution_count": null,
   "metadata": {},
   "outputs": [],
   "source": []
  },
  {
   "cell_type": "code",
   "execution_count": null,
   "metadata": {},
   "outputs": [],
   "source": []
  },
  {
   "cell_type": "code",
   "execution_count": null,
   "metadata": {},
   "outputs": [],
   "source": []
  },
  {
   "cell_type": "code",
   "execution_count": null,
   "metadata": {},
   "outputs": [],
   "source": []
  },
  {
   "cell_type": "code",
   "execution_count": null,
   "metadata": {},
   "outputs": [],
   "source": []
  },
  {
   "cell_type": "code",
   "execution_count": null,
   "metadata": {},
   "outputs": [],
   "source": []
  },
  {
   "cell_type": "code",
   "execution_count": null,
   "metadata": {},
   "outputs": [],
   "source": []
  },
  {
   "cell_type": "code",
   "execution_count": null,
   "metadata": {},
   "outputs": [],
   "source": []
  },
  {
   "cell_type": "code",
   "execution_count": null,
   "metadata": {},
   "outputs": [],
   "source": []
  },
  {
   "cell_type": "code",
   "execution_count": null,
   "metadata": {},
   "outputs": [],
   "source": []
  },
  {
   "cell_type": "code",
   "execution_count": null,
   "metadata": {},
   "outputs": [],
   "source": []
  },
  {
   "cell_type": "code",
   "execution_count": null,
   "metadata": {},
   "outputs": [],
   "source": []
  },
  {
   "cell_type": "code",
   "execution_count": null,
   "metadata": {},
   "outputs": [],
   "source": []
  },
  {
   "cell_type": "code",
   "execution_count": null,
   "metadata": {},
   "outputs": [],
   "source": []
  },
  {
   "cell_type": "code",
   "execution_count": null,
   "metadata": {},
   "outputs": [],
   "source": []
  },
  {
   "cell_type": "code",
   "execution_count": null,
   "metadata": {},
   "outputs": [],
   "source": []
  },
  {
   "cell_type": "code",
   "execution_count": null,
   "metadata": {},
   "outputs": [],
   "source": []
  },
  {
   "cell_type": "code",
   "execution_count": null,
   "metadata": {},
   "outputs": [],
   "source": []
  },
  {
   "cell_type": "code",
   "execution_count": null,
   "metadata": {},
   "outputs": [],
   "source": []
  },
  {
   "cell_type": "code",
   "execution_count": null,
   "metadata": {},
   "outputs": [],
   "source": []
  },
  {
   "cell_type": "code",
   "execution_count": null,
   "metadata": {},
   "outputs": [],
   "source": [
    "gammaplus=Gamma_du/2\n",
    "gammaminus=Gamma_decay/2\n",
    "gammaz=Gamma_phi/4\n",
    "\n",
    "\n",
    "Gamma_ud=2*gammaplus\n",
    "Gamma_du=2*gammaminus\n",
    "Gamma_el=8*gammaz\n",
    "\n",
    "Gamma_r=Gamma_ud+Gamma_du+1e-8\n",
    "\n",
    "\n",
    "gamma=(Gamma_ud-Gamma_du)/4\n",
    "\n",
    "Tot=Gamma_r+Gamma_el\n",
    "\n",
    "lamda=Gamma_r/2\n",
    "\n",
    "J01=J\n",
    "\n",
    "\n",
    "s=2*1j*gamma+2*J01/N\n",
    "r=Gamma_ud*Gamma_du\n",
    "\n",
    "def p0_gen(t):\n",
    "    return  0.5*np.exp(-Tot*t/2)*( np.exp(-lamda*t)*( np.cos(t*(s**2-r)**0.5) +  lamda*np.sin(t*(s**2-r)**0.5)/((s**2-r)**0.5)) )**(N-1)\n",
    "\n",
    "def z0_gen(t):\n",
    "    return 2*(Gamma_ud-Gamma_du)/(Gamma_ud+Gamma_du+1e-8)*np.exp(-Gamma_r*t/2)*np.sinh(Gamma_r*t/2) "
   ]
  },
  {
   "cell_type": "code",
   "execution_count": null,
   "metadata": {},
   "outputs": [],
   "source": []
  },
  {
   "cell_type": "code",
   "execution_count": null,
   "metadata": {},
   "outputs": [],
   "source": [
    "matplotlib.rcParams['figure.figsize'] = (11.0, 8.0)\n",
    "index=2\n",
    "\n",
    "plt.plot(times,N/4+  Result_varDDTWA[3+index]-(Result_varDDTWA[index])**2,label=\"DDTWA\")\n",
    "plt.plot(times,N/4+  Result_varDTWA[3+index]-(Result_varDTWA[index])**2,label=\"DTWA\")\n",
    "plt.plot(times,(N/4)*(1-(z0_gen(times))**2),\"--\",label=\"Analytic\")\n",
    "\n",
    "plt.legend()"
   ]
  },
  {
   "cell_type": "code",
   "execution_count": null,
   "metadata": {},
   "outputs": [],
   "source": [
    "matplotlib.rcParams['figure.figsize'] = (11.0, 8.0)\n",
    "\n",
    "\n",
    "plt.plot(times,N/4+  Result_varDDTWA[3+0]-(Result_varDDTWA[0])**2,label=\"DDTWA $(\\Delta S_x)^2$\")\n",
    "plt.plot(times,N/4+  Result_varDDTWA[3+1]-(Result_varDDTWA[1])**2,label=\"DDTWA $(\\Delta S_y)^2$\")\n",
    "plt.plot(times,N/4+  Result_varDDTWA[3+2]-(Result_varDDTWA[2])**2,label=\"DDTWA $(\\Delta S_z)^2$\")\n",
    "\n",
    "\n",
    "\n",
    "plt.plot(times,N/4+  Result_varDTWA[3+0]-(Result_varDTWA[0])**2,label=\"DTWA $(\\Delta S_x)^2$\")\n",
    "plt.plot(times,N/4+  Result_varDTWA[3+1]-(Result_varDTWA[1])**2,label=\"DTWA $(\\Delta S_y)^2$\")\n",
    "plt.plot(times,N/4+  Result_varDTWA[3+2]-(Result_varDTWA[2])**2,label=\"DTWA $(\\Delta S_z)^2$\")\n",
    "\n",
    "plt.legend()"
   ]
  },
  {
   "cell_type": "code",
   "execution_count": null,
   "metadata": {},
   "outputs": [],
   "source": []
  },
  {
   "cell_type": "code",
   "execution_count": null,
   "metadata": {},
   "outputs": [],
   "source": []
  },
  {
   "cell_type": "code",
   "execution_count": null,
   "metadata": {},
   "outputs": [],
   "source": []
  },
  {
   "cell_type": "code",
   "execution_count": null,
   "metadata": {},
   "outputs": [],
   "source": []
  },
  {
   "cell_type": "code",
   "execution_count": null,
   "metadata": {},
   "outputs": [],
   "source": []
  },
  {
   "cell_type": "code",
   "execution_count": null,
   "metadata": {},
   "outputs": [],
   "source": []
  },
  {
   "cell_type": "code",
   "execution_count": null,
   "metadata": {},
   "outputs": [],
   "source": []
  },
  {
   "cell_type": "code",
   "execution_count": null,
   "metadata": {},
   "outputs": [],
   "source": []
  },
  {
   "cell_type": "code",
   "execution_count": null,
   "metadata": {},
   "outputs": [],
   "source": []
  },
  {
   "cell_type": "code",
   "execution_count": null,
   "metadata": {},
   "outputs": [],
   "source": [
    "spm=2*1j*gamma\n",
    "\n",
    "\n",
    "def pm_gen(t):\n",
    "    return  0.25*np.exp(-Tot*t)*( np.exp(-lamda*t)*( np.cos(t*(spm**2-r)**0.5) +  lamda*np.sin(t*(spm**2-r)**0.5)/((spm**2-r)**0.5)) )**(N-2)\n"
   ]
  },
  {
   "cell_type": "code",
   "execution_count": null,
   "metadata": {},
   "outputs": [],
   "source": [
    "Jpp=2*J\n",
    "\n",
    "spp=2*1j*gamma+2*Jpp/N\n",
    "\n",
    "\n",
    "def pp_gen(t):\n",
    "    return  0.25*np.exp(-Tot*t)*( np.exp(-lamda*t)*( np.cos(t*(spp**2-r)**0.5) +  lamda*np.sin(t*(spp**2-r)**0.5)/((spp**2-r)**0.5)) )**(N-2)\n"
   ]
  },
  {
   "cell_type": "code",
   "execution_count": null,
   "metadata": {},
   "outputs": [],
   "source": []
  },
  {
   "cell_type": "code",
   "execution_count": null,
   "metadata": {
    "scrolled": true
   },
   "outputs": [],
   "source": [
    "plt.plot(times,N/4+( (N**2-N)/2  )*(pp_gen(times)+pm_gen(times))  -(N**2)*(p0_gen(times))**2 ,label=\"Analytic\")\n",
    "plt.plot(times,N/4+  Result_varDDTWA[3+0]-(Result_varDDTWA[0])**2,label=\"DDTWA $(\\Delta S_x)^2$\")\n",
    "\n",
    "\n",
    "\n",
    "\n",
    "plt.legend()"
   ]
  },
  {
   "cell_type": "code",
   "execution_count": null,
   "metadata": {},
   "outputs": [],
   "source": []
  },
  {
   "cell_type": "code",
   "execution_count": null,
   "metadata": {},
   "outputs": [],
   "source": []
  },
  {
   "cell_type": "code",
   "execution_count": null,
   "metadata": {},
   "outputs": [],
   "source": []
  },
  {
   "cell_type": "code",
   "execution_count": null,
   "metadata": {},
   "outputs": [],
   "source": []
  },
  {
   "cell_type": "code",
   "execution_count": null,
   "metadata": {},
   "outputs": [],
   "source": []
  },
  {
   "cell_type": "code",
   "execution_count": null,
   "metadata": {},
   "outputs": [],
   "source": []
  },
  {
   "cell_type": "code",
   "execution_count": null,
   "metadata": {},
   "outputs": [],
   "source": []
  },
  {
   "cell_type": "code",
   "execution_count": null,
   "metadata": {},
   "outputs": [],
   "source": []
  },
  {
   "cell_type": "code",
   "execution_count": null,
   "metadata": {},
   "outputs": [],
   "source": []
  },
  {
   "cell_type": "code",
   "execution_count": null,
   "metadata": {},
   "outputs": [],
   "source": []
  },
  {
   "cell_type": "code",
   "execution_count": null,
   "metadata": {},
   "outputs": [],
   "source": []
  },
  {
   "cell_type": "code",
   "execution_count": null,
   "metadata": {},
   "outputs": [],
   "source": []
  },
  {
   "cell_type": "code",
   "execution_count": null,
   "metadata": {},
   "outputs": [],
   "source": []
  },
  {
   "cell_type": "code",
   "execution_count": null,
   "metadata": {},
   "outputs": [],
   "source": []
  },
  {
   "cell_type": "code",
   "execution_count": null,
   "metadata": {},
   "outputs": [],
   "source": []
  },
  {
   "cell_type": "code",
   "execution_count": null,
   "metadata": {},
   "outputs": [],
   "source": []
  },
  {
   "cell_type": "code",
   "execution_count": null,
   "metadata": {},
   "outputs": [],
   "source": []
  },
  {
   "cell_type": "code",
   "execution_count": null,
   "metadata": {},
   "outputs": [],
   "source": []
  },
  {
   "cell_type": "code",
   "execution_count": null,
   "metadata": {},
   "outputs": [],
   "source": []
  },
  {
   "cell_type": "code",
   "execution_count": null,
   "metadata": {},
   "outputs": [],
   "source": []
  },
  {
   "cell_type": "code",
   "execution_count": null,
   "metadata": {},
   "outputs": [],
   "source": []
  },
  {
   "cell_type": "code",
   "execution_count": null,
   "metadata": {},
   "outputs": [],
   "source": [
    "def cr_norm(c):\n",
    "    return (len(c)*mean(c))**2- (linalg.norm(c,2))**2"
   ]
  },
  {
   "cell_type": "code",
   "execution_count": null,
   "metadata": {},
   "outputs": [],
   "source": [
    "cr_norm([1,2,3,4])"
   ]
  },
  {
   "cell_type": "code",
   "execution_count": null,
   "metadata": {},
   "outputs": [],
   "source": []
  },
  {
   "cell_type": "code",
   "execution_count": null,
   "metadata": {},
   "outputs": [],
   "source": []
  },
  {
   "cell_type": "code",
   "execution_count": null,
   "metadata": {},
   "outputs": [],
   "source": []
  },
  {
   "cell_type": "code",
   "execution_count": null,
   "metadata": {},
   "outputs": [],
   "source": []
  },
  {
   "cell_type": "code",
   "execution_count": null,
   "metadata": {},
   "outputs": [],
   "source": []
  },
  {
   "cell_type": "code",
   "execution_count": null,
   "metadata": {},
   "outputs": [],
   "source": []
  },
  {
   "cell_type": "code",
   "execution_count": null,
   "metadata": {},
   "outputs": [],
   "source": []
  },
  {
   "cell_type": "code",
   "execution_count": null,
   "metadata": {},
   "outputs": [],
   "source": []
  },
  {
   "cell_type": "code",
   "execution_count": null,
   "metadata": {},
   "outputs": [],
   "source": []
  },
  {
   "cell_type": "code",
   "execution_count": null,
   "metadata": {},
   "outputs": [],
   "source": []
  },
  {
   "cell_type": "code",
   "execution_count": null,
   "metadata": {},
   "outputs": [],
   "source": []
  },
  {
   "cell_type": "code",
   "execution_count": null,
   "metadata": {},
   "outputs": [],
   "source": []
  },
  {
   "cell_type": "code",
   "execution_count": null,
   "metadata": {},
   "outputs": [],
   "source": []
  },
  {
   "cell_type": "code",
   "execution_count": null,
   "metadata": {},
   "outputs": [],
   "source": []
  },
  {
   "cell_type": "code",
   "execution_count": null,
   "metadata": {},
   "outputs": [],
   "source": []
  },
  {
   "cell_type": "code",
   "execution_count": null,
   "metadata": {},
   "outputs": [],
   "source": []
  },
  {
   "cell_type": "code",
   "execution_count": null,
   "metadata": {},
   "outputs": [],
   "source": [
    "import qutip\n",
    "from qutip.piqs import *\n",
    "\n",
    "import numpy as np\n",
    "from qutip import sigmax, sigmay, sigmaz,tensor, qeye, Qobj\n",
    "from qutip import basis\n",
    "from qutip import sesolve\n",
    "\n",
    "import matplotlib.pyplot as plt\n",
    "\n",
    "\n",
    "\n",
    "n=5\n",
    "\n",
    "def arraygen(n,A):\n",
    "    Arr=[]\n",
    "    for j in range(n):\n",
    "        Arr.append(A)\n",
    "    return Arr\n",
    "    \n",
    "\n",
    "\n",
    "def S_k(k,n=n):\n",
    "    \n",
    "    h=0*qeye(2**n)\n",
    "    if k==0:\n",
    "            \n",
    "        for i in range(n):\n",
    "            Arr=arraygen(n,qeye(2))\n",
    "            Arr[i]=sigmax()\n",
    "            h=np.add(h,tensor(Arr))\n",
    "    if k==1:\n",
    "        for i in range(n):\n",
    "            Arr=arraygen(n,qeye(2))\n",
    "            Arr[i]=sigmay()\n",
    "            h=np.add(h,tensor(Arr))\n",
    "    if k==2:\n",
    "        for i in range(n):\n",
    "            Arr=arraygen(n,qeye(2))\n",
    "            Arr[i]=sigmaz()\n",
    "            h=np.add(h,tensor(Arr))\n",
    "        \n",
    "    \n",
    "    return h\n",
    "    \n",
    "\n",
    "    \n",
    "import matplotlib.pyplot as plt\n",
    "import time\n",
    "\n",
    "t0=time.time()\n",
    "\n",
    "\n",
    "J=1\n",
    "Omega=0\n",
    "n=10\n",
    "\n",
    "psi_init=np.cos(np.pi/4)*(basis(2,0)+basis(2,1))\n",
    "psi0=Qobj(tensor(arraygen(n,psi_init)))\n",
    "\n",
    "H=Qobj(2*(J/n)*S_k(2,n)*S_k(2,n)+Omega*S_k(0,n))\n",
    "\n",
    "times = np.linspace(0.0, 4, 1000)\n",
    "\n",
    "\n",
    "def result():\n",
    "    return sesolve(H, psi0, times, [Qobj(S_k(0,n)/2),Qobj(S_k(1,n)/2),Qobj(S_k(2,n)/2)])\n",
    "\n",
    "\n",
    "\n",
    "\n",
    "\n",
    "t1=time.time()\n",
    "\n",
    "\n",
    "print(t1-t0)\n",
    "\n",
    "\n",
    "\n",
    "\n",
    "\n",
    "\n",
    "\n",
    "\n",
    "\n",
    "\n",
    "import qutip\n",
    "from qutip.piqs import *\n",
    "\n",
    "import numpy as np\n",
    "from qutip import sigmax, sigmay, sigmaz,tensor, qeye, Qobj\n",
    "from qutip import basis\n",
    "from qutip import sesolve\n",
    "\n",
    "import matplotlib.pyplot as plt\n",
    "\n",
    "\n",
    "\n",
    "n=5\n",
    "\n",
    "def arraygen(n,A):\n",
    "    Arr=[]\n",
    "    for j in range(n):\n",
    "        Arr.append(A)\n",
    "    return Arr\n",
    "    \n",
    "\n",
    "\n",
    "def S_k(k,n=n):\n",
    "    \n",
    "    h=0*qeye(2**n)\n",
    "    if k==0:\n",
    "            \n",
    "        for i in range(n):\n",
    "            Arr=arraygen(n,qeye(2))\n",
    "            Arr[i]=sigmax()\n",
    "            h=np.add(h,tensor(Arr))\n",
    "    if k==1:\n",
    "        for i in range(n):\n",
    "            Arr=arraygen(n,qeye(2))\n",
    "            Arr[i]=sigmay()\n",
    "            h=np.add(h,tensor(Arr))\n",
    "    if k==2:\n",
    "        for i in range(n):\n",
    "            Arr=arraygen(n,qeye(2))\n",
    "            Arr[i]=sigmaz()\n",
    "            h=np.add(h,tensor(Arr))\n",
    "        \n",
    "    \n",
    "    return h\n",
    "    \n",
    "\n",
    "    \n",
    "import matplotlib.pyplot as plt\n",
    "import time\n",
    "\n",
    "t0=time.time()\n",
    "\n",
    "\n",
    "J=1\n",
    "Omega=0\n",
    "n=10\n",
    "\n",
    "psi_init=np.cos(np.pi/4)*(basis(2,0)+basis(2,1))\n",
    "psi0=Qobj(tensor(arraygen(n,psi_init)))\n",
    "\n",
    "H=Qobj(2*(J/n)*S_k(2,n)*S_k(2,n)+Omega*S_k(0,n))\n",
    "\n",
    "times = np.linspace(0.0, 4, 1000)\n",
    "\n",
    "\n",
    "def result():\n",
    "    return sesolve(H, psi0, times, [Qobj(S_k(0,n)/2),Qobj(S_k(1,n)/2),Qobj(S_k(2,n)/2)])\n",
    "\n",
    "import qutip\n",
    "from qutip.piqs import *\n",
    "\n",
    "import numpy as np\n",
    "from qutip import sigmax, sigmay, sigmaz,tensor, qeye, Qobj\n",
    "from qutip import basis\n",
    "from qutip import sesolve\n",
    "\n",
    "import matplotlib.pyplot as plt\n",
    "\n",
    "\n",
    "\n",
    "n=5\n",
    "\n",
    "def arraygen(n,A):\n",
    "    Arr=[]\n",
    "    for j in range(n):\n",
    "        Arr.append(A)\n",
    "    return Arr\n",
    "    \n",
    "\n",
    "\n",
    "def S_k(k,n=n):\n",
    "    \n",
    "    h=0*qeye(2**n)\n",
    "    if k==0:\n",
    "            \n",
    "        for i in range(n):\n",
    "            Arr=arraygen(n,qeye(2))\n",
    "            Arr[i]=sigmax()\n",
    "            h=np.add(h,tensor(Arr))\n",
    "    if k==1:\n",
    "        for i in range(n):\n",
    "            Arr=arraygen(n,qeye(2))\n",
    "            Arr[i]=sigmay()\n",
    "            h=np.add(h,tensor(Arr))\n",
    "    if k==2:\n",
    "        for i in range(n):\n",
    "            Arr=arraygen(n,qeye(2))\n",
    "            Arr[i]=sigmaz()\n",
    "            h=np.add(h,tensor(Arr))\n",
    "        \n",
    "    \n",
    "    return h\n",
    "    \n",
    "\n",
    "    \n",
    "import matplotlib.pyplot as plt\n",
    "import time\n",
    "\n",
    "t0=time.time()\n",
    "\n",
    "\n",
    "J=1\n",
    "Omega=0\n",
    "n=10\n",
    "\n",
    "psi_init=np.cos(np.pi/4)*(basis(2,0)+basis(2,1))\n",
    "psi0=Qobj(tensor(arraygen(n,psi_init)))\n",
    "\n",
    "H=Qobj(2*(J/n)*S_k(2,n)*S_k(2,n)+Omega*S_k(0,n))\n",
    "\n",
    "times = np.linspace(0.0, 4, 1000)\n",
    "\n",
    "\n",
    "def result():\n",
    "    return sesolve(H, psi0, times, [Qobj(S_k(0,n)/2),Qobj(S_k(1,n)/2),Qobj(S_k(2,n)/2)])\n",
    "\n",
    "\n",
    "\n",
    "\n",
    "\n",
    "t1=time.time()\n",
    "\n",
    "\n",
    "print(t1-t0)\n",
    "\n",
    "\n",
    "\n",
    "t1=time.time()\n",
    "\n",
    "\n",
    "print(t1-t0)\n",
    "\n",
    "\n",
    "\n",
    "fig, ax = plt.subplots()\n",
    "ax.plot(4*times, result().expect[0])\n",
    "ax.plot(4*times, result().expect[1])\n",
    "ax.plot(4*times, result().expect[2])\n",
    "ax.set_xlabel('Time')\n",
    "ax.set_ylabel('Expectation values')\n",
    "ax.legend((\"Sigma-X\", \"Sigma-Y\",\"Sigma-Z\",))\n",
    "\n",
    "fig, ax2 = plt.subplots()\n",
    "times = np.linspace(0., T, n)\n",
    "ax2.plot(times,(Result_varDDTWA[0]),label=\"DDTWA $S_x$\")\n",
    "\n",
    "plt.show()"
   ]
  },
  {
   "cell_type": "code",
   "execution_count": null,
   "metadata": {},
   "outputs": [],
   "source": []
  },
  {
   "cell_type": "code",
   "execution_count": null,
   "metadata": {},
   "outputs": [],
   "source": []
  },
  {
   "cell_type": "code",
   "execution_count": null,
   "metadata": {},
   "outputs": [],
   "source": []
  },
  {
   "cell_type": "code",
   "execution_count": null,
   "metadata": {},
   "outputs": [],
   "source": []
  },
  {
   "cell_type": "code",
   "execution_count": null,
   "metadata": {},
   "outputs": [],
   "source": []
  },
  {
   "cell_type": "code",
   "execution_count": null,
   "metadata": {},
   "outputs": [],
   "source": []
  },
  {
   "cell_type": "code",
   "execution_count": null,
   "metadata": {},
   "outputs": [],
   "source": []
  },
  {
   "cell_type": "code",
   "execution_count": null,
   "metadata": {},
   "outputs": [],
   "source": []
  },
  {
   "cell_type": "code",
   "execution_count": null,
   "metadata": {},
   "outputs": [],
   "source": []
  },
  {
   "cell_type": "code",
   "execution_count": null,
   "metadata": {},
   "outputs": [],
   "source": []
  },
  {
   "cell_type": "code",
   "execution_count": null,
   "metadata": {},
   "outputs": [],
   "source": []
  },
  {
   "cell_type": "code",
   "execution_count": null,
   "metadata": {},
   "outputs": [],
   "source": []
  },
  {
   "cell_type": "code",
   "execution_count": null,
   "metadata": {},
   "outputs": [],
   "source": []
  },
  {
   "cell_type": "code",
   "execution_count": null,
   "metadata": {},
   "outputs": [],
   "source": []
  },
  {
   "cell_type": "code",
   "execution_count": null,
   "metadata": {},
   "outputs": [],
   "source": []
  },
  {
   "cell_type": "code",
   "execution_count": null,
   "metadata": {},
   "outputs": [],
   "source": []
  },
  {
   "cell_type": "code",
   "execution_count": null,
   "metadata": {},
   "outputs": [],
   "source": []
  },
  {
   "cell_type": "code",
   "execution_count": null,
   "metadata": {},
   "outputs": [],
   "source": [
    "\n",
    "\n",
    "\n",
    "\n",
    "gammaplus=Gamma_du/2\n",
    "gammaminus=Gamma_decay/2\n",
    "gammaz=Gamma_phi/4\n",
    "\n",
    "\n",
    "Gamma=np.array([gammaplus,gammaminus,gammaz])  #[gamma+,gamma-,gammaz]\n",
    "\n",
    "\n",
    "### Initial State\n",
    "\n",
    "\"\"\"We consider by defect that the system starts in |0> for all the spins. The user can set the initial state as well.\"\"\"\n",
    "\"\"\"Recall that |0><0|=[[1,0],[0,0]]  \"\"\"\n",
    "\n",
    "\"\"\"The benchmark suggests that our initial state should be |psi(0)>=|+>\"\"\"\n",
    "\n",
    "\n",
    "#t0=time.time()\n",
    "\n",
    "\n",
    "\n",
    "def trace(A):\n",
    "    return np.trace(A)\n",
    "\n",
    "def matmu(A,B):\n",
    "    return np.matmul(A,B)\n",
    "\n",
    "\n",
    "rho_init0=np.array([[1/2,1/2],[1/2,1/2]])    #density matrix |1><1|\n",
    "rho_init1=np.array([[1/2,1/2],[1/2,1/2]])    #density matrix |1><1|\n",
    "\n",
    "\n",
    "\n",
    "#rho_init1=np.array([[1,0],[0,0]])    #By default\n",
    "#rho_init2=np.array([[1,0],[0,0]])    #By default\n",
    "\n",
    "\n",
    "sigma_p= np.array([[0,1],[0,0]])\n",
    "sigma_m= np.array([[0,0],[1,0]])\n",
    "sigma_z= np.array([[1,0],[0,-1]])\n",
    "\n",
    "\n",
    "##Initial values one operator\n",
    "\n",
    "sp_init0=trace(matmu(rho_init0,sigma_p))\n",
    "sz_init0=trace(matmu(rho_init0,sigma_z))\n",
    "sp_init1=trace(matmu(rho_init1,sigma_p))\n",
    "sz_init1=trace(matmu(rho_init1,sigma_z))\n",
    "sm_init1=trace(matmu(rho_init1,sigma_m))\n",
    "\n",
    "\n",
    "##Initial values two-operators\n",
    "## We assume initial separability of the state\n",
    "#p0, z0, p1, z1 , p0p1, p0m1, z0p1, p0z1, z0z1 = z\n",
    "\n",
    "\n",
    "sp_initp0p1=sp_init0*sp_init1\n",
    "sz_initp0m1=sp_init0*sm_init1\n",
    "sp_initz0p1=sz_init0*sp_init1\n",
    "sz_initp0z1=sp_init0*sz_init1\n",
    "sz_initz0z1=sz_init0*sz_init1\n",
    "\n",
    "\n",
    "\n",
    "\n",
    "z0=np.array([sp_init0,sz_init0,sp_initp0p1,sz_initp0m1,sp_initz0p1,sz_initz0z1])\n",
    "\n",
    "\n",
    "\n",
    "#t1=time.time()\n",
    "\n",
    "#print(t1-t0)\n",
    "\n",
    "#t0=time.time()\n",
    "\n",
    "def cj(z): \n",
    "    return z.conjugate()\n",
    "\n",
    "def real(z): \n",
    "    return z.real\n",
    "\n",
    "def imag(z): \n",
    "    return z.imag\n",
    "\n",
    "\n",
    "def dot_p(v1,v2):\n",
    "    return np.dot(v1,v2)\n",
    "\n",
    "from numba import jit\n",
    "\n",
    "@jit\n",
    "\n",
    "    # Define the right-hand-side of the differential equation.\n",
    "def zfunc(z, t):\n",
    "    p0, z0, p0p1, p0m1,   z0p1, z0z1 = z        \n",
    "     \n",
    "    \n",
    "        \n",
    "    dp0dt=-1j*(Omega/2)*z0+2*1j*(J/N)*(N-1)*z0p1    -(Gamma[0]+Gamma[1]+4*Gamma[2])*p0\n",
    "        \n",
    "    dz0dt= 2*Omega*np.imag(p0)+2*(Gamma[0]-Gamma[1])-2*(Gamma[0]+Gamma[1])*z0  \n",
    "        \n",
    "    dp0p1dt=-1j*Omega*z0p1+4*1j*(J/N)*(N-2)*(p0p1*z0+2*(z0p1-p0*z0)*p0)    -2*(Gamma[0]+Gamma[1]+4*Gamma[2])*p0p1\n",
    "\n",
    "    dp0m1dt=-Omega*np.imag(z0p1)-2*(Gamma[0]+Gamma[1]+4*Gamma[2])*p0m1\n",
    "\n",
    "    dz0p1dt=-1j*(Omega/2)*(2*(p0p1-p0m1)+z0z1)+  2*1j*(J/N)*( p0 + (N-2)*(z0z1*p0+2*(z0p1-z0*p0)*z0) )+2*(Gamma[0]-Gamma[1])*p0   \n",
    "    dz0p1dt=dz0p1dt -(3*(Gamma[0]+Gamma[1])+4*Gamma[2])*z0p1\n",
    "            \n",
    "    dz0z1dt=  4*Omega*np.imag(z0p1)    - 4*(Gamma[1]-Gamma[0])*z0-4*(Gamma[0]+Gamma[1])*z0z1\n",
    "        \n",
    "        \n",
    "        \n",
    "        \n",
    "    return [dp0dt, dz0dt, dp0p1dt, dp0m1dt, dz0p1dt, dz0z1dt] \n",
    "\n",
    "    # Set up the inputs and call odeintz to solve the system.\n",
    "\n",
    "z, infodict = odeintz(zfunc, z0, times, full_output=1)\n",
    "    \n",
    "#t1=time.time()\n",
    "#print(t1-t0)"
   ]
  },
  {
   "cell_type": "code",
   "execution_count": null,
   "metadata": {},
   "outputs": [],
   "source": []
  },
  {
   "cell_type": "code",
   "execution_count": null,
   "metadata": {},
   "outputs": [],
   "source": [
    "matplotlib.rcParams['font.size'] = 15\n",
    "matplotlib.rcParams['figure.figsize'] = (10.0, 7.0)\n",
    "\n",
    "\n",
    "plt.plot(times,N*(Result_varDDTWA[0])/2,\"--\",label=\"<$S_x$> DDTWA\",linewidth=2.5)\n",
    "plt.plot(times,N*(Result_varDDTWA[1])/2,\"--\",label=\"<$S_y$> DDTWA\",linewidth=2.5)\n",
    "plt.plot(times,N*(Result_varDDTWA[2])/2,\"--\",label=\"<$S_z$> DDTWA\",c=\"k\",linewidth=2.5)\n",
    "\n",
    "plt.plot(times,N*(Result_varDTWA[0])/2,\"-.\",label=\"<$S_x$> DTWA\",linewidth=2.5)\n",
    "plt.plot(times,N*(Result_varDTWA[1])/2,\"-.\",label=\"<$S_y$> DTWA\",linewidth=2.5)\n",
    "plt.plot(times,N*(Result_varDTWA[2])/2,\"-.\",label=\"<$S_z$> DTWA\",c=\"k\",linewidth=2.5)\n",
    "\n",
    "\n",
    "\n",
    "plt.plot(times,(N/2)*(p0_gen(times) + np.conjugate(p0_gen(times)) ),label=\"Analytic <$S_x$>\")\n",
    "plt.plot(times,-(N/2)*1j*(-p0_gen(times) + np.conjugate(p0_gen(times)) ),label=\"Analytic <$S_y$>\")\n",
    "plt.plot(times,(N/2)*z0_gen(times),label=\"Analytic <$S_z$>\",c=\"y\")\n",
    "\n",
    "\n",
    "\n",
    "\n",
    "\n",
    "plt.xlim(0,times[-1])\n",
    "\n",
    "plt.ylim()\n",
    "\n",
    "plt.legend()"
   ]
  },
  {
   "cell_type": "code",
   "execution_count": null,
   "metadata": {},
   "outputs": [],
   "source": []
  },
  {
   "cell_type": "code",
   "execution_count": null,
   "metadata": {},
   "outputs": [],
   "source": [
    "Foss_z=(N/2)*z0_gen(times)\n",
    "\n",
    "Dist_zDDTWA=np.linalg.norm(N*(Result_varDDTWA[2])/2-Foss_z,1)\n",
    "Dist_zDTWA=np.linalg.norm(N*(Result_varDTWA[2])/2-Foss_z,1)\n",
    "Dist_zCumul=np.linalg.norm((N/2)*(z[:,1])-Foss_z,1)\n",
    "\n",
    "\n",
    "\n",
    "Foss_x=(N/2)*(p0_gen(times) + np.conjugate(p0_gen(times)) )\n",
    "\n",
    "Dist_xDDTWA=np.linalg.norm(N*(Result_varDDTWA[0])/2-Foss_x,1)\n",
    "Dist_xDTWA=np.linalg.norm(N*(Result_varDTWA[0])/2-Foss_x,1)\n",
    "Dist_xCumul=np.linalg.norm((N/2)*(z[:,0]+np.conjugate(z[:,0]))-Foss_x,1)\n",
    "\n",
    "\n",
    "\n",
    "Foss_y=-(N/2)*1j*(-p0_gen(times) + np.conjugate(p0_gen(times)) )\n",
    "\n",
    "Dist_yDDTWA=np.linalg.norm(N*(Result_varDDTWA[1])/2-Foss_y,1)\n",
    "Dist_yDTWA=np.linalg.norm(N*(Result_varDTWA[1])/2-Foss_y,1)\n",
    "Dist_yCumul=np.linalg.norm((N/2)*1j*(-z[:,0]+np.conjugate(z[:,0]))-Foss_y,1)\n",
    "\n",
    "\n",
    "Dist_DDTWA=(Dist_xDDTWA+Dist_yDDTWA+Dist_zDDTWA)\n",
    "Dist_DTWA=(Dist_xDTWA+Dist_yDTWA+Dist_zDTWA)\n",
    "Dist_Cumul="
   ]
  },
  {
   "cell_type": "code",
   "execution_count": null,
   "metadata": {},
   "outputs": [],
   "source": [
    "print(\"DDTWA \",Dist_DDTWA/n,\"  DTWA \",Dist_DTWA/n, \"   $\\Gamma_{\\phi}$\", refgamma, \"  \\Gamma\", refdecay)"
   ]
  },
  {
   "cell_type": "code",
   "execution_count": null,
   "metadata": {},
   "outputs": [],
   "source": []
  },
  {
   "cell_type": "code",
   "execution_count": null,
   "metadata": {},
   "outputs": [],
   "source": []
  },
  {
   "cell_type": "code",
   "execution_count": null,
   "metadata": {},
   "outputs": [],
   "source": []
  },
  {
   "cell_type": "code",
   "execution_count": null,
   "metadata": {},
   "outputs": [],
   "source": []
  },
  {
   "cell_type": "code",
   "execution_count": null,
   "metadata": {},
   "outputs": [],
   "source": []
  },
  {
   "cell_type": "code",
   "execution_count": null,
   "metadata": {},
   "outputs": [],
   "source": []
  },
  {
   "cell_type": "code",
   "execution_count": null,
   "metadata": {},
   "outputs": [],
   "source": []
  },
  {
   "cell_type": "code",
   "execution_count": null,
   "metadata": {},
   "outputs": [],
   "source": []
  },
  {
   "cell_type": "code",
   "execution_count": null,
   "metadata": {},
   "outputs": [],
   "source": []
  },
  {
   "cell_type": "code",
   "execution_count": null,
   "metadata": {},
   "outputs": [],
   "source": []
  },
  {
   "cell_type": "code",
   "execution_count": null,
   "metadata": {},
   "outputs": [],
   "source": []
  },
  {
   "cell_type": "code",
   "execution_count": null,
   "metadata": {},
   "outputs": [],
   "source": []
  },
  {
   "cell_type": "code",
   "execution_count": null,
   "metadata": {},
   "outputs": [],
   "source": []
  },
  {
   "cell_type": "code",
   "execution_count": null,
   "metadata": {},
   "outputs": [],
   "source": []
  },
  {
   "cell_type": "code",
   "execution_count": null,
   "metadata": {},
   "outputs": [],
   "source": []
  },
  {
   "cell_type": "code",
   "execution_count": null,
   "metadata": {},
   "outputs": [],
   "source": [
    "%timeit summary_stat(Testre,N,n)"
   ]
  },
  {
   "cell_type": "code",
   "execution_count": null,
   "metadata": {},
   "outputs": [],
   "source": [
    "%timeit trayectory(N)"
   ]
  },
  {
   "cell_type": "code",
   "execution_count": null,
   "metadata": {},
   "outputs": [],
   "source": [
    "Testre=trayectory(N)"
   ]
  },
  {
   "cell_type": "code",
   "execution_count": null,
   "metadata": {},
   "outputs": [],
   "source": [
    "Tstre"
   ]
  },
  {
   "cell_type": "code",
   "execution_count": null,
   "metadata": {},
   "outputs": [],
   "source": []
  },
  {
   "cell_type": "code",
   "execution_count": null,
   "metadata": {},
   "outputs": [],
   "source": [
    "t0=time.time()\n",
    "\n",
    "Iterations=10000\n",
    "\n",
    "\n",
    "Result=averages(Iterations,N)\n",
    "\n",
    "\n",
    "t1=time.time()\n",
    "\n",
    "print(t1-t0)"
   ]
  },
  {
   "cell_type": "code",
   "execution_count": null,
   "metadata": {},
   "outputs": [],
   "source": []
  },
  {
   "cell_type": "code",
   "execution_count": null,
   "metadata": {},
   "outputs": [],
   "source": [
    "#from numba import jit\n",
    "\n",
    "#@jit\n",
    "\n",
    "def Sk(value):\n",
    "    \n",
    "    if value==0:  \n",
    "        Sx=Result[0]\n",
    "        for j in range(1,N):\n",
    "            Sx=np.add(Sx,Result[j])\n",
    "        return Sx/2\n",
    "    elif value==1:\n",
    "        Sy=Result[N]\n",
    "        for j in range(1,N):\n",
    "            Sy=np.add(Sy,Result[j+N])\n",
    "        return Sy/2\n",
    "    elif value==2:\n",
    "        Sz=Result[2*N]\n",
    "        for j in range(1,N):\n",
    "            Sz=np.add(Sz,Result[j+2*N])\n",
    "        return Sz/2\n",
    "    \n"
   ]
  },
  {
   "cell_type": "code",
   "execution_count": null,
   "metadata": {},
   "outputs": [],
   "source": []
  },
  {
   "cell_type": "code",
   "execution_count": null,
   "metadata": {},
   "outputs": [],
   "source": [
    "\n",
    "gammaplus=Gamma_du/2\n",
    "gammaminus=Gamma_decay/2\n",
    "gammaz=Gamma_phi/4\n",
    "\n",
    "\n",
    "Gamma=np.array([gammaplus,gammaminus,gammaz])  #[gamma+,gamma-,gammaz]\n",
    "\n",
    "\n",
    "### Initial State\n",
    "\n",
    "\"\"\"We consider by defect that the system starts in |0> for all the spins. The user can set the initial state as well.\"\"\"\n",
    "\"\"\"Recall that |0><0|=[[1,0],[0,0]]  \"\"\"\n",
    "\n",
    "\"\"\"The benchmark suggests that our initial state should be |psi(0)>=|+>\"\"\"\n",
    "\n",
    "\n",
    "#t0=time.time()\n",
    "\n",
    "\n",
    "\n",
    "def trace(A):\n",
    "    return np.trace(A)\n",
    "\n",
    "def matmu(A,B):\n",
    "    return np.matmul(A,B)\n",
    "\n",
    "\n",
    "rho_init0=np.array([[1/2,1/2],[1/2,1/2]])    #density matrix |1><1|\n",
    "rho_init1=np.array([[1/2,1/2],[1/2,1/2]])    #density matrix |1><1|\n",
    "\n",
    "\n",
    "\n",
    "#rho_init1=np.array([[1,0],[0,0]])    #By default\n",
    "#rho_init2=np.array([[1,0],[0,0]])    #By default\n",
    "\n",
    "\n",
    "sigma_p= np.array([[0,1],[0,0]])\n",
    "sigma_m= np.array([[0,0],[1,0]])\n",
    "sigma_z= np.array([[1,0],[0,-1]])\n",
    "\n",
    "\n",
    "##Initial values one operator\n",
    "\n",
    "sp_init0=trace(matmu(rho_init0,sigma_p))\n",
    "sz_init0=trace(matmu(rho_init0,sigma_z))\n",
    "sp_init1=trace(matmu(rho_init1,sigma_p))\n",
    "sz_init1=trace(matmu(rho_init1,sigma_z))\n",
    "sm_init1=trace(matmu(rho_init1,sigma_m))\n",
    "\n",
    "\n",
    "##Initial values two-operators\n",
    "## We assume initial separability of the state\n",
    "#p0, z0, p1, z1 , p0p1, p0m1, z0p1, p0z1, z0z1 = z\n",
    "\n",
    "\n",
    "sp_initp0p1=sp_init0*sp_init1\n",
    "sz_initp0m1=sp_init0*sm_init1\n",
    "sp_initz0p1=sz_init0*sp_init1\n",
    "sz_initp0z1=sp_init0*sz_init1\n",
    "sz_initz0z1=sz_init0*sz_init1\n",
    "\n",
    "\n",
    "\n",
    "\n",
    "z0=np.array([sp_init0,sz_init0,sp_initp0p1,sz_initp0m1,sp_initz0p1,sz_initz0z1])\n",
    "\n",
    "\n",
    "\n",
    "#t1=time.time()\n",
    "\n",
    "#print(t1-t0)\n",
    "\n",
    "#t0=time.time()\n",
    "\n",
    "def cj(z): \n",
    "    return z.conjugate()\n",
    "\n",
    "def real(z): \n",
    "    return z.real\n",
    "\n",
    "def imag(z): \n",
    "    return z.imag\n",
    "\n",
    "\n",
    "def dot_p(v1,v2):\n",
    "    return np.dot(v1,v2)\n",
    "\n",
    "from numba import jit\n",
    "\n",
    "@jit\n",
    "\n",
    "    # Define the right-hand-side of the differential equation.\n",
    "def zfunc(z, t):\n",
    "    p0, z0, p0p1, p0m1,   z0p1, z0z1 = z        \n",
    "     \n",
    "    \n",
    "        \n",
    "    dp0dt=-1j*(Omega/2)*z0+2*1j*(J/N)*(N-1)*z0p1    -(Gamma[0]+Gamma[1]+4*Gamma[2])*p0\n",
    "        \n",
    "    dz0dt= 2*Omega*np.imag(p0)+2*(Gamma[0]-Gamma[1])-2*(Gamma[0]+Gamma[1])*z0  \n",
    "        \n",
    "    dp0p1dt=-1j*Omega*z0p1+4*1j*(J/N)*(N-2)*(p0p1*z0+2*(z0p1-p0*z0)*p0)    -2*(Gamma[0]+Gamma[1]+4*Gamma[2])*p0p1\n",
    "\n",
    "    dp0m1dt=-Omega*np.imag(z0p1)-2*(Gamma[0]+Gamma[1]+4*Gamma[2])*p0m1\n",
    "\n",
    "    dz0p1dt=-1j*(Omega/2)*(2*(p0p1-p0m1)+z0z1)+  2*1j*(J/N)*( p0 + (N-2)*(z0z1*p0+2*(z0p1-z0*p0)*z0) )+2*(Gamma[0]-Gamma[1])*p0   \n",
    "    dz0p1dt=dz0p1dt -(3*(Gamma[0]+Gamma[1])+4*Gamma[2])*z0p1\n",
    "            \n",
    "    dz0z1dt=  4*Omega*np.imag(z0p1)    - 4*(Gamma[1]-Gamma[0])*z0-4*(Gamma[0]+Gamma[1])*z0z1\n",
    "        \n",
    "        \n",
    "        \n",
    "        \n",
    "    return [dp0dt, dz0dt, dp0p1dt, dp0m1dt, dz0p1dt, dz0z1dt] \n",
    "\n",
    "    # Set up the inputs and call odeintz to solve the system.\n",
    "\n",
    "z, infodict = odeintz(zfunc, z0, times, full_output=1)\n",
    "    \n",
    "#t1=time.time()\n",
    "#print(t1-t0)"
   ]
  },
  {
   "cell_type": "code",
   "execution_count": null,
   "metadata": {},
   "outputs": [],
   "source": []
  },
  {
   "cell_type": "code",
   "execution_count": null,
   "metadata": {},
   "outputs": [],
   "source": [
    "Gamma_ud=2*gammaplus\n",
    "Gamma_du=2*gammaminus\n",
    "Gamma_el=8*gammaz\n",
    "\n",
    "Gamma_r=Gamma_ud+Gamma_du+1e-8\n",
    "\n",
    "\n",
    "gamma=(Gamma_ud-Gamma_du)/4\n",
    "\n",
    "Tot=Gamma_r+Gamma_el\n",
    "\n",
    "lamda=Gamma_r/2\n",
    "\n",
    "J01=J\n",
    "\n",
    "\n",
    "s=2*1j*gamma+2*J01/N\n",
    "r=Gamma_ud*Gamma_du\n",
    "\n",
    "def p0_gen(t):\n",
    "    return  0.5*np.exp(-Tot*t/2)*( np.exp(-lamda*t)*( np.cos(t*(s**2-r)**0.5) +  lamda*np.sin(t*(s**2-r)**0.5)/((s**2-r)**0.5)) )**(N-1)\n",
    "\n",
    "\n",
    "def z0_gen(t):\n",
    "    return 2*(Gamma_ud-Gamma_du)/(Gamma_ud+Gamma_du+1e-8)*np.exp(-Gamma_r*t/2)*np.sinh(Gamma_r*t/2) "
   ]
  },
  {
   "cell_type": "code",
   "execution_count": null,
   "metadata": {},
   "outputs": [],
   "source": []
  },
  {
   "cell_type": "markdown",
   "metadata": {},
   "source": [
    "# DTWA"
   ]
  },
  {
   "cell_type": "code",
   "execution_count": null,
   "metadata": {},
   "outputs": [],
   "source": [
    "import numpy as np\n",
    "import matplotlib.pyplot as plt\n",
    "%matplotlib inline\n",
    "\n",
    "\n",
    "\n",
    "\n",
    "from numba import jit\n",
    "\n",
    "@jit\n",
    "\n",
    "def trayectorydtwa(N=N):\n",
    "    \n",
    "    \n",
    "    \n",
    "    \n",
    "\n",
    "\n",
    "    Results =zeros((3*N, n))\n",
    "\n",
    "    for j in range(N):\n",
    "        a=(choices([-1,1]))[0]\n",
    "        b=(choices([-1,1]))[0]\n",
    "        Results[j][0]=1   #state |+>\n",
    "        Results[j+N][0]=a\n",
    "        Results[j+2*N][0]=b\n",
    "\n",
    "\n",
    "    for t in range(n-1):\n",
    "        for i in range(N): \n",
    "            Normal_VA=random.randn()#np.random.normal(0, 1)\n",
    "        \n",
    "            Results[i][t+1]     = Results[i][t]+dt*(-Gamma_phi-(Gamma_decay/2) )*Results[i][t]\n",
    "            \n",
    "            Results[i+N][t+1]   = Results[i+N][t]+dt*(-Omega*Results[i+2*N][t] -(Gamma_phi+ (Gamma_decay/2))*Results[i+N][t])\n",
    "            \n",
    "            Results[i+2*N][t+1] = Results[i+2*N][t]+dt*( Omega*Results[i+N][t] - Gamma_decay*(Results[i+2*N][t]+1) )\n",
    "            \n",
    "            for j in range(N):\n",
    "                if i!=j:\n",
    "                    Results[i][t+1]=Results[i][t+1]-2*Results[i+N][t]*(J/N)*Results[j+2*N][t]*dt\n",
    "                    Results[i+N][t+1]=Results[i+N][t+1]+ 2*Results[i][t]*(J/N)*Results[j+2*N][t]*dt\n",
    "                    \n",
    "                    \n",
    "            \n",
    "            \n",
    "    return Results\n"
   ]
  },
  {
   "cell_type": "code",
   "execution_count": null,
   "metadata": {},
   "outputs": [],
   "source": [
    "from numba import jit\n",
    "\n",
    "@jit\n",
    "\n",
    "def averagesddtwa(itera,N):\n",
    "    \n",
    "    Average=zeros((3*N, n))\n",
    "    for j in range(itera):\n",
    "        Average=add(Average,trayectorydtwa(N))\n",
    "    return Average/itera\n",
    "    "
   ]
  },
  {
   "cell_type": "code",
   "execution_count": null,
   "metadata": {},
   "outputs": [],
   "source": [
    "t0=time.time()\n",
    "\n",
    "Iterations=10000\n",
    "\n",
    "\n",
    "Resultdtwa=averagesddtwa(Iterations,N)\n",
    "\n",
    "\n",
    "t1=time.time()\n",
    "\n",
    "print(t1-t0)"
   ]
  },
  {
   "cell_type": "code",
   "execution_count": null,
   "metadata": {},
   "outputs": [],
   "source": [
    "#from numba import jit\n",
    "\n",
    "#@jit\n",
    "\n",
    "def Skdtwa(value):\n",
    "    \n",
    "    if value==0:  \n",
    "        Sx=Resultdtwa[0]\n",
    "        for j in range(1,N):\n",
    "            Sx=np.add(Sx,Resultdtwa[j])\n",
    "        return Sx/2\n",
    "    elif value==1:\n",
    "        Sy=Resultdtwa[N]\n",
    "        for j in range(1,N):\n",
    "            Sy=np.add(Sy,Resultdtwa[j+N])\n",
    "        return Sy/2\n",
    "    elif value==2:\n",
    "        Sz=Resultdtwa[2*N]\n",
    "        for j in range(1,N):\n",
    "            Sz=np.add(Sz,Resultdtwa[j+2*N])\n",
    "        return Sz/2\n",
    "    \n"
   ]
  },
  {
   "cell_type": "code",
   "execution_count": null,
   "metadata": {},
   "outputs": [],
   "source": [
    "\n",
    "\n"
   ]
  },
  {
   "cell_type": "markdown",
   "metadata": {},
   "source": [
    "# Results"
   ]
  },
  {
   "cell_type": "code",
   "execution_count": null,
   "metadata": {},
   "outputs": [],
   "source": [
    "import matplotlib.pyplot as plt\n",
    "import numpy as np\n",
    "\n",
    "\"\"\"In order to provide a better presentation of the graphs we use the rcParams options shown below.\"\"\"\n",
    "\n",
    "import matplotlib\n",
    "matplotlib.rcParams['text.usetex'] = False\n",
    "matplotlib.rcParams['mathtext.fontset'] = 'stix'\n",
    "matplotlib.rcParams['font.family'] = 'STIXGeneral'\n",
    "matplotlib.rcParams['font.size'] = 15\n",
    "matplotlib.rcParams['figure.figsize'] = (11.0, 8.0)"
   ]
  },
  {
   "cell_type": "code",
   "execution_count": null,
   "metadata": {},
   "outputs": [],
   "source": []
  },
  {
   "cell_type": "markdown",
   "metadata": {},
   "source": [
    "## Distances summary"
   ]
  },
  {
   "cell_type": "code",
   "execution_count": null,
   "metadata": {},
   "outputs": [],
   "source": [
    "plt.title(\"<$S_z$>\")\n",
    "\n",
    "plt.plot(times,(N/2)*(z[:,1]),label=\"Cumulant\")\n",
    "plt.plot(times,Sk(2),label=\"DDTWA\")\n",
    "plt.plot(times,Skdtwa(2),label=\"DTWA\")\n",
    "plt.plot(times,(N/2)*z0_gen(times),label=\"Analytic\")\n",
    "\n",
    "\n",
    "plt.legend()"
   ]
  },
  {
   "cell_type": "code",
   "execution_count": null,
   "metadata": {},
   "outputs": [],
   "source": [
    "Foss_z=(N/2)*z0_gen(times)\n",
    "\n",
    "Dist_zDDTWA=np.linalg.norm(Sk(2)-Foss_z,1)\n",
    "Dist_zDTWA=np.linalg.norm(Skdtwa(2)-Foss_z,1)\n",
    "Dist_zCumul=np.linalg.norm((N/2)*(z[:,1])-Foss_z,1)\n",
    "\n",
    "\n",
    "\n",
    "\n",
    "\n",
    "\n",
    "print(\"DDTWA \",Dist_zDDTWA/n,\"  DTWA \",Dist_zDTWA/n, \"  Cumulant \", Dist_zCumul)"
   ]
  },
  {
   "cell_type": "code",
   "execution_count": null,
   "metadata": {},
   "outputs": [],
   "source": []
  },
  {
   "cell_type": "code",
   "execution_count": null,
   "metadata": {},
   "outputs": [],
   "source": [
    "plt.title(\"<$S_x$>\")\n",
    "\n",
    "plt.plot(times,(N/2)*(z[:,0]+np.conjugate(z[:,0])),label=\"Cumulant\")\n",
    "plt.plot(times,Sk(0),label=\"DDTWA\")\n",
    "plt.plot(times,Skdtwa(0),label=\"DTWA\")\n",
    "plt.plot(times,(N/2)*(p0_gen(times) + np.conjugate(p0_gen(times)) ),label=\"Analytic\")\n",
    "\n",
    "\n",
    "plt.legend()"
   ]
  },
  {
   "cell_type": "code",
   "execution_count": null,
   "metadata": {},
   "outputs": [],
   "source": [
    "Foss_x=(N/2)*(p0_gen(times) + np.conjugate(p0_gen(times)) )\n",
    "\n",
    "Dist_xDDTWA=np.linalg.norm(Sk(0)-Foss_x,1)\n",
    "Dist_xDTWA=np.linalg.norm(Skdtwa(0)-Foss_x,1)\n",
    "Dist_xCumul=np.linalg.norm((N/2)*(z[:,0]+np.conjugate(z[:,0]))-Foss_x,1)\n",
    "\n",
    "\n",
    "\n",
    "\n",
    "\n",
    "\n",
    "print(\"DDTWA \",Dist_xDDTWA/n,\"  DTWA \",Dist_xDTWA/n, \"  Cumulant \", Dist_xCumul/n)"
   ]
  },
  {
   "cell_type": "code",
   "execution_count": null,
   "metadata": {},
   "outputs": [],
   "source": []
  },
  {
   "cell_type": "code",
   "execution_count": null,
   "metadata": {},
   "outputs": [],
   "source": [
    "plt.title(\"<$S_y$>\")\n",
    "\n",
    "plt.plot(times,(N/2)*1j*(-z[:,0]+np.conjugate(z[:,0])),label=\"Cumulant\")\n",
    "plt.plot(times,Sk(1),label=\"D$\\,$DTWA\")\n",
    "plt.plot(times,Skdtwa(1),label=\"DTWA\")\n",
    "plt.plot(times,-(N/2)*1j*(-p0_gen(times) + np.conjugate(p0_gen(times)) ),label=\"Analytic\")\n",
    "\n",
    "\n",
    "plt.legend()"
   ]
  },
  {
   "cell_type": "code",
   "execution_count": null,
   "metadata": {},
   "outputs": [],
   "source": []
  },
  {
   "cell_type": "code",
   "execution_count": null,
   "metadata": {},
   "outputs": [],
   "source": [
    "Foss_y=-(N/2)*1j*(-p0_gen(times) + np.conjugate(p0_gen(times)) )\n",
    "\n",
    "Dist_yDDTWA=np.linalg.norm(Sk(1)-Foss_y,1)\n",
    "Dist_yDTWA=np.linalg.norm(Skdtwa(1)-Foss_y,1)\n",
    "Dist_yCumul=np.linalg.norm((N/2)*1j*(-z[:,0]+np.conjugate(z[:,0]))-Foss_y,1)\n",
    "\n",
    "\n",
    "\n",
    "print(\"DDTWA \",Dist_yDDTWA/n,\"  DTWA \",Dist_yDTWA/n, \"  Cumulant \", Dist_yCumul/n)"
   ]
  },
  {
   "cell_type": "markdown",
   "metadata": {},
   "source": [
    "## Total Distance"
   ]
  },
  {
   "cell_type": "code",
   "execution_count": null,
   "metadata": {},
   "outputs": [],
   "source": [
    "Dist_DDTWA=Dist_xDDTWA+Dist_yDDTWA+Dist_zDDTWA\n",
    "Dist_DTWA=Dist_xDTWA+Dist_yDTWA+Dist_zDTWA\n",
    "Dist_Cumul=Dist_xCumul+Dist_yCumul+Dist_zCumul\n",
    "\n",
    "\n",
    "print(\"DDTWA \",Dist_DDTWA/n,\"  DTWA \",Dist_DTWA/n, \"  Cumulant \", Dist_Cumul/n, \"   $\\Gamma_{\\phi}$\", refgamma, \"  \\Gamma\", refdecay)"
   ]
  },
  {
   "cell_type": "code",
   "execution_count": null,
   "metadata": {},
   "outputs": [],
   "source": []
  },
  {
   "cell_type": "code",
   "execution_count": null,
   "metadata": {},
   "outputs": [],
   "source": []
  },
  {
   "cell_type": "code",
   "execution_count": null,
   "metadata": {},
   "outputs": [],
   "source": []
  },
  {
   "cell_type": "code",
   "execution_count": null,
   "metadata": {},
   "outputs": [],
   "source": []
  },
  {
   "cell_type": "markdown",
   "metadata": {},
   "source": [
    "DDTWA  0.14653531979630047   DTWA  0.86360335092438   Cumulant  6.73455569491864    $\\Gamma_{\\phi}$ 0.0   \\Gamma 0.05\n",
    "DDTWA  0.19402629166683236   DTWA  0.5168239017297126   Cumulant  4.638963031336165    $\\Gamma_{\\phi}$ 0.05   \\Gamma 0.05\n",
    "DDTWA  0.22244307690743054   DTWA  0.5012654150337356   Cumulant  3.2215857281920615    $\\Gamma_{\\phi}$ 0.1   \\Gamma 0.05\n",
    "DDTWA  0.06112523467017385   DTWA  0.3835364679801429   Cumulant  2.256514410306027    $\\Gamma_{\\phi}$ 0.15   \\Gamma 0.05\n",
    "DDTWA  0.11631514958704228   DTWA  0.26857363071206913   Cumulant  1.5947499950377728    $\\Gamma_{\\phi}$ 0.2   \\Gamma 0.05\n",
    "DDTWA  0.16587660426806564   DTWA  0.19442277248743203   Cumulant  1.1375699864827882    $\\Gamma_{\\phi}$ 0.25   \\Gamma 0.05\n",
    "\n",
    "DDTWA  0.31767600228096693   DTWA  1.5336851335173758   Cumulant  4.457197561597242    $\\Gamma_{\\phi}$ 0.0   \\Gamma 0.1\n",
    "DDTWA  0.32538232746933593   DTWA  1.0585822737283654   Cumulant  3.08847265536392    $\\Gamma_{\\phi}$ 0.05   \\Gamma 0.1\n",
    "DDTWA  0.19055059096098262   DTWA  0.8703811282775037   Cumulant  2.1582835782146863    $\\Gamma_{\\phi}$ 0.1   \\Gamma 0.1\n",
    "DDTWA  0.16928505382843353   DTWA  0.6916339698857314   Cumulant  1.5217310895687635    $\\Gamma_{\\phi}$ 0.15   \\Gamma 0.1\n",
    "DDTWA  0.2307662122348709   DTWA  0.49660354431608894   Cumulant  1.0829178538398088    $\\Gamma_{\\phi}$ 0.2   \\Gamma 0.1\n",
    "\n"
   ]
  },
  {
   "cell_type": "code",
   "execution_count": null,
   "metadata": {},
   "outputs": [],
   "source": []
  },
  {
   "cell_type": "code",
   "execution_count": null,
   "metadata": {},
   "outputs": [],
   "source": []
  },
  {
   "cell_type": "code",
   "execution_count": null,
   "metadata": {},
   "outputs": [],
   "source": []
  },
  {
   "cell_type": "code",
   "execution_count": null,
   "metadata": {},
   "outputs": [],
   "source": []
  },
  {
   "cell_type": "code",
   "execution_count": null,
   "metadata": {},
   "outputs": [],
   "source": []
  },
  {
   "cell_type": "code",
   "execution_count": null,
   "metadata": {},
   "outputs": [],
   "source": []
  },
  {
   "cell_type": "code",
   "execution_count": null,
   "metadata": {},
   "outputs": [],
   "source": []
  },
  {
   "cell_type": "code",
   "execution_count": null,
   "metadata": {},
   "outputs": [],
   "source": []
  },
  {
   "cell_type": "code",
   "execution_count": null,
   "metadata": {},
   "outputs": [],
   "source": []
  },
  {
   "cell_type": "code",
   "execution_count": null,
   "metadata": {},
   "outputs": [],
   "source": []
  }
 ],
 "metadata": {
  "kernelspec": {
   "display_name": "Python 3",
   "language": "python",
   "name": "python3"
  },
  "language_info": {
   "codemirror_mode": {
    "name": "ipython",
    "version": 3
   },
   "file_extension": ".py",
   "mimetype": "text/x-python",
   "name": "python",
   "nbconvert_exporter": "python",
   "pygments_lexer": "ipython3",
   "version": "3.8.3"
  }
 },
 "nbformat": 4,
 "nbformat_minor": 4
}
