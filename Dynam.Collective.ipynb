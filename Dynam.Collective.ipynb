{
 "cells": [
  {
   "cell_type": "code",
   "execution_count": 1,
   "metadata": {},
   "outputs": [],
   "source": [
    "import matplotlib.pyplot as plt\n",
    "import numpy as np\n",
    "\n",
    "\"\"\"In order to provide a better presentation of the graphs we use the rcParams options shown below.\"\"\"\n",
    "\n",
    "import matplotlib\n",
    "matplotlib.rcParams['text.usetex'] = False\n",
    "matplotlib.rcParams['mathtext.fontset'] = 'stix'\n",
    "matplotlib.rcParams['font.family'] = 'STIXGeneral'\n",
    "matplotlib.rcParams['font.size'] = 15\n",
    "matplotlib.rcParams['figure.figsize'] = (8.0, 6.0)"
   ]
  },
  {
   "cell_type": "code",
   "execution_count": 2,
   "metadata": {},
   "outputs": [],
   "source": [
    "\"\"\"Our system of differential equations belongs to the complex space, that is why we implemented the code suggested in\"\"\"\n",
    "\"\"\"https://stackoverflow.com/questions/19910189/scipy-odeint-with-complex-initial-values.\"\"\"\n",
    "\n",
    "import time\n",
    "import numpy as np\n",
    "from scipy.integrate import odeint\n",
    "from scipy.special import zeta\n",
    "\n",
    "\n",
    "def odeintz(func, z0, t, **kwargs):\n",
    "   \n",
    "    \n",
    "    \"\"\"An odeint-like function for complex valued differential equations.\n",
    "\n",
    "    Inputs:\n",
    "    ----------\n",
    "      -func: function associated to dr/dt=f(x;t), where x is the set of parameters and variables to be determined\n",
    "      -z0: 1d array with length N*(5N-1)/2\n",
    "      -t: 1d array from t=0 to t=tf (parameter set by the user)\n",
    "      - **kwargs: keyword arguments related with external functions to be used in odeint\n",
    "    \n",
    "    Return:\n",
    "      -z: multivariable array with the solution of the differential equation associated with each variable\"\"\"\n",
    "\n",
    "    # Disallow Jacobian-related arguments.\n",
    "    _unsupported_odeint_args = ['Dfun', 'col_deriv', 'ml', 'mu']\n",
    "    bad_args = [arg for arg in kwargs if arg in _unsupported_odeint_args]\n",
    "    if len(bad_args) > 0:\n",
    "        raise ValueError(\"The odeint argument %r is not supported by \"\n",
    "                         \"odeintz.\" % (bad_args[0],))\n",
    "\n",
    "    # Make sure z0 is a numpy array of type np.complex128.\n",
    "    z0 = np.array(z0, dtype=np.complex128, ndmin=1)\n",
    "\n",
    "    def realfunc(x, t, *args):\n",
    "        z = x.view(np.complex128)\n",
    "        dzdt = func(z, t, *args)\n",
    "        # func might return a python list, so convert its return\n",
    "        # value to an array with type np.complex128, and then return\n",
    "        # a np.float64 view of that array.\n",
    "        return np.asarray(dzdt, dtype=np.complex128).view(np.float64)\n",
    "\n",
    "    result = odeint(realfunc, z0.view(np.float64), t, **kwargs)\n",
    "\n",
    "    if kwargs.get('full_output', False):\n",
    "        z = result[0].view(np.complex128)\n",
    "        infodict = result[1]\n",
    "        return z, infodict\n",
    "    else:\n",
    "        z = result.view(np.complex128)\n",
    "        return z"
   ]
  },
  {
   "cell_type": "code",
   "execution_count": 3,
   "metadata": {},
   "outputs": [],
   "source": [
    "# Here we define Aplus_j and Aminus_j \n",
    "\n",
    "N=10  #Number of spins\n",
    "\n",
    "j=N\n",
    "\n",
    "def Aplus_j(n):\n",
    "    if 0<=n<=N:\n",
    "        return np.sqrt( (N-n)*  (n+1) )\n",
    "    else:\n",
    "        return 0\n",
    "\n",
    "    \n",
    "def Aminus_j(n):\n",
    "    if 0<=n<=N:\n",
    "        return np.sqrt( (n)*  (N-n+1) )\n",
    "    else:\n",
    "        return 0    \n",
    "    "
   ]
  },
  {
   "cell_type": "code",
   "execution_count": 159,
   "metadata": {},
   "outputs": [],
   "source": [
    "def index_list(N=N):\n",
    "    Index_list=[]\n",
    "    for j in range(N+1):\n",
    "        for k in range(N+1):\n",
    "            Index_list.append([j,k])\n",
    "    return Index_list\n",
    "    "
   ]
  },
  {
   "cell_type": "code",
   "execution_count": 191,
   "metadata": {},
   "outputs": [],
   "source": [
    "#length_side=2\n",
    "#N=length_side**3\n",
    "\n",
    "N=20\n",
    "J=1\n",
    "\n",
    "refgamma=0.2  # 0.2  #Fixed\n",
    "refgammadecay=0.2\n",
    "refomega=5\n",
    "\n",
    "\n",
    "\n",
    "Gamma_phi=refgamma*J\n",
    "Gamma_C=refgammadecay*J\n",
    "\n",
    "Omega=refomega*J\n",
    "dist_ar=1\n",
    "\n",
    "\n",
    "\n",
    "\n",
    "\n",
    "def vectorsR(r, t,J=J,N=N,Omega=Omega,Gamma_C=Gamma_C,Gamma_phi=Gamma_phi):#,Vect=Vect):   \n",
    "            \n",
    "    #matrix_zero=np.zeros((int(3*N),int(3*N)),dtype = 'complex_')\n",
    "    matrix_zero=np.zeros((int( (N+1)**2  ),int((N+1)**2)),dtype = 'complex_')\n",
    "    \n",
    "    \n",
    "    drdt =  np.matmul(matrix_zero, r)  #matrix_zero @ r   #sum of the linear and the constant part\n",
    "    #drdt = matrix_zero @ r\n",
    "    \n",
    "    \n",
    "    Index_list=index_list(N)\n",
    "    \n",
    "    \n",
    "    ###Define Vect which is an array of coordinates of size N\n",
    "    \n",
    "    count=0\n",
    "       \n",
    "    \n",
    "    for vect in Index_list:\n",
    "        n1  =vect[0]\n",
    "        npr1=vect[1]\n",
    "        npr=npr1\n",
    "\n",
    "            \n",
    "        cfinnprm1=Index_list.count([n1,npr1-1])\n",
    "        indnnprm1=Index_list.index(list(cfinnprm1*np.array([n1,npr1-1])))\n",
    "            \n",
    "        cfinm1npr=Index_list.count([n1-1,npr1])\n",
    "        indnm1npr=Index_list.index(list(cfinm1npr*np.array([n1-1,npr1])))\n",
    "            \n",
    "        cfinnprp1=Index_list.count([n1,npr1+1])\n",
    "        indnnprp1=Index_list.index(list(cfinnprp1*np.array([n1,npr1+1])))\n",
    "            \n",
    "        cfinp1npr=Index_list.count([n1+1,npr1])\n",
    "        indnp1npr=Index_list.index(list(cfinp1npr*np.array([n1+1,npr1])))\n",
    "            \n",
    "        cfinp1nprp1=Index_list.count([n1+1,npr1+1])\n",
    "        indnp1nprp1=Index_list.index(list(cfinp1nprp1*np.array([n1+1,npr1+1])))\n",
    "            \n",
    "        cfinnpr=Index_list.count([n1,npr1])\n",
    "        indnnpr=Index_list.index(list(cfinnpr*np.array([n1,npr1])))\n",
    "        \n",
    "        \n",
    "            \n",
    "        drdt[indnnpr]+=1j*(Omega/2)* Aplus_j(npr1-1)*cfinnprm1*r[indnnprm1]+\\\n",
    "            -1j*(Omega/2)*Aplus_j(n1-1)*cfinm1npr*r[indnm1npr]+1j*(Omega/2)*Aminus_j(npr1+1)*cfinnprp1*r[indnnprp1]+\\\n",
    "            -1j*(Omega/2)*Aminus_j(n1+1)*cfinp1npr*r[indnp1npr]+Gamma_C*Aminus_j(n1+1)*Aminus_j(npr+1)*cfinp1nprp1*r[indnp1nprp1]+\\\n",
    "            2*1j*(J/N)*(npr1**2-n1**2)*cfinnpr*r[indnnpr]  -Gamma_phi*( (n1-npr1)**2 )*cfinnpr*r[indnnpr]+\\\n",
    "            -(Gamma_C/2)*(Aminus_j(n1)*Aplus_j(n1-1) + Aminus_j(npr1)*Aplus_j(npr1-1) )*cfinnpr*r[indnnpr]\n",
    "\n",
    "               \n",
    "    return drdt\n",
    "\n",
    "\n",
    "r0=int((N+1)**2)*[0]\n",
    "\n",
    "r0[0]=1\n",
    "\n",
    "rinit=r0\n"
   ]
  },
  {
   "cell_type": "code",
   "execution_count": 192,
   "metadata": {},
   "outputs": [],
   "source": [
    "init_time=0\n",
    "final_time=10\n",
    "steps=1000\n",
    "\n",
    "\n",
    "t = np.linspace(init_time, final_time, steps)\n",
    "\n"
   ]
  },
  {
   "cell_type": "code",
   "execution_count": null,
   "metadata": {},
   "outputs": [],
   "source": [
    "t0=time.time()\n",
    "\n",
    "z=odeintz(vectorsR, r0, t)#, args=(N,L))\n",
    "t1=time.time()"
   ]
  },
  {
   "cell_type": "code",
   "execution_count": null,
   "metadata": {},
   "outputs": [],
   "source": [
    "for j in range((N+1)**2):\n",
    "    plt.plot(t,np.real(z[:,j]))\n",
    "    plt.plot(t,np.imag(z[:,j]))\n",
    "\n",
    "print(t1-t0)"
   ]
  },
  {
   "cell_type": "code",
   "execution_count": null,
   "metadata": {},
   "outputs": [],
   "source": []
  },
  {
   "cell_type": "code",
   "execution_count": null,
   "metadata": {},
   "outputs": [],
   "source": []
  },
  {
   "cell_type": "code",
   "execution_count": null,
   "metadata": {},
   "outputs": [],
   "source": []
  },
  {
   "cell_type": "code",
   "execution_count": null,
   "metadata": {},
   "outputs": [],
   "source": []
  },
  {
   "cell_type": "code",
   "execution_count": null,
   "metadata": {},
   "outputs": [],
   "source": [
    "Index_list=index_list(N)\n",
    "\n",
    "Index_list"
   ]
  },
  {
   "cell_type": "code",
   "execution_count": null,
   "metadata": {},
   "outputs": [],
   "source": [
    "n=0\n",
    "npr=0"
   ]
  },
  {
   "cell_type": "code",
   "execution_count": null,
   "metadata": {},
   "outputs": [],
   "source": [
    "cfnm1npr=Index_list.count([n-1,npr])\n",
    "cfnp1npr=Index_list.count([n+1,npr])\n",
    "cfnnprm1=Index_list.count([n,npr-1])\n",
    "cfnnprp1=Index_list.count([n,npr+1])\n",
    "cfnp1nprp1=Index_list.count([n+1,npr+1])\n",
    "cfnnpr=Index_list.count([n,npr])\n",
    "\n",
    "\n",
    "\n",
    "\n",
    "indnm1npr=Index_list.index(list(cfnm1npr*np.array([n-1,npr])))\n",
    "indnp1npr=Index_list.index(list(cfnp1npr*np.array([n+1,npr])))\n",
    "indnnprm1=Index_list.index(list(cfnnprm1*np.array([n,npr-1])))\n",
    "indnnprp1=Index_list.index(list(cfnnprp1*np.array([n,npr+1])))\n",
    "indnp1nprp1=Index_list.index(list(cfnp1nprp1*np.array([n+1,npr+1])))\n",
    "indnnpr=Index_list.index(list(cfnnpr*np.array([n,npr])))\n"
   ]
  },
  {
   "cell_type": "code",
   "execution_count": null,
   "metadata": {},
   "outputs": [],
   "source": [
    "print(cfnm1npr,cfnp1npr,cfnnprm1,cfnnprp1,cfnp1nprp1,cfnnpr)\n",
    "\n",
    "print(indnm1npr,indnp1npr,indnnprm1,indnnprp1,indnp1nprp1,indnnpr)"
   ]
  },
  {
   "cell_type": "code",
   "execution_count": null,
   "metadata": {},
   "outputs": [],
   "source": []
  },
  {
   "cell_type": "code",
   "execution_count": null,
   "metadata": {},
   "outputs": [],
   "source": []
  },
  {
   "cell_type": "code",
   "execution_count": null,
   "metadata": {},
   "outputs": [],
   "source": []
  },
  {
   "cell_type": "code",
   "execution_count": null,
   "metadata": {},
   "outputs": [],
   "source": []
  },
  {
   "cell_type": "code",
   "execution_count": null,
   "metadata": {},
   "outputs": [],
   "source": []
  }
 ],
 "metadata": {
  "kernelspec": {
   "display_name": "Python 3",
   "language": "python",
   "name": "python3"
  },
  "language_info": {
   "codemirror_mode": {
    "name": "ipython",
    "version": 3
   },
   "file_extension": ".py",
   "mimetype": "text/x-python",
   "name": "python",
   "nbconvert_exporter": "python",
   "pygments_lexer": "ipython3",
   "version": "3.8.3"
  }
 },
 "nbformat": 4,
 "nbformat_minor": 4
}
