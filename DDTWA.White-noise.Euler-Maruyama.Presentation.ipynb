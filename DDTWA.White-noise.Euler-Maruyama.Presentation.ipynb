{
 "cells": [
  {
   "cell_type": "code",
   "execution_count": 87,
   "metadata": {},
   "outputs": [],
   "source": [
    "import matplotlib.pyplot as plt\n",
    "import numpy as np\n",
    "\n",
    "\"\"\"In order to provide a better presentation of the graphs we use the rcParams options shown below.\"\"\"\n",
    "\n",
    "import matplotlib\n",
    "matplotlib.rcParams['text.usetex'] = False\n",
    "matplotlib.rcParams['mathtext.fontset'] = 'stix'\n",
    "matplotlib.rcParams['font.family'] = 'STIXGeneral'\n",
    "matplotlib.rcParams['font.size'] = 15\n",
    "matplotlib.rcParams['figure.figsize'] = (11.0, 8.0)"
   ]
  },
  {
   "cell_type": "code",
   "execution_count": 88,
   "metadata": {},
   "outputs": [],
   "source": [
    "import numpy as np\n",
    "import matplotlib.pyplot as plt\n",
    "\n",
    "\n",
    "import time\n",
    "from scipy.integrate import odeint\n",
    "from scipy.special import zeta\n",
    "from random import choices"
   ]
  },
  {
   "cell_type": "code",
   "execution_count": null,
   "metadata": {},
   "outputs": [],
   "source": []
  },
  {
   "cell_type": "code",
   "execution_count": 89,
   "metadata": {},
   "outputs": [],
   "source": [
    "\"\"\"Our system of differential equations belongs to the complex space, that is why we implemented the code suggested in\"\"\"\n",
    "\"\"\"https://stackoverflow.com/questions/19910189/scipy-odeint-with-complex-initial-values.\"\"\"\n",
    "\n",
    "import time\n",
    "import numpy as np\n",
    "from scipy.integrate import odeint\n",
    "from scipy.special import zeta\n",
    "from random import choices\n",
    "\n",
    "def odeintz(func, z0, t, **kwargs):\n",
    "   \n",
    "    \n",
    "    \"\"\"An odeint-like function for complex valued differential equations.\n",
    "\n",
    "    Inputs:\n",
    "    ----------\n",
    "      -func: function associated to dr/dt=f(x;t), where x is the set of parameters and variables to be determined\n",
    "      -z0: 1d array with length N*(5N-1)/2\n",
    "      -t: 1d array from t=0 to t=tf (parameter set by the user)\n",
    "      - **kwargs: keyword arguments related with external functions to be used in odeint\n",
    "    \n",
    "    Return:\n",
    "      -z: multivariable array with the solution of the differential equation associated with each variable\"\"\"\n",
    "\n",
    "    # Disallow Jacobian-related arguments.\n",
    "    _unsupported_odeint_args = ['Dfun', 'col_deriv', 'ml', 'mu']\n",
    "    bad_args = [arg for arg in kwargs if arg in _unsupported_odeint_args]\n",
    "    if len(bad_args) > 0:\n",
    "        raise ValueError(\"The odeint argument %r is not supported by \"\n",
    "                         \"odeintz.\" % (bad_args[0],))\n",
    "\n",
    "    # Make sure z0 is a numpy array of type np.complex128.\n",
    "    z0 = np.array(z0, dtype=np.complex128, ndmin=1)\n",
    "\n",
    "    def realfunc(x, t, *args):\n",
    "        z = x.view(np.complex128)\n",
    "        dzdt = func(z, t, *args)\n",
    "        # func might return a python list, so convert its return\n",
    "        # value to an array with type np.complex128, and then return\n",
    "        # a np.float64 view of that array.\n",
    "        return np.asarray(dzdt, dtype=np.complex128).view(np.float64)\n",
    "\n",
    "    result = odeint(realfunc, z0.view(np.float64), t, **kwargs)\n",
    "\n",
    "    if kwargs.get('full_output', False):\n",
    "        z = result[0].view(np.complex128)\n",
    "        infodict = result[1]\n",
    "        return z, infodict\n",
    "    else:\n",
    "        z = result.view(np.complex128)\n",
    "        return z"
   ]
  },
  {
   "cell_type": "code",
   "execution_count": null,
   "metadata": {},
   "outputs": [],
   "source": []
  },
  {
   "cell_type": "code",
   "execution_count": 108,
   "metadata": {},
   "outputs": [],
   "source": [
    "import numpy as np\n",
    "import matplotlib.pyplot as plt\n",
    "%matplotlib inline\n",
    "from numpy import random, zeros\n",
    "\n",
    "from numba import jit\n",
    "\n",
    "dt = 0.01 # Time step.\n",
    "T = 7 # Total time.\n",
    "n = int(T / dt) # Number of time steps.\n",
    "\n",
    "\n",
    "\n",
    "J=1\n",
    "N=40\n",
    "    \n",
    "refgamma=0.2  #Gamma phi\n",
    "refdecay=0.2  #Gamma (solely)\n",
    "refomega=0\n",
    "    \n",
    "Gamma_du=0  #Fixed\n",
    "Gamma_phi=refgamma*J\n",
    "Gamma_decay=refdecay*J\n",
    "Omega=refomega*J\n",
    "sqrt_2phi=  (2*Gamma_phi)**0.5\n",
    "sqrt_decay= (Gamma_decay)**0.5\n",
    "Stochastic=1   #Is the process stochastic?\n",
    "sqrt_Gamma_phi = np.sqrt(Gamma_phi)\n",
    "sqrtdt = np.sqrt(dt)*Stochastic\n",
    "\n",
    "\n",
    "@jit\n",
    "\n",
    "def trayectory(N=N):\n",
    "    \n",
    "    Results =zeros((3*N, n))\n",
    "\n",
    "    for j in range(N):\n",
    "        a=(choices([-1,1]))[0]\n",
    "        b=(choices([-1,1]))[0]\n",
    "        Results[j][0]=1   #state |+>\n",
    "        Results[j+N][0]=a\n",
    "        Results[j+2*N][0]=b\n",
    "\n",
    "\n",
    "    for t in range(n-1):\n",
    "        for i in range(N): \n",
    "            Normal_VA=random.randn()#np.random.normal(0, 1)\n",
    "        \n",
    "            Results[i][t+1]     = Results[i][t]+dt*(-Gamma_phi-(Gamma_decay/2) )*Results[i][t]-\\\n",
    "                (sqrt_2phi+sqrt_decay ) *Results[i+N][t]* sqrtdt * Normal_VA\n",
    "            Results[i+N][t+1]   = Results[i+N][t]+dt*(-Omega*Results[i+2*N][t] -(Gamma_phi+ (Gamma_decay/2))*Results[i+N][t])+\\\n",
    "                (sqrt_2phi+sqrt_decay ) *Results[i][t]* sqrtdt * Normal_VA\n",
    "            Results[i+2*N][t+1] = Results[i+2*N][t]+dt*( Omega*Results[i+N][t] - Gamma_decay*(Results[i+2*N][t]+1) )+\\\n",
    "                sqrt_decay*(Results[i+2*N][t]+1)*sqrtdt * Normal_VA\n",
    "            \n",
    "            for j in range(N):\n",
    "                if i!=j:\n",
    "                    Results[i][t+1]=Results[i][t+1]-2*Results[i+N][t]*(J/N)*Results[j+2*N][t]*dt\n",
    "                    Results[i+N][t+1]=Results[i+N][t+1]+ 2*Results[i][t]*(J/N)*Results[j+2*N][t]*dt\n",
    "                    \n",
    "                    \n",
    "            \n",
    "            \n",
    "    return Results\n"
   ]
  },
  {
   "cell_type": "code",
   "execution_count": 109,
   "metadata": {},
   "outputs": [],
   "source": [
    "from numba import jit\n",
    "from numpy import add\n",
    "\n",
    "\n",
    "iterations=10\n",
    "\n",
    "\n",
    "times = np.linspace(0., T, n)\n",
    "\n",
    "@jit\n",
    "\n",
    "def averages(itera=iterations,N=N):\n",
    "\n",
    "    \n",
    "    \n",
    "    n = int(T / dt) # Number of time steps.\n",
    "    Average=zeros((3*N, n))\n",
    "    for j in range(itera):\n",
    "        Average=add(Average,trayectory(N))\n",
    "    return Average/itera\n",
    "    "
   ]
  },
  {
   "cell_type": "code",
   "execution_count": null,
   "metadata": {},
   "outputs": [],
   "source": []
  },
  {
   "cell_type": "code",
   "execution_count": null,
   "metadata": {},
   "outputs": [],
   "source": []
  },
  {
   "cell_type": "code",
   "execution_count": 110,
   "metadata": {},
   "outputs": [
    {
     "name": "stderr",
     "output_type": "stream",
     "text": [
      "<ipython-input-109-0bd31135959c>:10: NumbaWarning: \u001b[1m\n",
      "Compilation is falling back to object mode WITH looplifting enabled because Function \"averages\" failed type inference due to: \u001b[1m\u001b[1m\u001b[1mInvalid use of type(CPUDispatcher(<function trayectory at 0x0000022DD21F54C0>)) with parameters (int64)\n",
      "\u001b[0m\n",
      "\u001b[0m\u001b[1mDuring: resolving callee type: type(CPUDispatcher(<function trayectory at 0x0000022DD21F54C0>))\u001b[0m\n",
      "\u001b[0m\u001b[1mDuring: typing of call at <ipython-input-109-0bd31135959c> (19)\n",
      "\u001b[0m\n",
      "\u001b[1m\n",
      "File \"<ipython-input-109-0bd31135959c>\", line 19:\u001b[0m\n",
      "\u001b[1mdef averages(itera=iterations,N=N):\n",
      "    <source elided>\n",
      "    for j in range(itera):\n",
      "\u001b[1m        Average=add(Average,trayectory(N))\n",
      "\u001b[0m        \u001b[1m^\u001b[0m\u001b[0m\n",
      "\u001b[0m\n",
      "  @jit\n",
      "<ipython-input-109-0bd31135959c>:10: NumbaWarning: \u001b[1m\n",
      "Compilation is falling back to object mode WITHOUT looplifting enabled because Function \"averages\" failed type inference due to: \u001b[1m\u001b[1mcannot determine Numba type of <class 'numba.core.dispatcher.LiftedLoop'>\u001b[0m\n",
      "\u001b[1m\n",
      "File \"<ipython-input-109-0bd31135959c>\", line 18:\u001b[0m\n",
      "\u001b[1mdef averages(itera=iterations,N=N):\n",
      "    <source elided>\n",
      "    Average=zeros((3*N, n))\n",
      "\u001b[1m    for j in range(itera):\n",
      "\u001b[0m    \u001b[1m^\u001b[0m\u001b[0m\n",
      "\u001b[0m\u001b[0m\n",
      "  @jit\n",
      "C:\\Users\\camil\\anaconda3\\lib\\site-packages\\numba\\core\\object_mode_passes.py:177: NumbaWarning: \u001b[1mFunction \"averages\" was compiled in object mode without forceobj=True, but has lifted loops.\n",
      "\u001b[1m\n",
      "File \"<ipython-input-109-0bd31135959c>\", line 16:\u001b[0m\n",
      "\u001b[1mdef averages(itera=iterations,N=N):\n",
      "    <source elided>\n",
      "    \n",
      "\u001b[1m    n = int(T / dt) # Number of time steps.\n",
      "\u001b[0m    \u001b[1m^\u001b[0m\u001b[0m\n",
      "\u001b[0m\n",
      "  warnings.warn(errors.NumbaWarning(warn_msg,\n",
      "C:\\Users\\camil\\anaconda3\\lib\\site-packages\\numba\\core\\object_mode_passes.py:187: NumbaDeprecationWarning: \u001b[1m\n",
      "Fall-back from the nopython compilation path to the object mode compilation path has been detected, this is deprecated behaviour.\n",
      "\n",
      "For more information visit http://numba.pydata.org/numba-doc/latest/reference/deprecation.html#deprecation-of-object-mode-fall-back-behaviour-when-using-jit\n",
      "\u001b[1m\n",
      "File \"<ipython-input-109-0bd31135959c>\", line 16:\u001b[0m\n",
      "\u001b[1mdef averages(itera=iterations,N=N):\n",
      "    <source elided>\n",
      "    \n",
      "\u001b[1m    n = int(T / dt) # Number of time steps.\n",
      "\u001b[0m    \u001b[1m^\u001b[0m\u001b[0m\n",
      "\u001b[0m\n",
      "  warnings.warn(errors.NumbaDeprecationWarning(msg,\n",
      "<ipython-input-109-0bd31135959c>:10: NumbaWarning: \u001b[1m\n",
      "Compilation is falling back to object mode WITHOUT looplifting enabled because Function \"averages\" failed type inference due to: \u001b[1m\u001b[1m\u001b[1mInvalid use of type(CPUDispatcher(<function trayectory at 0x0000022DD21F54C0>)) with parameters (int64)\n",
      "\u001b[0m\n",
      "\u001b[0m\u001b[1mDuring: resolving callee type: type(CPUDispatcher(<function trayectory at 0x0000022DD21F54C0>))\u001b[0m\n",
      "\u001b[0m\u001b[1mDuring: typing of call at <ipython-input-109-0bd31135959c> (19)\n",
      "\u001b[0m\n",
      "\u001b[1m\n",
      "File \"<ipython-input-109-0bd31135959c>\", line 19:\u001b[0m\n",
      "\u001b[1mdef averages(itera=iterations,N=N):\n",
      "    <source elided>\n",
      "    for j in range(itera):\n",
      "\u001b[1m        Average=add(Average,trayectory(N))\n",
      "\u001b[0m        \u001b[1m^\u001b[0m\u001b[0m\n",
      "\u001b[0m\n",
      "  @jit\n",
      "C:\\Users\\camil\\anaconda3\\lib\\site-packages\\numba\\core\\object_mode_passes.py:177: NumbaWarning: \u001b[1mFunction \"averages\" was compiled in object mode without forceobj=True.\n",
      "\u001b[1m\n",
      "File \"<ipython-input-109-0bd31135959c>\", line 18:\u001b[0m\n",
      "\u001b[1mdef averages(itera=iterations,N=N):\n",
      "    <source elided>\n",
      "    Average=zeros((3*N, n))\n",
      "\u001b[1m    for j in range(itera):\n",
      "\u001b[0m    \u001b[1m^\u001b[0m\u001b[0m\n",
      "\u001b[0m\n",
      "  warnings.warn(errors.NumbaWarning(warn_msg,\n",
      "C:\\Users\\camil\\anaconda3\\lib\\site-packages\\numba\\core\\object_mode_passes.py:187: NumbaDeprecationWarning: \u001b[1m\n",
      "Fall-back from the nopython compilation path to the object mode compilation path has been detected, this is deprecated behaviour.\n",
      "\n",
      "For more information visit http://numba.pydata.org/numba-doc/latest/reference/deprecation.html#deprecation-of-object-mode-fall-back-behaviour-when-using-jit\n",
      "\u001b[1m\n",
      "File \"<ipython-input-109-0bd31135959c>\", line 18:\u001b[0m\n",
      "\u001b[1mdef averages(itera=iterations,N=N):\n",
      "    <source elided>\n",
      "    Average=zeros((3*N, n))\n",
      "\u001b[1m    for j in range(itera):\n",
      "\u001b[0m    \u001b[1m^\u001b[0m\u001b[0m\n",
      "\u001b[0m\n",
      "  warnings.warn(errors.NumbaDeprecationWarning(msg,\n",
      "<ipython-input-108-12fe9488ee22>:32: NumbaWarning: \u001b[1m\n",
      "Compilation is falling back to object mode WITHOUT looplifting enabled because Function \"trayectory\" failed type inference due to: \u001b[1mUntyped global name 'choices':\u001b[0m \u001b[1m\u001b[1mcannot determine Numba type of <class 'method'>\u001b[0m\n",
      "\u001b[1m\n",
      "File \"<ipython-input-108-12fe9488ee22>\", line 39:\u001b[0m\n",
      "\u001b[1mdef trayectory(N=N):\n",
      "    <source elided>\n",
      "    for j in range(N):\n",
      "\u001b[1m        a=(choices([-1,1]))[0]\n",
      "\u001b[0m        \u001b[1m^\u001b[0m\u001b[0m\n",
      "\u001b[0m\u001b[0m\n",
      "  @jit\n",
      "C:\\Users\\camil\\anaconda3\\lib\\site-packages\\numba\\core\\object_mode_passes.py:177: NumbaWarning: \u001b[1mFunction \"trayectory\" was compiled in object mode without forceobj=True.\n",
      "\u001b[1m\n",
      "File \"<ipython-input-108-12fe9488ee22>\", line 38:\u001b[0m\n",
      "\u001b[1mdef trayectory(N=N):\n",
      "    <source elided>\n",
      "\n",
      "\u001b[1m    for j in range(N):\n",
      "\u001b[0m    \u001b[1m^\u001b[0m\u001b[0m\n",
      "\u001b[0m\n",
      "  warnings.warn(errors.NumbaWarning(warn_msg,\n",
      "C:\\Users\\camil\\anaconda3\\lib\\site-packages\\numba\\core\\object_mode_passes.py:187: NumbaDeprecationWarning: \u001b[1m\n",
      "Fall-back from the nopython compilation path to the object mode compilation path has been detected, this is deprecated behaviour.\n",
      "\n",
      "For more information visit http://numba.pydata.org/numba-doc/latest/reference/deprecation.html#deprecation-of-object-mode-fall-back-behaviour-when-using-jit\n",
      "\u001b[1m\n",
      "File \"<ipython-input-108-12fe9488ee22>\", line 38:\u001b[0m\n",
      "\u001b[1mdef trayectory(N=N):\n",
      "    <source elided>\n",
      "\n",
      "\u001b[1m    for j in range(N):\n",
      "\u001b[0m    \u001b[1m^\u001b[0m\u001b[0m\n",
      "\u001b[0m\n",
      "  warnings.warn(errors.NumbaDeprecationWarning(msg,\n"
     ]
    },
    {
     "name": "stdout",
     "output_type": "stream",
     "text": [
      "63.25903081893921\n"
     ]
    }
   ],
   "source": [
    "t0=time.time()\n",
    "\n",
    "Iterations=10000\n",
    "\n",
    "\n",
    "Result=averages(Iterations,N)\n",
    "\n",
    "\n",
    "t1=time.time()\n",
    "\n",
    "print(t1-t0)"
   ]
  },
  {
   "cell_type": "code",
   "execution_count": null,
   "metadata": {},
   "outputs": [],
   "source": []
  },
  {
   "cell_type": "code",
   "execution_count": 111,
   "metadata": {},
   "outputs": [],
   "source": [
    "#from numba import jit\n",
    "\n",
    "#@jit\n",
    "\n",
    "def Sk(value):\n",
    "    \n",
    "    if value==0:  \n",
    "        Sx=Result[0]\n",
    "        for j in range(1,N):\n",
    "            Sx=np.add(Sx,Result[j])\n",
    "        return Sx/2\n",
    "    elif value==1:\n",
    "        Sy=Result[N]\n",
    "        for j in range(1,N):\n",
    "            Sy=np.add(Sy,Result[j+N])\n",
    "        return Sy/2\n",
    "    elif value==2:\n",
    "        Sz=Result[2*N]\n",
    "        for j in range(1,N):\n",
    "            Sz=np.add(Sz,Result[j+2*N])\n",
    "        return Sz/2\n",
    "    \n"
   ]
  },
  {
   "cell_type": "code",
   "execution_count": null,
   "metadata": {},
   "outputs": [],
   "source": []
  },
  {
   "cell_type": "code",
   "execution_count": 112,
   "metadata": {},
   "outputs": [],
   "source": [
    "\n",
    "gammaplus=Gamma_du/2\n",
    "gammaminus=Gamma_decay/2\n",
    "gammaz=Gamma_phi/4\n",
    "\n",
    "\n",
    "Gamma=np.array([gammaplus,gammaminus,gammaz])  #[gamma+,gamma-,gammaz]\n",
    "\n",
    "\n",
    "### Initial State\n",
    "\n",
    "\"\"\"We consider by defect that the system starts in |0> for all the spins. The user can set the initial state as well.\"\"\"\n",
    "\"\"\"Recall that |0><0|=[[1,0],[0,0]]  \"\"\"\n",
    "\n",
    "\"\"\"The benchmark suggests that our initial state should be |psi(0)>=|+>\"\"\"\n",
    "\n",
    "\n",
    "#t0=time.time()\n",
    "\n",
    "\n",
    "\n",
    "def trace(A):\n",
    "    return np.trace(A)\n",
    "\n",
    "def matmu(A,B):\n",
    "    return np.matmul(A,B)\n",
    "\n",
    "\n",
    "rho_init0=np.array([[1/2,1/2],[1/2,1/2]])    #density matrix |1><1|\n",
    "rho_init1=np.array([[1/2,1/2],[1/2,1/2]])    #density matrix |1><1|\n",
    "\n",
    "\n",
    "\n",
    "#rho_init1=np.array([[1,0],[0,0]])    #By default\n",
    "#rho_init2=np.array([[1,0],[0,0]])    #By default\n",
    "\n",
    "\n",
    "sigma_p= np.array([[0,1],[0,0]])\n",
    "sigma_m= np.array([[0,0],[1,0]])\n",
    "sigma_z= np.array([[1,0],[0,-1]])\n",
    "\n",
    "\n",
    "##Initial values one operator\n",
    "\n",
    "sp_init0=trace(matmu(rho_init0,sigma_p))\n",
    "sz_init0=trace(matmu(rho_init0,sigma_z))\n",
    "sp_init1=trace(matmu(rho_init1,sigma_p))\n",
    "sz_init1=trace(matmu(rho_init1,sigma_z))\n",
    "sm_init1=trace(matmu(rho_init1,sigma_m))\n",
    "\n",
    "\n",
    "##Initial values two-operators\n",
    "## We assume initial separability of the state\n",
    "#p0, z0, p1, z1 , p0p1, p0m1, z0p1, p0z1, z0z1 = z\n",
    "\n",
    "\n",
    "sp_initp0p1=sp_init0*sp_init1\n",
    "sz_initp0m1=sp_init0*sm_init1\n",
    "sp_initz0p1=sz_init0*sp_init1\n",
    "sz_initp0z1=sp_init0*sz_init1\n",
    "sz_initz0z1=sz_init0*sz_init1\n",
    "\n",
    "\n",
    "\n",
    "\n",
    "z0=np.array([sp_init0,sz_init0,sp_initp0p1,sz_initp0m1,sp_initz0p1,sz_initz0z1])\n",
    "\n",
    "\n",
    "\n",
    "#t1=time.time()\n",
    "\n",
    "#print(t1-t0)\n",
    "\n",
    "#t0=time.time()\n",
    "\n",
    "def cj(z): \n",
    "    return z.conjugate()\n",
    "\n",
    "def real(z): \n",
    "    return z.real\n",
    "\n",
    "def imag(z): \n",
    "    return z.imag\n",
    "\n",
    "\n",
    "def dot_p(v1,v2):\n",
    "    return np.dot(v1,v2)\n",
    "\n",
    "from numba import jit\n",
    "\n",
    "@jit\n",
    "\n",
    "    # Define the right-hand-side of the differential equation.\n",
    "def zfunc(z, t):\n",
    "    p0, z0, p0p1, p0m1,   z0p1, z0z1 = z        \n",
    "     \n",
    "    \n",
    "        \n",
    "    dp0dt=-1j*(Omega/2)*z0+2*1j*(J/N)*(N-1)*z0p1    -(Gamma[0]+Gamma[1]+4*Gamma[2])*p0\n",
    "        \n",
    "    dz0dt= 2*Omega*np.imag(p0)+2*(Gamma[0]-Gamma[1])-2*(Gamma[0]+Gamma[1])*z0  \n",
    "        \n",
    "    dp0p1dt=-1j*Omega*z0p1+4*1j*(J/N)*(N-2)*(p0p1*z0+2*(z0p1-p0*z0)*p0)    -2*(Gamma[0]+Gamma[1]+4*Gamma[2])*p0p1\n",
    "\n",
    "    dp0m1dt=-Omega*np.imag(z0p1)-2*(Gamma[0]+Gamma[1]+4*Gamma[2])*p0m1\n",
    "\n",
    "    dz0p1dt=-1j*(Omega/2)*(2*(p0p1-p0m1)+z0z1)+  2*1j*(J/N)*( p0 + (N-2)*(z0z1*p0+2*(z0p1-z0*p0)*z0) )+2*(Gamma[0]-Gamma[1])*p0   \n",
    "    dz0p1dt=dz0p1dt -(3*(Gamma[0]+Gamma[1])+4*Gamma[2])*z0p1\n",
    "            \n",
    "    dz0z1dt=  4*Omega*np.imag(z0p1)    - 4*(Gamma[1]-Gamma[0])*z0-4*(Gamma[0]+Gamma[1])*z0z1\n",
    "        \n",
    "        \n",
    "        \n",
    "        \n",
    "    return [dp0dt, dz0dt, dp0p1dt, dp0m1dt, dz0p1dt, dz0z1dt] \n",
    "\n",
    "    # Set up the inputs and call odeintz to solve the system.\n",
    "\n",
    "z, infodict = odeintz(zfunc, z0, times, full_output=1)\n",
    "    \n",
    "#t1=time.time()\n",
    "#print(t1-t0)"
   ]
  },
  {
   "cell_type": "code",
   "execution_count": null,
   "metadata": {},
   "outputs": [],
   "source": []
  },
  {
   "cell_type": "code",
   "execution_count": 113,
   "metadata": {},
   "outputs": [],
   "source": [
    "Gamma_ud=2*gammaplus\n",
    "Gamma_du=2*gammaminus\n",
    "Gamma_el=8*gammaz\n",
    "\n",
    "Gamma_r=Gamma_ud+Gamma_du+1e-8\n",
    "\n",
    "\n",
    "gamma=(Gamma_ud-Gamma_du)/4\n",
    "\n",
    "Tot=Gamma_r+Gamma_el\n",
    "\n",
    "lamda=Gamma_r/2\n",
    "\n",
    "J01=J\n",
    "\n",
    "\n",
    "s=2*1j*gamma+2*J01/N\n",
    "r=Gamma_ud*Gamma_du\n",
    "\n",
    "def p0_gen(t):\n",
    "    return  0.5*np.exp(-Tot*t/2)*( np.exp(-lamda*t)*( np.cos(t*(s**2-r)**0.5) +  lamda*np.sin(t*(s**2-r)**0.5)/((s**2-r)**0.5)) )**(N-1)\n",
    "\n",
    "\n",
    "def z0_gen(t):\n",
    "    return 2*(Gamma_ud-Gamma_du)/(Gamma_ud+Gamma_du+1e-8)*np.exp(-Gamma_r*t/2)*np.sinh(Gamma_r*t/2) "
   ]
  },
  {
   "cell_type": "code",
   "execution_count": null,
   "metadata": {},
   "outputs": [],
   "source": []
  },
  {
   "cell_type": "markdown",
   "metadata": {},
   "source": [
    "# DTWA"
   ]
  },
  {
   "cell_type": "code",
   "execution_count": 114,
   "metadata": {},
   "outputs": [],
   "source": [
    "import numpy as np\n",
    "import matplotlib.pyplot as plt\n",
    "%matplotlib inline\n",
    "\n",
    "\n",
    "\n",
    "\n",
    "from numba import jit\n",
    "\n",
    "@jit\n",
    "\n",
    "def trayectorydtwa(N=N):\n",
    "    \n",
    "    \n",
    "    \n",
    "    \n",
    "\n",
    "\n",
    "    Results =zeros((3*N, n))\n",
    "\n",
    "    for j in range(N):\n",
    "        a=(choices([-1,1]))[0]\n",
    "        b=(choices([-1,1]))[0]\n",
    "        Results[j][0]=1   #state |+>\n",
    "        Results[j+N][0]=a\n",
    "        Results[j+2*N][0]=b\n",
    "\n",
    "\n",
    "    for t in range(n-1):\n",
    "        for i in range(N): \n",
    "            Normal_VA=random.randn()#np.random.normal(0, 1)\n",
    "        \n",
    "            Results[i][t+1]     = Results[i][t]+dt*(-Gamma_phi-(Gamma_decay/2) )*Results[i][t]\n",
    "            \n",
    "            Results[i+N][t+1]   = Results[i+N][t]+dt*(-Omega*Results[i+2*N][t] -(Gamma_phi+ (Gamma_decay/2))*Results[i+N][t])\n",
    "            \n",
    "            Results[i+2*N][t+1] = Results[i+2*N][t]+dt*( Omega*Results[i+N][t] - Gamma_decay*(Results[i+2*N][t]+1) )\n",
    "            \n",
    "            for j in range(N):\n",
    "                if i!=j:\n",
    "                    Results[i][t+1]=Results[i][t+1]-2*Results[i+N][t]*(J/N)*Results[j+2*N][t]*dt\n",
    "                    Results[i+N][t+1]=Results[i+N][t+1]+ 2*Results[i][t]*(J/N)*Results[j+2*N][t]*dt\n",
    "                    \n",
    "                    \n",
    "            \n",
    "            \n",
    "    return Results\n"
   ]
  },
  {
   "cell_type": "code",
   "execution_count": 115,
   "metadata": {},
   "outputs": [],
   "source": [
    "from numba import jit\n",
    "\n",
    "@jit\n",
    "\n",
    "def averagesddtwa(itera,N):\n",
    "    \n",
    "    Average=zeros((3*N, n))\n",
    "    for j in range(itera):\n",
    "        Average=add(Average,trayectorydtwa(N))\n",
    "    return Average/itera\n",
    "    "
   ]
  },
  {
   "cell_type": "code",
   "execution_count": 116,
   "metadata": {},
   "outputs": [
    {
     "name": "stderr",
     "output_type": "stream",
     "text": [
      "<ipython-input-115-215b67d0a9ee>:3: NumbaWarning: \u001b[1m\n",
      "Compilation is falling back to object mode WITH looplifting enabled because Function \"averagesddtwa\" failed type inference due to: \u001b[1m\u001b[1m\u001b[1mInvalid use of type(CPUDispatcher(<function trayectorydtwa at 0x0000022DD19D10D0>)) with parameters (int64)\n",
      "\u001b[0m\n",
      "\u001b[0m\u001b[1mDuring: resolving callee type: type(CPUDispatcher(<function trayectorydtwa at 0x0000022DD19D10D0>))\u001b[0m\n",
      "\u001b[0m\u001b[1mDuring: typing of call at <ipython-input-115-215b67d0a9ee> (9)\n",
      "\u001b[0m\n",
      "\u001b[1m\n",
      "File \"<ipython-input-115-215b67d0a9ee>\", line 9:\u001b[0m\n",
      "\u001b[1mdef averagesddtwa(itera,N):\n",
      "    <source elided>\n",
      "    for j in range(itera):\n",
      "\u001b[1m        Average=add(Average,trayectorydtwa(N))\n",
      "\u001b[0m        \u001b[1m^\u001b[0m\u001b[0m\n",
      "\u001b[0m\n",
      "  @jit\n",
      "<ipython-input-115-215b67d0a9ee>:3: NumbaWarning: \u001b[1m\n",
      "Compilation is falling back to object mode WITHOUT looplifting enabled because Function \"averagesddtwa\" failed type inference due to: \u001b[1m\u001b[1mcannot determine Numba type of <class 'numba.core.dispatcher.LiftedLoop'>\u001b[0m\n",
      "\u001b[1m\n",
      "File \"<ipython-input-115-215b67d0a9ee>\", line 8:\u001b[0m\n",
      "\u001b[1mdef averagesddtwa(itera,N):\n",
      "    <source elided>\n",
      "    Average=zeros((3*N, n))\n",
      "\u001b[1m    for j in range(itera):\n",
      "\u001b[0m    \u001b[1m^\u001b[0m\u001b[0m\n",
      "\u001b[0m\u001b[0m\n",
      "  @jit\n",
      "C:\\Users\\camil\\anaconda3\\lib\\site-packages\\numba\\core\\object_mode_passes.py:177: NumbaWarning: \u001b[1mFunction \"averagesddtwa\" was compiled in object mode without forceobj=True, but has lifted loops.\n",
      "\u001b[1m\n",
      "File \"<ipython-input-115-215b67d0a9ee>\", line 7:\u001b[0m\n",
      "\u001b[1mdef averagesddtwa(itera,N):\n",
      "    <source elided>\n",
      "    \n",
      "\u001b[1m    Average=zeros((3*N, n))\n",
      "\u001b[0m    \u001b[1m^\u001b[0m\u001b[0m\n",
      "\u001b[0m\n",
      "  warnings.warn(errors.NumbaWarning(warn_msg,\n",
      "C:\\Users\\camil\\anaconda3\\lib\\site-packages\\numba\\core\\object_mode_passes.py:187: NumbaDeprecationWarning: \u001b[1m\n",
      "Fall-back from the nopython compilation path to the object mode compilation path has been detected, this is deprecated behaviour.\n",
      "\n",
      "For more information visit http://numba.pydata.org/numba-doc/latest/reference/deprecation.html#deprecation-of-object-mode-fall-back-behaviour-when-using-jit\n",
      "\u001b[1m\n",
      "File \"<ipython-input-115-215b67d0a9ee>\", line 7:\u001b[0m\n",
      "\u001b[1mdef averagesddtwa(itera,N):\n",
      "    <source elided>\n",
      "    \n",
      "\u001b[1m    Average=zeros((3*N, n))\n",
      "\u001b[0m    \u001b[1m^\u001b[0m\u001b[0m\n",
      "\u001b[0m\n",
      "  warnings.warn(errors.NumbaDeprecationWarning(msg,\n",
      "<ipython-input-115-215b67d0a9ee>:3: NumbaWarning: \u001b[1m\n",
      "Compilation is falling back to object mode WITHOUT looplifting enabled because Function \"averagesddtwa\" failed type inference due to: \u001b[1m\u001b[1m\u001b[1mInvalid use of type(CPUDispatcher(<function trayectorydtwa at 0x0000022DD19D10D0>)) with parameters (int64)\n",
      "\u001b[0m\n",
      "\u001b[0m\u001b[1mDuring: resolving callee type: type(CPUDispatcher(<function trayectorydtwa at 0x0000022DD19D10D0>))\u001b[0m\n",
      "\u001b[0m\u001b[1mDuring: typing of call at <ipython-input-115-215b67d0a9ee> (9)\n",
      "\u001b[0m\n",
      "\u001b[1m\n",
      "File \"<ipython-input-115-215b67d0a9ee>\", line 9:\u001b[0m\n",
      "\u001b[1mdef averagesddtwa(itera,N):\n",
      "    <source elided>\n",
      "    for j in range(itera):\n",
      "\u001b[1m        Average=add(Average,trayectorydtwa(N))\n",
      "\u001b[0m        \u001b[1m^\u001b[0m\u001b[0m\n",
      "\u001b[0m\n",
      "  @jit\n",
      "C:\\Users\\camil\\anaconda3\\lib\\site-packages\\numba\\core\\object_mode_passes.py:177: NumbaWarning: \u001b[1mFunction \"averagesddtwa\" was compiled in object mode without forceobj=True.\n",
      "\u001b[1m\n",
      "File \"<ipython-input-115-215b67d0a9ee>\", line 8:\u001b[0m\n",
      "\u001b[1mdef averagesddtwa(itera,N):\n",
      "    <source elided>\n",
      "    Average=zeros((3*N, n))\n",
      "\u001b[1m    for j in range(itera):\n",
      "\u001b[0m    \u001b[1m^\u001b[0m\u001b[0m\n",
      "\u001b[0m\n",
      "  warnings.warn(errors.NumbaWarning(warn_msg,\n",
      "C:\\Users\\camil\\anaconda3\\lib\\site-packages\\numba\\core\\object_mode_passes.py:187: NumbaDeprecationWarning: \u001b[1m\n",
      "Fall-back from the nopython compilation path to the object mode compilation path has been detected, this is deprecated behaviour.\n",
      "\n",
      "For more information visit http://numba.pydata.org/numba-doc/latest/reference/deprecation.html#deprecation-of-object-mode-fall-back-behaviour-when-using-jit\n",
      "\u001b[1m\n",
      "File \"<ipython-input-115-215b67d0a9ee>\", line 8:\u001b[0m\n",
      "\u001b[1mdef averagesddtwa(itera,N):\n",
      "    <source elided>\n",
      "    Average=zeros((3*N, n))\n",
      "\u001b[1m    for j in range(itera):\n",
      "\u001b[0m    \u001b[1m^\u001b[0m\u001b[0m\n",
      "\u001b[0m\n",
      "  warnings.warn(errors.NumbaDeprecationWarning(msg,\n",
      "<ipython-input-114-67c98770234f>:10: NumbaWarning: \u001b[1m\n",
      "Compilation is falling back to object mode WITHOUT looplifting enabled because Function \"trayectorydtwa\" failed type inference due to: \u001b[1mUntyped global name 'choices':\u001b[0m \u001b[1m\u001b[1mcannot determine Numba type of <class 'method'>\u001b[0m\n",
      "\u001b[1m\n",
      "File \"<ipython-input-114-67c98770234f>\", line 22:\u001b[0m\n",
      "\u001b[1mdef trayectorydtwa(N=N):\n",
      "    <source elided>\n",
      "    for j in range(N):\n",
      "\u001b[1m        a=(choices([-1,1]))[0]\n",
      "\u001b[0m        \u001b[1m^\u001b[0m\u001b[0m\n",
      "\u001b[0m\u001b[0m\n",
      "  @jit\n",
      "C:\\Users\\camil\\anaconda3\\lib\\site-packages\\numba\\core\\object_mode_passes.py:177: NumbaWarning: \u001b[1mFunction \"trayectorydtwa\" was compiled in object mode without forceobj=True.\n",
      "\u001b[1m\n",
      "File \"<ipython-input-114-67c98770234f>\", line 21:\u001b[0m\n",
      "\u001b[1mdef trayectorydtwa(N=N):\n",
      "    <source elided>\n",
      "\n",
      "\u001b[1m    for j in range(N):\n",
      "\u001b[0m    \u001b[1m^\u001b[0m\u001b[0m\n",
      "\u001b[0m\n",
      "  warnings.warn(errors.NumbaWarning(warn_msg,\n",
      "C:\\Users\\camil\\anaconda3\\lib\\site-packages\\numba\\core\\object_mode_passes.py:187: NumbaDeprecationWarning: \u001b[1m\n",
      "Fall-back from the nopython compilation path to the object mode compilation path has been detected, this is deprecated behaviour.\n",
      "\n",
      "For more information visit http://numba.pydata.org/numba-doc/latest/reference/deprecation.html#deprecation-of-object-mode-fall-back-behaviour-when-using-jit\n",
      "\u001b[1m\n",
      "File \"<ipython-input-114-67c98770234f>\", line 21:\u001b[0m\n",
      "\u001b[1mdef trayectorydtwa(N=N):\n",
      "    <source elided>\n",
      "\n",
      "\u001b[1m    for j in range(N):\n",
      "\u001b[0m    \u001b[1m^\u001b[0m\u001b[0m\n",
      "\u001b[0m\n",
      "  warnings.warn(errors.NumbaDeprecationWarning(msg,\n"
     ]
    },
    {
     "name": "stdout",
     "output_type": "stream",
     "text": [
      "89.48112678527832\n"
     ]
    }
   ],
   "source": [
    "t0=time.time()\n",
    "\n",
    "Iterations=10000\n",
    "\n",
    "\n",
    "Resultdtwa=averagesddtwa(Iterations,N)\n",
    "\n",
    "\n",
    "t1=time.time()\n",
    "\n",
    "print(t1-t0)"
   ]
  },
  {
   "cell_type": "code",
   "execution_count": 117,
   "metadata": {},
   "outputs": [],
   "source": [
    "#from numba import jit\n",
    "\n",
    "#@jit\n",
    "\n",
    "def Skdtwa(value):\n",
    "    \n",
    "    if value==0:  \n",
    "        Sx=Resultdtwa[0]\n",
    "        for j in range(1,N):\n",
    "            Sx=np.add(Sx,Resultdtwa[j])\n",
    "        return Sx/2\n",
    "    elif value==1:\n",
    "        Sy=Resultdtwa[N]\n",
    "        for j in range(1,N):\n",
    "            Sy=np.add(Sy,Resultdtwa[j+N])\n",
    "        return Sy/2\n",
    "    elif value==2:\n",
    "        Sz=Resultdtwa[2*N]\n",
    "        for j in range(1,N):\n",
    "            Sz=np.add(Sz,Resultdtwa[j+2*N])\n",
    "        return Sz/2\n",
    "    \n"
   ]
  },
  {
   "cell_type": "code",
   "execution_count": null,
   "metadata": {},
   "outputs": [],
   "source": [
    "\n",
    "\n"
   ]
  },
  {
   "cell_type": "markdown",
   "metadata": {},
   "source": [
    "# Results"
   ]
  },
  {
   "cell_type": "code",
   "execution_count": 118,
   "metadata": {},
   "outputs": [],
   "source": [
    "import matplotlib.pyplot as plt\n",
    "import numpy as np\n",
    "\n",
    "\"\"\"In order to provide a better presentation of the graphs we use the rcParams options shown below.\"\"\"\n",
    "\n",
    "import matplotlib\n",
    "matplotlib.rcParams['text.usetex'] = False\n",
    "matplotlib.rcParams['mathtext.fontset'] = 'stix'\n",
    "matplotlib.rcParams['font.family'] = 'STIXGeneral'\n",
    "matplotlib.rcParams['font.size'] = 15\n",
    "matplotlib.rcParams['figure.figsize'] = (11.0, 8.0)"
   ]
  },
  {
   "cell_type": "code",
   "execution_count": null,
   "metadata": {},
   "outputs": [],
   "source": []
  },
  {
   "cell_type": "markdown",
   "metadata": {},
   "source": [
    "## Distances summary"
   ]
  },
  {
   "cell_type": "code",
   "execution_count": 119,
   "metadata": {},
   "outputs": [
    {
     "name": "stderr",
     "output_type": "stream",
     "text": [
      "C:\\Users\\camil\\anaconda3\\lib\\site-packages\\numpy\\core\\_asarray.py:85: ComplexWarning: Casting complex values to real discards the imaginary part\n",
      "  return array(a, dtype, copy=False, order=order)\n"
     ]
    },
    {
     "data": {
      "text/plain": [
       "<matplotlib.legend.Legend at 0x22dd1972d30>"
      ]
     },
     "execution_count": 119,
     "metadata": {},
     "output_type": "execute_result"
    },
    {
     "data": {
      "image/png": "[encoded data removed]",
      "text/plain": [
       "<Figure size 792x576 with 1 Axes>"
      ]
     },
     "metadata": {
      "needs_background": "light"
     },
     "output_type": "display_data"
    }
   ],
   "source": [
    "plt.title(\"<$S_z$>\")\n",
    "\n",
    "plt.plot(times,(N/2)*(z[:,1]),label=\"Cumulant\")\n",
    "plt.plot(times,Sk(2),label=\"DDTWA\")\n",
    "plt.plot(times,Skdtwa(2),label=\"DTWA\")\n",
    "plt.plot(times,(N/2)*z0_gen(times),label=\"Analytic\")\n",
    "\n",
    "\n",
    "plt.legend()"
   ]
  },
  {
   "cell_type": "code",
   "execution_count": 120,
   "metadata": {},
   "outputs": [
    {
     "name": "stdout",
     "output_type": "stream",
     "text": [
      "DDTWA  0.028580629255244048   DTWA  0.018596260290334097   Cumulant  0.00011815657018781484\n"
     ]
    }
   ],
   "source": [
    "Foss_z=(N/2)*z0_gen(times)\n",
    "\n",
    "Dist_zDDTWA=np.linalg.norm(Sk(2)-Foss_z,1)\n",
    "Dist_zDTWA=np.linalg.norm(Skdtwa(2)-Foss_z,1)\n",
    "Dist_zCumul=np.linalg.norm((N/2)*(z[:,1])-Foss_z,1)\n",
    "\n",
    "\n",
    "\n",
    "\n",
    "\n",
    "\n",
    "print(\"DDTWA \",Dist_zDDTWA/n,\"  DTWA \",Dist_zDTWA/n, \"  Cumulant \", Dist_zCumul)"
   ]
  },
  {
   "cell_type": "code",
   "execution_count": null,
   "metadata": {},
   "outputs": [],
   "source": []
  },
  {
   "cell_type": "code",
   "execution_count": 121,
   "metadata": {},
   "outputs": [
    {
     "name": "stderr",
     "output_type": "stream",
     "text": [
      "C:\\Users\\camil\\anaconda3\\lib\\site-packages\\numpy\\core\\_asarray.py:85: ComplexWarning: Casting complex values to real discards the imaginary part\n",
      "  return array(a, dtype, copy=False, order=order)\n",
      "C:\\Users\\camil\\anaconda3\\lib\\site-packages\\numpy\\core\\_asarray.py:85: ComplexWarning: Casting complex values to real discards the imaginary part\n",
      "  return array(a, dtype, copy=False, order=order)\n"
     ]
    },
    {
     "data": {
      "text/plain": [
       "<matplotlib.legend.Legend at 0x22dd1e1f700>"
      ]
     },
     "execution_count": 121,
     "metadata": {},
     "output_type": "execute_result"
    },
    {
     "data": {
      "image/png": "[encoded data removed]",
      "text/plain": [
       "<Figure size 792x576 with 1 Axes>"
      ]
     },
     "metadata": {
      "needs_background": "light"
     },
     "output_type": "display_data"
    }
   ],
   "source": [
    "plt.title(\"<$S_x$>\")\n",
    "\n",
    "plt.plot(times,(N/2)*(z[:,0]+np.conjugate(z[:,0])),label=\"Cumulant\")\n",
    "plt.plot(times,Sk(0),label=\"DDTWA\")\n",
    "plt.plot(times,Skdtwa(0),label=\"DTWA\")\n",
    "plt.plot(times,(N/2)*(p0_gen(times) + np.conjugate(p0_gen(times)) ),label=\"Analytic\")\n",
    "\n",
    "\n",
    "plt.legend()"
   ]
  },
  {
   "cell_type": "code",
   "execution_count": 122,
   "metadata": {},
   "outputs": [
    {
     "name": "stdout",
     "output_type": "stream",
     "text": [
      "DDTWA  0.0848684063928849   DTWA  0.330699224206727   Cumulant  0.20075406663021433\n"
     ]
    }
   ],
   "source": [
    "Foss_x=(N/2)*(p0_gen(times) + np.conjugate(p0_gen(times)) )\n",
    "\n",
    "Dist_xDDTWA=np.linalg.norm(Sk(0)-Foss_x,1)\n",
    "Dist_xDTWA=np.linalg.norm(Skdtwa(0)-Foss_x,1)\n",
    "Dist_xCumul=np.linalg.norm((N/2)*(z[:,0]+np.conjugate(z[:,0]))-Foss_x,1)\n",
    "\n",
    "\n",
    "\n",
    "\n",
    "\n",
    "\n",
    "print(\"DDTWA \",Dist_xDDTWA/n,\"  DTWA \",Dist_xDTWA/n, \"  Cumulant \", Dist_xCumul/n)"
   ]
  },
  {
   "cell_type": "code",
   "execution_count": null,
   "metadata": {},
   "outputs": [],
   "source": []
  },
  {
   "cell_type": "code",
   "execution_count": 123,
   "metadata": {},
   "outputs": [
    {
     "name": "stderr",
     "output_type": "stream",
     "text": [
      "C:\\Users\\camil\\anaconda3\\lib\\site-packages\\numpy\\core\\_asarray.py:85: ComplexWarning: Casting complex values to real discards the imaginary part\n",
      "  return array(a, dtype, copy=False, order=order)\n",
      "C:\\Users\\camil\\anaconda3\\lib\\site-packages\\numpy\\core\\_asarray.py:85: ComplexWarning: Casting complex values to real discards the imaginary part\n",
      "  return array(a, dtype, copy=False, order=order)\n"
     ]
    },
    {
     "data": {
      "text/plain": [
       "<matplotlib.legend.Legend at 0x22dd1cbbfa0>"
      ]
     },
     "execution_count": 123,
     "metadata": {},
     "output_type": "execute_result"
    },
    {
     "data": {
      "image/png": "[encoded data removed]",
      "text/plain": [
       "<Figure size 792x576 with 1 Axes>"
      ]
     },
     "metadata": {
      "needs_background": "light"
     },
     "output_type": "display_data"
    }
   ],
   "source": [
    "plt.title(\"<$S_y$>\")\n",
    "\n",
    "plt.plot(times,(N/2)*1j*(-z[:,0]+np.conjugate(z[:,0])),label=\"Cumulant\")\n",
    "plt.plot(times,Sk(1),label=\"D$\\,$DTWA\")\n",
    "plt.plot(times,Skdtwa(1),label=\"DTWA\")\n",
    "plt.plot(times,-(N/2)*1j*(-p0_gen(times) + np.conjugate(p0_gen(times)) ),label=\"Analytic\")\n",
    "\n",
    "\n",
    "plt.legend()"
   ]
  },
  {
   "cell_type": "code",
   "execution_count": null,
   "metadata": {},
   "outputs": [],
   "source": []
  },
  {
   "cell_type": "code",
   "execution_count": 124,
   "metadata": {},
   "outputs": [
    {
     "name": "stdout",
     "output_type": "stream",
     "text": [
      "DDTWA  0.09670210835056921   DTWA  0.35227587017521395   Cumulant  0.22016492886415076\n"
     ]
    }
   ],
   "source": [
    "Foss_y=-(N/2)*1j*(-p0_gen(times) + np.conjugate(p0_gen(times)) )\n",
    "\n",
    "Dist_yDDTWA=np.linalg.norm(Sk(1)-Foss_y,1)\n",
    "Dist_yDTWA=np.linalg.norm(Skdtwa(1)-Foss_y,1)\n",
    "Dist_yCumul=np.linalg.norm((N/2)*1j*(-z[:,0]+np.conjugate(z[:,0]))-Foss_y,1)\n",
    "\n",
    "\n",
    "\n",
    "print(\"DDTWA \",Dist_yDDTWA/n,\"  DTWA \",Dist_yDTWA/n, \"  Cumulant \", Dist_yCumul/n)"
   ]
  },
  {
   "cell_type": "markdown",
   "metadata": {},
   "source": [
    "## Total Distance"
   ]
  },
  {
   "cell_type": "code",
   "execution_count": 125,
   "metadata": {},
   "outputs": [
    {
     "name": "stdout",
     "output_type": "stream",
     "text": [
      "DDTWA  0.21015114399869816   DTWA  0.701571354672275   Cumulant  0.4209191642894654    $\\Gamma_{\\phi}$ 0.2   \\Gamma 0.2\n"
     ]
    }
   ],
   "source": [
    "Dist_DDTWA=Dist_xDDTWA+Dist_yDDTWA+Dist_zDDTWA\n",
    "Dist_DTWA=Dist_xDTWA+Dist_yDTWA+Dist_zDTWA\n",
    "Dist_Cumul=Dist_xCumul+Dist_yCumul+Dist_zCumul\n",
    "\n",
    "\n",
    "print(\"DDTWA \",Dist_DDTWA/n,\"  DTWA \",Dist_DTWA/n, \"  Cumulant \", Dist_Cumul/n, \"   $\\Gamma_{\\phi}$\", refgamma, \"  \\Gamma\", refdecay)"
   ]
  },
  {
   "cell_type": "code",
   "execution_count": null,
   "metadata": {},
   "outputs": [],
   "source": []
  },
  {
   "cell_type": "code",
   "execution_count": null,
   "metadata": {},
   "outputs": [],
   "source": []
  },
  {
   "cell_type": "code",
   "execution_count": null,
   "metadata": {},
   "outputs": [],
   "source": []
  },
  {
   "cell_type": "code",
   "execution_count": null,
   "metadata": {},
   "outputs": [],
   "source": []
  },
  {
   "cell_type": "markdown",
   "metadata": {},
   "source": [
    "DDTWA  0.14653531979630047   DTWA  0.86360335092438   Cumulant  6.73455569491864    $\\Gamma_{\\phi}$ 0.0   \\Gamma 0.05\n",
    "DDTWA  0.19402629166683236   DTWA  0.5168239017297126   Cumulant  4.638963031336165    $\\Gamma_{\\phi}$ 0.05   \\Gamma 0.05\n",
    "DDTWA  0.22244307690743054   DTWA  0.5012654150337356   Cumulant  3.2215857281920615    $\\Gamma_{\\phi}$ 0.1   \\Gamma 0.05\n",
    "DDTWA  0.06112523467017385   DTWA  0.3835364679801429   Cumulant  2.256514410306027    $\\Gamma_{\\phi}$ 0.15   \\Gamma 0.05\n",
    "DDTWA  0.11631514958704228   DTWA  0.26857363071206913   Cumulant  1.5947499950377728    $\\Gamma_{\\phi}$ 0.2   \\Gamma 0.05\n",
    "DDTWA  0.16587660426806564   DTWA  0.19442277248743203   Cumulant  1.1375699864827882    $\\Gamma_{\\phi}$ 0.25   \\Gamma 0.05\n",
    "\n",
    "DDTWA  0.31767600228096693   DTWA  1.5336851335173758   Cumulant  4.457197561597242    $\\Gamma_{\\phi}$ 0.0   \\Gamma 0.1\n",
    "DDTWA  0.32538232746933593   DTWA  1.0585822737283654   Cumulant  3.08847265536392    $\\Gamma_{\\phi}$ 0.05   \\Gamma 0.1\n",
    "DDTWA  0.19055059096098262   DTWA  0.8703811282775037   Cumulant  2.1582835782146863    $\\Gamma_{\\phi}$ 0.1   \\Gamma 0.1\n",
    "DDTWA  0.16928505382843353   DTWA  0.6916339698857314   Cumulant  1.5217310895687635    $\\Gamma_{\\phi}$ 0.15   \\Gamma 0.1\n",
    "DDTWA  0.2307662122348709   DTWA  0.49660354431608894   Cumulant  1.0829178538398088    $\\Gamma_{\\phi}$ 0.2   \\Gamma 0.1\n",
    "\n"
   ]
  },
  {
   "cell_type": "code",
   "execution_count": null,
   "metadata": {},
   "outputs": [],
   "source": []
  },
  {
   "cell_type": "code",
   "execution_count": null,
   "metadata": {},
   "outputs": [],
   "source": []
  },
  {
   "cell_type": "code",
   "execution_count": null,
   "metadata": {},
   "outputs": [],
   "source": []
  },
  {
   "cell_type": "code",
   "execution_count": null,
   "metadata": {},
   "outputs": [],
   "source": []
  },
  {
   "cell_type": "code",
   "execution_count": null,
   "metadata": {},
   "outputs": [],
   "source": []
  },
  {
   "cell_type": "code",
   "execution_count": null,
   "metadata": {},
   "outputs": [],
   "source": []
  },
  {
   "cell_type": "code",
   "execution_count": null,
   "metadata": {},
   "outputs": [],
   "source": []
  },
  {
   "cell_type": "code",
   "execution_count": null,
   "metadata": {},
   "outputs": [],
   "source": []
  },
  {
   "cell_type": "code",
   "execution_count": null,
   "metadata": {},
   "outputs": [],
   "source": []
  },
  {
   "cell_type": "code",
   "execution_count": null,
   "metadata": {},
   "outputs": [],
   "source": []
  }
 ],
 "metadata": {
  "kernelspec": {
   "display_name": "Python 3",
   "language": "python",
   "name": "python3"
  },
  "language_info": {
   "codemirror_mode": {
    "name": "ipython",
    "version": 3
   },
   "file_extension": ".py",
   "mimetype": "text/x-python",
   "name": "python",
   "nbconvert_exporter": "python",
   "pygments_lexer": "ipython3",
   "version": "3.8.3"
  }
 },
 "nbformat": 4,
 "nbformat_minor": 4
}
