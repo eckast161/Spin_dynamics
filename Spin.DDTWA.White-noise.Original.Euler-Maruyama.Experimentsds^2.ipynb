{
 "cells": [
  {
   "cell_type": "code",
   "execution_count": 138,
   "metadata": {},
   "outputs": [],
   "source": [
    "import matplotlib.pyplot as plt\n",
    "import numpy as np\n",
    "\n",
    "\"\"\"In order to provide a better presentation of the graphs we use the rcParams options shown below.\"\"\"\n",
    "\n",
    "import matplotlib\n",
    "matplotlib.rcParams['text.usetex'] = False\n",
    "matplotlib.rcParams['mathtext.fontset'] = 'stix'\n",
    "matplotlib.rcParams['font.family'] = 'STIXGeneral'\n",
    "matplotlib.rcParams['font.size'] = 15\n",
    "matplotlib.rcParams['figure.figsize'] = (8.0, 6.0)"
   ]
  },
  {
   "cell_type": "code",
   "execution_count": 186,
   "metadata": {},
   "outputs": [],
   "source": [
    "import numpy as np\n",
    "import matplotlib.pyplot as plt\n",
    "\n",
    "\n",
    "import time\n",
    "from scipy.integrate import odeint\n",
    "from scipy.special import zeta\n",
    "from random import choices"
   ]
  },
  {
   "cell_type": "code",
   "execution_count": null,
   "metadata": {},
   "outputs": [],
   "source": []
  },
  {
   "cell_type": "code",
   "execution_count": 187,
   "metadata": {},
   "outputs": [],
   "source": [
    "\"\"\"Our system of differential equations belongs to the complex space, that is why we implemented the code suggested in\"\"\"\n",
    "\"\"\"https://stackoverflow.com/questions/19910189/scipy-odeint-with-complex-initial-values.\"\"\"\n",
    "\n",
    "import time\n",
    "import numpy as np\n",
    "from scipy.integrate import odeint\n",
    "from scipy.special import zeta\n",
    "from random import choices\n",
    "\n",
    "def odeintz(func, z0, t, **kwargs):\n",
    "   \n",
    "    \n",
    "    \"\"\"An odeint-like function for complex valued differential equations.\n",
    "\n",
    "    Inputs:\n",
    "    ----------\n",
    "      -func: function associated to dr/dt=f(x;t), where x is the set of parameters and variables to be determined\n",
    "      -z0: 1d array with length N*(5N-1)/2\n",
    "      -t: 1d array from t=0 to t=tf (parameter set by the user)\n",
    "      - **kwargs: keyword arguments related with external functions to be used in odeint\n",
    "    \n",
    "    Return:\n",
    "      -z: multivariable array with the solution of the differential equation associated with each variable\"\"\"\n",
    "\n",
    "    # Disallow Jacobian-related arguments.\n",
    "    _unsupported_odeint_args = ['Dfun', 'col_deriv', 'ml', 'mu']\n",
    "    bad_args = [arg for arg in kwargs if arg in _unsupported_odeint_args]\n",
    "    if len(bad_args) > 0:\n",
    "        raise ValueError(\"The odeint argument %r is not supported by \"\n",
    "                         \"odeintz.\" % (bad_args[0],))\n",
    "\n",
    "    # Make sure z0 is a numpy array of type np.complex128.\n",
    "    z0 = np.array(z0, dtype=np.complex128, ndmin=1)\n",
    "\n",
    "    def realfunc(x, t, *args):\n",
    "        z = x.view(np.complex128)\n",
    "        dzdt = func(z, t, *args)\n",
    "        # func might return a python list, so convert its return\n",
    "        # value to an array with type np.complex128, and then return\n",
    "        # a np.float64 view of that array.\n",
    "        return np.asarray(dzdt, dtype=np.complex128).view(np.float64)\n",
    "\n",
    "    result = odeint(realfunc, z0.view(np.float64), t, **kwargs)\n",
    "\n",
    "    if kwargs.get('full_output', False):\n",
    "        z = result[0].view(np.complex128)\n",
    "        infodict = result[1]\n",
    "        return z, infodict\n",
    "    else:\n",
    "        z = result.view(np.complex128)\n",
    "        return z"
   ]
  },
  {
   "cell_type": "code",
   "execution_count": null,
   "metadata": {},
   "outputs": [],
   "source": []
  },
  {
   "cell_type": "code",
   "execution_count": 163,
   "metadata": {},
   "outputs": [],
   "source": [
    "from numba import jit\n",
    "\n",
    "@jit\n",
    "\n",
    "\n",
    "def F_decay(sx,sy,sz):\n",
    "\n",
    "    norm_s=np.linalg.norm((sx,sy,sz),2)\n",
    "    comp_univ=1-norm_s**2-(sz+1)**2\n",
    "    \n",
    "    if comp_univ>=0:\n",
    "        return [-sy,sx,sz+1]\n",
    "    elif np.abs(1-sz**2)<=np.abs(comp_univ):\n",
    "        return [-sy,sx,sz+1]\n",
    "    elif sz**2+sz<=0:\n",
    "        return [-sy,sx,sz+1]\n",
    "    \n",
    "    else:\n",
    "        #return [-sy,sx,np.sqrt( 2*(sz**2+sz)  )]\n",
    "        #return [-sx,sy,np.sqrt( 2*(sz**2+sz)  )]\n",
    "        return [-sy,sx,sz+1]"
   ]
  },
  {
   "cell_type": "code",
   "execution_count": 164,
   "metadata": {},
   "outputs": [],
   "source": [
    "import numpy as np\n",
    "import matplotlib.pyplot as plt\n",
    "%matplotlib inline\n",
    "\n",
    "\n",
    "dt = 0.1 # Time step.\n",
    "T = 5 # Total time.\n",
    "\n",
    "\n",
    "\n",
    "n = int(T / dt) # Number of time steps.\n",
    "\n",
    "J=1\n",
    "N=6\n",
    "\n",
    "refgamma=0.2  #Fixed\n",
    "refdecay=0.2\n",
    "refomega=0\n",
    "\n",
    "Gamma_du=0  #Fixed\n",
    "Gamma_phi=refgamma*J\n",
    "Gamma_decay=refdecay*J\n",
    "Omega=refomega*J\n",
    "\n",
    "sqrt_2phi=  (2*Gamma_phi)**0.5\n",
    "sqrt_decay= (Gamma_decay)**0.5\n",
    "\n",
    "\n",
    "Stochastic=1   #Is the process stochastic?\n",
    "\n",
    "sqrt_Gamma_phi = np.sqrt(Gamma_phi)\n",
    "sqrtdt = np.sqrt(dt)*Stochastic\n",
    "\n",
    "from numba import jit\n",
    "\n",
    "@jit\n",
    "\n",
    "def trayectory(N=N):\n",
    "    \n",
    "    \n",
    "    \n",
    "    \n",
    "\n",
    "\n",
    "    Results =np.zeros((3*N, n))\n",
    "\n",
    "    for j in range(N):\n",
    "        a=(choices([-1,1]))[0]\n",
    "        b=(choices([-1,1]))[0]\n",
    "        Results[j][0]=1   #state |+>\n",
    "        Results[j+N][0]=a\n",
    "        Results[j+2*N][0]=b\n",
    "\n",
    "\n",
    "    for t in range(n-1):\n",
    "        for i in range(N): \n",
    "            Normal_VA=np.random.randn()#np.random.normal(0, 1)\n",
    "            \n",
    "            sq_NVA=sqrtdt * Normal_VA\n",
    "            \n",
    "            Rsx=Results[i][t]\n",
    "            Rsy=Results[i+N][t]\n",
    "            Rsz=Results[i+2*N][t]\n",
    "            \n",
    "            Resul=F_decay(Rsx,Rsy,Rsz)\n",
    "            \n",
    "            gx,gy,gz=Resul[0],Resul[1],Resul[2]\n",
    "            \n",
    "            \n",
    "            \n",
    "        \n",
    "            Results[i][t+1]     = Results[i][t]+dt*(-Gamma_phi-(Gamma_decay/2) )*Results[i][t]-\\\n",
    "                (sqrt_2phi*Results[i+N][t]+sqrt_decay*(  -gy) ) *sq_NVA\n",
    "            Results[i+N][t+1]   = Results[i+N][t]+dt*(-Omega*Results[i+2*N][t] -(Gamma_phi+ (Gamma_decay/2))*Results[i+N][t])+\\\n",
    "                (sqrt_2phi*Results[i][t]+sqrt_decay*gx ) * sq_NVA\n",
    "            Results[i+2*N][t+1] = Results[i+2*N][t]+dt*( Omega*Results[i+N][t] - Gamma_decay*(Results[i+2*N][t]+1) )+\\\n",
    "                sqrt_decay*( gz )*sq_NVA\n",
    "            \n",
    "            for j in range(N):\n",
    "                if i!=j:\n",
    "                    Results[i][t+1]=Results[i][t+1]-2*Results[i+N][t]*(J/N)*Results[j+2*N][t]*dt\n",
    "                    Results[i+N][t+1]=Results[i+N][t+1]+ 2*Results[i][t]*(J/N)*Results[j+2*N][t]*dt\n",
    "                    \n",
    "                    \n",
    "            \n",
    "            \n",
    "    return Results\n"
   ]
  },
  {
   "cell_type": "code",
   "execution_count": 165,
   "metadata": {},
   "outputs": [],
   "source": [
    "from numba import jit\n",
    "\n",
    "@jit\n",
    "\n",
    "def averages(itera,N):\n",
    "    \n",
    "    Average=np.zeros((3*N, n))\n",
    "    for j in range(itera):\n",
    "        Average=np.add(Average,trayectory(N))\n",
    "    return Average/itera\n",
    "    "
   ]
  },
  {
   "cell_type": "code",
   "execution_count": 166,
   "metadata": {},
   "outputs": [
    {
     "name": "stderr",
     "output_type": "stream",
     "text": [
      "<ipython-input-165-59a73b6f0605>:3: NumbaWarning: \u001b[1m\n",
      "Compilation is falling back to object mode WITH looplifting enabled because Function \"averages\" failed type inference due to: \u001b[1m\u001b[1m\u001b[1mInvalid use of type(CPUDispatcher(<function trayectory at 0x000001CE261F4430>)) with parameters (int64)\n",
      "\u001b[0m\n",
      "\u001b[0m\u001b[1mDuring: resolving callee type: type(CPUDispatcher(<function trayectory at 0x000001CE261F4430>))\u001b[0m\n",
      "\u001b[0m\u001b[1mDuring: typing of call at <ipython-input-165-59a73b6f0605> (9)\n",
      "\u001b[0m\n",
      "\u001b[1m\n",
      "File \"<ipython-input-165-59a73b6f0605>\", line 9:\u001b[0m\n",
      "\u001b[1mdef averages(itera,N):\n",
      "    <source elided>\n",
      "    for j in range(itera):\n",
      "\u001b[1m        Average=np.add(Average,trayectory(N))\n",
      "\u001b[0m        \u001b[1m^\u001b[0m\u001b[0m\n",
      "\u001b[0m\n",
      "  @jit\n",
      "<ipython-input-165-59a73b6f0605>:3: NumbaWarning: \u001b[1m\n",
      "Compilation is falling back to object mode WITHOUT looplifting enabled because Function \"averages\" failed type inference due to: \u001b[1m\u001b[1mcannot determine Numba type of <class 'numba.core.dispatcher.LiftedLoop'>\u001b[0m\n",
      "\u001b[1m\n",
      "File \"<ipython-input-165-59a73b6f0605>\", line 8:\u001b[0m\n",
      "\u001b[1mdef averages(itera,N):\n",
      "    <source elided>\n",
      "    Average=np.zeros((3*N, n))\n",
      "\u001b[1m    for j in range(itera):\n",
      "\u001b[0m    \u001b[1m^\u001b[0m\u001b[0m\n",
      "\u001b[0m\u001b[0m\n",
      "  @jit\n",
      "C:\\Users\\camil\\anaconda3\\lib\\site-packages\\numba\\core\\object_mode_passes.py:177: NumbaWarning: \u001b[1mFunction \"averages\" was compiled in object mode without forceobj=True, but has lifted loops.\n",
      "\u001b[1m\n",
      "File \"<ipython-input-165-59a73b6f0605>\", line 7:\u001b[0m\n",
      "\u001b[1mdef averages(itera,N):\n",
      "    <source elided>\n",
      "    \n",
      "\u001b[1m    Average=np.zeros((3*N, n))\n",
      "\u001b[0m    \u001b[1m^\u001b[0m\u001b[0m\n",
      "\u001b[0m\n",
      "  warnings.warn(errors.NumbaWarning(warn_msg,\n",
      "C:\\Users\\camil\\anaconda3\\lib\\site-packages\\numba\\core\\object_mode_passes.py:187: NumbaDeprecationWarning: \u001b[1m\n",
      "Fall-back from the nopython compilation path to the object mode compilation path has been detected, this is deprecated behaviour.\n",
      "\n",
      "For more information visit http://numba.pydata.org/numba-doc/latest/reference/deprecation.html#deprecation-of-object-mode-fall-back-behaviour-when-using-jit\n",
      "\u001b[1m\n",
      "File \"<ipython-input-165-59a73b6f0605>\", line 7:\u001b[0m\n",
      "\u001b[1mdef averages(itera,N):\n",
      "    <source elided>\n",
      "    \n",
      "\u001b[1m    Average=np.zeros((3*N, n))\n",
      "\u001b[0m    \u001b[1m^\u001b[0m\u001b[0m\n",
      "\u001b[0m\n",
      "  warnings.warn(errors.NumbaDeprecationWarning(msg,\n",
      "<ipython-input-165-59a73b6f0605>:3: NumbaWarning: \u001b[1m\n",
      "Compilation is falling back to object mode WITHOUT looplifting enabled because Function \"averages\" failed type inference due to: \u001b[1m\u001b[1m\u001b[1mInvalid use of type(CPUDispatcher(<function trayectory at 0x000001CE261F4430>)) with parameters (int64)\n",
      "\u001b[0m\n",
      "\u001b[0m\u001b[1mDuring: resolving callee type: type(CPUDispatcher(<function trayectory at 0x000001CE261F4430>))\u001b[0m\n",
      "\u001b[0m\u001b[1mDuring: typing of call at <ipython-input-165-59a73b6f0605> (9)\n",
      "\u001b[0m\n",
      "\u001b[1m\n",
      "File \"<ipython-input-165-59a73b6f0605>\", line 9:\u001b[0m\n",
      "\u001b[1mdef averages(itera,N):\n",
      "    <source elided>\n",
      "    for j in range(itera):\n",
      "\u001b[1m        Average=np.add(Average,trayectory(N))\n",
      "\u001b[0m        \u001b[1m^\u001b[0m\u001b[0m\n",
      "\u001b[0m\n",
      "  @jit\n",
      "C:\\Users\\camil\\anaconda3\\lib\\site-packages\\numba\\core\\object_mode_passes.py:177: NumbaWarning: \u001b[1mFunction \"averages\" was compiled in object mode without forceobj=True.\n",
      "\u001b[1m\n",
      "File \"<ipython-input-165-59a73b6f0605>\", line 8:\u001b[0m\n",
      "\u001b[1mdef averages(itera,N):\n",
      "    <source elided>\n",
      "    Average=np.zeros((3*N, n))\n",
      "\u001b[1m    for j in range(itera):\n",
      "\u001b[0m    \u001b[1m^\u001b[0m\u001b[0m\n",
      "\u001b[0m\n",
      "  warnings.warn(errors.NumbaWarning(warn_msg,\n",
      "C:\\Users\\camil\\anaconda3\\lib\\site-packages\\numba\\core\\object_mode_passes.py:187: NumbaDeprecationWarning: \u001b[1m\n",
      "Fall-back from the nopython compilation path to the object mode compilation path has been detected, this is deprecated behaviour.\n",
      "\n",
      "For more information visit http://numba.pydata.org/numba-doc/latest/reference/deprecation.html#deprecation-of-object-mode-fall-back-behaviour-when-using-jit\n",
      "\u001b[1m\n",
      "File \"<ipython-input-165-59a73b6f0605>\", line 8:\u001b[0m\n",
      "\u001b[1mdef averages(itera,N):\n",
      "    <source elided>\n",
      "    Average=np.zeros((3*N, n))\n",
      "\u001b[1m    for j in range(itera):\n",
      "\u001b[0m    \u001b[1m^\u001b[0m\u001b[0m\n",
      "\u001b[0m\n",
      "  warnings.warn(errors.NumbaDeprecationWarning(msg,\n",
      "<ipython-input-164-b8fa3a70b1d1>:36: NumbaWarning: \u001b[1m\n",
      "Compilation is falling back to object mode WITHOUT looplifting enabled because Function \"trayectory\" failed type inference due to: \u001b[1mUntyped global name 'choices':\u001b[0m \u001b[1m\u001b[1mcannot determine Numba type of <class 'method'>\u001b[0m\n",
      "\u001b[1m\n",
      "File \"<ipython-input-164-b8fa3a70b1d1>\", line 48:\u001b[0m\n",
      "\u001b[1mdef trayectory(N=N):\n",
      "    <source elided>\n",
      "    for j in range(N):\n",
      "\u001b[1m        a=(choices([-1,1]))[0]\n",
      "\u001b[0m        \u001b[1m^\u001b[0m\u001b[0m\n",
      "\u001b[0m\u001b[0m\n",
      "  @jit\n",
      "C:\\Users\\camil\\anaconda3\\lib\\site-packages\\numba\\core\\object_mode_passes.py:177: NumbaWarning: \u001b[1mFunction \"trayectory\" was compiled in object mode without forceobj=True.\n",
      "\u001b[1m\n",
      "File \"<ipython-input-164-b8fa3a70b1d1>\", line 47:\u001b[0m\n",
      "\u001b[1mdef trayectory(N=N):\n",
      "    <source elided>\n",
      "\n",
      "\u001b[1m    for j in range(N):\n",
      "\u001b[0m    \u001b[1m^\u001b[0m\u001b[0m\n",
      "\u001b[0m\n",
      "  warnings.warn(errors.NumbaWarning(warn_msg,\n",
      "C:\\Users\\camil\\anaconda3\\lib\\site-packages\\numba\\core\\object_mode_passes.py:187: NumbaDeprecationWarning: \u001b[1m\n",
      "Fall-back from the nopython compilation path to the object mode compilation path has been detected, this is deprecated behaviour.\n",
      "\n",
      "For more information visit http://numba.pydata.org/numba-doc/latest/reference/deprecation.html#deprecation-of-object-mode-fall-back-behaviour-when-using-jit\n",
      "\u001b[1m\n",
      "File \"<ipython-input-164-b8fa3a70b1d1>\", line 47:\u001b[0m\n",
      "\u001b[1mdef trayectory(N=N):\n",
      "    <source elided>\n",
      "\n",
      "\u001b[1m    for j in range(N):\n",
      "\u001b[0m    \u001b[1m^\u001b[0m\u001b[0m\n",
      "\u001b[0m\n",
      "  warnings.warn(errors.NumbaDeprecationWarning(msg,\n",
      "<ipython-input-164-b8fa3a70b1d1>:36: NumbaWarning: \u001b[1m\n",
      "Compilation is falling back to object mode WITHOUT looplifting enabled because Function \"trayectory\" failed type inference due to: \u001b[1m\u001b[1m\u001b[1mInvalid use of type(CPUDispatcher(<function F_decay at 0x000001CE2E3CFDC0>)) with parameters (float64, float64, float64)\n",
      "\u001b[0m\n",
      "\u001b[0m\u001b[1mDuring: resolving callee type: type(CPUDispatcher(<function F_decay at 0x000001CE2E3CFDC0>))\u001b[0m\n",
      "\u001b[0m\u001b[1mDuring: typing of call at <ipython-input-164-b8fa3a70b1d1> (65)\n",
      "\u001b[0m\n",
      "\u001b[1m\n",
      "File \"<ipython-input-164-b8fa3a70b1d1>\", line 65:\u001b[0m\n",
      "\u001b[1mdef trayectory(N=N):\n",
      "    <source elided>\n",
      "            \n",
      "\u001b[1m            Resul=F_decay(Rsx,Rsy,Rsz)\n",
      "\u001b[0m            \u001b[1m^\u001b[0m\u001b[0m\n",
      "\u001b[0m\n",
      "  @jit\n",
      "C:\\Users\\camil\\anaconda3\\lib\\site-packages\\numba\\core\\object_mode_passes.py:177: NumbaWarning: \u001b[1mFunction \"trayectory\" was compiled in object mode without forceobj=True.\n",
      "\u001b[1m\n",
      "File \"<ipython-input-164-b8fa3a70b1d1>\", line 55:\u001b[0m\n",
      "\u001b[1mdef trayectory(N=N):\n",
      "    <source elided>\n",
      "\n",
      "\u001b[1m    for t in range(n-1):\n",
      "\u001b[0m    \u001b[1m^\u001b[0m\u001b[0m\n",
      "\u001b[0m\n",
      "  warnings.warn(errors.NumbaWarning(warn_msg,\n",
      "C:\\Users\\camil\\anaconda3\\lib\\site-packages\\numba\\core\\object_mode_passes.py:187: NumbaDeprecationWarning: \u001b[1m\n",
      "Fall-back from the nopython compilation path to the object mode compilation path has been detected, this is deprecated behaviour.\n",
      "\n",
      "For more information visit http://numba.pydata.org/numba-doc/latest/reference/deprecation.html#deprecation-of-object-mode-fall-back-behaviour-when-using-jit\n",
      "\u001b[1m\n",
      "File \"<ipython-input-164-b8fa3a70b1d1>\", line 55:\u001b[0m\n",
      "\u001b[1mdef trayectory(N=N):\n",
      "    <source elided>\n",
      "\n",
      "\u001b[1m    for t in range(n-1):\n",
      "\u001b[0m    \u001b[1m^\u001b[0m\u001b[0m\n",
      "\u001b[0m\n",
      "  warnings.warn(errors.NumbaDeprecationWarning(msg,\n"
     ]
    },
    {
     "name": "stdout",
     "output_type": "stream",
     "text": [
      "160.06229209899902\n"
     ]
    }
   ],
   "source": [
    "t0=time.time()\n",
    "\n",
    "Iterations=10000\n",
    "\n",
    "\n",
    "Result=averages(Iterations,N)\n",
    "\n",
    "\n",
    "t1=time.time()\n",
    "\n",
    "print(t1-t0)"
   ]
  },
  {
   "cell_type": "code",
   "execution_count": null,
   "metadata": {},
   "outputs": [],
   "source": []
  },
  {
   "cell_type": "code",
   "execution_count": 167,
   "metadata": {},
   "outputs": [],
   "source": [
    "#from numba import jit\n",
    "\n",
    "#@jit\n",
    "\n",
    "def Sk(value):\n",
    "    \n",
    "    if value==0:  \n",
    "        Sx=Result[0]\n",
    "        for j in range(1,N):\n",
    "            Sx=np.add(Sx,Result[j])\n",
    "        return Sx/2\n",
    "    elif value==1:\n",
    "        Sy=Result[N]\n",
    "        for j in range(1,N):\n",
    "            Sy=np.add(Sy,Result[j+N])\n",
    "        return Sy/2\n",
    "    elif value==2:\n",
    "        Sz=Result[2*N]\n",
    "        for j in range(1,N):\n",
    "            Sz=np.add(Sz,Result[j+2*N])\n",
    "        return Sz/2\n",
    "    \n"
   ]
  },
  {
   "cell_type": "code",
   "execution_count": 168,
   "metadata": {},
   "outputs": [],
   "source": [
    "times = np.linspace(0., T, n)"
   ]
  },
  {
   "cell_type": "code",
   "execution_count": null,
   "metadata": {},
   "outputs": [],
   "source": []
  },
  {
   "cell_type": "code",
   "execution_count": 169,
   "metadata": {},
   "outputs": [],
   "source": [
    "\n",
    "\n",
    "\n",
    "\n",
    "gammaplus=Gamma_du/2\n",
    "gammaminus=Gamma_decay/2\n",
    "gammaz=Gamma_phi/4\n",
    "\n",
    "\n",
    "Gamma=np.array([gammaplus,gammaminus,gammaz])  #[gamma+,gamma-,gammaz]\n",
    "\n",
    "\n",
    "### Initial State\n",
    "\n",
    "\"\"\"We consider by defect that the system starts in |0> for all the spins. The user can set the initial state as well.\"\"\"\n",
    "\"\"\"Recall that |0><0|=[[1,0],[0,0]]  \"\"\"\n",
    "\n",
    "\"\"\"The benchmark suggests that our initial state should be |psi(0)>=|+>\"\"\"\n",
    "\n",
    "\n",
    "#t0=time.time()\n",
    "\n",
    "\n",
    "\n",
    "def trace(A):\n",
    "    return np.trace(A)\n",
    "\n",
    "def matmu(A,B):\n",
    "    return np.matmul(A,B)\n",
    "\n",
    "\n",
    "rho_init0=np.array([[1/2,1/2],[1/2,1/2]])    #density matrix |1><1|\n",
    "rho_init1=np.array([[1/2,1/2],[1/2,1/2]])    #density matrix |1><1|\n",
    "\n",
    "\n",
    "\n",
    "#rho_init1=np.array([[1,0],[0,0]])    #By default\n",
    "#rho_init2=np.array([[1,0],[0,0]])    #By default\n",
    "\n",
    "\n",
    "sigma_p= np.array([[0,1],[0,0]])\n",
    "sigma_m= np.array([[0,0],[1,0]])\n",
    "sigma_z= np.array([[1,0],[0,-1]])\n",
    "\n",
    "\n",
    "##Initial values one operator\n",
    "\n",
    "sp_init0=trace(matmu(rho_init0,sigma_p))\n",
    "sz_init0=trace(matmu(rho_init0,sigma_z))\n",
    "sp_init1=trace(matmu(rho_init1,sigma_p))\n",
    "sz_init1=trace(matmu(rho_init1,sigma_z))\n",
    "sm_init1=trace(matmu(rho_init1,sigma_m))\n",
    "\n",
    "\n",
    "##Initial values two-operators\n",
    "## We assume initial separability of the state\n",
    "#p0, z0, p1, z1 , p0p1, p0m1, z0p1, p0z1, z0z1 = z\n",
    "\n",
    "\n",
    "sp_initp0p1=sp_init0*sp_init1\n",
    "sz_initp0m1=sp_init0*sm_init1\n",
    "sp_initz0p1=sz_init0*sp_init1\n",
    "sz_initp0z1=sp_init0*sz_init1\n",
    "sz_initz0z1=sz_init0*sz_init1\n",
    "\n",
    "\n",
    "\n",
    "\n",
    "z0=np.array([sp_init0,sz_init0,sp_initp0p1,sz_initp0m1,sp_initz0p1,sz_initz0z1])\n",
    "\n",
    "\n",
    "\n",
    "#t1=time.time()\n",
    "\n",
    "#print(t1-t0)\n",
    "\n",
    "#t0=time.time()\n",
    "\n",
    "def cj(z): \n",
    "    return z.conjugate()\n",
    "\n",
    "def real(z): \n",
    "    return z.real\n",
    "\n",
    "def imag(z): \n",
    "    return z.imag\n",
    "\n",
    "\n",
    "def dot_p(v1,v2):\n",
    "    return np.dot(v1,v2)\n",
    "\n",
    "from numba import jit\n",
    "\n",
    "@jit\n",
    "\n",
    "    # Define the right-hand-side of the differential equation.\n",
    "def zfunc(z, t):\n",
    "    p0, z0, p0p1, p0m1,   z0p1, z0z1 = z        \n",
    "     \n",
    "    \n",
    "        \n",
    "    dp0dt=-1j*(Omega/2)*z0+2*1j*(J/N)*(N-1)*z0p1    -(Gamma[0]+Gamma[1]+4*Gamma[2])*p0\n",
    "        \n",
    "    dz0dt= 2*Omega*np.imag(p0)+2*(Gamma[0]-Gamma[1])-2*(Gamma[0]+Gamma[1])*z0  \n",
    "        \n",
    "    dp0p1dt=-1j*Omega*z0p1+4*1j*(J/N)*(N-2)*(p0p1*z0+2*(z0p1-p0*z0)*p0)    -2*(Gamma[0]+Gamma[1]+4*Gamma[2])*p0p1\n",
    "\n",
    "    dp0m1dt=-Omega*np.imag(z0p1)-2*(Gamma[0]+Gamma[1]+4*Gamma[2])*p0m1\n",
    "\n",
    "    dz0p1dt=-1j*(Omega/2)*(2*(p0p1-p0m1)+z0z1)+  2*1j*(J/N)*( p0 + (N-2)*(z0z1*p0+2*(z0p1-z0*p0)*z0) )+2*(Gamma[0]-Gamma[1])*p0   \n",
    "    dz0p1dt=dz0p1dt -(3*(Gamma[0]+Gamma[1])+4*Gamma[2])*z0p1\n",
    "            \n",
    "    dz0z1dt=  4*Omega*np.imag(z0p1)    - 4*(Gamma[1]-Gamma[0])*z0-4*(Gamma[0]+Gamma[1])*z0z1\n",
    "        \n",
    "        \n",
    "        \n",
    "        \n",
    "    return [dp0dt, dz0dt, dp0p1dt, dp0m1dt, dz0p1dt, dz0z1dt] \n",
    "\n",
    "    # Set up the inputs and call odeintz to solve the system.\n",
    "\n",
    "z, infodict = odeintz(zfunc, z0, times, full_output=1)\n",
    "    \n",
    "#t1=time.time()\n",
    "#print(t1-t0)"
   ]
  },
  {
   "cell_type": "code",
   "execution_count": null,
   "metadata": {},
   "outputs": [],
   "source": []
  },
  {
   "cell_type": "code",
   "execution_count": null,
   "metadata": {},
   "outputs": [],
   "source": []
  },
  {
   "cell_type": "code",
   "execution_count": null,
   "metadata": {},
   "outputs": [],
   "source": []
  },
  {
   "cell_type": "code",
   "execution_count": 170,
   "metadata": {},
   "outputs": [],
   "source": [
    "Gamma_ud=2*gammaplus\n",
    "Gamma_du=2*gammaminus\n",
    "Gamma_el=8*gammaz\n",
    "\n",
    "Gamma_r=Gamma_ud+Gamma_du+1e-8\n",
    "\n",
    "\n",
    "gamma=(Gamma_ud-Gamma_du)/4\n",
    "\n",
    "Tot=Gamma_r+Gamma_el\n",
    "\n",
    "lamda=Gamma_r/2\n",
    "\n",
    "J01=J\n",
    "\n",
    "\n",
    "s=2*1j*gamma+2*J01/N\n",
    "r=Gamma_ud*Gamma_du\n",
    "\n",
    "def p0_gen(t):\n",
    "    return  0.5*np.exp(-Tot*t/2)*( np.exp(-lamda*t)*( np.cos(t*(s**2-r)**0.5) +  lamda*np.sin(t*(s**2-r)**0.5)/((s**2-r)**0.5)) )**(N-1)\n",
    "\n",
    "\n",
    "def z0_gen(t):\n",
    "    return 2*(Gamma_ud-Gamma_du)/(Gamma_ud+Gamma_du+1e-8)*np.exp(-Gamma_r*t/2)*np.sinh(Gamma_r*t/2) "
   ]
  },
  {
   "cell_type": "code",
   "execution_count": null,
   "metadata": {},
   "outputs": [],
   "source": []
  },
  {
   "cell_type": "code",
   "execution_count": 171,
   "metadata": {},
   "outputs": [
    {
     "name": "stderr",
     "output_type": "stream",
     "text": [
      "C:\\Users\\camil\\anaconda3\\lib\\site-packages\\numpy\\core\\_asarray.py:85: ComplexWarning: Casting complex values to real discards the imaginary part\n",
      "  return array(a, dtype, copy=False, order=order)\n",
      "C:\\Users\\camil\\anaconda3\\lib\\site-packages\\numpy\\core\\_asarray.py:85: ComplexWarning: Casting complex values to real discards the imaginary part\n",
      "  return array(a, dtype, copy=False, order=order)\n"
     ]
    },
    {
     "data": {
      "text/plain": [
       "<matplotlib.legend.Legend at 0x1ce2ef1f970>"
      ]
     },
     "execution_count": 171,
     "metadata": {},
     "output_type": "execute_result"
    },
    {
     "data": {
      "image/png": "[encoded data removed]",
      "text/plain": [
       "<Figure size 432x288 with 1 Axes>"
      ]
     },
     "metadata": {
      "needs_background": "light"
     },
     "output_type": "display_data"
    }
   ],
   "source": [
    "plt.title(\"<$S_x$> \")\n",
    "\n",
    "\n",
    "plt.plot(times,(N/2)*(z[:,0]+np.conjugate(z[:,0])),\"--\",label=\"Cumulant\")\n",
    "plt.plot(times,Sk(0),label=\"DDTWA\")\n",
    "\n",
    "plt.plot(times,(N/2)*(p0_gen(times)+np.conjugate(p0_gen(times))),\"-\",label=\"Analytical\",c=\"g\")\n",
    "\n",
    "plt.legend()\n",
    "\n",
    "#plt.plot(t, (N/2)*np.exp(-Gamma_phi*t)*(np.cos(2*J*t/N))**(N-1),label=\"Analytic\")\n",
    "\n",
    "plt.legend()"
   ]
  },
  {
   "cell_type": "code",
   "execution_count": 172,
   "metadata": {},
   "outputs": [
    {
     "name": "stdout",
     "output_type": "stream",
     "text": [
      "DDTWA(X) 0.044964619557553764   Cumul(X) 0.1718188824542649\n"
     ]
    }
   ],
   "source": [
    "DD_x=Sk(0)\n",
    "Foss_x=(N/2)*(p0_gen(times)+np.conjugate(p0_gen(times)))\n",
    "Cumul_x=(N/2)*(z[:,0]+np.conjugate(z[:,0]))\n",
    "\n",
    "dist_DD_Foss_x   = np.linalg.norm(DD_x-Foss_x,1)\n",
    "\n",
    "dist_Cumul_Foss_x= np.linalg.norm(Cumul_x-Foss_x,1)\n",
    "              \n",
    "              \n",
    "print(\"DDTWA(X)\",dist_DD_Foss_x/n,\"  Cumul(X)\",dist_Cumul_Foss_x/n)              \n"
   ]
  },
  {
   "cell_type": "code",
   "execution_count": null,
   "metadata": {},
   "outputs": [],
   "source": []
  },
  {
   "cell_type": "code",
   "execution_count": 173,
   "metadata": {},
   "outputs": [
    {
     "name": "stderr",
     "output_type": "stream",
     "text": [
      "C:\\Users\\camil\\anaconda3\\lib\\site-packages\\numpy\\core\\_asarray.py:85: ComplexWarning: Casting complex values to real discards the imaginary part\n",
      "  return array(a, dtype, copy=False, order=order)\n"
     ]
    },
    {
     "data": {
      "text/plain": [
       "<matplotlib.legend.Legend at 0x1ce2e94f3a0>"
      ]
     },
     "execution_count": 173,
     "metadata": {},
     "output_type": "execute_result"
    },
    {
     "data": {
      "image/png": "[encoded data removed]",
      "text/plain": [
       "<Figure size 432x288 with 1 Axes>"
      ]
     },
     "metadata": {
      "needs_background": "light"
     },
     "output_type": "display_data"
    }
   ],
   "source": [
    "plt.title(\"<$S_z$>\")\n",
    "\n",
    "plt.plot(times,(N/2)*(z[:,1]),label=\"Cumulant\")\n",
    "plt.plot(times,Sk(2),label=\"DTWA\")\n",
    "plt.plot(times,(N/2)*z0_gen(times),label=\"Analytic\")\n",
    "\n",
    "\n",
    "plt.legend()"
   ]
  },
  {
   "cell_type": "code",
   "execution_count": null,
   "metadata": {},
   "outputs": [],
   "source": []
  },
  {
   "cell_type": "code",
   "execution_count": 174,
   "metadata": {},
   "outputs": [
    {
     "name": "stdout",
     "output_type": "stream",
     "text": [
      "DDTWA (Z) 0.009049502635605534   Cumul (Z) 1.547533303725146e-08\n"
     ]
    }
   ],
   "source": [
    "DD_z=Sk(2)\n",
    "Foss_z=(N/2)*z0_gen(times)\n",
    "Cumul_z=(N/2)*(z[:,1])\n",
    "\n",
    "dist_DD_Foss_z   = np.linalg.norm(DD_z-Foss_z,1)\n",
    "\n",
    "dist_Cumul_Foss_z= np.linalg.norm(Cumul_z-Foss_z,1)\n",
    "              \n",
    "              \n",
    "print(\"DDTWA (Z)\",dist_DD_Foss_z/n,\"  Cumul (Z)\",dist_Cumul_Foss_z/n)              \n"
   ]
  },
  {
   "cell_type": "code",
   "execution_count": null,
   "metadata": {},
   "outputs": [],
   "source": []
  },
  {
   "cell_type": "code",
   "execution_count": null,
   "metadata": {},
   "outputs": [],
   "source": []
  },
  {
   "cell_type": "code",
   "execution_count": 175,
   "metadata": {},
   "outputs": [],
   "source": [
    "Resul=F_decay(0.1,0.2,0.3)\n",
    "            \n",
    "sx,sy,sz=Resul[0],Resul[1],Resul[2]"
   ]
  },
  {
   "cell_type": "code",
   "execution_count": 176,
   "metadata": {},
   "outputs": [
    {
     "data": {
      "text/plain": [
       "-0.2"
      ]
     },
     "execution_count": 176,
     "metadata": {},
     "output_type": "execute_result"
    }
   ],
   "source": [
    "sx"
   ]
  },
  {
   "cell_type": "code",
   "execution_count": 177,
   "metadata": {},
   "outputs": [
    {
     "data": {
      "text/plain": [
       "0.1"
      ]
     },
     "execution_count": 177,
     "metadata": {},
     "output_type": "execute_result"
    }
   ],
   "source": [
    "sy"
   ]
  },
  {
   "cell_type": "code",
   "execution_count": 178,
   "metadata": {},
   "outputs": [
    {
     "data": {
      "text/plain": [
       "1.3"
      ]
     },
     "execution_count": 178,
     "metadata": {},
     "output_type": "execute_result"
    }
   ],
   "source": [
    "sz"
   ]
  },
  {
   "cell_type": "code",
   "execution_count": null,
   "metadata": {},
   "outputs": [],
   "source": []
  },
  {
   "cell_type": "code",
   "execution_count": 185,
   "metadata": {},
   "outputs": [
    {
     "data": {
      "image/png": "[encoded data removed]",
      "text/plain": [
       "<Figure size 432x288 with 1 Axes>"
      ]
     },
     "metadata": {
      "needs_background": "light"
     },
     "output_type": "display_data"
    }
   ],
   "source": [
    "plt.plot(times,np.abs(Foss_x-EE_x),\"--\",label=\"Sx step-funct\")\n",
    "plt.plot(times,np.abs((N/2)*z0_gen(times)-EE_z),\"--\",label=\"Sz step-funct\")\n",
    "\n",
    "plt.plot(times,np.abs(Foss_x-Sk(0)),label=\"Sx JP\")\n",
    "plt.plot(times,np.abs((N/2)*z0_gen(times)-Sk(2)),label=\"Sz JP\")\n",
    "\n",
    "Foss_x=(N/2)*(p0_gen(times)+np.conjugate(p0_gen(times)))\n",
    "\n",
    "#plt.plot(times,(N/2)*z0_gen(times),\"--\",label=\"Analytic\")\n",
    "#plt.plot(times,Foss_x,\"--\")"
   ]
  },
  {
   "cell_type": "code",
   "execution_count": 156,
   "metadata": {},
   "outputs": [],
   "source": [
    "EE_x=Sk(0)\n",
    "EE_y=Sk(1)\n",
    "EE_z=Sk(2)"
   ]
  },
  {
   "cell_type": "code",
   "execution_count": null,
   "metadata": {},
   "outputs": [],
   "source": []
  }
 ],
 "metadata": {
  "kernelspec": {
   "display_name": "Python 3",
   "language": "python",
   "name": "python3"
  },
  "language_info": {
   "codemirror_mode": {
    "name": "ipython",
    "version": 3
   },
   "file_extension": ".py",
   "mimetype": "text/x-python",
   "name": "python",
   "nbconvert_exporter": "python",
   "pygments_lexer": "ipython3",
   "version": "3.8.3"
  }
 },
 "nbformat": 4,
 "nbformat_minor": 4
}
