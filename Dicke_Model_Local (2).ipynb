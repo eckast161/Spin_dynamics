{
 "cells": [
  {
   "cell_type": "code",
   "execution_count": 91,
   "metadata": {},
   "outputs": [],
   "source": [
    "import matplotlib.pyplot as plt\n",
    "import numpy as np\n",
    "\n",
    "\n",
    "\n",
    "\"\"\"In order to provide a better presentation of the graphs we use the rcParams options shown below.\"\"\"\n",
    "\n",
    "import matplotlib\n",
    "matplotlib.rcParams['text.usetex'] = False\n",
    "matplotlib.rcParams['mathtext.fontset'] = 'stix'\n",
    "matplotlib.rcParams['font.family'] = 'STIXGeneral'\n",
    "matplotlib.rcParams['font.size'] = 15\n",
    "matplotlib.rcParams['figure.figsize'] = (11.0, 8.0)"
   ]
  },
  {
   "cell_type": "code",
   "execution_count": 92,
   "metadata": {},
   "outputs": [],
   "source": [
    "import matplotlib.pyplot as plt\n",
    "from numpy import linalg as LA\n",
    "import scipy.special\n",
    "\n",
    "import time\n",
    "from scipy.integrate import odeint\n",
    "from scipy.special import zeta\n",
    "from random import choices"
   ]
  },
  {
   "cell_type": "code",
   "execution_count": 93,
   "metadata": {},
   "outputs": [],
   "source": [
    "\"\"\"Our system of differential equations belongs to the complex space, that is why we implemented the code suggested in\"\"\"\n",
    "\"\"\"https://stackoverflow.com/questions/19910189/scipy-odeint-with-complex-initial-values.\"\"\"\n",
    "\n",
    "import time\n",
    "import numpy as np\n",
    "from scipy.integrate import odeint\n",
    "from scipy.special import zeta\n",
    "from random import choices\n",
    "\n",
    "def odeintz(func, z0, t, **kwargs):\n",
    "   \n",
    "    \n",
    "    \"\"\"An odeint-like function for complex valued differential equations.\n",
    "\n",
    "    Inputs:\n",
    "    ----------\n",
    "      -func: function associated to dr/dt=f(x;t), where x is the set of parameters and variables to be determined\n",
    "      -z0: 1d array with length N*(5N-1)/2\n",
    "      -t: 1d array from t=0 to t=tf (parameter set by the user)\n",
    "      - **kwargs: keyword arguments related with external functions to be used in odeint\n",
    "    \n",
    "    Return:\n",
    "      -z: multivariable array with the solution of the differential equation associated with each variable\"\"\"\n",
    "\n",
    "    # Disallow Jacobian-related arguments.\n",
    "    _unsupported_odeint_args = ['Dfun', 'col_deriv', 'ml', 'mu']\n",
    "    bad_args = [arg for arg in kwargs if arg in _unsupported_odeint_args]\n",
    "    if len(bad_args) > 0:\n",
    "        raise ValueError(\"The odeint argument %r is not supported by \"\n",
    "                         \"odeintz.\" % (bad_args[0],))\n",
    "\n",
    "    # Make sure z0 is a numpy array of type np.complex128.\n",
    "    z0 = np.array(z0, dtype=np.complex128, ndmin=1)\n",
    "\n",
    "    def realfunc(x, t, *args):\n",
    "        z = x.view(np.complex128)\n",
    "        dzdt = func(z, t, *args)\n",
    "        # func might return a python list, so convert its return\n",
    "        # value to an array with type np.complex128, and then return\n",
    "        # a np.float64 view of that array.\n",
    "        return np.asarray(dzdt, dtype=np.complex128).view(np.float64)\n",
    "\n",
    "    result = odeint(realfunc, z0.view(np.float64), t, **kwargs)\n",
    "\n",
    "    if kwargs.get('full_output', False):\n",
    "        z = result[0].view(np.complex128)\n",
    "        infodict = result[1]\n",
    "        return z, infodict\n",
    "    else:\n",
    "        z = result.view(np.complex128)\n",
    "        return z"
   ]
  },
  {
   "cell_type": "code",
   "execution_count": 100,
   "metadata": {},
   "outputs": [],
   "source": [
    "import numpy as np\n",
    "import matplotlib.pyplot as plt\n",
    "%matplotlib inline\n",
    "from numpy import random, zeros\n",
    "\n",
    "from numba import jit\n",
    "\n",
    "dt = 0.005 # Time step.\n",
    "T = 50 # Total time.\n",
    "n = int(T / dt) # Number of time steps.\n",
    "\n",
    "times = np.linspace(0., T, n)\n",
    "\n",
    "\n",
    "J=1\n",
    "N=10\n",
    "    \n",
    "\n",
    "refdecay=0  #Gamma (solely)\n",
    "\n",
    "\n",
    "\n",
    "\n",
    "refg=1\n",
    "refgamma=0.1  #Gamma phi (for dephasing)\n",
    "refkappa=0.5  #similar in the equation to decay\n",
    "refomega=1\n",
    "\n",
    "\n",
    "\n",
    "g_coef=refg*J\n",
    "Gamma_phi=refgamma*J\n",
    "kappa=refkappa*J\n",
    "Omega=refomega*J\n",
    "\n",
    "\n",
    "#------------------------------------------------------------------------------------\n",
    "\n",
    "refchi=0    \n",
    "Gamma_du=0  #Fixed\n",
    "Gamma_decay=refdecay*J/N\n",
    "chi=refchi*J\n",
    "\n",
    "\n",
    "#------------------------------------------------------------------------------------\n",
    "\n",
    "\n",
    "sqrt_2phi=  (2*Gamma_phi)**0.5\n",
    "sqrt_decay= (Gamma_decay)**0.5\n",
    "Stochastic=1   #Is the process stochastic?\n",
    "sqrt_Gamma_phi = np.sqrt(Gamma_phi)\n",
    "\n",
    "gama_sq= (  ((2*Gamma_phi)**0.5+ (Gamma_decay)**0.5  )**2 )/2\n",
    "\n",
    "sqrt_N=np.sqrt(N)\n",
    "\n",
    "\n",
    "theta = 0   #Initial state\n",
    "phi   = 0\n",
    "\n",
    "\n",
    "\n",
    "#set the initial values due to the measurements in the state |\\psi>=cos(\\theta/2)|0>+sin(\\theta/2)|1>\n",
    "\n",
    "from scipy import stats\n",
    "mk = np.array([-1,1])\n",
    "\n",
    "\n",
    "xp= (0.5*(1-np.sin(theta)*np.cos(phi)),0.5*(1+np.sin(theta)*np.cos(phi)))\n",
    "yp= (0.5*(1-np.sin(theta)*np.sin(phi)),0.5*(1+np.sin(theta)*np.sin(phi)))\n",
    "zp = ((np.cos(theta/2))**2, (np.sin(theta/2))**2)\n",
    "\n",
    "\n",
    "custmx = stats.rv_discrete(name='custmx', values=(mk, xp))\n",
    "custmy = stats.rv_discrete(name='custmy', values=(mk, yp))\n",
    "custmz = stats.rv_discrete(name='custmz', values=(mk, zp))\n",
    "\n",
    "\n",
    "\n",
    "#Initial value coherent state\n",
    "\n",
    "\n",
    "@jit\n",
    "\n",
    "def trayectory(N=N):\n",
    "    sqrtdt = np.sqrt(dt)*Stochastic\n",
    "    \n",
    "    mean = [0, 0]\n",
    "    cov = [[1/4, 0], [0, 1/4]]  # diagonal covariance\n",
    "    \n",
    "\n",
    "    NV_bivariate = np.random.multivariate_normal(mean, cov, 1).T\n",
    "\n",
    "    alpha_x_init=NV_bivariate[0][0]\n",
    "    alpha_y_init=NV_bivariate[1][0]\n",
    "    \n",
    "\n",
    "    Results =zeros((3*N+2, n))\n",
    "    \n",
    "    Results[3*N][0]  =alpha_x_init #np.random.normal(0, 0.25) #alpha_x_init\n",
    "    Results[3*N+1][0]=alpha_y_init #np.random.normal(0, 0.25) #alpha_y_init\n",
    "\n",
    "    for j in range(N):\n",
    "        \n",
    "        \n",
    "        a=custmx.rvs()\n",
    "        b=custmy.rvs()\n",
    "        c=custmz.rvs()\n",
    "        \n",
    "        Results[j][0]    =a  \n",
    "        Results[j+N][0]  =b\n",
    "        Results[j+2*N][0]=c\n",
    "\n",
    "    \n",
    "    for t in range(n-1):\n",
    " \n",
    "        Normal_VA_1=random.randn() #np.random.normal(0, 1)\n",
    "        Normal_VA_2=random.randn() #np.random.normal(0, 1)\n",
    "        \n",
    "        Results[3*N][t+1]   =Results[3*N][t] -kappa*Results[3*N][t]*dt+np.sqrt(kappa/2)*sqrtdt * Normal_VA_1\n",
    "        Results[3*N+1][t+1] =Results[3*N+1][t] -kappa*Results[3*N+1][t]*dt+np.sqrt(kappa/2)*sqrtdt * Normal_VA_2\n",
    "        \n",
    "        for i in range(N): \n",
    "            \n",
    "            Normal_VA=random.randn() #np.random.normal(0, 1) \n",
    "            \n",
    "            Results[i][t+1]     = Results[i][t]+dt*(-2*g_coef/np.sqrt(N))*Results[3*N+1][t]*Results[i+2*N][t]-\\\n",
    "                dt*Gamma_phi*Results[i][t]-sqrt_2phi*Results[i+N][t]* sqrtdt * Normal_VA\n",
    "            \n",
    "            Results[i+N][t+1]   = Results[i+N][t]+dt*(-2*g_coef/np.sqrt(N))*Results[3*N][t]*Results[i+2*N][t]-\\\n",
    "                dt*Omega*Results[i+2*N][t]-dt*Gamma_phi*Results[i+N][t]+sqrt_2phi*Results[i][t]* sqrtdt * Normal_VA\n",
    "            \n",
    "            Results[i+2*N][t+1] = Results[i+2*N][t]+dt*Omega*Results[i+N][t]+\\\n",
    "                dt*(2*g_coef/np.sqrt(N))*(Results[3*N][t]*Results[i+N][t]+Results[3*N+1][t]*Results[i][t])\n",
    "                    \n",
    "            Results[3*N][t+1]   = Results[3*N][t+1]   - (g_coef/(2*np.sqrt(N)))*Results[j+N][t] *dt\n",
    "            Results[3*N+1][t+1] = Results[3*N+1][t+1] - (g_coef/(2*np.sqrt(N)))*Results[j][t] *dt\n",
    "\n",
    "    return Results\n"
   ]
  },
  {
   "cell_type": "code",
   "execution_count": null,
   "metadata": {},
   "outputs": [],
   "source": []
  },
  {
   "cell_type": "code",
   "execution_count": 101,
   "metadata": {},
   "outputs": [],
   "source": [
    "from numpy import mean\n",
    "from numpy import linalg\n",
    "\n",
    "from numba import jit\n",
    "@jit\n",
    "\n",
    "def summary_stat(Res,N=N,n=n):\n",
    "    Results =zeros((9, n))\n",
    "    count=0\n",
    "    while count<n:\n",
    "        a,b,c=Res[0:N, count:count+1],Res[N:2*N, count:count+1],Res[2*N:3*N, count:count+1]\n",
    "        \n",
    "        Results[0][count],Results[1][count],Results[2][count]=N*mean(a)/2,N*mean(b)/2,N*mean(c)/2\n",
    "        Results[3][count]=0.25*(  (N*mean(a))**2- (linalg.norm(a,2))**2 )\n",
    "        Results[4][count]=0.25*(  (N*mean(b))**2- (linalg.norm(b,2))**2 )\n",
    "        Results[5][count]=0.25*(  (N*mean(c))**2- (linalg.norm(c,2))**2 )\n",
    "        Results[6][count]=(N*mean(a)/2)**2\n",
    "        Results[7][count]=(N*mean(b)/2)**2\n",
    "        Results[8][count]=(N*mean(c)/2)**2\n",
    "        \n",
    "        \n",
    "        count=count+1\n",
    "        \n",
    "    \n",
    "    return Results"
   ]
  },
  {
   "cell_type": "code",
   "execution_count": 102,
   "metadata": {},
   "outputs": [],
   "source": [
    "from numpy import add\n",
    "from numba import jit\n",
    "\n",
    "\n",
    "\n",
    "itera=5000\n",
    "@jit\n",
    "\n",
    "def averages(itera=itera,N=N,n=n,Stochastic=Stochastic):\n",
    "    Results =zeros((9, n))\n",
    "    for j in range(itera):\n",
    "        Trayec=trayectory(N=N)\n",
    "        Results=add(Results,summary_stat(Trayec,N,n))\n",
    "    \n",
    "    return Results/itera\n",
    "    \n",
    "    \n",
    "    \n",
    "    "
   ]
  },
  {
   "cell_type": "code",
   "execution_count": 103,
   "metadata": {},
   "outputs": [
    {
     "name": "stderr",
     "output_type": "stream",
     "text": [
      "<ipython-input-102-eb11f0cbbd04>:7: NumbaWarning: \u001b[1m\n",
      "Compilation is falling back to object mode WITH looplifting enabled because Function \"averages\" failed type inference due to: \u001b[1m\u001b[1m\u001b[1mInvalid use of type(CPUDispatcher(<function trayectory at 0x00000138136C4E50>)) with parameters (N=int64)\n",
      "\u001b[0m\n",
      "\u001b[0m\u001b[1mDuring: resolving callee type: type(CPUDispatcher(<function trayectory at 0x00000138136C4E50>))\u001b[0m\n",
      "\u001b[0m\u001b[1mDuring: typing of call at <ipython-input-102-eb11f0cbbd04> (12)\n",
      "\u001b[0m\n",
      "\u001b[1m\n",
      "File \"<ipython-input-102-eb11f0cbbd04>\", line 12:\u001b[0m\n",
      "\u001b[1mdef averages(itera=itera,N=N,n=n,Stochastic=Stochastic):\n",
      "    <source elided>\n",
      "    for j in range(itera):\n",
      "\u001b[1m        Trayec=trayectory(N=N)\n",
      "\u001b[0m        \u001b[1m^\u001b[0m\u001b[0m\n",
      "\u001b[0m\n",
      "  @jit\n",
      "<ipython-input-102-eb11f0cbbd04>:7: NumbaWarning: \u001b[1m\n",
      "Compilation is falling back to object mode WITHOUT looplifting enabled because Function \"averages\" failed type inference due to: \u001b[1m\u001b[1mcannot determine Numba type of <class 'numba.core.dispatcher.LiftedLoop'>\u001b[0m\n",
      "\u001b[1m\n",
      "File \"<ipython-input-102-eb11f0cbbd04>\", line 11:\u001b[0m\n",
      "\u001b[1mdef averages(itera=itera,N=N,n=n,Stochastic=Stochastic):\n",
      "    <source elided>\n",
      "    Results =zeros((9, n))\n",
      "\u001b[1m    for j in range(itera):\n",
      "\u001b[0m    \u001b[1m^\u001b[0m\u001b[0m\n",
      "\u001b[0m\u001b[0m\n",
      "  @jit\n",
      "C:\\Users\\camil\\anaconda3\\lib\\site-packages\\numba\\core\\object_mode_passes.py:177: NumbaWarning: \u001b[1mFunction \"averages\" was compiled in object mode without forceobj=True, but has lifted loops.\n",
      "\u001b[1m\n",
      "File \"<ipython-input-102-eb11f0cbbd04>\", line 10:\u001b[0m\n",
      "\u001b[1mdef averages(itera=itera,N=N,n=n,Stochastic=Stochastic):\n",
      "\u001b[1m    Results =zeros((9, n))\n",
      "\u001b[0m    \u001b[1m^\u001b[0m\u001b[0m\n",
      "\u001b[0m\n",
      "  warnings.warn(errors.NumbaWarning(warn_msg,\n",
      "C:\\Users\\camil\\anaconda3\\lib\\site-packages\\numba\\core\\object_mode_passes.py:187: NumbaDeprecationWarning: \u001b[1m\n",
      "Fall-back from the nopython compilation path to the object mode compilation path has been detected, this is deprecated behaviour.\n",
      "\n",
      "For more information visit http://numba.pydata.org/numba-doc/latest/reference/deprecation.html#deprecation-of-object-mode-fall-back-behaviour-when-using-jit\n",
      "\u001b[1m\n",
      "File \"<ipython-input-102-eb11f0cbbd04>\", line 10:\u001b[0m\n",
      "\u001b[1mdef averages(itera=itera,N=N,n=n,Stochastic=Stochastic):\n",
      "\u001b[1m    Results =zeros((9, n))\n",
      "\u001b[0m    \u001b[1m^\u001b[0m\u001b[0m\n",
      "\u001b[0m\n",
      "  warnings.warn(errors.NumbaDeprecationWarning(msg,\n",
      "<ipython-input-102-eb11f0cbbd04>:7: NumbaWarning: \u001b[1m\n",
      "Compilation is falling back to object mode WITHOUT looplifting enabled because Function \"averages\" failed type inference due to: \u001b[1m\u001b[1m\u001b[1mInvalid use of type(CPUDispatcher(<function trayectory at 0x00000138136C4E50>)) with parameters (N=int64)\n",
      "\u001b[0m\n",
      "\u001b[0m\u001b[1mDuring: resolving callee type: type(CPUDispatcher(<function trayectory at 0x00000138136C4E50>))\u001b[0m\n",
      "\u001b[0m\u001b[1mDuring: typing of call at <ipython-input-102-eb11f0cbbd04> (12)\n",
      "\u001b[0m\n",
      "\u001b[1m\n",
      "File \"<ipython-input-102-eb11f0cbbd04>\", line 12:\u001b[0m\n",
      "\u001b[1mdef averages(itera=itera,N=N,n=n,Stochastic=Stochastic):\n",
      "    <source elided>\n",
      "    for j in range(itera):\n",
      "\u001b[1m        Trayec=trayectory(N=N)\n",
      "\u001b[0m        \u001b[1m^\u001b[0m\u001b[0m\n",
      "\u001b[0m\n",
      "  @jit\n",
      "C:\\Users\\camil\\anaconda3\\lib\\site-packages\\numba\\core\\object_mode_passes.py:177: NumbaWarning: \u001b[1mFunction \"averages\" was compiled in object mode without forceobj=True.\n",
      "\u001b[1m\n",
      "File \"<ipython-input-102-eb11f0cbbd04>\", line 11:\u001b[0m\n",
      "\u001b[1mdef averages(itera=itera,N=N,n=n,Stochastic=Stochastic):\n",
      "    <source elided>\n",
      "    Results =zeros((9, n))\n",
      "\u001b[1m    for j in range(itera):\n",
      "\u001b[0m    \u001b[1m^\u001b[0m\u001b[0m\n",
      "\u001b[0m\n",
      "  warnings.warn(errors.NumbaWarning(warn_msg,\n",
      "C:\\Users\\camil\\anaconda3\\lib\\site-packages\\numba\\core\\object_mode_passes.py:187: NumbaDeprecationWarning: \u001b[1m\n",
      "Fall-back from the nopython compilation path to the object mode compilation path has been detected, this is deprecated behaviour.\n",
      "\n",
      "For more information visit http://numba.pydata.org/numba-doc/latest/reference/deprecation.html#deprecation-of-object-mode-fall-back-behaviour-when-using-jit\n",
      "\u001b[1m\n",
      "File \"<ipython-input-102-eb11f0cbbd04>\", line 11:\u001b[0m\n",
      "\u001b[1mdef averages(itera=itera,N=N,n=n,Stochastic=Stochastic):\n",
      "    <source elided>\n",
      "    Results =zeros((9, n))\n",
      "\u001b[1m    for j in range(itera):\n",
      "\u001b[0m    \u001b[1m^\u001b[0m\u001b[0m\n",
      "\u001b[0m\n",
      "  warnings.warn(errors.NumbaDeprecationWarning(msg,\n",
      "<ipython-input-100-fca3750fefc6>:83: NumbaWarning: \u001b[1m\n",
      "Compilation is falling back to object mode WITHOUT looplifting enabled because Function \"trayectory\" failed type inference due to: \u001b[1mUntyped global name 'custmx':\u001b[0m \u001b[1m\u001b[1mcannot determine Numba type of <class 'scipy.stats._distn_infrastructure.rv_sample'>\u001b[0m\n",
      "\u001b[1m\n",
      "File \"<ipython-input-100-fca3750fefc6>\", line 106:\u001b[0m\n",
      "\u001b[1mdef trayectory(N=N):\n",
      "    <source elided>\n",
      "        \n",
      "\u001b[1m        a=custmx.rvs()\n",
      "\u001b[0m        \u001b[1m^\u001b[0m\u001b[0m\n",
      "\u001b[0m\u001b[0m\n",
      "  @jit\n",
      "C:\\Users\\camil\\anaconda3\\lib\\site-packages\\numba\\core\\object_mode_passes.py:177: NumbaWarning: \u001b[1mFunction \"trayectory\" was compiled in object mode without forceobj=True.\n",
      "\u001b[1m\n",
      "File \"<ipython-input-100-fca3750fefc6>\", line 103:\u001b[0m\n",
      "\u001b[1mdef trayectory(N=N):\n",
      "    <source elided>\n",
      "\n",
      "\u001b[1m    for j in range(N):\n",
      "\u001b[0m    \u001b[1m^\u001b[0m\u001b[0m\n",
      "\u001b[0m\n",
      "  warnings.warn(errors.NumbaWarning(warn_msg,\n",
      "C:\\Users\\camil\\anaconda3\\lib\\site-packages\\numba\\core\\object_mode_passes.py:187: NumbaDeprecationWarning: \u001b[1m\n",
      "Fall-back from the nopython compilation path to the object mode compilation path has been detected, this is deprecated behaviour.\n",
      "\n",
      "For more information visit http://numba.pydata.org/numba-doc/latest/reference/deprecation.html#deprecation-of-object-mode-fall-back-behaviour-when-using-jit\n",
      "\u001b[1m\n",
      "File \"<ipython-input-100-fca3750fefc6>\", line 103:\u001b[0m\n",
      "\u001b[1mdef trayectory(N=N):\n",
      "    <source elided>\n",
      "\n",
      "\u001b[1m    for j in range(N):\n",
      "\u001b[0m    \u001b[1m^\u001b[0m\u001b[0m\n",
      "\u001b[0m\n",
      "  warnings.warn(errors.NumbaDeprecationWarning(msg,\n"
     ]
    },
    {
     "name": "stdout",
     "output_type": "stream",
     "text": [
      "393.51165199279785\n"
     ]
    }
   ],
   "source": [
    "t0=time.time()\n",
    "\n",
    "itera=2500\n",
    "\n",
    "Result_varDDTWA_EM=averages(itera=itera,N=N,n=n,Stochastic=1)\n",
    "#Result_varDTWA=averages(itera=itera,N=N,n=n,Stochastic=0)\n",
    "\n",
    "t1=time.time()\n",
    "\n",
    "print(t1-t0)\n",
    "\n"
   ]
  },
  {
   "cell_type": "code",
   "execution_count": 104,
   "metadata": {},
   "outputs": [
    {
     "data": {
      "text/plain": [
       "<matplotlib.legend.Legend at 0x1380ee59fa0>"
      ]
     },
     "execution_count": 104,
     "metadata": {},
     "output_type": "execute_result"
    },
    {
     "data": {
      "image/png": "[encoded data removed]",
      "text/plain": [
       "<Figure size 720x504 with 1 Axes>"
      ]
     },
     "metadata": {
      "needs_background": "light"
     },
     "output_type": "display_data"
    }
   ],
   "source": [
    "\n",
    "matplotlib.rcParams['figure.figsize'] = (10.0, 7.0)\n",
    "\n",
    "plt.plot(times, Result_varDDTWA_EM[0],\"-\",label=\"Sx DDTWA EM\")\n",
    "\n",
    "plt.plot(times, Result_varDDTWA_EM[1],\"-\",label=\"Sy DDTWA EM\")\n",
    "\n",
    "plt.plot(times, Result_varDDTWA_EM[2],\"-\",label=\"Sz DDTWA EM\")\n",
    "\n",
    "\n",
    "plt.legend()"
   ]
  },
  {
   "cell_type": "code",
   "execution_count": 105,
   "metadata": {},
   "outputs": [
    {
     "data": {
      "text/plain": [
       "<matplotlib.legend.Legend at 0x1380ece68e0>"
      ]
     },
     "execution_count": 105,
     "metadata": {},
     "output_type": "execute_result"
    },
    {
     "data": {
      "image/png": "[encoded data removed]",
      "text/plain": [
       "<Figure size 720x504 with 1 Axes>"
      ]
     },
     "metadata": {
      "needs_background": "light"
     },
     "output_type": "display_data"
    }
   ],
   "source": [
    "\n",
    "\n",
    "\n",
    "matplotlib.rcParams['figure.figsize'] = (10.0, 7.0)\n",
    "\n",
    "axEM=N/4+  Result_varDDTWA_EM[3+0]-(Result_varDDTWA_EM[0])**2\n",
    "ayEM=N/4+  Result_varDDTWA_EM[3+1]-(Result_varDDTWA_EM[1])**2\n",
    "azEM=N/4+  Result_varDDTWA_EM[3+2]-(Result_varDDTWA_EM[2])**2\n",
    "\n",
    "\n",
    "ax1EM=np.array(Result_varDDTWA_EM[6+0])-np.array((Result_varDDTWA_EM[0])**2)\n",
    "ay1EM=np.array(Result_varDDTWA_EM[6+1])-np.array((Result_varDDTWA_EM[1])**2)\n",
    "az1EM=np.array(Result_varDDTWA_EM[6+2])-np.array((Result_varDDTWA_EM[2])**2)\n",
    "\n",
    "\n",
    "\n",
    "#axSH=N/4+  Result_varDDTWA_SH[3+0]-(Result_varDDTWA_SH[0])**2\n",
    "#aySH=N/4+  Result_varDDTWA_SH[3+1]-(Result_varDDTWA_SH[1])**2\n",
    "#azSH=N/4+  Result_varDDTWA_SH[3+2]-(Result_varDDTWA_SH[2])**2\n",
    "\n",
    "\n",
    "#ax1SH=np.array(Result_varDDTWA_SH[6+0])-np.array((Result_varDDTWA_SH[0])**2)\n",
    "#ay1SH=np.array(Result_varDDTWA_SH[6+1])-np.array((Result_varDDTWA_SH[1])**2)\n",
    "#az1SH=np.array(Result_varDDTWA_SH[6+2])-np.array((Result_varDDTWA_SH[2])**2)\n",
    "\n",
    "\n",
    "\n",
    "#plt.plot(times,axEM,\"--\",label=\"DDTWA $(\\Delta S_x)^2$ EM\")\n",
    "#plt.plot(times,ayEM,\"--\",label=\"DDTWA $(\\Delta S_y)^2$ EM\")\n",
    "#plt.plot(times,azEM,\"--\",label=\"DDTWA $(\\Delta S_z)^2$ EM\")\n",
    "\n",
    "plt.plot(times,ax1EM,\"-.\",label=\"DDTWA $(\\Delta S_x)^2 $ no-algebra EM\")\n",
    "plt.plot(times,ay1EM,\"-.\",label=\"DDTWA $(\\Delta S_y)^2 $ no-algebra EM\")\n",
    "plt.plot(times,az1EM,\"-.\",label=\"DDTWA $(\\Delta S_z)^2 $ no-algebra EM\")\n",
    "\n",
    "\n",
    "#plt.plot(times,axSH,\"--\",label=\"DDTWA $(\\Delta S_x)^2$ SH\")\n",
    "#plt.plot(times,aySH,\"--\",label=\"DDTWA $(\\Delta S_y)^2$ SH\")\n",
    "#plt.plot(times,azSH,\"--\",label=\"DDTWA $(\\Delta S_z)^2$ SH\")\n",
    "\n",
    "#plt.plot(times,ax1SH,\"-.\",label=\"DDTWA $(\\Delta S_x)^2 $ no-algebra SH\")\n",
    "#plt.plot(times,ay1SH,\"-.\",label=\"DDTWA $(\\Delta S_y)^2 $ no-algebra SH\")\n",
    "#plt.plot(times,az1SH,\"-.\",label=\"DDTWA $(\\Delta S_z)^2 $ no-algebra SH\")\n",
    "\n",
    "\n",
    "#plt.plot(times,np.real(np.array(Sxx_result))-(np.array(Sx_result))**2,label=\"xx\")\n",
    "#plt.plot(times,np.real(np.array(Syy_result))-(np.array(Sy_result))**2,label=\"yy\")\n",
    "#plt.plot(times,np.real(np.array(Szz_result))-(np.array(Sz_result))**2,label=\"zz\")\n",
    "\n",
    "plt.legend()\n",
    "\n",
    "\n",
    "\n",
    "\n",
    "plt.legend(loc=\"lower right\")"
   ]
  },
  {
   "cell_type": "code",
   "execution_count": null,
   "metadata": {},
   "outputs": [],
   "source": []
  },
  {
   "cell_type": "code",
   "execution_count": null,
   "metadata": {},
   "outputs": [],
   "source": []
  },
  {
   "cell_type": "code",
   "execution_count": null,
   "metadata": {},
   "outputs": [],
   "source": []
  },
  {
   "cell_type": "code",
   "execution_count": null,
   "metadata": {},
   "outputs": [],
   "source": []
  },
  {
   "cell_type": "code",
   "execution_count": null,
   "metadata": {},
   "outputs": [],
   "source": []
  },
  {
   "cell_type": "code",
   "execution_count": null,
   "metadata": {},
   "outputs": [],
   "source": []
  },
  {
   "cell_type": "code",
   "execution_count": null,
   "metadata": {},
   "outputs": [],
   "source": []
  },
  {
   "cell_type": "code",
   "execution_count": null,
   "metadata": {},
   "outputs": [],
   "source": []
  },
  {
   "cell_type": "code",
   "execution_count": null,
   "metadata": {},
   "outputs": [],
   "source": []
  },
  {
   "cell_type": "code",
   "execution_count": null,
   "metadata": {},
   "outputs": [],
   "source": []
  },
  {
   "cell_type": "code",
   "execution_count": null,
   "metadata": {},
   "outputs": [],
   "source": []
  },
  {
   "cell_type": "code",
   "execution_count": null,
   "metadata": {},
   "outputs": [],
   "source": []
  },
  {
   "cell_type": "code",
   "execution_count": null,
   "metadata": {},
   "outputs": [],
   "source": []
  },
  {
   "cell_type": "code",
   "execution_count": null,
   "metadata": {},
   "outputs": [],
   "source": []
  },
  {
   "cell_type": "code",
   "execution_count": null,
   "metadata": {},
   "outputs": [],
   "source": []
  },
  {
   "cell_type": "code",
   "execution_count": null,
   "metadata": {},
   "outputs": [],
   "source": []
  },
  {
   "cell_type": "code",
   "execution_count": null,
   "metadata": {},
   "outputs": [],
   "source": []
  },
  {
   "cell_type": "code",
   "execution_count": null,
   "metadata": {},
   "outputs": [],
   "source": []
  },
  {
   "cell_type": "code",
   "execution_count": null,
   "metadata": {},
   "outputs": [],
   "source": []
  },
  {
   "cell_type": "code",
   "execution_count": null,
   "metadata": {},
   "outputs": [],
   "source": []
  },
  {
   "cell_type": "code",
   "execution_count": null,
   "metadata": {},
   "outputs": [],
   "source": []
  },
  {
   "cell_type": "code",
   "execution_count": null,
   "metadata": {},
   "outputs": [],
   "source": []
  },
  {
   "cell_type": "code",
   "execution_count": null,
   "metadata": {},
   "outputs": [],
   "source": []
  },
  {
   "cell_type": "code",
   "execution_count": null,
   "metadata": {},
   "outputs": [],
   "source": []
  },
  {
   "cell_type": "code",
   "execution_count": null,
   "metadata": {},
   "outputs": [],
   "source": []
  },
  {
   "cell_type": "code",
   "execution_count": 82,
   "metadata": {},
   "outputs": [],
   "source": [
    "import matplotlib.pyplot as plt\n",
    "alpha_x=0\n",
    "alpha_y=0\n",
    "\n",
    "mean = [alpha_x, alpha_y]\n",
    "cov = [[1/4, 0], [0, 1/4]]  # diagonal covariance\n",
    "NV_bivariate = np.random.multivariate_normal(mean, cov, 1).T\n",
    "\n",
    "alpha_x_init=NV_bivariate[0][0]\n",
    "alpha_y_init=NV_bivariate[1][0]"
   ]
  },
  {
   "cell_type": "code",
   "execution_count": null,
   "metadata": {},
   "outputs": [],
   "source": []
  },
  {
   "cell_type": "code",
   "execution_count": 90,
   "metadata": {},
   "outputs": [
    {
     "data": {
      "image/png": "[encoded data removed]",
      "text/plain": [
       "<Figure size 432x288 with 1 Axes>"
      ]
     },
     "metadata": {
      "needs_background": "light"
     },
     "output_type": "display_data"
    }
   ],
   "source": [
    "mean = [0, 0]\n",
    "cov = [[1/4, 0], [0, 1/4]]  # diagonal covariance\n",
    "\n",
    "import matplotlib.pyplot as plt\n",
    "x, y = np.random.multivariate_normal(mean, cov, 2000000).T\n",
    "plt.plot(x, y, '.')\n",
    "plt.axis('equal')\n",
    "plt.show()"
   ]
  },
  {
   "cell_type": "code",
   "execution_count": 80,
   "metadata": {},
   "outputs": [],
   "source": [
    "x=[]\n",
    "y=[]\n",
    "for j in range(2000):\n",
    "    x.append(np.random.rand())\n",
    "    y.append(np.random.rand())"
   ]
  },
  {
   "cell_type": "code",
   "execution_count": null,
   "metadata": {},
   "outputs": [],
   "source": []
  },
  {
   "cell_type": "code",
   "execution_count": 81,
   "metadata": {},
   "outputs": [
    {
     "data": {
      "text/plain": [
       "[<matplotlib.lines.Line2D at 0x138148b8e20>]"
      ]
     },
     "execution_count": 81,
     "metadata": {},
     "output_type": "execute_result"
    },
    {
     "data": {
      "image/png": "[encoded data removed]",
      "text/plain": [
       "<Figure size 432x288 with 1 Axes>"
      ]
     },
     "metadata": {
      "needs_background": "light"
     },
     "output_type": "display_data"
    }
   ],
   "source": [
    "plt.plot(x, y, '.')"
   ]
  },
  {
   "cell_type": "code",
   "execution_count": null,
   "metadata": {},
   "outputs": [],
   "source": []
  },
  {
   "cell_type": "code",
   "execution_count": null,
   "metadata": {},
   "outputs": [],
   "source": []
  }
 ],
 "metadata": {
  "kernelspec": {
   "display_name": "Python 3",
   "language": "python",
   "name": "python3"
  },
  "language_info": {
   "codemirror_mode": {
    "name": "ipython",
    "version": 3
   },
   "file_extension": ".py",
   "mimetype": "text/x-python",
   "name": "python",
   "nbconvert_exporter": "python",
   "pygments_lexer": "ipython3",
   "version": "3.8.3"
  }
 },
 "nbformat": 4,
 "nbformat_minor": 4
}
