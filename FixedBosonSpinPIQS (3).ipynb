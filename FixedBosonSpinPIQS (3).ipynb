{
 "cells": [
  {
   "cell_type": "code",
   "execution_count": 11,
   "metadata": {},
   "outputs": [],
   "source": [
    "import matplotlib.pyplot as plt\n",
    "import numpy as np\n",
    "\n",
    "\"\"\"In order to provide a better presentation of the graphs we use the rcParams options shown below.\"\"\"\n",
    "\n",
    "import matplotlib\n",
    "matplotlib.rcParams['text.usetex'] = False\n",
    "matplotlib.rcParams['mathtext.fontset'] = 'stix'\n",
    "matplotlib.rcParams['font.family'] = 'STIXGeneral'\n",
    "matplotlib.rcParams['font.size'] = 15\n",
    "matplotlib.rcParams['figure.figsize'] = (11.0, 8.0)"
   ]
  },
  {
   "cell_type": "code",
   "execution_count": 12,
   "metadata": {},
   "outputs": [],
   "source": [
    "import matplotlib.pyplot as plt\n",
    "from numpy import linalg as LA\n",
    "import scipy.special\n",
    "\n",
    "import time\n",
    "from scipy.integrate import odeint\n",
    "from scipy.special import zeta\n",
    "from random import choices"
   ]
  },
  {
   "cell_type": "code",
   "execution_count": 13,
   "metadata": {},
   "outputs": [],
   "source": [
    "import matplotlib.pyplot as plt\n",
    "import matplotlib as mpl\n",
    "from matplotlib import cm\n",
    "import numpy as np\n",
    "\n",
    "\n",
    "from qutip import *\n",
    "from qutip.piqs import *\n",
    "\n",
    "import matplotlib.animation as animation\n",
    "from IPython.display import HTML\n",
    "from IPython.core.display import Image, display"
   ]
  },
  {
   "cell_type": "code",
   "execution_count": 14,
   "metadata": {},
   "outputs": [],
   "source": [
    "\"\"\"Our system of differential equations belongs to the complex space, that is why we implemented the code suggested in\"\"\"\n",
    "\"\"\"https://stackoverflow.com/questions/19910189/scipy-odeint-with-complex-initial-values.\"\"\"\n",
    "\n",
    "import time\n",
    "import numpy as np\n",
    "from scipy.integrate import odeint\n",
    "from scipy.special import zeta\n",
    "from random import choices\n",
    "\n",
    "def odeintz(func, z0, t, **kwargs):\n",
    "   \n",
    "    \n",
    "    \"\"\"An odeint-like function for complex valued differential equations.\n",
    "\n",
    "    Inputs:\n",
    "    ----------\n",
    "      -func: function associated to dr/dt=f(x;t), where x is the set of parameters and variables to be determined\n",
    "      -z0: 1d array with length N*(5N-1)/2\n",
    "      -t: 1d array from t=0 to t=tf (parameter set by the user)\n",
    "      - **kwargs: keyword arguments related with external functions to be used in odeint\n",
    "    \n",
    "    Return:\n",
    "      -z: multivariable array with the solution of the differential equation associated with each variable\"\"\"\n",
    "\n",
    "    # Disallow Jacobian-related arguments.\n",
    "    _unsupported_odeint_args = ['Dfun', 'col_deriv', 'ml', 'mu']\n",
    "    bad_args = [arg for arg in kwargs if arg in _unsupported_odeint_args]\n",
    "    if len(bad_args) > 0:\n",
    "        raise ValueError(\"The odeint argument %r is not supported by \"\n",
    "                         \"odeintz.\" % (bad_args[0],))\n",
    "\n",
    "    # Make sure z0 is a numpy array of type np.complex128.\n",
    "    z0 = np.array(z0, dtype=np.complex128, ndmin=1)\n",
    "\n",
    "    def realfunc(x, t, *args):\n",
    "        z = x.view(np.complex128)\n",
    "        dzdt = func(z, t, *args)\n",
    "        # func might return a python list, so convert its return\n",
    "        # value to an array with type np.complex128, and then return\n",
    "        # a np.float64 view of that array.\n",
    "        return np.asarray(dzdt, dtype=np.complex128).view(np.float64)\n",
    "\n",
    "    result = odeint(realfunc, z0.view(np.float64), t, **kwargs)\n",
    "\n",
    "    if kwargs.get('full_output', False):\n",
    "        z = result[0].view(np.complex128)\n",
    "        infodict = result[1]\n",
    "        return z, infodict\n",
    "    else:\n",
    "        z = result.view(np.complex128)\n",
    "        return z"
   ]
  },
  {
   "cell_type": "code",
   "execution_count": null,
   "metadata": {},
   "outputs": [],
   "source": []
  },
  {
   "cell_type": "code",
   "execution_count": 15,
   "metadata": {},
   "outputs": [],
   "source": [
    "import numpy as np\n",
    "import matplotlib.pyplot as plt\n",
    "%matplotlib inline\n",
    "from numpy import random, zeros\n",
    "\n",
    "from numba import jit\n",
    "\n",
    "dt = 0.0005 # Time step.\n",
    "T = 10 # Total time.\n",
    "n = int(T / dt) # Number of time steps.\n",
    "\n",
    "times = np.linspace(0., T, n)\n",
    "\n",
    "\n",
    "J=1\n",
    "N=10\n",
    "    \n",
    "refg     = 1\n",
    "refomega = 1\n",
    "refdelta=  0\n",
    "refkappa= 0.5\n",
    "refgamma= 0.1\n",
    "\n",
    "    \n",
    "Omega =refomega*J\n",
    "g_coef=refg*J\n",
    "Delta=refdelta*J\n",
    "kappa=refkappa*J\n",
    "Gamma_phi=refgamma*J\n",
    "    \n",
    "\n",
    "Gamma_du=0  #Fixed\n",
    "\n",
    "\n",
    "Stochastic=1   #Is the process stochastic?\n",
    "sqrt_N=np.sqrt(N)\n",
    "sqrt_2phi=np.sqrt(2*Gamma_phi)\n",
    "\n",
    "theta=0   #Initial state\n",
    "phi=0\n",
    "\n",
    "\n",
    "\n",
    "#set the initial values due to the measurements in the state |\\psi>=cos(\\theta/2)|0>+sin(\\theta/2)|1>\n",
    "\n",
    "from scipy import stats\n",
    "mk = np.array([-1,1])\n",
    "\n",
    "\n",
    "xp= (0.5*(1-np.sin(theta)*np.cos(phi)),0.5*(1+np.sin(theta)*np.cos(phi)))\n",
    "yp= (0.5*(1-np.sin(theta)*np.sin(phi)),0.5*(1+np.sin(theta)*np.sin(phi)))\n",
    "zp = ((np.cos(theta/2))**2, (np.sin(theta/2))**2)\n",
    "\n",
    "\n",
    "#xp=(0.5,0.5)\n",
    "#yp=(0.5,0.5)\n",
    "#zp=(1,0)\n",
    "\n",
    "\n",
    "\n",
    "custmx = stats.rv_discrete(name='custmx', values=(mk, xp))\n",
    "custmy = stats.rv_discrete(name='custmy', values=(mk, yp))\n",
    "custmz = stats.rv_discrete(name='custmz', values=(mk, zp))\n",
    "\n",
    "\n",
    "\n",
    "\n",
    "@jit\n",
    "\n",
    "def trayectory(N=N):\n",
    "    sqrtdt = np.sqrt(dt)*Stochastic\n",
    "    \n",
    "    Results =zeros((3*N+2, n))\n",
    "    Results[3*N][0]  =np.random.normal(0, 0.5)\n",
    "    Results[3*N+1][0]=np.random.normal(0, 0.5)\n",
    "    \n",
    "    for j in range(N):\n",
    "        \n",
    "        a=custmx.rvs()\n",
    "        b=custmy.rvs()\n",
    "        c=custmz.rvs()\n",
    "        \n",
    "        Results[j][0]    =a  \n",
    "        Results[j+N][0]  =b\n",
    "        Results[j+2*N][0]=c\n",
    "        \n",
    "    \n",
    "    for t in range(n-1):\n",
    "        \n",
    "        Normal_VA_1=random.randn() #np.random.normal(0, 1)\n",
    "        Normal_VA_2=random.randn() #np.random.normal(0, 1)\n",
    "        \n",
    "        Results[3*N][t+1]   = Results[3*N][t]  +dt*Delta*Results[3*N+1][t]+\\\n",
    "            -kappa*Results[3*N][t]*dt+np.sqrt(kappa/2)* sqrtdt * Normal_VA_1\n",
    "        Results[3*N+1][t+1] = Results[3*N+1][t]-dt*Delta* Results[3*N][t]+\\\n",
    "            -kappa*Results[3*N+1][t]*dt+np.sqrt(kappa/2)*sqrtdt * Normal_VA_2\n",
    "        \n",
    "        Normal_VA=random.randn()   #np.random.normal(0, 1)\n",
    "        \n",
    "        \n",
    "        for i in range(N): \n",
    "            \n",
    "            Results[i][t+1]    = Results[i][t]+dt*(-2*g_coef/sqrt_N)*Results[3*N+1][t]*Results[i+2*N][t]-\\\n",
    "                dt*Gamma_phi*Results[i][t]-sqrt_2phi*Results[i+N][t]* sqrtdt * Normal_VA\n",
    "            \n",
    "            Results[i+N][t+1]  = Results[i+N][t]+dt*(-2*g_coef/sqrt_N)*Results[3*N][t]*Results[i+2*N][t]-dt*Omega*Results[i+2*N][t]+\\\n",
    "                -dt*Gamma_phi*Results[i+N][t]+sqrt_2phi*Results[i][t]* sqrtdt * Normal_VA\n",
    "            \n",
    "            Results[i+2*N][t+1]= Results[i+2*N][t]+dt*(2*g_coef/sqrt_N)*Results[3*N][t]*Results[i+N][t]+\\\n",
    "                dt*(2*g_coef/sqrt_N)*Results[3*N+1][t]*Results[i][t]+dt*Omega*Results[i+N][t]\n",
    "            \n",
    "            Results[3*N][t+1]   += -(g_coef/(2*sqrt_N))*Results[i+N][t]*dt\n",
    "            Results[3*N+1][t+1] += -(g_coef/(2*sqrt_N))*Results[i][t]*dt\n",
    "            \n",
    "    return Results\n"
   ]
  },
  {
   "cell_type": "code",
   "execution_count": 38,
   "metadata": {},
   "outputs": [],
   "source": [
    "from numpy import mean\n",
    "from numpy import linalg\n",
    "\n",
    "from numba import jit\n",
    "@jit\n",
    "\n",
    "def summary_stat(Res,N=N,n=n):\n",
    "    Results =zeros((11, n))\n",
    "    count=0\n",
    "    while count<n:\n",
    "        a,b,c=Res[0:N, count:count+1],Res[N:2*N, count:count+1],Res[2*N:3*N, count:count+1]\n",
    "        \n",
    "        Results[0][count],Results[1][count],Results[2][count]=N*mean(a)/2,N*mean(b)/2,N*mean(c)/2\n",
    "        Results[3][count]=0.25*(  (N*mean(a))**2- (linalg.norm(a,2))**2 )\n",
    "        Results[4][count]=0.25*(  (N*mean(b))**2- (linalg.norm(b,2))**2 )\n",
    "        Results[5][count]=0.25*(  (N*mean(c))**2- (linalg.norm(c,2))**2 )\n",
    "        Results[6][count]=(N*mean(a)/2)**2\n",
    "        Results[7][count]=(N*mean(b)/2)**2\n",
    "        Results[8][count]=(N*mean(c)/2)**2\n",
    "        \n",
    "        alpha_x=mean(Res[3*N:3*N+1, count:count+1])\n",
    "        alpha_y=mean(Res[3*N+1:3*N+2, count:count+1])\n",
    "        \n",
    "        alpha_cuad=alpha_x**2+alpha_y**2\n",
    "        \n",
    "        Results[9][count]=alpha_cuad  #np.power(alpha_x,2)+np.power(alpha_y,2)-0.5\n",
    "        Results[10][count]=alpha_cuad**2-2*alpha_cuad+0.5\n",
    "        \n",
    "        count=count+1\n",
    "        \n",
    "    \n",
    "    return Results\n",
    "    \n",
    "    "
   ]
  },
  {
   "cell_type": "code",
   "execution_count": null,
   "metadata": {},
   "outputs": [],
   "source": []
  },
  {
   "cell_type": "code",
   "execution_count": 39,
   "metadata": {},
   "outputs": [],
   "source": [
    "from numpy import add\n",
    "from numba import jit\n",
    "\n",
    "\n",
    "\n",
    "itera=5000\n",
    "@jit\n",
    "\n",
    "def averages(itera=itera,N=N,n=n,Stochastic=Stochastic):\n",
    "    Results =zeros((11, n))\n",
    "    for j in range(itera):\n",
    "        Trayec=trayectory(N=N)\n",
    "        Results=add(Results,summary_stat(Trayec,N,n))\n",
    "    \n",
    "    return Results/itera\n",
    "    \n",
    "    \n",
    "    \n",
    "    "
   ]
  },
  {
   "cell_type": "code",
   "execution_count": null,
   "metadata": {},
   "outputs": [],
   "source": []
  },
  {
   "cell_type": "code",
   "execution_count": 57,
   "metadata": {},
   "outputs": [
    {
     "name": "stdout",
     "output_type": "stream",
     "text": [
      "415.3173761367798\n"
     ]
    }
   ],
   "source": [
    "t0=time.time()\n",
    "\n",
    "itera=5000\n",
    "\n",
    "Result_varDDTWA_EM=averages(itera=itera,N=N,n=n,Stochastic=1)\n",
    "#Result_varDTWA=averages(itera=itera,N=N,n=n,Stochastic=0)\n",
    "\n",
    "t1=time.time()\n",
    "\n",
    "print(t1-t0)\n",
    "\n"
   ]
  },
  {
   "cell_type": "code",
   "execution_count": 58,
   "metadata": {},
   "outputs": [
    {
     "data": {
      "image/png": "[encoded data removed]",
      "text/plain": [
       "<Figure size 720x468 with 1 Axes>"
      ]
     },
     "metadata": {
      "needs_background": "light"
     },
     "output_type": "display_data"
    }
   ],
   "source": [
    "matplotlib.rcParams['figure.figsize'] = (10.0, 6.5)\n",
    "\n",
    "j_max = N/2.\n",
    "label_size = 20\n",
    "\n",
    "\n",
    "fig3 = plt.figure(3)\n",
    "#plt.plot(t, nphot_t, 'k-', label='Time evolution')\n",
    "plt.title(r'Quantum Dynamics Photon Number', fontsize = label_size)\n",
    "plt.xlabel(r'$t$', fontsize = label_size)\n",
    "#plt.ylabel(r'$\\langle a^\\dagger a\\rangle(t)$', fontsize = label_size)\n",
    "plt.ylabel(r'$\\langle a^{\\dagger}a \\rangle(t)$', fontsize = label_size)\n",
    "\n",
    "\n",
    "plt.plot(times, Result_varDDTWA_EM[9]-0.5,\"--\",label=\"$a^{\\dagger}a$ DDTWA EM\")\n",
    "\n",
    "\n",
    "\n",
    "\n",
    "#plt.legend(fontsize = label_size)\n",
    "plt.legend()\n",
    "plt.show()\n",
    "plt.close()"
   ]
  },
  {
   "cell_type": "code",
   "execution_count": 59,
   "metadata": {},
   "outputs": [
    {
     "data": {
      "image/png": "[encoded data removed]",
      "text/plain": [
       "<Figure size 720x468 with 1 Axes>"
      ]
     },
     "metadata": {
      "needs_background": "light"
     },
     "output_type": "display_data"
    }
   ],
   "source": [
    "matplotlib.rcParams['figure.figsize'] = (10.0, 6.5)\n",
    "\n",
    "j_max = N/2.\n",
    "label_size = 20\n",
    "\n",
    "\n",
    "fig3 = plt.figure(3)\n",
    "plt.title(r'Quantum Evolution of $S_k$', fontsize = label_size)\n",
    "plt.xlabel(r'$t$', fontsize = label_size)\n",
    "#plt.ylabel(r'$\\langle a^\\dagger a\\rangle(t)$', fontsize = label_size)\n",
    "plt.ylabel(r'$\\langle S_k \\rangle(t)$', fontsize = label_size)\n",
    "\n",
    "\n",
    "plt.plot(times, Result_varDDTWA_EM[0],\"--\",label=\"$S_x$ DDTWA EM\")\n",
    "\n",
    "plt.plot(times, Result_varDDTWA_EM[1],\"--\",label=\"$S_y$ DDTWA EM\")\n",
    "\n",
    "plt.plot(times, Result_varDDTWA_EM[2],\"--\",label=\"$S_z$ DDTWA EM\")\n",
    "\n",
    "\n",
    "\n",
    "\n",
    "#plt.legend(fontsize = label_size)\n",
    "plt.legend(loc=\"upper right\")\n",
    "plt.show()\n",
    "plt.close()"
   ]
  },
  {
   "cell_type": "code",
   "execution_count": 60,
   "metadata": {},
   "outputs": [
    {
     "data": {
      "image/png": "[encoded data removed]",
      "text/plain": [
       "<Figure size 720x468 with 1 Axes>"
      ]
     },
     "metadata": {
      "needs_background": "light"
     },
     "output_type": "display_data"
    }
   ],
   "source": [
    "matplotlib.rcParams['figure.figsize'] = (10.0, 6.5)\n",
    "\n",
    "j_max = N/2.\n",
    "label_size = 20\n",
    "\n",
    "\n",
    "fig3 = plt.figure(3)\n",
    "#plt.plot(t, nphot_t, 'k-', label='Time evolution')\n",
    "plt.title(r'Quantum Dynamics $a^{\\dagger}a^{\\dagger}aa$', fontsize = label_size)\n",
    "plt.xlabel(r'$t$', fontsize = label_size)\n",
    "#plt.ylabel(r'$\\langle a^\\dagger a\\rangle(t)$', fontsize = label_size)\n",
    "plt.ylabel(r'$\\langle a^{\\dagger}a^{\\dagger} aa \\rangle(t)$', fontsize = label_size)\n",
    "\n",
    "\n",
    "plt.plot(times, Result_varDDTWA_EM[10],\"--\",label=\"$a^{\\dagger}a^{\\dagger}aa$ DDTWA EM\")\n",
    "\n",
    "\n",
    "\n",
    "\n",
    "#plt.legend(fontsize = label_size)\n",
    "plt.legend()\n",
    "plt.show()\n",
    "plt.close()"
   ]
  },
  {
   "cell_type": "code",
   "execution_count": null,
   "metadata": {},
   "outputs": [],
   "source": []
  },
  {
   "cell_type": "code",
   "execution_count": null,
   "metadata": {},
   "outputs": [],
   "source": []
  },
  {
   "cell_type": "code",
   "execution_count": null,
   "metadata": {},
   "outputs": [],
   "source": []
  },
  {
   "cell_type": "code",
   "execution_count": null,
   "metadata": {},
   "outputs": [],
   "source": []
  },
  {
   "cell_type": "code",
   "execution_count": null,
   "metadata": {},
   "outputs": [],
   "source": []
  },
  {
   "cell_type": "markdown",
   "metadata": {},
   "source": [
    "## PIQS"
   ]
  },
  {
   "cell_type": "code",
   "execution_count": 44,
   "metadata": {},
   "outputs": [],
   "source": [
    "# TLS parameters\n",
    "n_tls = N\n",
    "system = Dicke(N = n_tls)\n",
    "[jx, jy, jz] = jspin(N)\n",
    "jp = jspin(N,\"+\")\n",
    "jm = jp.dag()\n",
    "\n",
    "system.hamiltonian = Omega * jx\n",
    "system.collective_dephasing = 2*Gamma_phi\n",
    "D_tls = system.liouvillian() \n",
    "\n",
    "\n",
    "\n",
    "# Light-matter coupling parameters\n",
    "\n",
    "kappa_eff=2*kappa\n",
    "\n",
    "\n",
    "nphot = int(2*N+2)  #modes of light\n",
    "a = destroy(nphot)\n",
    "h_int = (g_coef/np.sqrt(N)) *(tensor(a, jp)+tensor(a.dag(), jm))\n",
    "\n",
    "\n",
    "\n",
    "# Photonic Liouvillian\n",
    "c_ops_phot = [np.sqrt(kappa_eff) * a]\n",
    "\n",
    "D_phot = liouvillian(Delta * a.dag()*a , c_ops_phot)\n",
    "\n",
    "# Identity super-operators\n",
    "nds = num_dicke_states(n_tls)\n",
    "id_tls = to_super(qeye(nds))\n",
    "id_phot = to_super(qeye(nphot))\n",
    "\n",
    "# Define the total Liouvillian\n",
    "D_int = -1j* spre(h_int) + 1j* spost(h_int)\n",
    "D_tot = D_int + super_tensor(D_phot, id_tls) + super_tensor(id_phot, D_tls)\n",
    "\n",
    "# Define operator in the total space\n",
    "nphot_tot = tensor(a.dag()*a, qeye(nds))\n",
    "adag_cuad_a_cuad = tensor(a.dag()*a.dag()*a*a, qeye(nds))\n",
    "\n",
    "\n",
    "\n",
    "jx_tot=tensor(qeye(nphot), jx)\n",
    "jy_tot=tensor(qeye(nphot), jy)\n",
    "jz_tot=tensor(qeye(nphot), jz)\n",
    "adag_cuad_a_cuad_tot=tensor(qeye(nphot), adag_cuad_a_cuad)\n"
   ]
  },
  {
   "cell_type": "code",
   "execution_count": null,
   "metadata": {},
   "outputs": [],
   "source": []
  },
  {
   "cell_type": "code",
   "execution_count": null,
   "metadata": {},
   "outputs": [],
   "source": []
  },
  {
   "cell_type": "code",
   "execution_count": 46,
   "metadata": {},
   "outputs": [],
   "source": [
    "excited_state = excited(N)\n",
    "ground_state = dicke(N, N/2, -N/2)\n",
    "\n",
    "ground_phot = ket2dm(basis(nphot,0))  #vacuum\n",
    "#rho0 = tensor(ground_phot, excited_state)\n",
    "rho0 = tensor(ground_phot, ground_state)\n",
    "\n",
    "t = np.linspace(0, 10, 1000)\n",
    "result1 = mesolve(D_tot, rho0, t, [], e_ops = [nphot_tot,jx_tot,jy_tot,jz_tot,adag_cuad_a_cuad], \n",
    "                  options = Options(store_states=True))    #[nphot_tot,jx,jy,jz]\n",
    "rhot_tot = result1.states\n",
    "nphot_t = result1.expect[0]\n",
    "jx_t = result1.expect[1]\n",
    "jy_t = result1.expect[2]\n",
    "jz_t = result1.expect[3]\n",
    "adag_cuad_a_cuad_t=result1.expect[4]"
   ]
  },
  {
   "cell_type": "code",
   "execution_count": null,
   "metadata": {},
   "outputs": [],
   "source": []
  },
  {
   "cell_type": "code",
   "execution_count": null,
   "metadata": {},
   "outputs": [],
   "source": []
  },
  {
   "cell_type": "code",
   "execution_count": 62,
   "metadata": {},
   "outputs": [
    {
     "data": {
      "image/png": "[encoded data removed]",
      "text/plain": [
       "<Figure size 720x468 with 1 Axes>"
      ]
     },
     "metadata": {
      "needs_background": "light"
     },
     "output_type": "display_data"
    }
   ],
   "source": [
    "j_max = N/2.\n",
    "label_size = 20\n",
    "\n",
    "\n",
    "fig3 = plt.figure(3)\n",
    "\n",
    "plt.plot(t, jx_t, 'k-', label='$S_X$ PIQS')\n",
    "plt.plot(t, jy_t, 'r-', label='$S_y$ PIQS')\n",
    "plt.plot(t, jz_t, 'g-', label='$S_z$ PIQS')\n",
    "\n",
    "plt.title(r'Quantum Evolution of $S_k$', fontsize = label_size)\n",
    "plt.xlabel(r'$t$', fontsize = label_size)\n",
    "#plt.ylabel(r'$\\langle a^\\dagger a\\rangle(t)$', fontsize = label_size)\n",
    "plt.ylabel(r'$\\langle S_k \\rangle(t)$', fontsize = label_size)\n",
    "\n",
    "\n",
    "plt.plot(times, Result_varDDTWA_EM[0],\"--\",label=\"$S_x$ DDTWA EM\")\n",
    "\n",
    "plt.plot(times, Result_varDDTWA_EM[1],\"--\",label=\"$S_y$ DDTWA EM\")\n",
    "\n",
    "plt.plot(times, Result_varDDTWA_EM[2],\"--\",label=\"$S_z$ DDTWA EM\")\n",
    "\n",
    "\n",
    "\n",
    "\n",
    "#plt.legend(fontsize = label_size)\n",
    "plt.legend(loc=\"upper right\")\n",
    "plt.show()\n",
    "plt.close()"
   ]
  },
  {
   "cell_type": "code",
   "execution_count": null,
   "metadata": {},
   "outputs": [],
   "source": []
  },
  {
   "cell_type": "code",
   "execution_count": 63,
   "metadata": {},
   "outputs": [
    {
     "data": {
      "image/png": "[encoded data removed]",
      "text/plain": [
       "<Figure size 720x468 with 1 Axes>"
      ]
     },
     "metadata": {
      "needs_background": "light"
     },
     "output_type": "display_data"
    }
   ],
   "source": [
    "j_max = N/2.\n",
    "label_size = 20\n",
    "\n",
    "\n",
    "fig3 = plt.figure(3)\n",
    "plt.plot(t, nphot_t, 'k-', label='$a^{\\dagger}a$ PIQS')\n",
    "plt.title(r'Quantum Dynamics Photon Number', fontsize = label_size)\n",
    "plt.xlabel(r'$t$', fontsize = label_size)\n",
    "#plt.ylabel(r'$\\langle a^\\dagger a\\rangle(t)$', fontsize = label_size)\n",
    "plt.ylabel(r'$\\langle a^{\\dagger}a \\rangle(t)$', fontsize = label_size)\n",
    "\n",
    "\n",
    "plt.plot(times, Result_varDDTWA_EM[9]-0.5,\"--\",label=\"$a^{\\dagger}a$ DDTWA EM\")\n",
    "\n",
    "\n",
    "\n",
    "\n",
    "#plt.legend(fontsize = label_size)\n",
    "plt.legend()\n",
    "plt.show()\n",
    "plt.close()"
   ]
  },
  {
   "cell_type": "code",
   "execution_count": null,
   "metadata": {},
   "outputs": [],
   "source": []
  },
  {
   "cell_type": "code",
   "execution_count": 64,
   "metadata": {},
   "outputs": [
    {
     "data": {
      "image/png": "[encoded data removed]",
      "text/plain": [
       "<Figure size 720x468 with 1 Axes>"
      ]
     },
     "metadata": {
      "needs_background": "light"
     },
     "output_type": "display_data"
    }
   ],
   "source": [
    "matplotlib.rcParams['figure.figsize'] = (10.0, 6.5)\n",
    "\n",
    "j_max = N/2.\n",
    "label_size = 20\n",
    "\n",
    "\n",
    "fig3 = plt.figure(3)\n",
    "#plt.plot(t, nphot_t, 'k-', label='Time evolution')\n",
    "plt.title(r'Quantum Dynamics $a^{\\dagger}a^{\\dagger}aa$', fontsize = label_size)\n",
    "plt.xlabel(r'$t$', fontsize = label_size)\n",
    "#plt.ylabel(r'$\\langle a^\\dagger a\\rangle(t)$', fontsize = label_size)\n",
    "plt.ylabel(r'$\\langle a^{\\dagger}a^{\\dagger} aa \\rangle(t)$', fontsize = label_size)\n",
    "\n",
    "\n",
    "plt.plot(times, Result_varDDTWA_EM[10],\"--\",label=\"$a^{\\dagger}a^{\\dagger}aa$ DDTWA EM\")\n",
    "\n",
    "\n",
    "plt.plot(t, adag_cuad_a_cuad_t, 'k-', label='$a^{\\dagger}a^{\\dagger}aa$ PIQS')\n",
    "\n",
    "#plt.legend(fontsize = label_size)\n",
    "plt.legend()\n",
    "plt.show()\n",
    "plt.close()"
   ]
  },
  {
   "cell_type": "code",
   "execution_count": 82,
   "metadata": {},
   "outputs": [
    {
     "name": "stderr",
     "output_type": "stream",
     "text": [
      "<ipython-input-82-041b69212fd4>:17: RuntimeWarning: invalid value encountered in true_divide\n",
      "  g2_0=np.divide(adag_cuad_a_cuad_t,nphot_t**2)\n",
      "WARNING:matplotlib.legend:No handles with labels found to put in legend.\n"
     ]
    },
    {
     "data": {
      "image/png": "[encoded data removed]",
      "text/plain": [
       "<Figure size 720x468 with 1 Axes>"
      ]
     },
     "metadata": {
      "needs_background": "light"
     },
     "output_type": "display_data"
    }
   ],
   "source": [
    "matplotlib.rcParams['figure.figsize'] = (10.0, 6.5)\n",
    "\n",
    "j_max = N/2.\n",
    "label_size = 20\n",
    "\n",
    "\n",
    "fig3 = plt.figure(3)\n",
    "#plt.plot(t, nphot_t, 'k-', label='Time evolution')\n",
    "plt.title(r'Quantum Dynamics of $g^{(2)}(0)$', fontsize = label_size)\n",
    "plt.xlabel(r'$t$', fontsize = label_size)\n",
    "#plt.ylabel(r'$\\langle a^\\dagger a\\rangle(t)$', fontsize = label_size)\n",
    "plt.ylabel(r'$g^{(2)}(0)$', fontsize = label_size)\n",
    "\n",
    "\n",
    "\n",
    "\n",
    "g2_0=np.divide(adag_cuad_a_cuad_t,nphot_t**2)\n",
    "g2_est=np.divide(Result_varDDTWA_EM[10],(Result_varDDTWA_EM[9]-0.5)**2)\n",
    "\n",
    "index=3500\n",
    "index1=175\n",
    "\n",
    "plt.plot(t[index1:],g2_0[index1:])\n",
    "plt.plot(times[index:],g2_est[index:])\n",
    "\n",
    "#plt.legend(fontsize = label_size)\n",
    "plt.legend()\n",
    "plt.show()\n",
    "plt.close()\n"
   ]
  },
  {
   "cell_type": "code",
   "execution_count": null,
   "metadata": {},
   "outputs": [],
   "source": []
  },
  {
   "cell_type": "code",
   "execution_count": null,
   "metadata": {},
   "outputs": [],
   "source": []
  },
  {
   "cell_type": "code",
   "execution_count": null,
   "metadata": {},
   "outputs": [],
   "source": []
  },
  {
   "cell_type": "code",
   "execution_count": null,
   "metadata": {},
   "outputs": [],
   "source": []
  },
  {
   "cell_type": "code",
   "execution_count": null,
   "metadata": {},
   "outputs": [],
   "source": []
  },
  {
   "cell_type": "code",
   "execution_count": null,
   "metadata": {},
   "outputs": [],
   "source": []
  },
  {
   "cell_type": "code",
   "execution_count": null,
   "metadata": {},
   "outputs": [],
   "source": []
  },
  {
   "cell_type": "code",
   "execution_count": null,
   "metadata": {},
   "outputs": [],
   "source": []
  },
  {
   "cell_type": "code",
   "execution_count": null,
   "metadata": {},
   "outputs": [],
   "source": []
  },
  {
   "cell_type": "code",
   "execution_count": null,
   "metadata": {},
   "outputs": [],
   "source": []
  },
  {
   "cell_type": "code",
   "execution_count": null,
   "metadata": {},
   "outputs": [],
   "source": []
  },
  {
   "cell_type": "code",
   "execution_count": null,
   "metadata": {},
   "outputs": [],
   "source": []
  },
  {
   "cell_type": "code",
   "execution_count": null,
   "metadata": {},
   "outputs": [],
   "source": []
  },
  {
   "cell_type": "code",
   "execution_count": null,
   "metadata": {},
   "outputs": [],
   "source": []
  },
  {
   "cell_type": "code",
   "execution_count": null,
   "metadata": {},
   "outputs": [],
   "source": []
  },
  {
   "cell_type": "code",
   "execution_count": null,
   "metadata": {},
   "outputs": [],
   "source": [
    "excited_uncoupled = excited(3, basis=\"uncoupled\")\n",
    "ground_uncoupled = ground(3, basis=\"uncoupled\")"
   ]
  },
  {
   "cell_type": "code",
   "execution_count": null,
   "metadata": {},
   "outputs": [],
   "source": [
    "ground_uncoupled"
   ]
  },
  {
   "cell_type": "code",
   "execution_count": null,
   "metadata": {},
   "outputs": [],
   "source": [
    "excited_coupled = excited(2, basis=\"coupled\")\n",
    "ground_coupled = ground(2, basis=\"coupled\")"
   ]
  },
  {
   "cell_type": "code",
   "execution_count": null,
   "metadata": {},
   "outputs": [],
   "source": [
    "ground_coupled"
   ]
  },
  {
   "cell_type": "code",
   "execution_count": null,
   "metadata": {},
   "outputs": [],
   "source": [
    "ground(N, basis=\"coupled\")==dicke(N,N/2,-N/2)"
   ]
  },
  {
   "cell_type": "code",
   "execution_count": null,
   "metadata": {},
   "outputs": [],
   "source": [
    "N"
   ]
  },
  {
   "cell_type": "code",
   "execution_count": null,
   "metadata": {},
   "outputs": [],
   "source": [
    "np.trace(jz*ground_coupled)"
   ]
  },
  {
   "cell_type": "code",
   "execution_count": null,
   "metadata": {},
   "outputs": [],
   "source": []
  },
  {
   "cell_type": "code",
   "execution_count": null,
   "metadata": {},
   "outputs": [],
   "source": []
  },
  {
   "cell_type": "code",
   "execution_count": null,
   "metadata": {},
   "outputs": [],
   "source": []
  },
  {
   "cell_type": "code",
   "execution_count": null,
   "metadata": {},
   "outputs": [],
   "source": [
    "\n",
    "from numba import jit\n",
    "\n",
    "#@jit\n",
    "\n",
    "\n",
    "#@jit\n",
    "\n",
    "def Aplus_j(n):\n",
    "    if 0<=n<=N:\n",
    "        return np.sqrt( (N-n)*  (n+1) )\n",
    "    else:\n",
    "        return 0\n",
    "#@jit\n",
    "    \n",
    "def Aminus_j(n):\n",
    "    if 0<=n<=N:\n",
    "        return np.sqrt( (n)*  (N-n+1) )\n",
    "    else:\n",
    "        return 0    \n",
    "    \n",
    "#@jit    \n",
    "def Az(n):\n",
    "    return -N/2+n"
   ]
  },
  {
   "cell_type": "code",
   "execution_count": null,
   "metadata": {},
   "outputs": [],
   "source": [
    "N"
   ]
  },
  {
   "cell_type": "code",
   "execution_count": null,
   "metadata": {},
   "outputs": [],
   "source": [
    "L=20\n",
    "\n",
    "def index_list(N=N,L=L):\n",
    "    Index_list=[]\n",
    "    for j in range(N+1):\n",
    "        for k in range(L+1):\n",
    "            Index_list.append([j,k])\n",
    "    return Index_list"
   ]
  },
  {
   "cell_type": "code",
   "execution_count": null,
   "metadata": {},
   "outputs": [],
   "source": []
  },
  {
   "cell_type": "code",
   "execution_count": null,
   "metadata": {},
   "outputs": [],
   "source": [
    "Index_list=index_list(N,L)\n",
    "\n",
    "Index_list.count([4,6])"
   ]
  },
  {
   "cell_type": "code",
   "execution_count": null,
   "metadata": {},
   "outputs": [],
   "source": [
    "def Aplus_j(n):\n",
    "    if 0<=n<=N:\n",
    "        return np.sqrt( (N-n)*  (n+1) )\n",
    "    else:\n",
    "        return 0\n",
    "\n",
    "    \n",
    "def Aminus_j(n):\n",
    "    if 0<=n<=N:\n",
    "        return np.sqrt( (n)*  (N-n+1) )\n",
    "    else:\n",
    "        return 0    \n",
    "    \n",
    "    \n",
    "def Az(n):\n",
    "    return -N/2+n\n",
    "\n",
    "\n",
    "from numba import jit\n",
    "\n",
    "#@jit\n",
    "\n",
    "\n",
    "\n",
    "def vectorsR(r, t,J=J,N=N,Omega=Omega,g_coef=g_coef):#,Vect=Vect):   \n",
    "            \n",
    "    #matrix_zero=np.zeros((int(3*N),int(3*N)),dtype = 'complex_')\n",
    "    matrix_zero=np.zeros((int( (N+1)*(L+1)),int((N+1)*(L+1))), dtype = 'complex_')\n",
    "    \n",
    "    drdt =  np.matmul(matrix_zero, r)  #matrix_zero @ r   #sum of the linear and the constant part\n",
    "    #drdt = matrix_zero @ r\n",
    "    \n",
    "    Index_list=index_list(N,L)\n",
    "    \n",
    "    \n",
    "    \n",
    "    ###Define Vect which is an array of coordinates of size N\n",
    "    \n",
    "    count=0\n",
    "       \n",
    "    \n",
    "    for vect in Index_list:\n",
    "        n1  =vect[0]\n",
    "        npr1=vect[1]\n",
    "        npr=npr1\n",
    "\n",
    "        \n",
    "        cfinnpr=Index_list.count([n1,npr1])\n",
    "        indnnpr=Index_list.index(list(cfinnpr*np.array([n1,npr1])))   \n",
    "        \n",
    "        cfinm1nprp1=Index_list.count([n1-1,npr1+1])\n",
    "        indnm1nprp1=Index_list.index(list(cfinm1nprp1*np.array([n1-1,npr1+1]))) \n",
    "        \n",
    "        cfinp1nprm1=Index_list.count([n1+1,npr1-1])\n",
    "        indnp1nprm1=Index_list.index(list(cfinp1nprm1*np.array([n1+1,npr1-1]))) \n",
    "\n",
    "        cfinm1npr=Index_list.count([n1-1,npr1])\n",
    "        indnm1npr=Index_list.index(list(cfinm1npr*np.array([n1-1,npr1])))\n",
    "        \n",
    "        cfinp1npr=Index_list.count([n1+1,npr1])\n",
    "        indnp1npr=Index_list.index(list(cfinp1npr*np.array([n1+1,npr1])))\n",
    "      \n",
    "        \n",
    "            \n",
    "        drdt[indnnpr]+= -1j*(g_coef/np.sqrt(N))* Aplus_j(n1-1)*np.sqrt(npr1+1)*cfinm1nprp1*r[indnm1nprp1]+\\\n",
    "            -1j*(g_coef/np.sqrt(N))* Aminus_j(n1+1)*np.sqrt(npr1)*cfinp1nprm1*r[indnp1nprm1]+\\\n",
    "            -1j*(Delta*npr1*cfinnpr*r[indnnpr])+\\\n",
    "            -1j*(Omega/2)*Aplus_j(n1-1)*cfinm1npr*r[indnm1npr]-1j*(Omega/2)*Aminus_j(n1+1)*cfinp1npr*r[indnp1npr]\n",
    "        \n",
    "        \n",
    "               \n",
    "    return drdt\n",
    "\n",
    "\n",
    "\n",
    "\n",
    "r0=int((N+1)*(L+1))*[0]\n",
    "\n",
    "r0[0]=1\n",
    "\n",
    "rinit=r0"
   ]
  },
  {
   "cell_type": "code",
   "execution_count": null,
   "metadata": {},
   "outputs": [],
   "source": [
    "#T=10\n",
    "#n=8000\n",
    "\n",
    "\n",
    "times1 = times #np.linspace(0., T, n)"
   ]
  },
  {
   "cell_type": "code",
   "execution_count": null,
   "metadata": {},
   "outputs": [],
   "source": [
    "t0=time.time()\n",
    "\n",
    "z=odeintz(vectorsR, list(r0), times1)#, args=(N,L))\n",
    "t1=time.time()"
   ]
  },
  {
   "cell_type": "code",
   "execution_count": null,
   "metadata": {},
   "outputs": [],
   "source": [
    "for j in range((N+1)*(L+1)):\n",
    "    plt.plot(times,np.real(z[:,j]))\n",
    "    plt.plot(times,np.imag(z[:,j]))\n",
    "\n",
    "print(t1-t0,N,L)"
   ]
  },
  {
   "cell_type": "code",
   "execution_count": null,
   "metadata": {},
   "outputs": [],
   "source": [
    "\n",
    "@jit\n",
    "def adag_a(index):\n",
    "    Psi_state=z[index,:]\n",
    "    Index_list=index_list(N,L)\n",
    "    \n",
    "    count=0\n",
    "    \n",
    "    adag_a=0\n",
    "    adag_a_cuad=0\n",
    "    sz=0\n",
    "    \n",
    "\n",
    "    for vect in Index_list:\n",
    "        \n",
    "        n_mat =vect[0]\n",
    "        l_lig =vect[1]\n",
    "        c_cuad=(LA.norm(z[index,:][count]))**2\n",
    "        \n",
    "        adag_a=adag_a+l_lig*c_cuad\n",
    "        adag_a_cuad=adag_a_cuad+l_lig*(l_lig-1)*c_cuad\n",
    "        sz = sz+Az(n_mat)*c_cuad\n",
    "    \n",
    "        count=count+1\n",
    "        \n",
    "    return adag_a, adag_a_cuad, sz\n",
    "    "
   ]
  },
  {
   "cell_type": "code",
   "execution_count": null,
   "metadata": {},
   "outputs": [],
   "source": [
    "Adag_a_list=[]\n",
    "Adag_a_cuad_list=[]\n",
    "\n",
    "sz_value=[]\n",
    "\n",
    "corr_g=[]\n",
    "\n",
    "\n",
    "\n",
    "\n",
    "for j in range(len(times)):\n",
    "    #Adag_a_list.append(adag_a(j)[0])\n",
    "    #Adag_a_cuad_list.append(adag_a(j)[1])\n",
    "    \n",
    "    sz_value.append(adag_a(j)[2])\n",
    "    \n",
    "    #corr_g.append(adag_a(j)[1]/(adag_a(j)[0])**2)\n",
    "    \n",
    "    \n",
    "\n",
    "#for j in range(len(t)):\n",
    "    \n",
    "    "
   ]
  },
  {
   "cell_type": "code",
   "execution_count": null,
   "metadata": {},
   "outputs": [],
   "source": [
    "#plt.plot(t,Adag_a_cuad_list)\n",
    "#plt.plot(t,Adag_a_list)\n",
    "\n",
    "matplotlib.rcParams['figure.figsize'] = (10.0, 7.0)\n",
    "\n",
    "plt.plot(times,-np.array(sz_value),label=\"Sz SE\")\n",
    "\n",
    "plt.plot(times, Result_varDDTWA_EM[2],\"-\",label=\"Sz DDTWA EM\")\n",
    "\n",
    "plt.plot(t, jz_t, 'k-', label='Time evolution')\n",
    "\n",
    "\n",
    "plt.legend()\n",
    "\n",
    "#plt.plot(times, Result_varDDTWA_EM[2],\"-\",label=\"Sz DDTWA EM\")"
   ]
  },
  {
   "cell_type": "code",
   "execution_count": null,
   "metadata": {},
   "outputs": [],
   "source": []
  },
  {
   "cell_type": "code",
   "execution_count": null,
   "metadata": {},
   "outputs": [],
   "source": []
  },
  {
   "cell_type": "code",
   "execution_count": null,
   "metadata": {},
   "outputs": [],
   "source": []
  },
  {
   "cell_type": "code",
   "execution_count": null,
   "metadata": {},
   "outputs": [],
   "source": []
  },
  {
   "cell_type": "code",
   "execution_count": null,
   "metadata": {},
   "outputs": [],
   "source": []
  },
  {
   "cell_type": "code",
   "execution_count": null,
   "metadata": {},
   "outputs": [],
   "source": []
  },
  {
   "cell_type": "code",
   "execution_count": null,
   "metadata": {},
   "outputs": [],
   "source": []
  },
  {
   "cell_type": "code",
   "execution_count": null,
   "metadata": {},
   "outputs": [],
   "source": []
  },
  {
   "cell_type": "code",
   "execution_count": null,
   "metadata": {},
   "outputs": [],
   "source": []
  },
  {
   "cell_type": "code",
   "execution_count": null,
   "metadata": {},
   "outputs": [],
   "source": []
  },
  {
   "cell_type": "code",
   "execution_count": null,
   "metadata": {},
   "outputs": [],
   "source": []
  },
  {
   "cell_type": "code",
   "execution_count": null,
   "metadata": {},
   "outputs": [],
   "source": []
  },
  {
   "cell_type": "code",
   "execution_count": null,
   "metadata": {},
   "outputs": [],
   "source": []
  },
  {
   "cell_type": "code",
   "execution_count": null,
   "metadata": {},
   "outputs": [],
   "source": []
  },
  {
   "cell_type": "code",
   "execution_count": null,
   "metadata": {},
   "outputs": [],
   "source": []
  },
  {
   "cell_type": "code",
   "execution_count": null,
   "metadata": {},
   "outputs": [],
   "source": []
  },
  {
   "cell_type": "code",
   "execution_count": null,
   "metadata": {},
   "outputs": [],
   "source": []
  },
  {
   "cell_type": "code",
   "execution_count": null,
   "metadata": {},
   "outputs": [],
   "source": []
  },
  {
   "cell_type": "code",
   "execution_count": null,
   "metadata": {},
   "outputs": [],
   "source": []
  },
  {
   "cell_type": "code",
   "execution_count": null,
   "metadata": {},
   "outputs": [],
   "source": []
  },
  {
   "cell_type": "code",
   "execution_count": null,
   "metadata": {},
   "outputs": [],
   "source": []
  },
  {
   "cell_type": "code",
   "execution_count": null,
   "metadata": {},
   "outputs": [],
   "source": []
  },
  {
   "cell_type": "code",
   "execution_count": null,
   "metadata": {},
   "outputs": [],
   "source": []
  },
  {
   "cell_type": "code",
   "execution_count": null,
   "metadata": {},
   "outputs": [],
   "source": []
  },
  {
   "cell_type": "code",
   "execution_count": null,
   "metadata": {},
   "outputs": [],
   "source": []
  },
  {
   "cell_type": "code",
   "execution_count": null,
   "metadata": {},
   "outputs": [],
   "source": []
  },
  {
   "cell_type": "code",
   "execution_count": null,
   "metadata": {},
   "outputs": [],
   "source": []
  },
  {
   "cell_type": "code",
   "execution_count": null,
   "metadata": {},
   "outputs": [],
   "source": []
  },
  {
   "cell_type": "code",
   "execution_count": null,
   "metadata": {},
   "outputs": [],
   "source": []
  },
  {
   "cell_type": "code",
   "execution_count": null,
   "metadata": {},
   "outputs": [],
   "source": []
  },
  {
   "cell_type": "code",
   "execution_count": null,
   "metadata": {},
   "outputs": [],
   "source": []
  },
  {
   "cell_type": "code",
   "execution_count": null,
   "metadata": {},
   "outputs": [],
   "source": []
  },
  {
   "cell_type": "code",
   "execution_count": null,
   "metadata": {},
   "outputs": [],
   "source": [
    "\n",
    "from numba import jit\n",
    "\n",
    "#@jit\n",
    "\n",
    "\n",
    "#@jit\n",
    "\n",
    "def Aplus_j(n):\n",
    "    if 0<=n<=N:\n",
    "        return np.sqrt( (N-n)*  (n+1) )\n",
    "    else:\n",
    "        return 0\n",
    "#@jit\n",
    "    \n",
    "def Aminus_j(n):\n",
    "    if 0<=n<=N:\n",
    "        return np.sqrt( (n)*  (N-n+1) )\n",
    "    else:\n",
    "        return 0    \n",
    "    \n",
    "#@jit    \n",
    "def Az(n):\n",
    "    return -N/2+n"
   ]
  },
  {
   "cell_type": "code",
   "execution_count": null,
   "metadata": {},
   "outputs": [],
   "source": [
    "chi"
   ]
  },
  {
   "cell_type": "code",
   "execution_count": null,
   "metadata": {},
   "outputs": [],
   "source": [
    "# Dicke Basis \"exact\" solution master equation"
   ]
  },
  {
   "cell_type": "code",
   "execution_count": null,
   "metadata": {},
   "outputs": [],
   "source": [
    "def index_list(N=N):\n",
    "    Index_list=[]\n",
    "    for j in range(N+1):\n",
    "        for k in range(N+1):\n",
    "            Index_list.append([j,k])\n",
    "    return Index_list\n",
    "    "
   ]
  },
  {
   "cell_type": "code",
   "execution_count": null,
   "metadata": {},
   "outputs": [],
   "source": [
    "def Aplus_j(n):\n",
    "    if 0<=n<=N:\n",
    "        return np.sqrt( (N-n)*  (n+1) )\n",
    "    else:\n",
    "        return 0\n",
    "\n",
    "    \n",
    "def Aminus_j(n):\n",
    "    if 0<=n<=N:\n",
    "        return np.sqrt( (n)*  (N-n+1) )\n",
    "    else:\n",
    "        return 0    \n",
    "    \n",
    "    \n",
    "def Az(n):\n",
    "    return -N/2+n\n",
    "\n",
    "\n",
    "\n",
    "Gamma_phi=refgamma*J\n",
    "Gamma_C=Gamma_decay\n",
    "\n",
    "Omega=refomega*J\n",
    "\n",
    "from numba import jit\n",
    "\n",
    "#@jit\n",
    "\n",
    "\n",
    "\n",
    "def vectorsR(r, t,J=J,N=N,Omega=Omega,Gamma_C=Gamma_C,Gamma_phi=Gamma_phi):#,Vect=Vect):   \n",
    "            \n",
    "    #matrix_zero=np.zeros((int(3*N),int(3*N)),dtype = 'complex_')\n",
    "    matrix_zero=np.zeros((int( (N+1)**2  ),int((N+1)**2)),dtype = 'complex_')\n",
    "    \n",
    "    drdt =  np.matmul(matrix_zero, r)  #matrix_zero @ r   #sum of the linear and the constant part\n",
    "    #drdt = matrix_zero @ r\n",
    "    \n",
    "    Index_list=index_list(N)\n",
    "    \n",
    "    \n",
    "    \n",
    "    \n",
    "    \n",
    "    ###Define Vect which is an array of coordinates of size N\n",
    "    \n",
    "    count=0\n",
    "       \n",
    "    \n",
    "    for vect in Index_list:\n",
    "        n1  =vect[0]\n",
    "        npr1=vect[1]\n",
    "        npr=npr1\n",
    "\n",
    "        \n",
    "        cfinnpr=Index_list.count([n1,npr1])\n",
    "        indnnpr=Index_list.index(list(cfinnpr*np.array([n1,npr1])))       \n",
    "        \n",
    "        cfinnprm1=Index_list.count([n1,npr1-1])\n",
    "        indnnprm1=Index_list.index(list(cfinnprm1*np.array([n1,npr1-1])))\n",
    "        \n",
    "        cfinp1npr=Index_list.count([n1+1,npr1])\n",
    "        indnp1npr=Index_list.index(list(cfinp1npr*np.array([n1+1,npr1])))        \n",
    "        \n",
    "        cfinnprp1=Index_list.count([n1,npr1+1])\n",
    "        indnnprp1=Index_list.index(list(cfinnprp1*np.array([n1,npr1+1])))\n",
    "        \n",
    "        cfinm1npr=Index_list.count([n1-1,npr1])\n",
    "        indnm1npr=Index_list.index(list(cfinm1npr*np.array([n1-1,npr1])))    \n",
    "            \n",
    "        cfinp1nprp1=Index_list.count([n1+1,npr1+1])\n",
    "        indnp1nprp1=Index_list.index(list(cfinp1nprp1*np.array([n1+1,npr1+1])))\n",
    "            \n",
    "\n",
    "        \n",
    "        \n",
    "            \n",
    "        drdt[indnnpr]+=1j*(Omega/2)* Aplus_j(npr1-1)*cfinnprm1*r[indnnprm1]+\\\n",
    "            -1j*(Omega/2)*Aplus_j(n1-1)*cfinm1npr*r[indnm1npr]+1j*(Omega/2)*Aminus_j(npr1+1)*cfinnprp1*r[indnnprp1]+\\\n",
    "            -1j*(Omega/2)*Aminus_j(n1+1)*cfinp1npr*r[indnp1npr]+Gamma_C*Aminus_j(n1+1)*Aminus_j(npr+1)*cfinp1nprp1*r[indnp1nprp1]+\\\n",
    "            1j*(chi/N)*( Aplus_j(npr1-1)*Aminus_j(npr1)-Aplus_j(n1-1)*Aminus_j(n1)   )*cfinnpr*r[indnnpr]+\\\n",
    "            -(Gamma_C/2)*(Aminus_j(n1)*Aplus_j(n1-1) + Aminus_j(npr1)*Aplus_j(npr1-1) )*cfinnpr*r[indnnpr]\n",
    "\n",
    "               \n",
    "    return drdt\n",
    "\n",
    "\n",
    "\n",
    "\n",
    "r0=int((N+1)**2)*[0]\n",
    "\n",
    "r0[0]=1\n",
    "\n",
    "rinit=r0"
   ]
  },
  {
   "cell_type": "code",
   "execution_count": null,
   "metadata": {},
   "outputs": [],
   "source": [
    "\n"
   ]
  },
  {
   "cell_type": "code",
   "execution_count": null,
   "metadata": {},
   "outputs": [],
   "source": [
    "#T=40\n",
    "#n=2000\n",
    "\n",
    "\n",
    "#times = np.linspace(0., T, n)"
   ]
  },
  {
   "cell_type": "code",
   "execution_count": null,
   "metadata": {},
   "outputs": [],
   "source": [
    "type(r0)"
   ]
  },
  {
   "cell_type": "code",
   "execution_count": null,
   "metadata": {},
   "outputs": [],
   "source": [
    "t0=time.time()\n",
    "\n",
    "z=odeintz(vectorsR, list(r0), times)#, args=(N,L))\n",
    "t1=time.time()"
   ]
  },
  {
   "cell_type": "code",
   "execution_count": null,
   "metadata": {},
   "outputs": [],
   "source": [
    "for j in range((N+1)**2):\n",
    "    plt.plot(times,np.real(z[:,j]))\n",
    "    plt.plot(times,np.imag(z[:,j]))\n",
    "\n",
    "print(t1-t0,N)"
   ]
  },
  {
   "cell_type": "code",
   "execution_count": null,
   "metadata": {},
   "outputs": [],
   "source": [
    "#z[3,:]  We obtain the third elements of the density matrix\n",
    "\n",
    "\"We can determine the density matrix using the following function\"\n",
    "\n",
    "from numba import jit\n",
    "\n",
    "#@jit\n",
    "\n",
    "def rho_matr(time_index):\n",
    "    rho_matr=np.zeros((int( (N+1)  ),int((N+1))),dtype = 'complex_')\n",
    "    count=0\n",
    "    for i in range(N+1):\n",
    "        for j in range(N+1):\n",
    "            rho_matr[i][j]= z[time_index,:][count]\n",
    "            \n",
    "            count=count+1\n",
    "            \n",
    "    return rho_matr"
   ]
  },
  {
   "cell_type": "code",
   "execution_count": null,
   "metadata": {},
   "outputs": [],
   "source": [
    "def Sxyz_dicke(N=N):\n",
    "    S_x=np.zeros((int( (N+1)  ),int((N+1))),dtype = 'complex_')\n",
    "    S_y=np.zeros((int( (N+1)  ),int((N+1))),dtype = 'complex_')\n",
    "    S_z=np.zeros((int( (N+1)  ),int((N+1))),dtype = 'complex_')\n",
    "\n",
    "    for n in range(1,N+1):\n",
    "        S_x[n][n-1]= 0.5*Aplus_j(n-1)\n",
    "        S_y[n][n-1]=(-0.5*1j)*Aplus_j(n-1)\n",
    "    \n",
    "    for n in range(0,N):\n",
    "        S_x[n][n+1]= 0.5*Aminus_j(n+1)\n",
    "        S_y[n][n+1]=(0.5*1j)*Aminus_j(n+1)  \n",
    "        S_z[n][n]=-N/2+n\n",
    "    S_z[N][N]=N/2\n",
    "    return S_x, S_y, S_z"
   ]
  },
  {
   "cell_type": "code",
   "execution_count": null,
   "metadata": {},
   "outputs": [],
   "source": [
    "\n",
    "t=times\n",
    "\n",
    "Sx=Sxyz_dicke(N)[0]\n",
    "Sy=Sxyz_dicke(N)[1]\n",
    "Sz=Sxyz_dicke(N)[2]\n",
    "\n",
    "\n",
    "Sx_result_ME=[]\n",
    "Sy_result_ME=[]\n",
    "Sz_result_ME=[]\n",
    "\n",
    "for j in range(len(t)):\n",
    "    Refmat=rho_matr(j)\n",
    "    Sx_result_ME.append(np.trace(np.matmul(Sx, Refmat )))\n",
    "    Sy_result_ME.append(np.trace(np.matmul(Sy, Refmat )))\n",
    "    Sz_result_ME.append(np.trace(np.matmul(Sz, Refmat )))\n",
    "    "
   ]
  },
  {
   "cell_type": "code",
   "execution_count": null,
   "metadata": {},
   "outputs": [],
   "source": [
    "\n",
    "matplotlib.rcParams['figure.figsize'] = (10.0, 7.0)\n",
    "\n",
    "plt.plot(times, Result_varDDTWA_EM[0],\"--\",label=\"Sx DDTWA EM\")\n",
    "\n",
    "plt.plot(times, Result_varDDTWA_EM[1],\"--\",label=\"Sy DDTWA EM\")\n",
    "\n",
    "plt.plot(times, Result_varDDTWA_EM[2],\"--\",label=\"Sz DDTWA EM\")\n",
    "\n",
    "\n",
    "plt.plot(times,np.real(Sx_result_ME),label=\"Sx\")    #Master equation\n",
    "plt.plot(times,np.real(Sy_result_ME),label=\"Sy\")    #Master equation\n",
    "plt.plot(times,np.real(Sz_result_ME),label=\"Sz\")    #Master equation\n",
    "\n",
    "\n",
    "plt.legend()"
   ]
  },
  {
   "cell_type": "code",
   "execution_count": null,
   "metadata": {},
   "outputs": [],
   "source": []
  },
  {
   "cell_type": "code",
   "execution_count": null,
   "metadata": {},
   "outputs": [],
   "source": []
  },
  {
   "cell_type": "code",
   "execution_count": null,
   "metadata": {},
   "outputs": [],
   "source": [
    "#Comparison between DDTWA and master equation"
   ]
  },
  {
   "cell_type": "code",
   "execution_count": null,
   "metadata": {},
   "outputs": [],
   "source": []
  },
  {
   "cell_type": "code",
   "execution_count": null,
   "metadata": {},
   "outputs": [],
   "source": []
  },
  {
   "cell_type": "code",
   "execution_count": null,
   "metadata": {},
   "outputs": [],
   "source": []
  },
  {
   "cell_type": "code",
   "execution_count": null,
   "metadata": {},
   "outputs": [],
   "source": [
    "\n",
    "t=times\n",
    "\n",
    "Sx=Sxyz_dicke(N)[0]\n",
    "Sy=Sxyz_dicke(N)[1]\n",
    "Sz=Sxyz_dicke(N)[2]\n",
    "Sx_cuad=np.matmul(Sx,Sx)\n",
    "Sy_cuad=np.matmul(Sy,Sy)\n",
    "Sz_cuad=np.matmul(Sz,Sz)\n",
    "\n",
    "\n",
    "\n",
    "\n",
    "Sx_result=[]\n",
    "Sy_result=[]\n",
    "Sz_result=[]\n",
    "Sx_cuad_result=[]\n",
    "Sy_cuad_result=[]\n",
    "Sz_cuad_result=[]\n",
    "\n",
    "\n",
    "for j in range(len(t)):\n",
    "    Refmat=rho_matr(j)\n",
    "\n",
    "    \n",
    "    \n",
    "    \n",
    "    Sx_result.append(np.trace(np.matmul(Sx, Refmat )))\n",
    "    Sy_result.append(np.trace(np.matmul(Sy, Refmat )))\n",
    "    Sz_result.append(np.trace(np.matmul(Sz, Refmat )))\n",
    "    Sx_cuad_result.append(np.trace(np.matmul(Sx_cuad, Refmat )))\n",
    "    Sy_cuad_result.append(np.trace(np.matmul(Sy_cuad, Refmat )))\n",
    "    Sz_cuad_result.append(np.trace(np.matmul(Sz_cuad, Refmat )))"
   ]
  },
  {
   "cell_type": "code",
   "execution_count": null,
   "metadata": {},
   "outputs": [],
   "source": [
    "matplotlib.rcParams['figure.figsize'] = (10.0, 8.0)\n",
    "\n",
    "plt.title(\"$(\\Delta S_k)^2$ Evolution under full(factorization) algebra\")\n",
    "\n",
    "\n",
    "\n",
    "matplotlib.rcParams['figure.figsize'] = (11.0, 8.0)\n",
    "\n",
    "ax_EM=N/4+  Result_varDDTWA_EM[3+0]-(Result_varDDTWA_EM[0])**2\n",
    "ay_EM=N/4+  Result_varDDTWA_EM[3+1]-(Result_varDDTWA_EM[1])**2\n",
    "az_EM=N/4+  Result_varDDTWA_EM[3+2]-(Result_varDDTWA_EM[2])**2\n",
    "\n",
    "ax1_EM=np.array(Result_varDDTWA_EM[6+0])-np.array((Result_varDDTWA_EM[0])**2)\n",
    "ay1_EM=np.array(Result_varDDTWA_EM[6+1])-np.array((Result_varDDTWA_EM[1])**2)\n",
    "az1_EM=np.array(Result_varDDTWA_EM[6+2])-np.array((Result_varDDTWA_EM[2])**2)\n",
    "\n",
    "\n",
    "#plt.plot(times,ax1_EM,\"-.\",label=\"DDTWA $(\\Delta S_x)^2 $ EM no-algebra\")\n",
    "#plt.plot(times,ay1_EM,\"-.\",label=\"DDTWA $(\\Delta S_y)^2 $ EM no-algebra\")\n",
    "#plt.plot(times,az1_EM,\"-.\",label=\"DDTWA $(\\Delta S_z)^2 $ EM no-algebra\")\n",
    "\n",
    "\n",
    "plt.plot(times,ax_EM,\"--\",label=\"DDTWA $(\\Delta S_x)^2$ EM full-algebra\")\n",
    "plt.plot(times,ay_EM,\"--\",label=\"DDTWA $(\\Delta S_y)^2$ EM full-algebra\")\n",
    "plt.plot(times,az_EM,\"--\",label=\"DDTWA $(\\Delta S_z)^2$ EM full-algebra\")\n",
    "\n",
    "\n",
    "\n",
    "\n",
    "\n",
    "#ax_SH=N/4+  Result_varDDTWA_SH[3+0]-(Result_varDDTWA_SH[0])**2\n",
    "#ay_SH=N/4+  Result_varDDTWA_SH[3+1]-(Result_varDDTWA_SH[1])**2\n",
    "#az_SH=N/4+  Result_varDDTWA_SH[3+2]-(Result_varDDTWA_SH[2])**2\n",
    "\n",
    "#ax1_SH=np.array(Result_varDDTWA_SH[6+0])-np.array((Result_varDDTWA_SH[0])**2)\n",
    "#ay1_SH=np.array(Result_varDDTWA_SH[6+1])-np.array((Result_varDDTWA_SH[1])**2)\n",
    "#az1_SH=np.array(Result_varDDTWA_SH[6+2])-np.array((Result_varDDTWA_SH[2])**2)\n",
    "\n",
    "\n",
    "#plt.plot(times,ax1_SH,\"-.\",label=\"DDTWA $(\\Delta S_x)^2 $ SH no-algebra\")\n",
    "#plt.plot(times,ay1_SH,\"-.\",label=\"DDTWA $(\\Delta S_y)^2 $ SH no-algebra\")\n",
    "#plt.plot(times,az1_SH,\"-.\",label=\"DDTWA $(\\Delta S_z)^2 $ SH no-algebra\")\n",
    "\n",
    "\n",
    "#plt.plot(times,ax_SH,\"--\",label=\"DDTWA $(\\Delta S_x)^2$ SH full-algebra\")\n",
    "#plt.plot(times,ay_SH,\"--\",label=\"DDTWA $(\\Delta S_y)^2$ SH full-algebra\")\n",
    "#plt.plot(times,az_SH,\"--\",label=\"DDTWA $(\\Delta S_z)^2$ SH full-algebra\")\n",
    "\n",
    "\n",
    "\n",
    "\n",
    "\n",
    "Dicke_xx=np.real(np.array(Sx_cuad_result))-(np.real(Sx_result))**2\n",
    "Dicke_yy=np.real(np.array(Sy_cuad_result))-(np.real(Sy_result))**2\n",
    "Dicke_zz=np.real(np.array(Sz_cuad_result))-(np.real(Sz_result))**2\n",
    "\n",
    "\n",
    "plt.plot(times,Dicke_xx,\"-\",label=\"Dicke Var(S_x)\")\n",
    "plt.plot(times,Dicke_yy,\"-\",label=\"Dicke Var(S_y)\")\n",
    "plt.plot(times,Dicke_zz,\"-\",label=\"Dicke Var(S_z)\")\n",
    "\n",
    "\n",
    "\n",
    "plt.legend()"
   ]
  },
  {
   "cell_type": "code",
   "execution_count": null,
   "metadata": {},
   "outputs": [],
   "source": []
  },
  {
   "cell_type": "code",
   "execution_count": null,
   "metadata": {},
   "outputs": [],
   "source": [
    "J"
   ]
  },
  {
   "cell_type": "code",
   "execution_count": null,
   "metadata": {},
   "outputs": [],
   "source": []
  },
  {
   "cell_type": "code",
   "execution_count": null,
   "metadata": {},
   "outputs": [],
   "source": []
  },
  {
   "cell_type": "code",
   "execution_count": null,
   "metadata": {},
   "outputs": [],
   "source": [
    "# Dicke basis \"exact\" solution Schrodinger equation"
   ]
  },
  {
   "cell_type": "code",
   "execution_count": null,
   "metadata": {},
   "outputs": [],
   "source": [
    "def vectorsR(r, t,J=J,N=N,Omega=Omega):#,Vect=Vect):   \n",
    "            \n",
    "    #matrix_zero=np.zeros((int(3*N),int(3*N)),dtype = 'complex_')\n",
    "    matrix_zero=np.zeros((int( (N+1)  ),int((N+1))),dtype = 'complex_')\n",
    "    \n",
    "    \n",
    "    drdt =  np.matmul(matrix_zero, r)  #matrix_zero @ r   #sum of the linear and the constant part\n",
    "    #drdt = matrix_zero @ r\n",
    "    \n",
    "    \n",
    "    \n",
    "    ###Define Vect which is an array of coordinates of size N\n",
    "    \n",
    "       \n",
    "    drdt[0]=-1j*( (Omega/2)*r[1]*Aminus_j(1) )\n",
    "    drdt[N]=-1j*( (Omega/2)*r[N-1]*Aplus_j(N-1)+(chi/N)*r[N]*Aplus_j(N-1)*Aminus_j(N) )\n",
    "    \n",
    "    \n",
    "    for m in range(1,N):\n",
    "        drdt[m]+=(-1j)*( (Omega/2)*( r[m-1]*Aplus_j(m-1)+r[m+1]*Aminus_j(m+1) )+(chi/N)*Aplus_j(m-1)*Aminus_j(m)*r[m]  )\n",
    "        \n",
    "       \n",
    "    return drdt\n",
    "\n"
   ]
  },
  {
   "cell_type": "code",
   "execution_count": null,
   "metadata": {},
   "outputs": [],
   "source": []
  },
  {
   "cell_type": "code",
   "execution_count": null,
   "metadata": {},
   "outputs": [],
   "source": [
    "def dicke_list(N=N):\n",
    "    State_list=[]\n",
    "    State_list.append(  (np.cos(theta/2))**N  )\n",
    "    \n",
    "    for n in range(1,N):\n",
    "        Coef=((scipy.special.binom(N, n))**0.5)*( (np.cos(theta/2))**(N-n) )*( (np.sin(theta/2))**(n) )*np.exp(1j*n*phi)\n",
    "        State_list.append(Coef)\n",
    "    \n",
    "    State_list.append( ( (np.sin(theta/2))**N)*np.exp(1j*N*phi)   )\n",
    "    \n",
    "    return State_list\n",
    "    \n",
    "\n",
    "D_list=dicke_list(N=N)\n",
    "\n",
    "r0=D_list\n",
    "\n",
    "#r0=list(r0[::-1])"
   ]
  },
  {
   "cell_type": "code",
   "execution_count": null,
   "metadata": {},
   "outputs": [],
   "source": []
  },
  {
   "cell_type": "code",
   "execution_count": null,
   "metadata": {},
   "outputs": [],
   "source": [
    "t0=time.time()\n",
    "\n",
    "z=odeintz(vectorsR, r0, times)#, args=(N,L))\n",
    "t1=time.time()"
   ]
  },
  {
   "cell_type": "code",
   "execution_count": null,
   "metadata": {},
   "outputs": [],
   "source": [
    "for j in range((N+1)):\n",
    "    plt.plot(times,np.real(z[:,j]))\n",
    "    plt.plot(times,np.imag(z[:,j]))\n",
    "\n",
    "print(t1-t0,N)"
   ]
  },
  {
   "cell_type": "code",
   "execution_count": null,
   "metadata": {},
   "outputs": [],
   "source": [
    "#z[3,:]  We obtain the third elements of the density matrix\n",
    "\n",
    "\"We can determine the density matrix using the following function\"\n",
    "\n",
    "from numba import jit\n",
    "\n",
    "#@jit\n",
    "\n",
    "def state_vector(time_index):\n",
    "    state_vect=np.zeros((int( (N+1)  )),dtype = 'complex_')\n",
    "    count=0\n",
    "    for i in range(N+1):\n",
    "            state_vect[i]= z[time_index,:][i]\n",
    "            \n",
    "    return state_vect"
   ]
  },
  {
   "cell_type": "code",
   "execution_count": null,
   "metadata": {},
   "outputs": [],
   "source": [
    "def Sxyz_dicke(N=N):\n",
    "    S_x=np.zeros((int( (N+1)  ),int((N+1))),dtype = 'complex_')\n",
    "    S_y=np.zeros((int( (N+1)  ),int((N+1))),dtype = 'complex_')\n",
    "    S_z=np.zeros((int( (N+1)  ),int((N+1))),dtype = 'complex_')\n",
    "\n",
    "    for n in range(1,N+1):\n",
    "        S_x[n][n-1]= 0.5*Aplus_j(n-1)\n",
    "        S_y[n][n-1]=(-0.5*1j)*Aplus_j(n-1)\n",
    "    \n",
    "    for n in range(0,N):\n",
    "        S_x[n][n+1]= 0.5*Aminus_j(n+1)\n",
    "        S_y[n][n+1]=(0.5*1j)*Aminus_j(n+1)  \n",
    "        S_z[n][n]=-N/2+n\n",
    "    S_z[N][N]=N/2\n",
    "    return S_x, S_y, S_z, matmul(S_x,S_x),matmul(S_y,S_y),matmul(S_z,S_z)"
   ]
  },
  {
   "cell_type": "code",
   "execution_count": null,
   "metadata": {},
   "outputs": [],
   "source": [
    "from numpy import matmul, conjugate, transpose\n",
    "\n",
    "ti=times\n",
    "\n",
    "Sx=Sxyz_dicke(N)[0]\n",
    "Sy=Sxyz_dicke(N)[1]\n",
    "Sz=Sxyz_dicke(N)[2]\n",
    "Sxx=Sxyz_dicke(N)[3]\n",
    "Syy=Sxyz_dicke(N)[4]\n",
    "Szz=Sxyz_dicke(N)[5]\n",
    "\n",
    "Sx_result=[]\n",
    "Sy_result=[]\n",
    "Sz_result=[]\n",
    "Sxx_result=[]\n",
    "Syy_result=[]\n",
    "Szz_result=[]\n"
   ]
  },
  {
   "cell_type": "code",
   "execution_count": null,
   "metadata": {},
   "outputs": [],
   "source": [
    "def conjtrans(A):\n",
    "    return conjugate(transpose(A))"
   ]
  },
  {
   "cell_type": "code",
   "execution_count": null,
   "metadata": {},
   "outputs": [],
   "source": [
    "for j in range(len(ti)):\n",
    "    \n",
    "    st_vect=state_vector(j)\n",
    "    st_trans=conjtrans(st_vect)\n",
    "    \n",
    "    \n",
    "    Sx_result.append(np.dot(st_trans,(matmul(st_vect,Sx ))))\n",
    "    Sy_result.append(np.dot(st_trans,(matmul(st_vect,Sy ))))\n",
    "    Sz_result.append(np.dot(st_trans,(matmul(st_vect,Sz ))))\n",
    "    Sxx_result.append(np.dot(st_trans,(matmul(st_vect,Sxx ))))\n",
    "    Syy_result.append(np.dot(st_trans,(matmul(st_vect,Syy ))))\n",
    "    Szz_result.append(np.dot(st_trans,(matmul(st_vect,Szz ))))\n",
    "    \n",
    "    \n",
    "    "
   ]
  },
  {
   "cell_type": "code",
   "execution_count": null,
   "metadata": {},
   "outputs": [],
   "source": [
    "matplotlib.rcParams['figure.figsize'] = (10.0, 7.0)\n",
    "matplotlib.rcParams['font.size'] = 15\n",
    "plt.title(\"Evolution of $<S_k>$ Under Local Noise\")\n",
    "\n",
    "plt.plot(times, Result_varDDTWA_EM[0],\"--\",label=\"Sx DDTWA EM\")\n",
    "#plt.plot(times, Result_varDDTWA_SH[0],\"--\",label=\"Sx DDTWA SH\")\n",
    "\n",
    "plt.plot(times, Result_varDDTWA_EM[1],\"--\",label=\"Sy DDTWA EM\")\n",
    "#plt.plot(times, Result_varDDTWA_SH[1],\"--\",label=\"Sy DDTWA SH\")\n",
    "\n",
    "plt.plot(times, Result_varDDTWA_EM[2],\"--\",label=\"Sz DDTWA EM\")\n",
    "#plt.plot(times, Result_varDDTWA_SH[2],\"--\",label=\"Sz DDTWA SH\")\n",
    "\n",
    "\n",
    "plt.plot(times,np.real(np.array(Sx_result)),label=\"x\")\n",
    "plt.plot(times,np.real(-np.array(Sy_result)),label=\"y\")\n",
    "plt.plot(times,np.real(np.array(Sz_result)),label=\"z\")\n",
    "\n",
    "\n",
    "\n",
    "#plt.plot(times,np.real(Sx_result_ME),\"-.\",label=\"Sx ME\")    #Master equation\n",
    "#plt.plot(times,np.real(Sy_result_ME),\"-.\",label=\"Sy ME\")    #Master equation\n",
    "#plt.plot(times,np.real(Sz_result_ME),\"-.\",label=\"Sz ME\")    #Master equation\n",
    "\n",
    "\n",
    "plt.legend()"
   ]
  },
  {
   "cell_type": "code",
   "execution_count": null,
   "metadata": {},
   "outputs": [],
   "source": [
    "N"
   ]
  },
  {
   "cell_type": "code",
   "execution_count": null,
   "metadata": {},
   "outputs": [],
   "source": [
    "\n",
    "\n",
    "\n",
    "matplotlib.rcParams['figure.figsize'] = (10.0, 7.0)\n",
    "\n",
    "axEM=N/4+  Result_varDDTWA_EM[3+0]-(Result_varDDTWA_EM[0])**2\n",
    "ayEM=N/4+  Result_varDDTWA_EM[3+1]-(Result_varDDTWA_EM[1])**2\n",
    "azEM=N/4+  Result_varDDTWA_EM[3+2]-(Result_varDDTWA_EM[2])**2\n",
    "\n",
    "\n",
    "ax1EM=np.array(Result_varDDTWA_EM[6+0])-np.array((Result_varDDTWA_EM[0])**2)\n",
    "ay1EM=np.array(Result_varDDTWA_EM[6+1])-np.array((Result_varDDTWA_EM[1])**2)\n",
    "az1EM=np.array(Result_varDDTWA_EM[6+2])-np.array((Result_varDDTWA_EM[2])**2)\n",
    "\n",
    "\n",
    "\n",
    "#axSH=N/4+  Result_varDDTWA_SH[3+0]-(Result_varDDTWA_SH[0])**2\n",
    "#aySH=N/4+  Result_varDDTWA_SH[3+1]-(Result_varDDTWA_SH[1])**2\n",
    "#azSH=N/4+  Result_varDDTWA_SH[3+2]-(Result_varDDTWA_SH[2])**2\n",
    "\n",
    "\n",
    "#ax1SH=np.array(Result_varDDTWA_SH[6+0])-np.array((Result_varDDTWA_SH[0])**2)\n",
    "#ay1SH=np.array(Result_varDDTWA_SH[6+1])-np.array((Result_varDDTWA_SH[1])**2)\n",
    "#az1SH=np.array(Result_varDDTWA_SH[6+2])-np.array((Result_varDDTWA_SH[2])**2)\n",
    "\n",
    "\n",
    "\n",
    "#plt.plot(times,axEM,\"--\",label=\"DDTWA $(\\Delta S_x)^2$ EM\")\n",
    "#plt.plot(times,ayEM,\"--\",label=\"DDTWA $(\\Delta S_y)^2$ EM\")\n",
    "#plt.plot(times,azEM,\"--\",label=\"DDTWA $(\\Delta S_z)^2$ EM\")\n",
    "\n",
    "plt.plot(times,ax1EM,\"-.\",label=\"DDTWA $(\\Delta S_x)^2 $ no-algebra EM\")\n",
    "plt.plot(times,ay1EM,\"-.\",label=\"DDTWA $(\\Delta S_y)^2 $ no-algebra EM\")\n",
    "plt.plot(times,az1EM,\"-.\",label=\"DDTWA $(\\Delta S_z)^2 $ no-algebra EM\")\n",
    "\n",
    "\n",
    "#plt.plot(times,axSH,\"--\",label=\"DDTWA $(\\Delta S_x)^2$ SH\")\n",
    "#plt.plot(times,aySH,\"--\",label=\"DDTWA $(\\Delta S_y)^2$ SH\")\n",
    "#plt.plot(times,azSH,\"--\",label=\"DDTWA $(\\Delta S_z)^2$ SH\")\n",
    "\n",
    "#plt.plot(times,ax1SH,\"-.\",label=\"DDTWA $(\\Delta S_x)^2 $ no-algebra SH\")\n",
    "#plt.plot(times,ay1SH,\"-.\",label=\"DDTWA $(\\Delta S_y)^2 $ no-algebra SH\")\n",
    "#plt.plot(times,az1SH,\"-.\",label=\"DDTWA $(\\Delta S_z)^2 $ no-algebra SH\")\n",
    "\n",
    "\n",
    "plt.plot(times,np.real(np.array(Sxx_result))-(np.array(Sx_result))**2,label=\"xx\")\n",
    "plt.plot(times,np.real(np.array(Syy_result))-(np.array(Sy_result))**2,label=\"yy\")\n",
    "plt.plot(times,np.real(np.array(Szz_result))-(np.array(Sz_result))**2,label=\"zz\")\n",
    "\n",
    "plt.legend()\n",
    "\n",
    "\n",
    "\n",
    "\n",
    "plt.legend(loc=\"upper left\")"
   ]
  },
  {
   "cell_type": "code",
   "execution_count": null,
   "metadata": {},
   "outputs": [],
   "source": []
  },
  {
   "cell_type": "code",
   "execution_count": null,
   "metadata": {},
   "outputs": [],
   "source": [
    "chi"
   ]
  },
  {
   "cell_type": "code",
   "execution_count": null,
   "metadata": {},
   "outputs": [],
   "source": []
  },
  {
   "cell_type": "code",
   "execution_count": null,
   "metadata": {},
   "outputs": [],
   "source": []
  },
  {
   "cell_type": "code",
   "execution_count": null,
   "metadata": {},
   "outputs": [],
   "source": [
    "## Stratonovich (in preparation yet)"
   ]
  },
  {
   "cell_type": "code",
   "execution_count": null,
   "metadata": {},
   "outputs": [],
   "source": [
    "import numpy as np\n",
    "import matplotlib.pyplot as plt\n",
    "%matplotlib inline\n",
    "from numpy import random, zeros\n",
    "\n",
    "from numba import jit\n",
    "\n",
    "\n",
    "\n",
    "\n",
    "\n",
    "\n",
    "@jit\n",
    "\n",
    "def trayectorystra(N=N,Stochastic=Stochastic):\n",
    "    sqrtdt = np.sqrt(dt)*Stochastic\n",
    "    \n",
    "    Results = zeros((3*N, n))\n",
    "    Rbar    = zeros((3*N, n))\n",
    "    RandomNumbers= zeros((n))  #Local noise requires N rows for simulating the noise of each spin\n",
    "    \n",
    "\n",
    "    for j in range(N):\n",
    "        \n",
    "        \n",
    "        #a=custmx.rvs()\n",
    "        #b=custmy.rvs()\n",
    "        #c=custmz.rvs()\n",
    "        \n",
    "        #Results[j][0]=a  \n",
    "        #Results[j+N][0]=b\n",
    "        #Results[j+2*N][0]=c\n",
    "        \n",
    "    \n",
    "        a=custmx.rvs()\n",
    "        b=custmy.rvs()\n",
    "        c=custmz.rvs()\n",
    "        \n",
    "        Results[j][0]=a  \n",
    "        Results[j+N][0]=b\n",
    "        Results[j+2*N][0]=c\n",
    "\n",
    "\n",
    "    for t in range(n-1):\n",
    "        \n",
    "        RandomNumbers[t]=random.randn()\n",
    "        Normal_VA=RandomNumbers[t]\n",
    "        \n",
    "        for i1 in range(N):\n",
    "\n",
    "            \n",
    "            \n",
    "            Rbar[i1][t]     = Results[i1][t] -(chi/N)*Results[i1+N][t]*dt   +dt*(-Gamma_phi-(Gamma_decay/2)+gama_sq )*Results[i1][t]-\\\n",
    "                (sqrt_2phi+sqrt_decay ) *Results[i1+N][t]* sqrtdt * Normal_VA\n",
    "            Rbar[i1+N][t]   = Results[i1+N][t]  +dt*(-Omega*Results[i1+2*N][t] +(-Gamma_phi- (Gamma_decay/2)+gama_sq)*Results[i1+N][t])+\\\n",
    "                (sqrt_2phi+sqrt_decay ) *Results[i1][t]* sqrtdt * Normal_VA+(chi/N)*Results[i1][t]*dt\n",
    "            Rbar[i1+2*N][t] = Results[i1+2*N][t]+dt*( Omega*Results[i1+N][t] - 1.5*Gamma_decay*(Results[i1+2*N][t]+1) )+\\\n",
    "                sqrt_decay*(Results[i1+2*N][t]+1)*sqrtdt * Normal_VA\n",
    "            \n",
    "            for j1 in range(N):\n",
    "                if i1!=j1:\n",
    "                    \n",
    "                    Rbar[i1][t]  +=0+\\\n",
    "                        (Gamma_decay/2)*Results[i1+2*N][t]*Results[j1][t] *dt+(chi/N)*Results[i1+2*N][t]*Results[j1+N][t]*dt\n",
    "                    Rbar[i1+N][t]+= 0+\\\n",
    "                        (Gamma_decay/2)*Results[i1+2*N][t]*Results[j1+N][t] *dt-(chi/N)*Results[i1+2*N][t]*Results[j1][t]*dt\n",
    "                    Rbar[i1+2*N][t]+=-(Gamma_decay/2)*(Results[i1][t]*Results[j1][t]+Results[i1+N][t]*Results[j1+N][t]) *dt+\\\n",
    "                        (chi/N)*(Results[i1+N][t]*Results[j1][t] - Results[i1][t]*Results[j1+N][t])\n",
    "            \n",
    "#-------------------------------------------------------------------------------------------------------            \n",
    "        \n",
    "        for i in range(N): \n",
    "            \n",
    "                        \n",
    "            fxn   = (-Gamma_phi-(Gamma_decay/2)+gama_sq )*Results[i][t]-(chi/N)*Results[i+N][t]\n",
    "            Gxn   = -(sqrt_2phi+sqrt_decay )     *Results[i+N][t]\n",
    "            fxbarn= (-Gamma_phi-(Gamma_decay/2)+gama_sq )*Rbar[i][t]-(chi/N)*Rbar[i+N][t]\n",
    "            Gxbarn= -(sqrt_2phi+sqrt_decay )     *Rbar[i+N][t]     \n",
    "            \n",
    "            fyn   = (-Omega*Results[i+2*N][t] -(Gamma_phi+ (Gamma_decay/2)-gama_sq)*Results[i+N][t])+(chi/N)*Results[i][t]\n",
    "            Gyn   = (sqrt_2phi+sqrt_decay ) *Results[i][t]\n",
    "            fybarn= (-Omega*Rbar[i+2*N][t] -(Gamma_phi+ (Gamma_decay/2)-gama_sq)*Rbar[i+N][t])+(chi/N)*Rbar[i][t]\n",
    "            Gybarn= (sqrt_2phi+sqrt_decay ) *Rbar[i][t]\n",
    "            \n",
    "            fzn   = ( Omega*Results[i+N][t] - 1.5*Gamma_decay*(Results[i+2*N][t]+1) )\n",
    "            Gzn   = sqrt_decay*(Results[i+2*N][t]+1)\n",
    "            fzbarn= ( Omega*Rbar[i+N][t] - 1.5*Gamma_decay*(Rbar[i+2*N][t]+1) )\n",
    "            Gzbarn= sqrt_decay*(Rbar[i+2*N][t]+1)\n",
    "\n",
    "#-------------------------------------------------------------------------------------------------------            \n",
    "        \n",
    "            Results[i][t+1]       = Results[i][t]    +dt*0.5*(fxn+fxbarn)+0.5*(Gxn + Gxbarn)* sqrtdt * Normal_VA\n",
    "            Results[i+N][t+1]     = Results[i+N][t]  +dt*0.5*(fyn+fybarn)+0.5*(Gyn + Gybarn)* sqrtdt * Normal_VA\n",
    "            Results[i+2*N][t+1]   = Results[i+2*N][t]+dt*0.5*(fzn+fzbarn)+0.5*(Gzn + Gzbarn)* sqrtdt * Normal_VA\n",
    "            \n",
    "            for j in range(N):\n",
    "                if i!=j:\n",
    "                    Results[i][t+1]  += 0+\\\n",
    "                        0.5*Gamma_decay*(Results[i+2*N][t]*Results[j][t] + Rbar[i+2*N][t]*Rbar[j][t])*dt/2+\\\n",
    "                        (chi/N)*(Results[i+2*N][t]*Results[j+N][t] + Rbar[i+2*N][t]*Rbar[j+N][t])*dt/2\n",
    "                        \n",
    "                    Results[i+N][t+1]+= 0+\\\n",
    "                        0.5*Gamma_decay*(Results[i+2*N][t]*Results[j+N][t] + Rbar[i+2*N][t]*Rbar[j+N][t])*dt/2-\\\n",
    "                        (chi/N)*(Results[i+2*N][t]*Results[j][t] + Rbar[i+2*N][t]*Rbar[j][t])*dt/2\n",
    "                    \n",
    "                    Results[i+2*N][t+1]+= -(Gamma_decay/2)*(Results[i+N][t]*Results[j+N][t]+Rbar[i+N][t]*Rbar[j+N][t])*dt/2-\\\n",
    "                        0.5*Gamma_decay*(Results[i][t]*Results[j][t]+Rbar[i][t]*Rbar[j][t])*dt/2+\\\n",
    "                        (chi/N)*(Results[i+N][t]*Results[j][t]+Rbar[i+N][t]*Rbar[j][t])*dt/2-\\\n",
    "                        (chi/N)*(Results[i][t]*Results[j+N][t]+Rbar[i][t]*Rbar[j+N][t])*dt/2\n",
    "                    \n",
    "    return Results, Rbar\n"
   ]
  },
  {
   "cell_type": "code",
   "execution_count": null,
   "metadata": {},
   "outputs": [],
   "source": [
    "from numpy import add\n",
    "from numba import jit\n",
    "\n",
    "\n",
    "\n",
    "itera=5000\n",
    "@jit\n",
    "\n",
    "def averages_str(itera=itera,N=N,n=n,Stochastic=Stochastic):\n",
    "    Results =zeros((9, n))\n",
    "    for j in range(itera):\n",
    "        Trayec=trayectorystra(N,Stochastic)[0]\n",
    "        Results=add(Results,summary_stat(Trayec,N,n))\n",
    "    \n",
    "    return Results/itera\n",
    "    \n",
    "    \n",
    "    \n",
    "    "
   ]
  },
  {
   "cell_type": "code",
   "execution_count": null,
   "metadata": {},
   "outputs": [],
   "source": []
  },
  {
   "cell_type": "code",
   "execution_count": null,
   "metadata": {},
   "outputs": [],
   "source": [
    "t0=time.time()\n",
    "\n",
    "itera=10000\n",
    "\n",
    "Result_varDDTWA_SH=averages_str(itera=itera,N=N,n=n,Stochastic=1)\n",
    "#Result_varDTWA=averages(itera=itera,N=N,n=n,Stochastic=0)\n",
    "\n",
    "t1=time.time()\n",
    "\n",
    "print(t1-t0)\n",
    "\n"
   ]
  },
  {
   "cell_type": "code",
   "execution_count": null,
   "metadata": {},
   "outputs": [],
   "source": [
    "\n",
    "matplotlib.rcParams['figure.figsize'] = (10.0, 7.0)\n",
    "matplotlib.rcParams['font.size'] = 15\n",
    "plt.title(\"Evolution of $<S_k>$ Under Collective Noise\")\n",
    "\n",
    "plt.plot(times, Result_varDDTWA_EM[0],\"--\",label=\"Sx DDTWA EM\")\n",
    "plt.plot(times, Result_varDDTWA_SH[0],\"--\",label=\"Sx DDTWA SH\")\n",
    "\n",
    "plt.plot(times, Result_varDDTWA_EM[1],\"--\",label=\"Sy DDTWA EM\")\n",
    "plt.plot(times, Result_varDDTWA_SH[1],\"--\",label=\"Sx DDTWA SH\")\n",
    "\n",
    "plt.plot(times, Result_varDDTWA_EM[2],\"--\",label=\"Sz DDTWA EM\")\n",
    "plt.plot(times, Result_varDDTWA_SH[2],\"--\",label=\"Sx DDTWA SH\")\n",
    "\n",
    "\n",
    "\n",
    "plt.plot(times,np.real(np.array(Sx_result)),label=\"x\")\n",
    "plt.plot(times,np.real(-np.array(Sy_result)),label=\"y\")\n",
    "plt.plot(times,np.real(Sz_result),label=\"z\")\n",
    "\n",
    "\n",
    "plt.text(6.9, 25, \"N=\"+str(N)+\", $\\Gamma_{\\phi}$=\"+str(refgamma)+\", $\\Gamma$=\"+str(refdecay)+\", $\\Omega$=\"+str(refomega)+\", $\\chi$=\"+str(refchi), style='italic',\n",
    "        bbox={'facecolor': 'green', 'alpha': 0.5, 'pad': 10})\n",
    "\n",
    "plt.legend()\n"
   ]
  },
  {
   "cell_type": "code",
   "execution_count": null,
   "metadata": {},
   "outputs": [],
   "source": []
  },
  {
   "cell_type": "code",
   "execution_count": null,
   "metadata": {},
   "outputs": [],
   "source": [
    "matplotlib.rcParams['figure.figsize'] = (10.0, 7.0)\n",
    "matplotlib.rcParams['font.size'] = 15\n",
    "plt.title(\"Evolution of $\\Delta(S_k)^2$ Under Collective Noise\")\n",
    "\n",
    "\n",
    "\n",
    "matplotlib.rcParams['figure.figsize'] = (10.0, 7.0)\n",
    "\n",
    "axEM=N/4+  Result_varDDTWA_EM[3+0]-(Result_varDDTWA_EM[0])**2\n",
    "ayEM=N/4+  Result_varDDTWA_EM[3+1]-(Result_varDDTWA_EM[1])**2\n",
    "azEM=N/4+  Result_varDDTWA_EM[3+2]-(Result_varDDTWA_EM[2])**2\n",
    "\n",
    "\n",
    "ax1EM=np.array(Result_varDDTWA_EM[6+0])-np.array((Result_varDDTWA_EM[0])**2)\n",
    "ay1EM=np.array(Result_varDDTWA_EM[6+1])-np.array((Result_varDDTWA_EM[1])**2)\n",
    "az1EM=np.array(Result_varDDTWA_EM[6+2])-np.array((Result_varDDTWA_EM[2])**2)\n",
    "\n",
    "\n",
    "\n",
    "axSH=N/4+  Result_varDDTWA_SH[3+0]-(Result_varDDTWA_SH[0])**2\n",
    "aySH=N/4+  Result_varDDTWA_SH[3+1]-(Result_varDDTWA_SH[1])**2\n",
    "azSH=N/4+  Result_varDDTWA_SH[3+2]-(Result_varDDTWA_SH[2])**2\n",
    "\n",
    "\n",
    "ax1SH=np.array(Result_varDDTWA_SH[6+0])-np.array((Result_varDDTWA_SH[0])**2)\n",
    "ay1SH=np.array(Result_varDDTWA_SH[6+1])-np.array((Result_varDDTWA_SH[1])**2)\n",
    "az1SH=np.array(Result_varDDTWA_SH[6+2])-np.array((Result_varDDTWA_SH[2])**2)\n",
    "\n",
    "\n",
    "\n",
    "#plt.plot(times,axEM,\"--\",label=\"DDTWA $(\\Delta S_x)^2$ EM\")\n",
    "#plt.plot(times,ayEM,\"--\",label=\"DDTWA $(\\Delta S_y)^2$ EM\")\n",
    "#plt.plot(times,azEM,\"--\",label=\"DDTWA $(\\Delta S_z)^2$ EM\")\n",
    "\n",
    "plt.plot(times,ax1EM,\"-.\",label=\"DDTWA $(\\Delta S_x)^2 $ no-algebra EM\")\n",
    "plt.plot(times,ay1EM,\"-.\",label=\"DDTWA $(\\Delta S_y)^2 $ no-algebra EM\")\n",
    "plt.plot(times,az1EM,\"-.\",label=\"DDTWA $(\\Delta S_z)^2 $ no-algebra EM\")\n",
    "\n",
    "\n",
    "#plt.plot(times,axSH,\"--\",label=\"DDTWA $(\\Delta S_x)^2$ SH\")\n",
    "#plt.plot(times,aySH,\"--\",label=\"DDTWA $(\\Delta S_y)^2$ SH\")\n",
    "#plt.plot(times,azSH,\"--\",label=\"DDTWA $(\\Delta S_z)^2$ SH\")\n",
    "\n",
    "plt.plot(times,ax1SH,\"-.\",label=\"DDTWA $(\\Delta S_x)^2 $ no-algebra SH\")\n",
    "plt.plot(times,ay1SH,\"-.\",label=\"DDTWA $(\\Delta S_y)^2 $ no-algebra SH\")\n",
    "plt.plot(times,az1SH,\"-.\",label=\"DDTWA $(\\Delta S_z)^2 $ no-algebra SH\")\n",
    "\n",
    "\n",
    "plt.plot(times,np.real(np.array(Sxx_result))-(np.array(Sx_result))**2,label=\"xx\")\n",
    "plt.plot(times,np.real(np.array(Syy_result))-(np.array(Sy_result))**2,label=\"yy\")\n",
    "plt.plot(times,np.real(np.array(Szz_result))-(np.array(Sz_result))**2,label=\"zz\")\n",
    "\n",
    "\n",
    "\n",
    "\n",
    "plt.text(5, 110, \"N=\"+str(N)+\", $\\Gamma_{\\phi}$=\"+str(refgamma)+\", $\\Gamma$=\"+str(refdecay)+\", $\\Omega$=\"+str(refomega)+\", $\\chi$=\"+str(refchi), style='italic',\n",
    "        bbox={'facecolor': 'green', 'alpha': 0.5, 'pad': 10})\n",
    "\n",
    "\n",
    "plt.legend(loc=\"upper left\")"
   ]
  },
  {
   "cell_type": "code",
   "execution_count": null,
   "metadata": {},
   "outputs": [],
   "source": []
  },
  {
   "cell_type": "code",
   "execution_count": null,
   "metadata": {},
   "outputs": [],
   "source": []
  },
  {
   "cell_type": "code",
   "execution_count": null,
   "metadata": {},
   "outputs": [],
   "source": []
  },
  {
   "cell_type": "code",
   "execution_count": null,
   "metadata": {},
   "outputs": [],
   "source": []
  },
  {
   "cell_type": "code",
   "execution_count": null,
   "metadata": {},
   "outputs": [],
   "source": []
  },
  {
   "cell_type": "code",
   "execution_count": null,
   "metadata": {},
   "outputs": [],
   "source": []
  },
  {
   "cell_type": "code",
   "execution_count": null,
   "metadata": {},
   "outputs": [],
   "source": []
  },
  {
   "cell_type": "code",
   "execution_count": null,
   "metadata": {},
   "outputs": [],
   "source": [
    "\n",
    "\n",
    "\n",
    "matplotlib.rcParams['figure.figsize'] = (10.0, 7.0)\n",
    "\n",
    "axEM=N/4+  Result_varDDTWA_EM[3+0]-(Result_varDDTWA_EM[0])**2\n",
    "ayEM=N/4+  Result_varDDTWA_EM[3+1]-(Result_varDDTWA_EM[1])**2\n",
    "azEM=N/4+  Result_varDDTWA_EM[3+2]-(Result_varDDTWA_EM[2])**2\n",
    "\n",
    "\n",
    "ax1EM=np.array(Result_varDDTWA_EM[6+0])-np.array((Result_varDDTWA_EM[0])**2)\n",
    "ay1EM=np.array(Result_varDDTWA_EM[6+1])-np.array((Result_varDDTWA_EM[1])**2)\n",
    "az1EM=np.array(Result_varDDTWA_EM[6+2])-np.array((Result_varDDTWA_EM[2])**2)\n",
    "\n",
    "\n",
    "\n",
    "axSH=N/4+  Result_varDDTWA_SH[3+0]-(Result_varDDTWA_SH[0])**2\n",
    "aySH=N/4+  Result_varDDTWA_SH[3+1]-(Result_varDDTWA_SH[1])**2\n",
    "azSH=N/4+  Result_varDDTWA_SH[3+2]-(Result_varDDTWA_SH[2])**2\n",
    "\n",
    "\n",
    "ax1SH=np.array(Result_varDDTWA_SH[6+0])-np.array((Result_varDDTWA_SH[0])**2)\n",
    "ay1SH=np.array(Result_varDDTWA_SH[6+1])-np.array((Result_varDDTWA_SH[1])**2)\n",
    "az1SH=np.array(Result_varDDTWA_SH[6+2])-np.array((Result_varDDTWA_SH[2])**2)\n",
    "\n",
    "\n",
    "\n",
    "\n",
    "plt.plot(times,axEM,\"--\",label=\"DDTWA $(\\Delta S_x)^2 EM$\")\n",
    "plt.plot(times,ayEM,\"--\",label=\"DDTWA $(\\Delta S_y)^2 EM$\")\n",
    "plt.plot(times,azEM,\"--\",label=\"DDTWA $(\\Delta S_z)^2 EM$\")\n",
    "\n",
    "plt.plot(times,ax1EM,\"-.\",label=\"DDTWA $(\\Delta S_x)^2 $ no-algebra EM\")\n",
    "plt.plot(times,ay1EM,\"-.\",label=\"DDTWA $(\\Delta S_y)^2 $ no-algebra EM\")\n",
    "plt.plot(times,az1EM,\"-.\",label=\"DDTWA $(\\Delta S_z)^2 $ no-algebra EM\")\n",
    "\n",
    "\n",
    "plt.plot(times,axSH,\"--\",label=\"DDTWA $(\\Delta S_x)^2 SH$\")\n",
    "plt.plot(times,aySH,\"--\",label=\"DDTWA $(\\Delta S_y)^2 SH$\")\n",
    "plt.plot(times,azSH,\"--\",label=\"DDTWA $(\\Delta S_z)^2 SH$\")\n",
    "\n",
    "plt.plot(times,ax1SH,\"-.\",label=\"DDTWA $(\\Delta S_x)^2 $ no-algebra SH\")\n",
    "plt.plot(times,ay1SH,\"-.\",label=\"DDTWA $(\\Delta S_y)^2 $ no-algebra SH\")\n",
    "plt.plot(times,az1SH,\"-.\",label=\"DDTWA $(\\Delta S_z)^2 $ no-algebra SH\")\n",
    "\n",
    "\n",
    "\n",
    "plt.legend(loc=\"upper right\")"
   ]
  },
  {
   "cell_type": "code",
   "execution_count": null,
   "metadata": {},
   "outputs": [],
   "source": []
  },
  {
   "cell_type": "code",
   "execution_count": null,
   "metadata": {},
   "outputs": [],
   "source": []
  },
  {
   "cell_type": "code",
   "execution_count": null,
   "metadata": {},
   "outputs": [],
   "source": []
  },
  {
   "cell_type": "code",
   "execution_count": null,
   "metadata": {},
   "outputs": [],
   "source": []
  },
  {
   "cell_type": "code",
   "execution_count": null,
   "metadata": {},
   "outputs": [],
   "source": []
  },
  {
   "cell_type": "code",
   "execution_count": null,
   "metadata": {},
   "outputs": [],
   "source": []
  },
  {
   "cell_type": "code",
   "execution_count": null,
   "metadata": {},
   "outputs": [],
   "source": []
  },
  {
   "cell_type": "code",
   "execution_count": null,
   "metadata": {},
   "outputs": [],
   "source": []
  },
  {
   "cell_type": "code",
   "execution_count": null,
   "metadata": {},
   "outputs": [],
   "source": []
  },
  {
   "cell_type": "code",
   "execution_count": null,
   "metadata": {},
   "outputs": [],
   "source": []
  },
  {
   "cell_type": "code",
   "execution_count": null,
   "metadata": {},
   "outputs": [],
   "source": []
  },
  {
   "cell_type": "code",
   "execution_count": null,
   "metadata": {},
   "outputs": [],
   "source": []
  },
  {
   "cell_type": "code",
   "execution_count": null,
   "metadata": {},
   "outputs": [],
   "source": [
    "def index_list(N=N):\n",
    "    Index_list=[]\n",
    "    for j in range(N+1):\n",
    "        for k in range(N+1):\n",
    "            Index_list.append([j,k])\n",
    "    return Index_list\n",
    "    "
   ]
  },
  {
   "cell_type": "code",
   "execution_count": null,
   "metadata": {},
   "outputs": [],
   "source": [
    "\n",
    "\n",
    "def Aplus_j(n):\n",
    "    if 0<=n<=N:\n",
    "        return np.sqrt( (N-n)*  (n+1) )\n",
    "    else:\n",
    "        return 0\n",
    "\n",
    "    \n",
    "def Aminus_j(n):\n",
    "    if 0<=n<=N:\n",
    "        return np.sqrt( (n)*  (N-n+1) )\n",
    "    else:\n",
    "        return 0    \n",
    "    \n",
    "    \n",
    "def Az(n):\n",
    "    return -N/2+n\n",
    "\n",
    "\n",
    "\n",
    "Gamma_phi=refgamma*J\n",
    "Gamma_C=Gamma_decay\n",
    "\n",
    "Omega=refomega*J\n",
    "\n",
    "from numba import jit\n",
    "\n",
    "#@jit\n",
    "\n",
    "\n",
    "\n",
    "def vectorsR(r, t,J=J,N=N,Omega=Omega,Gamma_C=Gamma_C,Gamma_phi=Gamma_phi):#,Vect=Vect):   \n",
    "            \n",
    "    #matrix_zero=np.zeros((int(3*N),int(3*N)),dtype = 'complex_')\n",
    "    matrix_zero=np.zeros((int( (N+1)**2  ),int((N+1)**2)),dtype = 'complex_')\n",
    "    \n",
    "    \n",
    "    drdt =  np.matmul(matrix_zero, r)  #matrix_zero @ r   #sum of the linear and the constant part\n",
    "    #drdt = matrix_zero @ r\n",
    "    \n",
    "    \n",
    "    Index_list=index_list(N)\n",
    "\n",
    "       \n",
    "    \n",
    "    for vect in Index_list:\n",
    "        n1  =vect[0]\n",
    "        npr1=vect[1]\n",
    "        npr=npr1\n",
    "\n",
    "            \n",
    "        cfinnprm1=Index_list.count([n1,npr1-1])\n",
    "        indnnprm1=Index_list.index(list(cfinnprm1*np.array([n1,npr1-1])))\n",
    "            \n",
    "        cfinm1npr=Index_list.count([n1-1,npr1])\n",
    "        indnm1npr=Index_list.index(list(cfinm1npr*np.array([n1-1,npr1])))\n",
    "            \n",
    "        cfinnprp1=Index_list.count([n1,npr1+1])\n",
    "        indnnprp1=Index_list.index(list(cfinnprp1*np.array([n1,npr1+1])))\n",
    "            \n",
    "        cfinp1npr=Index_list.count([n1+1,npr1])\n",
    "        indnp1npr=Index_list.index(list(cfinp1npr*np.array([n1+1,npr1])))\n",
    "            \n",
    "        cfinp1nprp1=Index_list.count([n1+1,npr1+1])\n",
    "        indnp1nprp1=Index_list.index(list(cfinp1nprp1*np.array([n1+1,npr1+1])))\n",
    "            \n",
    "        cfinnpr=Index_list.count([n1,npr1])\n",
    "        indnnpr=Index_list.index(list(cfinnpr*np.array([n1,npr1])))\n",
    "        \n",
    "        \n",
    "            \n",
    "        drdt[indnnpr]+=1j*(chi/N)*( Aplus_j(npr1-1)*Aminus_j(npr1)-Aplus_j(n1-1)*Aminus_j(n1) )**cfinnpr*r[indnnpr]+\\\n",
    "            1j*(Omega/2)* Aplus_j(npr1-1)*cfinnprm1*r[indnnprm1]+\\\n",
    "            -1j*(Omega/2)*Aplus_j(n1-1)*cfinm1npr*r[indnm1npr]+1j*(Omega/2)*Aminus_j(npr1+1)*cfinnprp1*r[indnnprp1]+\\\n",
    "            -1j*(Omega/2)*Aminus_j(n1+1)*cfinp1npr*r[indnp1npr]+Gamma_C*Aminus_j(n1+1)*Aminus_j(npr+1)*cfinp1nprp1*r[indnp1nprp1]+\\\n",
    "            -(Gamma_C/2)*(Aminus_j(n1)*Aplus_j(n1-1) + Aminus_j(npr1)*Aplus_j(npr1-1) )*cfinnpr*r[indnnpr]\n",
    "\n",
    "               \n",
    "    return drdt\n",
    "\n",
    "\n",
    "r0=int((N+1)**2)*[0]\n",
    "\n",
    "r0[0]=1\n",
    "\n",
    "rinit=r0\n"
   ]
  },
  {
   "cell_type": "code",
   "execution_count": null,
   "metadata": {},
   "outputs": [],
   "source": [
    "t0=time.time()\n",
    "\n",
    "z=odeintz(vectorsR, r0, times)#, args=(N,L))\n",
    "t1=time.time()"
   ]
  },
  {
   "cell_type": "code",
   "execution_count": null,
   "metadata": {},
   "outputs": [],
   "source": [
    "for j in range((N+1)**2):\n",
    "    plt.plot(times,np.real(z[:,j]))\n",
    "    plt.plot(times,np.imag(z[:,j]))\n",
    "\n",
    "print(t1-t0,N)"
   ]
  },
  {
   "cell_type": "code",
   "execution_count": null,
   "metadata": {},
   "outputs": [],
   "source": [
    "#z[3,:]  We obtain the third elements of the density matrix\n",
    "\n",
    "\"We can determine the density matrix using the following function\"\n",
    "\n",
    "from numba import jit\n",
    "\n",
    "#@jit\n",
    "\n",
    "def rho_matr(time_index):\n",
    "    rho_matr=np.zeros((int( (N+1)  ),int((N+1))),dtype = 'complex_')\n",
    "    count=0\n",
    "    for i in range(N+1):\n",
    "        for j in range(N+1):\n",
    "            rho_matr[i][j]= z[time_index,:][count]\n",
    "            \n",
    "            count=count+1\n",
    "            \n",
    "    return rho_matr"
   ]
  },
  {
   "cell_type": "code",
   "execution_count": null,
   "metadata": {},
   "outputs": [],
   "source": [
    "def Sxyz_dicke(N=N):\n",
    "    S_x=np.zeros((int( (N+1)  ),int((N+1))),dtype = 'complex_')\n",
    "    S_y=np.zeros((int( (N+1)  ),int((N+1))),dtype = 'complex_')\n",
    "    S_z=np.zeros((int( (N+1)  ),int((N+1))),dtype = 'complex_')\n",
    "\n",
    "    for n in range(1,N+1):\n",
    "        S_x[n][n-1]= 0.5*Aplus_j(n-1)\n",
    "        S_y[n][n-1]=(-0.5*1j)*Aplus_j(n-1)\n",
    "    \n",
    "    for n in range(0,N):\n",
    "        S_x[n][n+1]= 0.5*Aminus_j(n+1)\n",
    "        S_y[n][n+1]=(0.5*1j)*Aminus_j(n+1)  \n",
    "        S_z[n][n]=-N/2+n\n",
    "    S_z[N][N]=N/2\n",
    "    return S_x, S_y, S_z"
   ]
  },
  {
   "cell_type": "code",
   "execution_count": null,
   "metadata": {},
   "outputs": [],
   "source": [
    "\n",
    "t=times\n",
    "\n",
    "Sx=Sxyz_dicke(N)[0]\n",
    "Sy=Sxyz_dicke(N)[1]\n",
    "Sz=Sxyz_dicke(N)[2]\n",
    "\n",
    "\n",
    "Sx_result=[]\n",
    "Sy_result=[]\n",
    "Sz_result=[]\n",
    "\n",
    "for j in range(len(t)):\n",
    "    Refmat=rho_matr(j)\n",
    "    Sx_result.append(np.trace(np.matmul(Sx, Refmat )))\n",
    "    Sy_result.append(np.trace(np.matmul(Sy, Refmat )))\n",
    "    Sz_result.append(np.trace(np.matmul(Sz, Refmat )))\n",
    "    "
   ]
  },
  {
   "cell_type": "code",
   "execution_count": null,
   "metadata": {},
   "outputs": [],
   "source": [
    "plt.plot(times,np.real(Sx_result),label=\"Sx\")\n",
    "plt.plot(times,np.real(Sy_result),label=\"Sy\")\n",
    "plt.plot(times,np.real(Sz_result),label=\"Sz\")\n",
    "\n",
    "plt.legend()"
   ]
  },
  {
   "cell_type": "code",
   "execution_count": null,
   "metadata": {},
   "outputs": [],
   "source": [
    "\n",
    "matplotlib.rcParams['figure.figsize'] = (10.0, 7.0)\n",
    "\n",
    "plt.plot(times, Result_varDDTWA_EM[0],\"--\",label=\"Sx DDTWA EM\")\n",
    "plt.plot(times, Result_varDDTWA_SH[0],\"--\",label=\"Sx DDTWA SH\")\n",
    "\n",
    "plt.plot(times, Result_varDDTWA_EM[1],\"--\",label=\"Sy DDTWA EM\")\n",
    "plt.plot(times, Result_varDDTWA_SH[1],\"--\",label=\"Sx DDTWA SH\")\n",
    "\n",
    "plt.plot(times, Result_varDDTWA_EM[2],\"--\",label=\"Sz DDTWA EM\")\n",
    "plt.plot(times, Result_varDDTWA_SH[2],\"--\",label=\"Sx DDTWA SH\")\n",
    "\n",
    "plt.plot(times,np.real(Sx_result),label=\"Sx\")\n",
    "plt.plot(times,np.real(Sy_result),label=\"Sy\")\n",
    "plt.plot(times,np.real(Sz_result),label=\"Sz\")\n",
    "\n",
    "\n",
    "\n",
    "plt.legend()\n"
   ]
  },
  {
   "cell_type": "code",
   "execution_count": null,
   "metadata": {},
   "outputs": [],
   "source": [
    "\n",
    "t=times\n",
    "\n",
    "Sx=Sxyz_dicke(N)[0]\n",
    "Sy=Sxyz_dicke(N)[1]\n",
    "Sz=Sxyz_dicke(N)[2]\n",
    "Sx_cuad=np.matmul(Sx,Sx)\n",
    "Sy_cuad=np.matmul(Sy,Sy)\n",
    "Sz_cuad=np.matmul(Sz,Sz)\n",
    "\n",
    "\n",
    "\n",
    "\n",
    "Sx_result=[]\n",
    "Sy_result=[]\n",
    "Sz_result=[]\n",
    "Sx_cuad_result=[]\n",
    "Sy_cuad_result=[]\n",
    "Sz_cuad_result=[]\n",
    "\n",
    "\n",
    "for j in range(len(t)):\n",
    "    Refmat=rho_matr(j)\n",
    "\n",
    "    \n",
    "    \n",
    "    \n",
    "    Sx_result.append(np.trace(np.matmul(Sx, Refmat )))\n",
    "    Sy_result.append(np.trace(np.matmul(Sy, Refmat )))\n",
    "    Sz_result.append(np.trace(np.matmul(Sz, Refmat )))\n",
    "    Sx_cuad_result.append(np.trace(np.matmul(Sx_cuad, Refmat )))\n",
    "    Sy_cuad_result.append(np.trace(np.matmul(Sy_cuad, Refmat )))\n",
    "    Sz_cuad_result.append(np.trace(np.matmul(Sz_cuad, Refmat )))"
   ]
  },
  {
   "cell_type": "code",
   "execution_count": null,
   "metadata": {},
   "outputs": [],
   "source": [
    "matplotlib.rcParams['figure.figsize'] = (10.0, 8.0)\n",
    "\n",
    "plt.title(\"$(\\Delta S_k)^2$ Evolution under full(factorization) algebra\")\n",
    "\n",
    "\n",
    "\n",
    "matplotlib.rcParams['figure.figsize'] = (11.0, 8.0)\n",
    "\n",
    "ax_EM=N/4+  Result_varDDTWA_EM[3+0]-(Result_varDDTWA_EM[0])**2\n",
    "ay_EM=N/4+  Result_varDDTWA_EM[3+1]-(Result_varDDTWA_EM[1])**2\n",
    "az_EM=N/4+  Result_varDDTWA_EM[3+2]-(Result_varDDTWA_EM[2])**2\n",
    "\n",
    "ax1_EM=np.array(Result_varDDTWA_EM[6+0])-np.array((Result_varDDTWA_EM[0])**2)\n",
    "ay1_EM=np.array(Result_varDDTWA_EM[6+1])-np.array((Result_varDDTWA_EM[1])**2)\n",
    "az1_EM=np.array(Result_varDDTWA_EM[6+2])-np.array((Result_varDDTWA_EM[2])**2)\n",
    "\n",
    "\n",
    "plt.plot(times,ax1_EM,\"-.\",label=\"DDTWA $(\\Delta S_x)^2 $ EM no-algebra\")\n",
    "plt.plot(times,ay1_EM,\"-.\",label=\"DDTWA $(\\Delta S_y)^2 $ EM no-algebra\")\n",
    "plt.plot(times,az1_EM,\"-.\",label=\"DDTWA $(\\Delta S_z)^2 $ EM no-algebra\")\n",
    "\n",
    "\n",
    "plt.plot(times,ax_EM,\"--\",label=\"DDTWA $(\\Delta S_x)^2$ EM full-algebra\")\n",
    "plt.plot(times,ay_EM,\"--\",label=\"DDTWA $(\\Delta S_y)^2$ EM full-algebra\")\n",
    "plt.plot(times,az_EM,\"--\",label=\"DDTWA $(\\Delta S_z)^2$ EM full-algebra\")\n",
    "\n",
    "\n",
    "\n",
    "\n",
    "\n",
    "ax_SH=N/4+  Result_varDDTWA_SH[3+0]-(Result_varDDTWA_SH[0])**2\n",
    "ay_SH=N/4+  Result_varDDTWA_SH[3+1]-(Result_varDDTWA_SH[1])**2\n",
    "az_SH=N/4+  Result_varDDTWA_SH[3+2]-(Result_varDDTWA_SH[2])**2\n",
    "\n",
    "ax1_SH=np.array(Result_varDDTWA_SH[6+0])-np.array((Result_varDDTWA_SH[0])**2)\n",
    "ay1_SH=np.array(Result_varDDTWA_SH[6+1])-np.array((Result_varDDTWA_SH[1])**2)\n",
    "az1_SH=np.array(Result_varDDTWA_SH[6+2])-np.array((Result_varDDTWA_SH[2])**2)\n",
    "\n",
    "\n",
    "#plt.plot(times,ax1_SH,\"-.\",label=\"DDTWA $(\\Delta S_x)^2 $ SH no-algebra\")\n",
    "#plt.plot(times,ay1_SH,\"-.\",label=\"DDTWA $(\\Delta S_y)^2 $ SH no-algebra\")\n",
    "#plt.plot(times,az1_SH,\"-.\",label=\"DDTWA $(\\Delta S_z)^2 $ SH no-algebra\")\n",
    "\n",
    "\n",
    "#plt.plot(times,ax_SH,\"--\",label=\"DDTWA $(\\Delta S_x)^2$ SH full-algebra\")\n",
    "#plt.plot(times,ay_SH,\"--\",label=\"DDTWA $(\\Delta S_y)^2$ SH full-algebra\")\n",
    "#plt.plot(times,az_SH,\"--\",label=\"DDTWA $(\\Delta S_z)^2$ SH full-algebra\")\n",
    "\n",
    "\n",
    "\n",
    "\n",
    "\n",
    "Dicke_xx=np.real(np.array(Sx_cuad_result))-(np.real(Sx_result))**2\n",
    "Dicke_yy=np.real(np.array(Sy_cuad_result))-(np.real(Sy_result))**2\n",
    "Dicke_zz=np.real(np.array(Sz_cuad_result))-(np.real(Sz_result))**2\n",
    "\n",
    "\n",
    "plt.plot(times,Dicke_xx,\"-\",label=\"Dicke Var(S_x)\")\n",
    "plt.plot(times,Dicke_yy,\"-\",label=\"Dicke Var(S_y)\")\n",
    "plt.plot(times,Dicke_zz,\"-\",label=\"Dicke Var(S_z)\")\n",
    "\n",
    "\n",
    "\n",
    "plt.legend()"
   ]
  },
  {
   "cell_type": "code",
   "execution_count": null,
   "metadata": {},
   "outputs": [],
   "source": []
  },
  {
   "cell_type": "code",
   "execution_count": null,
   "metadata": {},
   "outputs": [],
   "source": []
  },
  {
   "cell_type": "code",
   "execution_count": null,
   "metadata": {},
   "outputs": [],
   "source": []
  },
  {
   "cell_type": "code",
   "execution_count": null,
   "metadata": {},
   "outputs": [],
   "source": []
  },
  {
   "cell_type": "code",
   "execution_count": null,
   "metadata": {},
   "outputs": [],
   "source": []
  },
  {
   "cell_type": "code",
   "execution_count": null,
   "metadata": {},
   "outputs": [],
   "source": []
  },
  {
   "cell_type": "code",
   "execution_count": null,
   "metadata": {},
   "outputs": [],
   "source": []
  },
  {
   "cell_type": "code",
   "execution_count": null,
   "metadata": {},
   "outputs": [],
   "source": []
  },
  {
   "cell_type": "code",
   "execution_count": null,
   "metadata": {},
   "outputs": [],
   "source": []
  },
  {
   "cell_type": "code",
   "execution_count": null,
   "metadata": {},
   "outputs": [],
   "source": []
  },
  {
   "cell_type": "code",
   "execution_count": null,
   "metadata": {},
   "outputs": [],
   "source": []
  },
  {
   "cell_type": "code",
   "execution_count": null,
   "metadata": {},
   "outputs": [],
   "source": []
  },
  {
   "cell_type": "code",
   "execution_count": null,
   "metadata": {},
   "outputs": [],
   "source": []
  },
  {
   "cell_type": "code",
   "execution_count": null,
   "metadata": {},
   "outputs": [],
   "source": []
  },
  {
   "cell_type": "code",
   "execution_count": null,
   "metadata": {},
   "outputs": [],
   "source": []
  },
  {
   "cell_type": "code",
   "execution_count": null,
   "metadata": {},
   "outputs": [],
   "source": []
  },
  {
   "cell_type": "code",
   "execution_count": null,
   "metadata": {},
   "outputs": [],
   "source": []
  },
  {
   "cell_type": "code",
   "execution_count": null,
   "metadata": {},
   "outputs": [],
   "source": []
  },
  {
   "cell_type": "code",
   "execution_count": null,
   "metadata": {},
   "outputs": [],
   "source": []
  },
  {
   "cell_type": "code",
   "execution_count": null,
   "metadata": {},
   "outputs": [],
   "source": []
  },
  {
   "cell_type": "code",
   "execution_count": null,
   "metadata": {},
   "outputs": [],
   "source": []
  },
  {
   "cell_type": "code",
   "execution_count": null,
   "metadata": {},
   "outputs": [],
   "source": []
  },
  {
   "cell_type": "code",
   "execution_count": null,
   "metadata": {},
   "outputs": [],
   "source": []
  },
  {
   "cell_type": "code",
   "execution_count": null,
   "metadata": {},
   "outputs": [],
   "source": []
  },
  {
   "cell_type": "code",
   "execution_count": null,
   "metadata": {},
   "outputs": [],
   "source": []
  },
  {
   "cell_type": "code",
   "execution_count": null,
   "metadata": {},
   "outputs": [],
   "source": [
    "def index_list(N=N):\n",
    "    Index_list=[]\n",
    "    for j in range(N+1):\n",
    "        for k in range(N+1):\n",
    "            Index_list.append([j,k])\n",
    "    return Index_list\n",
    "    "
   ]
  },
  {
   "cell_type": "code",
   "execution_count": null,
   "metadata": {},
   "outputs": [],
   "source": [
    "\n",
    "\n",
    "def Aplus_j(n):\n",
    "    if 0<=n<=N:\n",
    "        return np.sqrt( (N-n)*  (n+1) )\n",
    "    else:\n",
    "        return 0\n",
    "\n",
    "    \n",
    "def Aminus_j(n):\n",
    "    if 0<=n<=N:\n",
    "        return np.sqrt( (n)*  (N-n+1) )\n",
    "    else:\n",
    "        return 0    \n",
    "    \n",
    "    \n",
    "def Az(n):\n",
    "    return -N/2+n\n",
    "\n",
    "\n",
    "\n",
    "Gamma_phi=refgamma*J\n",
    "Gamma_C=refgammadecay*J\n",
    "\n",
    "Omega=refomega*J\n",
    "\n",
    "from numba import jit\n",
    "\n",
    "#@jit\n",
    "\n",
    "\n",
    "\n",
    "def vectorsR(r, t,J=J,N=N,Omega=Omega,Gamma_C=Gamma_C,Gamma_phi=Gamma_phi):#,Vect=Vect):   \n",
    "            \n",
    "    #matrix_zero=np.zeros((int(3*N),int(3*N)),dtype = 'complex_')\n",
    "    matrix_zero=np.zeros((int( (N+1)**2  ),int((N+1)**2)),dtype = 'complex_')\n",
    "    \n",
    "    \n",
    "    drdt =  np.matmul(matrix_zero, r)  #matrix_zero @ r   #sum of the linear and the constant part\n",
    "    #drdt = matrix_zero @ r\n",
    "    \n",
    "    \n",
    "    Index_list=index_list(N)\n",
    "    \n",
    "    \n",
    "    ###Define Vect which is an array of coordinates of size N\n",
    "    \n",
    "    count=0\n",
    "       \n",
    "    \n",
    "    for vect in Index_list:\n",
    "        n1  =vect[0]\n",
    "        npr1=vect[1]\n",
    "        npr=npr1\n",
    "\n",
    "            \n",
    "        cfinnprm1=Index_list.count([n1,npr1-1])\n",
    "        indnnprm1=Index_list.index(list(cfinnprm1*np.array([n1,npr1-1])))\n",
    "            \n",
    "        cfinm1npr=Index_list.count([n1-1,npr1])\n",
    "        indnm1npr=Index_list.index(list(cfinm1npr*np.array([n1-1,npr1])))\n",
    "            \n",
    "        cfinnprp1=Index_list.count([n1,npr1+1])\n",
    "        indnnprp1=Index_list.index(list(cfinnprp1*np.array([n1,npr1+1])))\n",
    "            \n",
    "        cfinp1npr=Index_list.count([n1+1,npr1])\n",
    "        indnp1npr=Index_list.index(list(cfinp1npr*np.array([n1+1,npr1])))\n",
    "            \n",
    "        cfinp1nprp1=Index_list.count([n1+1,npr1+1])\n",
    "        indnp1nprp1=Index_list.index(list(cfinp1nprp1*np.array([n1+1,npr1+1])))\n",
    "            \n",
    "        cfinnpr=Index_list.count([n1,npr1])\n",
    "        indnnpr=Index_list.index(list(cfinnpr*np.array([n1,npr1])))\n",
    "        \n",
    "        \n",
    "            \n",
    "        drdt[indnnpr]+=1j*(Omega/2)* Aplus_j(npr1-1)*cfinnprm1*r[indnnprm1]+\\\n",
    "            -1j*(Omega/2)*Aplus_j(n1-1)*cfinm1npr*r[indnm1npr]+1j*(Omega/2)*Aminus_j(npr1+1)*cfinnprp1*r[indnnprp1]+\\\n",
    "            -1j*(Omega/2)*Aminus_j(n1+1)*cfinp1npr*r[indnp1npr]+Gamma_C*Aminus_j(n1+1)*Aminus_j(npr+1)*cfinp1nprp1*r[indnp1nprp1]+\\\n",
    "            2*1j*(J/N)*(Az(npr1)**2-Az(n1)**2)*cfinnpr*r[indnnpr]  -Gamma_phi*( (Az(n1)-Az(npr1))**2 )*cfinnpr*r[indnnpr]+\\\n",
    "            -(Gamma_C/2)*(Aminus_j(n1)*Aplus_j(n1-1) + Aminus_j(npr1)*Aplus_j(npr1-1) )*cfinnpr*r[indnnpr]\n",
    "\n",
    "               \n",
    "    return drdt\n",
    "\n",
    "\n",
    "r0=int((N+1)**2)*[0]\n",
    "\n",
    "r0[0]=1\n",
    "\n",
    "rinit=r0"
   ]
  },
  {
   "cell_type": "code",
   "execution_count": null,
   "metadata": {},
   "outputs": [],
   "source": [
    "t0=time.time()\n",
    "\n",
    "z=odeintz(vectorsR, r0, times)#, args=(N,L))\n",
    "t1=time.time()"
   ]
  },
  {
   "cell_type": "code",
   "execution_count": null,
   "metadata": {},
   "outputs": [],
   "source": [
    "for j in range((N+1)**2):\n",
    "    plt.plot(times,np.real(z[:,j]))\n",
    "    plt.plot(times,np.imag(z[:,j]))\n",
    "\n",
    "print(t1-t0,N)"
   ]
  },
  {
   "cell_type": "code",
   "execution_count": null,
   "metadata": {},
   "outputs": [],
   "source": [
    "#z[3,:]  We obtain the third elements of the density matrix\n",
    "\n",
    "\"We can determine the density matrix using the following function\"\n",
    "\n",
    "from numba import jit\n",
    "\n",
    "#@jit\n",
    "\n",
    "def rho_matr(time_index):\n",
    "    rho_matr=np.zeros((int( (N+1)  ),int((N+1))),dtype = 'complex_')\n",
    "    count=0\n",
    "    for i in range(N+1):\n",
    "        for j in range(N+1):\n",
    "            rho_matr[i][j]= z[time_index,:][count]\n",
    "            \n",
    "            count=count+1\n",
    "            \n",
    "    return rho_matr"
   ]
  },
  {
   "cell_type": "code",
   "execution_count": null,
   "metadata": {},
   "outputs": [],
   "source": [
    "def Sxyz_dicke(N=N):\n",
    "    S_x=np.zeros((int( (N+1)  ),int((N+1))),dtype = 'complex_')\n",
    "    S_y=np.zeros((int( (N+1)  ),int((N+1))),dtype = 'complex_')\n",
    "    S_z=np.zeros((int( (N+1)  ),int((N+1))),dtype = 'complex_')\n",
    "\n",
    "    for n in range(1,N+1):\n",
    "        S_x[n][n-1]= 0.5*Aplus_j(n-1)\n",
    "        S_y[n][n-1]=(-0.5*1j)*Aplus_j(n-1)\n",
    "    \n",
    "    for n in range(0,N):\n",
    "        S_x[n][n+1]= 0.5*Aminus_j(n+1)\n",
    "        S_y[n][n+1]=(0.5*1j)*Aminus_j(n+1)  \n",
    "        S_z[n][n]=-N/2+n\n",
    "    S_z[N][N]=N/2\n",
    "    return S_x, S_y, S_z"
   ]
  },
  {
   "cell_type": "code",
   "execution_count": null,
   "metadata": {},
   "outputs": [],
   "source": [
    "\n",
    "t=times\n",
    "\n",
    "Sx=Sxyz_dicke(N)[0]\n",
    "Sy=Sxyz_dicke(N)[1]\n",
    "Sz=Sxyz_dicke(N)[2]\n",
    "\n",
    "\n",
    "Sx_result=[]\n",
    "Sy_result=[]\n",
    "Sz_result=[]\n",
    "\n",
    "for j in range(len(t)):\n",
    "    Refmat=rho_matr(j)\n",
    "    Sx_result.append(np.trace(np.matmul(Sx, Refmat )))\n",
    "    Sy_result.append(np.trace(np.matmul(Sy, Refmat )))\n",
    "    Sz_result.append(np.trace(np.matmul(Sz, Refmat )))\n",
    "    "
   ]
  },
  {
   "cell_type": "code",
   "execution_count": null,
   "metadata": {},
   "outputs": [],
   "source": [
    "plt.plot(times,np.real(Sx_result),label=\"Sx\")\n",
    "plt.plot(times,np.real(Sy_result),label=\"Sy\")\n",
    "plt.plot(times,np.real(Sz_result),label=\"Sz\")\n",
    "\n",
    "plt.legend()"
   ]
  },
  {
   "cell_type": "code",
   "execution_count": null,
   "metadata": {},
   "outputs": [],
   "source": []
  },
  {
   "cell_type": "code",
   "execution_count": null,
   "metadata": {},
   "outputs": [],
   "source": []
  },
  {
   "cell_type": "code",
   "execution_count": null,
   "metadata": {},
   "outputs": [],
   "source": []
  },
  {
   "cell_type": "code",
   "execution_count": null,
   "metadata": {},
   "outputs": [],
   "source": []
  },
  {
   "cell_type": "code",
   "execution_count": null,
   "metadata": {},
   "outputs": [],
   "source": []
  },
  {
   "cell_type": "code",
   "execution_count": null,
   "metadata": {},
   "outputs": [],
   "source": []
  },
  {
   "cell_type": "code",
   "execution_count": null,
   "metadata": {},
   "outputs": [],
   "source": []
  },
  {
   "cell_type": "code",
   "execution_count": null,
   "metadata": {},
   "outputs": [],
   "source": []
  },
  {
   "cell_type": "code",
   "execution_count": null,
   "metadata": {},
   "outputs": [],
   "source": []
  },
  {
   "cell_type": "code",
   "execution_count": null,
   "metadata": {},
   "outputs": [],
   "source": []
  },
  {
   "cell_type": "code",
   "execution_count": null,
   "metadata": {},
   "outputs": [],
   "source": []
  },
  {
   "cell_type": "code",
   "execution_count": null,
   "metadata": {},
   "outputs": [],
   "source": []
  },
  {
   "cell_type": "code",
   "execution_count": null,
   "metadata": {},
   "outputs": [],
   "source": []
  },
  {
   "cell_type": "code",
   "execution_count": null,
   "metadata": {},
   "outputs": [],
   "source": []
  },
  {
   "cell_type": "code",
   "execution_count": null,
   "metadata": {},
   "outputs": [],
   "source": [
    "    mu, sigma = 0, 1/2 # mean and standard deviation\n",
    "    s = np.random.normal(mu, sigma, 2)"
   ]
  },
  {
   "cell_type": "code",
   "execution_count": null,
   "metadata": {},
   "outputs": [],
   "source": [
    "number=100000\n",
    "\n",
    "mu, sigma = 0, 1/np.sqrt(2) # mean and standard deviation\n",
    "s = np.random.normal(mu, sigma, number)\n",
    "s1= np.random.normal(mu, sigma, number)\n",
    "\n"
   ]
  },
  {
   "cell_type": "code",
   "execution_count": null,
   "metadata": {},
   "outputs": [],
   "source": [
    "plt.plot(s,s1,\".\")"
   ]
  },
  {
   "cell_type": "code",
   "execution_count": null,
   "metadata": {},
   "outputs": [],
   "source": [
    "s = np.random.normal(mu, sigma, 2)\n",
    "\n",
    "print(s[0],s[1])"
   ]
  },
  {
   "cell_type": "code",
   "execution_count": null,
   "metadata": {},
   "outputs": [],
   "source": [
    "float(np.random.normal(mu, sigma, 1))"
   ]
  },
  {
   "cell_type": "code",
   "execution_count": null,
   "metadata": {},
   "outputs": [],
   "source": []
  }
 ],
 "metadata": {
  "kernelspec": {
   "display_name": "Python 3",
   "language": "python",
   "name": "python3"
  },
  "language_info": {
   "codemirror_mode": {
    "name": "ipython",
    "version": 3
   },
   "file_extension": ".py",
   "mimetype": "text/x-python",
   "name": "python",
   "nbconvert_exporter": "python",
   "pygments_lexer": "ipython3",
   "version": "3.8.3"
  }
 },
 "nbformat": 4,
 "nbformat_minor": 4
}
